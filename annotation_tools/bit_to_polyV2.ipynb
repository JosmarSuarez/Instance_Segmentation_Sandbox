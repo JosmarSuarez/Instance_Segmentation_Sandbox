{
 "cells": [
  {
   "cell_type": "markdown",
   "metadata": {},
   "source": [
    "# Bitmask to polygonal annotation\n",
    "This notebook contains functions that allow us to transform bitmasks to polygonal annotations in COCO format\n",
    "## Main code (just for one instance per image, for more than one see bit_to_poly.ipynb)"
   ]
  },
  {
   "cell_type": "code",
   "execution_count": 1,
   "metadata": {},
   "outputs": [],
   "source": [
    "from PIL import Image # (pip install Pillow)\n",
    "import matplotlib.pyplot as plt\n",
    "import numpy as np                                 # (pip install numpy)\n",
    "from skimage import measure                        # (pip install scikit-image)\n",
    "from shapely.geometry import Polygon, MultiPolygon # (pip install Shapely)\n",
    "import cv2\n",
    "import os"
   ]
  },
  {
   "cell_type": "code",
   "execution_count": 2,
   "metadata": {
    "tags": []
   },
   "outputs": [],
   "source": [
    "import json\n",
    "import numpy as np\n",
    "from pycocotools import mask\n",
    "from skimage import measure\n",
    "\n",
    "def mask_to_annotation(img_path, img_id, img_cat, ann_id, is_crowd):\n",
    "    ground_truth_binary_mask = cv2.imread(img_path,0)\n",
    "    fortran_ground_truth_binary_mask = np.asfortranarray(ground_truth_binary_mask)\n",
    "    encoded_ground_truth = mask.encode(fortran_ground_truth_binary_mask)\n",
    "    ground_truth_area = mask.area(encoded_ground_truth)\n",
    "    ground_truth_bounding_box = mask.toBbox(encoded_ground_truth)\n",
    "    contours = measure.find_contours(ground_truth_binary_mask, 0.5)\n",
    "\n",
    "    annotation = {\n",
    "            \"segmentation\": [],\n",
    "            \"area\": ground_truth_area.tolist(),\n",
    "            \"iscrowd\": is_crowd,\n",
    "            \"image_id\": img_id,\n",
    "            \"bbox\": ground_truth_bounding_box.tolist(),\n",
    "            \"category_id\": img_cat,\n",
    "            \"id\": ann_id\n",
    "        }\n",
    "\n",
    "    for contour in contours:\n",
    "        contour = np.flip(contour, axis=1)\n",
    "        segmentation = contour.ravel().tolist()\n",
    "        annotation[\"segmentation\"].append(segmentation)\n",
    "        \n",
    "    \n",
    "    return annotation"
   ]
  },
  {
   "cell_type": "code",
   "execution_count": 3,
   "metadata": {
    "tags": []
   },
   "outputs": [],
   "source": [
    "def images_to_annotations(dir_path):\n",
    "    #Initializing images and annotations lists\n",
    "    images=[]\n",
    "    annotations = []\n",
    "    img_names = os.listdir(dir_path)\n",
    "    img_names.sort()\n",
    "    img_license = 0\n",
    "    img_id=0\n",
    "    ann_id=0\n",
    "    is_crowd=0\n",
    "           \n",
    "    for img_name in img_names:\n",
    "        print(img_name)\n",
    "        img_path = os.path.join(dir_path, img_name)\n",
    "        img = cv2.imread(img_path)\n",
    "        img_size = img.shape\n",
    "        \n",
    "        img_cat = 1\n",
    "        annotation = mask_to_annotation(img_path , img_id, img_cat, ann_id, is_crowd)\n",
    "        annotations.append(annotation)\n",
    "        ann_id+=1\n",
    "            \n",
    "\n",
    "        new_img={}\n",
    "        new_img[\"license\"] = img_license\n",
    "        new_img[\"file_name\"] = img_name.split(\".\")[0]+\".png\" #Changed to match the video images\n",
    "        new_img[\"width\"] = img_size[1]\n",
    "        new_img[\"height\"] = img_size[0]\n",
    "        new_img[\"id\"] = img_id\n",
    "        images.append(new_img)\n",
    "\n",
    "        # sub_masks = create_sub_masks()\n",
    "        # for color, sub_mask in sub_masks.items():\n",
    "        #     plt.imshow(sub_mask)\n",
    "        #     plt.show()\n",
    "        \n",
    "        img_id+=1\n",
    "\n",
    "    return annotations,images\n",
    "\n",
    "\n",
    "\n"
   ]
  },
  {
   "cell_type": "code",
   "execution_count": 4,
   "metadata": {},
   "outputs": [],
   "source": [
    "my_dict = {}\n",
    "color2cat={\"[255 255 255]\": 1}\n",
    "info = {\n",
    "      \"description\":\"Test Dataset\",\n",
    "      \"url\":\"\",\n",
    "      \"version\":\"0.1\",\n",
    "      \"year\":2020,\n",
    "      \"contributor\":\"Josmar Suarez\",\n",
    "      \"date_created\":\"2020/07/14\"\n",
    "   }\n",
    "\n",
    "licenses = [{\n",
    "        \"url\": \"\",\n",
    "        \"id\": 0,\n",
    "        \"name\": \"Attribution-NonCommercial-ShareAlike License\"\n",
    "    }]\n",
    "categories = [\n",
    "      {\n",
    "         \"supercategory\":\"person\",\n",
    "         \"id\":1,\n",
    "         \"name\":\"person\"\n",
    "      }\n",
    "   ]"
   ]
  },
  {
   "cell_type": "code",
   "execution_count": 5,
   "metadata": {
    "tags": []
   },
   "outputs": [
    {
     "output_type": "stream",
     "name": "stdout",
     "text": "000.png\n001.png\n002.png\n003.png\n004.png\n005.png\n006.png\n007.png\n008.png\n009.png\n010.png\n011.png\n012.png\n013.png\n014.png\n015.png\n016.png\n017.png\n018.png\n019.png\n020.png\n021.png\n022.png\n023.png\n024.png\n025.png\n026.png\n027.png\n028.png\n029.png\n030.png\n031.png\n032.png\n033.png\n034.png\n035.png\n036.png\n037.png\n038.png\n039.png\n040.png\n041.png\n042.png\n043.png\n044.png\n045.png\n046.png\n047.png\n048.png\n049.png\n050.png\n051.png\n052.png\n053.png\n054.png\n055.png\n056.png\n057.png\n058.png\n059.png\n060.png\n061.png\n062.png\n063.png\n064.png\n065.png\n066.png\n067.png\n068.png\n069.png\n070.png\n071.png\n072.png\n073.png\n074.png\n075.png\n076.png\n077.png\n078.png\n079.png\n080.png\n081.png\n082.png\n083.png\n084.png\n085.png\n086.png\n087.png\n088.png\n089.png\n090.png\n091.png\n092.png\n093.png\n094.png\n095.png\n096.png\n097.png\n098.png\n099.png\n100.png\n101.png\n102.png\n103.png\n104.png\n105.png\n106.png\n107.png\n108.png\n109.png\n110.png\n111.png\n112.png\n113.png\n114.png\n115.png\n116.png\n117.png\n118.png\n119.png\n120.png\n121.png\n122.png\n123.png\n124.png\n125.png\n126.png\n127.png\n128.png\n129.png\n130.png\n131.png\n132.png\n133.png\n134.png\n135.png\n136.png\n137.png\n138.png\n139.png\n140.png\n141.png\n142.png\n143.png\n144.png\n145.png\n146.png\n147.png\n148.png\n149.png\n150.png\n151.png\n152.png\n153.png\n154.png\n155.png\n156.png\n157.png\n158.png\n159.png\n160.png\n161.png\n162.png\n163.png\n164.png\n165.png\n166.png\n167.png\n168.png\n169.png\n170.png\n171.png\n172.png\n173.png\n174.png\n175.png\n176.png\n177.png\n178.png\n179.png\n180.png\n181.png\n182.png\n183.png\n184.png\n185.png\n186.png\n187.png\n188.png\n189.png\n190.png\n191.png\n192.png\n193.png\n194.png\n195.png\n196.png\n197.png\n198.png\n199.png\n200.png\n201.png\n202.png\n203.png\n204.png\n205.png\n206.png\n207.png\n208.png\n209.png\n210.png\n211.png\n212.png\n213.png\n214.png\n215.png\n216.png\n217.png\n218.png\n219.png\n220.png\n221.png\n222.png\n223.png\n224.png\n225.png\n226.png\n227.png\n228.png\n229.png\n230.png\n231.png\n232.png\n233.png\n234.png\n235.png\n236.png\n237.png\n238.png\n239.png\n240.png\n241.png\n242.png\n243.png\n244.png\n245.png\n246.png\n247.png\n248.png\n249.png\n250.png\n251.png\n252.png\n253.png\n254.png\n255.png\n256.png\n257.png\n258.png\n259.png\n260.png\n261.png\n262.png\n263.png\n264.png\n265.png\n266.png\n267.png\n268.png\n269.png\n270.png\n271.png\n272.png\n273.png\n274.png\n275.png\n276.png\n277.png\n278.png\n279.png\n280.png\n281.png\n282.png\n283.png\n284.png\n285.png\n286.png\n287.png\n288.png\n289.png\n290.png\n291.png\n292.png\n293.png\n294.png\n295.png\n296.png\n297.png\n298.png\n299.png\n300.png\n"
    }
   ],
   "source": [
    "dir_path = \"/home/josmar/proyectos/codes/annotation_tools/background_substraction/bin_close_images/input\"\n",
    "# dir_path = '/home/josmar/proyectos/codes/datasets/casia_B1_silhouettes'\n",
    "anns,imgs = images_to_annotations(dir_path)\n",
    "\n",
    "my_dict[\"info\"]= info\n",
    "my_dict[\"licenses\"]= licenses\n",
    "my_dict[\"images\"]=imgs\n",
    "my_dict[\"categories\"]=categories\n",
    "my_dict[\"annotations\"]=anns"
   ]
  },
  {
   "cell_type": "code",
   "execution_count": 7,
   "metadata": {},
   "outputs": [],
   "source": [
    "import json \n",
    "with open('casia.json', 'w') as fp:\n",
    "    json.dump(my_dict, fp)"
   ]
  },
  {
   "cell_type": "code",
   "execution_count": 14,
   "metadata": {},
   "outputs": [
    {
     "output_type": "execute_result",
     "data": {
      "text/plain": "78_img.png',\n  'width': 1280,\n  'height': 720,\n  'id': 90},\n {'license': 0,\n  'file_name': '0082_img.png',\n  'width': 1280,\n  'height': 720,\n  'id': 91},\n {'license': 0,\n  'file_name': '0111_img.png',\n  'width': 1280,\n  'height': 720,\n  'id': 92},\n {'license': 0,\n  'file_name': '0292_img.png',\n  'width': 1280,\n  'height': 720,\n  'id': 93},\n {'license': 0,\n  'file_name': '0130_img.png',\n  'width': 1280,\n  'height': 720,\n  'id': 94},\n {'license': 0,\n  'file_name': '0175_img.png',\n  'width': 1280,\n  'height': 720,\n  'id': 95},\n {'license': 0,\n  'file_name': '0010_img.png',\n  'width': 1280,\n  'height': 720,\n  'id': 96},\n {'license': 0,\n  'file_name': '0246_img.png',\n  'width': 1280,\n  'height': 720,\n  'id': 97},\n {'license': 0,\n  'file_name': '0021_img.png',\n  'width': 1280,\n  'height': 720,\n  'id': 98},\n {'license': 0,\n  'file_name': '0291_img.png',\n  'width': 1280,\n  'height': 720,\n  'id': 99},\n {'license': 0,\n  'file_name': '0038_img.png',\n  'width': 1280,\n  'height': 720,\n  'id': 100},\n {'license': 0,\n  'file_name': '0015_img.png',\n  'width': 1280,\n  'height': 720,\n  'id': 101},\n {'license': 0,\n  'file_name': '0255_img.png',\n  'width': 1280,\n  'height': 720,\n  'id': 102},\n {'license': 0,\n  'file_name': '0288_img.png',\n  'width': 1280,\n  'height': 720,\n  'id': 103},\n {'license': 0,\n  'file_name': '0208_img.png',\n  'width': 1280,\n  'height': 720,\n  'id': 104},\n {'license': 0,\n  'file_name': '0116_img.png',\n  'width': 1280,\n  'height': 720,\n  'id': 105},\n {'license': 0,\n  'file_name': '0143_img.png',\n  'width': 1280,\n  'height': 720,\n  'id': 106},\n {'license': 0,\n  'file_name': '0289_img.png',\n  'width': 1280,\n  'height': 720,\n  'id': 107},\n {'license': 0,\n  'file_name': '0153_img.png',\n  'width': 1280,\n  'height': 720,\n  'id': 108},\n {'license': 0,\n  'file_name': '0216_img.png',\n  'width': 1280,\n  'height': 720,\n  'id': 109},\n {'license': 0,\n  'file_name': '0290_img.png',\n  'width': 1280,\n  'height': 720,\n  'id': 110},\n {'license': 0,\n  'file_name': '0168_img.png',\n  'width': 1280,\n  'height': 720,\n  'id': 111},\n {'license': 0,\n  'file_name': '0046_img.png',\n  'width': 1280,\n  'height': 720,\n  'id': 112},\n {'license': 0,\n  'file_name': '0090_img.png',\n  'width': 1280,\n  'height': 720,\n  'id': 113},\n {'license': 0,\n  'file_name': '0056_img.png',\n  'width': 1280,\n  'height': 720,\n  'id': 114},\n {'license': 0,\n  'file_name': '0249_img.png',\n  'width': 1280,\n  'height': 720,\n  'id': 115},\n {'license': 0,\n  'file_name': '0299_img.png',\n  'width': 1280,\n  'height': 720,\n  'id': 116},\n {'license': 0,\n  'file_name': '0061_img.png',\n  'width': 1280,\n  'height': 720,\n  'id': 117},\n {'license': 0,\n  'file_name': '0199_img.png',\n  'width': 1280,\n  'height': 720,\n  'id': 118},\n {'license': 0,\n  'file_name': '0041_img.png',\n  'width': 1280,\n  'height': 720,\n  'id': 119},\n {'license': 0,\n  'file_name': '0011_img.png',\n  'width': 1280,\n  'height': 720,\n  'id': 120},\n {'license': 0,\n  'file_name': '0145_img.png',\n  'width': 1280,\n  'height': 720,\n  'id': 121},\n {'license': 0,\n  'file_name': '0144_img.png',\n  'width': 1280,\n  'height': 720,\n  'id': 122},\n {'license': 0,\n  'file_name': '0227_img.png',\n  'width': 1280,\n  'height': 720,\n  'id': 123},\n {'license': 0,\n  'file_name': '0296_img.png',\n  'width': 1280,\n  'height': 720,\n  'id': 124},\n {'license': 0,\n  'file_name': '0245_img.png',\n  'width': 1280,\n  'height': 720,\n  'id': 125},\n {'license': 0,\n  'file_name': '0182_img.png',\n  'width': 1280,\n  'height': 720,\n  'id': 126},\n {'license': 0,\n  'file_name': '0198_img.png',\n  'width': 1280,\n  'height': 720,\n  'id': 127},\n {'license': 0,\n  'file_name': '0063_img.png',\n  'width': 1280,\n  'height': 720,\n  'id': 128},\n {'license': 0,\n  'file_name': '0127_img.png',\n  'width': 1280,\n  'height': 720,\n  'id': 129},\n {'license': 0,\n  'file_name': '0142_img.png',\n  'width': 1280,\n  'height': 720,\n  'id': 130},\n {'license': 0,\n  'file_name': '0181_img.png',\n  'width': 1280,\n  'height': 720,\n  'id': 131},\n {'license': 0,\n  'file_name': '0005_img.png',\n  'width': 1280,\n  'height': 720,\n  'id': 132},\n {'license': 0,\n  'file_name': '0096_img.png',\n  'width': 1280,\n  'height': 720,\n  'id': 133},\n {'license': 0,\n  'file_name': '0118_img.png',\n  'width': 1280,\n  'height': 720,\n  'id': 134},\n {'license': 0,\n  'file_name': '0009_img.png',\n  'width': 1280,\n  'height': 720,\n  'id': 135},\n {'license': 0,\n  'file_name': '0209_img.png',\n  'width': 1280,\n  'height': 720,\n  'id': 136},\n {'license': 0,\n  'file_name': '0240_img.png',\n  'width': 1280,\n  'height': 720,\n  'id': 137},\n {'license': 0,\n  'file_name': '0051_img.png',\n  'width': 1280,\n  'height': 720,\n  'id': 138},\n {'license': 0,\n  'file_name': '0211_img.png',\n  'width': 1280,\n  'height': 720,\n  'id': 139},\n {'license': 0,\n  'file_name': '0186_img.png',\n  'width': 1280,\n  'height': 720,\n  'id': 140},\n {'license': 0,\n  'file_name': '0104_img.png',\n  'width': 1280,\n  'height': 720,\n  'id': 141},\n {'license': 0,\n  'file_name': '0189_img.png',\n  'width': 1280,\n  'height': 720,\n  'id': 142},\n {'license': 0,\n  'file_name': '0123_img.png',\n  'width': 1280,\n  'height': 720,\n  'id': 143},\n {'license': 0,\n  'file_name': '0018_img.png',\n  'width': 1280,\n  'height': 720,\n  'id': 144},\n {'license': 0,\n  'file_name': '0001_img.png',\n  'width': 1280,\n  'height': 720,\n  'id': 145},\n {'license': 0,\n  'file_name': '0173_img.png',\n  'width': 1280,\n  'height': 720,\n  'id': 146},\n {'license': 0,\n  'file_name': '0099_img.png',\n  'width': 1280,\n  'height': 720,\n  'id': 147},\n {'license': 0,\n  'file_name': '0065_img.png',\n  'width': 1280,\n  'height': 720,\n  'id': 148},\n {'license': 0,\n  'file_name': '0152_img.png',\n  'width': 1280,\n  'height': 720,\n  'id': 149},\n {'license': 0,\n  'file_name': '0174_img.png',\n  'width': 1280,\n  'height': 720,\n  'id': 150},\n {'license': 0,\n  'file_name': '0244_img.png',\n  'width': 1280,\n  'height': 720,\n  'id': 151},\n {'license': 0,\n  'file_name': '0159_img.png',\n  'width': 1280,\n  'height': 720,\n  'id': 152},\n {'license': 0,\n  'file_name': '0202_img.png',\n  'width': 1280,\n  'height': 720,\n  'id': 153},\n {'license': 0,\n  'file_name': '0035_img.png',\n  'width': 1280,\n  'height': 720,\n  'id': 154},\n {'license': 0,\n  'file_name': '0273_img.png',\n  'width': 1280,\n  'height': 720,\n  'id': 155},\n {'license': 0,\n  'file_name': '0030_img.png',\n  'width': 1280,\n  'height': 720,\n  'id': 156},\n {'license': 0,\n  'file_name': '0100_img.png',\n  'width': 1280,\n  'height': 720,\n  'id': 157},\n {'license': 0,\n  'file_name': '0251_img.png',\n  'width': 1280,\n  'height': 720,\n  'id': 158},\n {'license': 0,\n  'file_name': '0014_img.png',\n  'width': 1280,\n  'height': 720,\n  'id': 159},\n {'license': 0,\n  'file_name': '0285_img.png',\n  'width': 1280,\n  'height': 720,\n  'id': 160},\n {'license': 0,\n  'file_name': '0233_img.png',\n  'width': 1280,\n  'height': 720,\n  'id': 161},\n {'license': 0,\n  'file_name': '0286_img.png',\n  'width': 1280,\n  'height': 720,\n  'id': 162},\n {'license': 0,\n  'file_name': '0301_img.png',\n  'width': 1280,\n  'height': 720,\n  'id': 163},\n {'license': 0,\n  'file_name': '0108_img.png',\n  'width': 1280,\n  'height': 720,\n  'id': 164},\n {'license': 0,\n  'file_name': '0007_img.png',\n  'width': 1280,\n  'height': 720,\n  'id': 165},\n {'license': 0,\n  'file_name': '0204_img.png',\n  'width': 1280,\n  'height': 720,\n  'id': 166},\n {'license': 0,\n  'file_name': '0229_img.png',\n  'width': 1280,\n  'height': 720,\n  'id': 167},\n {'license': 0,\n  'file_name': '0110_img.png',\n  'width': 1280,\n  'height': 720,\n  'id': 168},\n {'license': 0,\n  'file_name': '0161_img.png',\n  'width': 1280,\n  'height': 720,\n  'id': 169},\n {'license': 0,\n  'file_name': '0079_img.png',\n  'width': 1280,\n  'height': 720,\n  'id': 170},\n {'license': 0,\n  'file_name': '0146_img.png',\n  'width': 1280,\n  'height': 720,\n  'id': 171},\n {'license': 0,\n  'file_name': '0193_img.png',\n  'width': 1280,\n  'height': 720,\n  'id': 172},\n {'license': 0,\n  'file_name': '0034_img.png',\n  'width': 1280,\n  'height': 720,\n  'id': 173},\n {'license': 0,\n  'file_name': '0119_img.png',\n  'width': 1280,\n  'height': 720,\n  'id': 174},\n {'license': 0,\n  'file_name': '0066_img.png',\n  'width': 1280,\n  'height': 720,\n  'id': 175},\n {'license': 0,\n  'file_name': '0006_img.png',\n  'width': 1280,\n  'height': 720,\n  'id': 176},\n {'license': 0,\n  'file_name': '0196_img.png',\n  'width': 1280,\n  'height': 720,\n  'id': 177},\n {'license': 0,\n  'file_name': '0064_img.png',\n  'width': 1280,\n  'height': 720,\n  'id': 178},\n {'license': 0,\n  'file_name': '0047_img.png',\n  'width': 1280,\n  'height': 720,\n  'id': 179},\n {'license': 0,\n  'file_name': '0068_img.png',\n  'width': 1280,\n  'height': 720,\n  'id': 180},\n {'license': 0,\n  'file_name': '0183_img.png',\n  'width': 1280,\n  'height': 720,\n  'id': 181},\n {'license': 0,\n  'file_name': '0275_img.png',\n  'width': 1280,\n  'height': 720,\n  'id': 182},\n {'license': 0,\n  'file_name': '0124_img.png',\n  'width': 1280,\n  'height': 720,\n  'id': 183},\n {'license': 0,\n  'file_name': '0128_img.png',\n  'width': 1280,\n  'height': 720,\n  'id': 184},\n {'license': 0,\n  'file_name': '0210_img.png',\n  'width': 1280,\n  'height': 720,\n  'id': 185},\n {'license': 0,\n  'file_name': '0280_img.png',\n  'width': 1280,\n  'height': 720,\n  'id': 186},\n {'license': 0,\n  'file_name': '0131_img.png',\n  'width': 1280,\n  'height': 720,\n  'id': 187},\n {'license': 0,\n  'file_name': '0164_img.png',\n  'width': 1280,\n  'height': 720,\n  'id': 188},\n {'license': 0,\n  'file_name': '0266_img.png',\n  'width': 1280,\n  'height': 720,\n  'id': 189},\n {'license': 0,\n  'file_name': '0050_img.png',\n  'width': 1280,\n  'height': 720,\n  'id': 190},\n {'license': 0,\n  'file_name': '0109_img.png',\n  'width': 1280,\n  'height': 720,\n  'id': 191},\n {'license': 0,\n  'file_name': '0272_img.png',\n  'width': 1280,\n  'height': 720,\n  'id': 192},\n {'license': 0,\n  'file_name': '0071_img.png',\n  'width': 1280,\n  'height': 720,\n  'id': 193},\n {'license': 0,\n  'file_name': '0184_img.png',\n  'width': 1280,\n  'height': 720,\n  'id': 194},\n {'license': 0,\n  'file_name': '0271_img.png',\n  'width': 1280,\n  'height': 720,\n  'id': 195},\n {'license': 0,\n  'file_name': '0029_img.png',\n  'width': 1280,\n  'height': 720,\n  'id': 196},\n {'license': 0,\n  'file_name': '0083_img.png',\n  'width': 1280,\n  'height': 720,\n  'id': 197},\n {'license': 0,\n  'file_name': '0214_img.png',\n  'width': 1280,\n  'height': 720,\n  'id': 198},\n {'license': 0,\n  'file_name': '0167_img.png',\n  'width': 1280,\n  'height': 720,\n  'id': 199},\n {'license': 0,\n  'file_name': '0194_img.png',\n  'width': 1280,\n  'height': 720,\n  'id': 200},\n {'license': 0,\n  'file_name': '0300_img.png',\n  'width': 1280,\n  'height': 720,\n  'id': 201},\n {'license': 0,\n  'file_name': '0040_img.png',\n  'width': 1280,\n  'height': 720,\n  'id': 202},\n {'license': 0,\n  'file_name': '0114_img.png',\n  'width': 1280,\n  'height': 720,\n  'id': 203},\n {'license': 0,\n  'file_name': '0141_img.png',\n  'width': 1280,\n  'height': 720,\n  'id': 204},\n {'license': 0,\n  'file_name': '0132_img.png',\n  'width': 1280,\n  'height': 720,\n  'id': 205},\n {'license': 0,\n  'file_name': '0052_img.png',\n  'width': 1280,\n  'height': 720,\n  'id': 206},\n {'license': 0,\n  'file_name': '0129_img.png',\n  'width': 1280,\n  'height': 720,\n  'id': 207},\n {'license': 0,\n  'file_name': '0188_img.png',\n  'width': 1280,\n  'height': 720,\n  'id': 208},\n {'license': 0,\n  'file_name': '0125_img.png',\n  'width': 1280,\n  'height': 720,\n  'id': 209},\n {'license': 0,\n  'file_name': '0036_img.png',\n  'width': 1280,\n  'height': 720,\n  'id': 210},\n {'license': 0,\n  'file_name': '0045_img.png',\n  'width': 1280,\n  'height': 720,\n  'id': 211},\n {'license': 0,\n  'file_name': '0298_img.png',\n  'width': 1280,\n  'height': 720,\n  'id': 212},\n {'license': 0,\n  'file_name': '0089_img.png',\n  'width': 1280,\n  'height': 720,\n  'id': 213},\n {'license': 0,\n  'file_name': '0072_img.png',\n  'width': 1280,\n  'height': 720,\n  'id': 214},\n {'license': 0,\n  'file_name': '0115_img.png',\n  'width': 1280,\n  'height': 720,\n  'id': 215},\n {'license': 0,\n  'file_name': '0192_img.png',\n  'width': 1280,\n  'height': 720,\n  'id': 216},\n {'license': 0,\n  'file_name': '0092_img.png',\n  'width': 1280,\n  'height': 720,\n  'id': 217},\n {'license': 0,\n  'file_name': '0137_img.png',\n  'width': 1280,\n  'height': 720,\n  'id': 218},\n {'license': 0,\n  'file_name': '0101_img.png',\n  'width': 1280,\n  'height': 720,\n  'id': 219},\n {'license': 0,\n  'file_name': '0297_img.png',\n  'width': 1280,\n  'height': 720,\n  'id': 220},\n {'license': 0,\n  'file_name': '0088_img.png',\n  'width': 1280,\n  'height': 720,\n  'id': 221},\n {'license': 0,\n  'file_name': '0075_img.png',\n  'width': 1280,\n  'height': 720,\n  'id': 222},\n {'license': 0,\n  'file_name': '0087_img.png',\n  'width': 1280,\n  'height': 720,\n  'id': 223},\n {'license': 0,\n  'file_name': '0201_img.png',\n  'width': 1280,\n  'height': 720,\n  'id': 224},\n {'license': 0,\n  'file_name': '0252_img.png',\n  'width': 1280,\n  'height': 720,\n  'id': 225},\n {'license': 0,\n  'file_name': '0091_img.png',\n  'width': 1280,\n  'height': 720,\n  'id': 226},\n {'license': 0,\n  'file_name': '0219_img.png',\n  'width': 1280,\n  'height': 720,\n  'id': 227},\n {'license': 0,\n  'file_name': '0156_img.png',\n  'width': 1280,\n  'height': 720,\n  'id': 228},\n {'license': 0,\n  'file_name': '0023_img.png',\n  'width': 1280,\n  'height': 720,\n  'id': 229},\n {'license': 0,\n  'file_name': '0024_img.png',\n  'width': 1280,\n  'height': 720,\n  'id': 230},\n {'license': 0,\n  'file_name': '0027_img.png',\n  'width': 1280,\n  'height': 720,\n  'id': 231},\n {'license': 0,\n  'file_name': '0169_img.png',\n  'width': 1280,\n  'height': 720,\n  'id': 232},\n {'license': 0,\n  'file_name': '0256_img.png',\n  'width': 1280,\n  'height': 720,\n  'id': 233},\n {'license': 0,\n  'file_name': '0031_img.png',\n  'width': 1280,\n  'height': 720,\n  'id': 234},\n {'license': 0,\n  'file_name': '0248_img.png',\n  'width': 1280,\n  'height': 720,\n  'id': 235},\n {'license': 0,\n  'file_name': '0162_img.png',\n  'width': 1280,\n  'height': 720,\n  'id': 236},\n {'license': 0,\n  'file_name': '0195_img.png',\n  'width': 1280,\n  'height': 720,\n  'id': 237},\n {'license': 0,\n  'file_name': '0220_img.png',\n  'width': 1280,\n  'height': 720,\n  'id': 238},\n {'license': 0,\n  'file_name': '0232_img.png',\n  'width': 1280,\n  'height': 720,\n  'id': 239},\n {'license': 0,\n  'file_name': '0080_img.png',\n  'width': 1280,\n  'height': 720,\n  'id': 240},\n {'license': 0,\n  'file_name': '0295_img.png',\n  'width': 1280,\n  'height': 720,\n  'id': 241},\n {'license': 0,\n  'file_name': '0293_img.png',\n  'width': 1280,\n  'height': 720,\n  'id': 242},\n {'license': 0,\n  'file_name': '0250_img.png',\n  'width': 1280,\n  'height': 720,\n  'id': 243},\n {'license': 0,\n  'file_name': '0049_img.png',\n  'width': 1280,\n  'height': 720,\n  'id': 244},\n {'license': 0,\n  'file_name': '0261_img.png',\n  'width': 1280,\n  'height': 720,\n  'id': 245},\n {'license': 0,\n  'file_name': '0043_img.png',\n  'width': 1280,\n  'height': 720,\n  'id': 246},\n {'license': 0,\n  'file_name': '0039_img.png',\n  'width': 1280,\n  'height': 720,\n  'id': 247},\n {'license': 0,\n  'file_name': '0221_img.png',\n  'width': 1280,\n  'height': 720,\n  'id': 248},\n {'license': 0,\n  'file_name': '0179_img.png',\n  'width': 1280,\n  'height': 720,\n  'id': 249},\n {'license': 0,\n  'file_name': '0154_img.png',\n  'width': 1280,\n  'height': 720,\n  'id': 250},\n {'license': 0,\n  'file_name': '0112_img.png',\n  'width': 1280,\n  'height': 720,\n  'id': 251},\n {'license': 0,\n  'file_name': '0243_img.png',\n  'width': 1280,\n  'height': 720,\n  'id': 252},\n {'license': 0,\n  'file_name': '0117_img.png',\n  'width': 1280,\n  'height': 720,\n  'id': 253},\n {'license': 0,\n  'file_name': '0105_img.png',\n  'width': 1280,\n  'height': 720,\n  'id': 254},\n {'license': 0,\n  'file_name': '0133_img.png',\n  'width': 1280,\n  'height': 720,\n  'id': 255},\n {'license': 0,\n  'file_name': '0287_img.png',\n  'width': 1280,\n  'height': 720,\n  'id': 256},\n {'license': 0,\n  'file_name': '0277_img.png',\n  'width': 1280,\n  'height': 720,\n  'id': 257},\n {'license': 0,\n  'file_name': '0044_img.png',\n  'width': 1280,\n  'height': 720,\n  'id': 258},\n {'license': 0,\n  'file_name': '0158_img.png',\n  'width': 1280,\n  'height': 720,\n  'id': 259},\n {'license': 0,\n  'file_name': '0226_img.png',\n  'width': 1280,\n  'height': 720,\n  'id': 260},\n {'license': 0,\n  'file_name': '0103_img.png',\n  'width': 1280,\n  'height': 720,\n  'id': 261},\n {'license': 0,\n  'file_name': '0282_img.png',\n  'width': 1280,\n  'height': 720,\n  'id': 262},\n {'license': 0,\n  'file_name': '0163_img.png',\n  'width': 1280,\n  'height': 720,\n  'id': 263},\n {'license': 0,\n  'file_name': '0180_img.png',\n  'width': 1280,\n  'height': 720,\n  'id': 264},\n {'license': 0,\n  'file_name': '0095_img.png',\n  'width': 1280,\n  'height': 720,\n  'id': 265},\n {'license': 0,\n  'file_name': '0165_img.png',\n  'width': 1280,\n  'height': 720,\n  'id': 266},\n {'license': 0,\n  'file_name': '0264_img.png',\n  'width': 1280,\n  'height': 720,\n  'id': 267},\n {'license': 0,\n  'file_name': '0278_img.png',\n  'width': 1280,\n  'height': 720,\n  'id': 268},\n {'license': 0,\n  'file_name': '0213_img.png',\n  'width': 1280,\n  'height': 720,\n  'id': 269},\n {'license': 0,\n  'file_name': '0121_img.png',\n  'width': 1280,\n  'height': 720,\n  'id': 270},\n {'license': 0,\n  'file_name': '0012_img.png',\n  'width': 1280,\n  'height': 720,\n  'id': 271},\n {'license': 0,\n  'file_name': '0231_img.png',\n  'width': 1280,\n  'height': 720,\n  'id': 272},\n {'license': 0,\n  'file_name': '0230_img.png',\n  'width': 1280,\n  'height': 720,\n  'id': 273},\n {'license': 0,\n  'file_name': '0134_img.png',\n  'width': 1280,\n  'height': 720,\n  'id': 274},\n {'license': 0,\n  'file_name': '0207_img.png',\n  'width': 1280,\n  'height': 720,\n  'id': 275},\n {'license': 0,\n  'file_name': '0234_img.png',\n  'width': 1280,\n  'height': 720,\n  'id': 276},\n {'license': 0,\n  'file_name': '0265_img.png',\n  'width': 1280,\n  'height': 720,\n  'id': 277},\n {'license': 0,\n  'file_name': '0067_img.png',\n  'width': 1280,\n  'height': 720,\n  'id': 278},\n {'license': 0,\n  'file_name': '0217_img.png',\n  'width': 1280,\n  'height': 720,\n  'id': 279},\n {'license': 0,\n  'file_name': '0094_img.png',\n  'width': 1280,\n  'height': 720,\n  'id': 280},\n {'license': 0,\n  'file_name': '0069_img.png',\n  'width': 1280,\n  'height': 720,\n  'id': 281},\n {'license': 0,\n  'file_name': '0042_img.png',\n  'width': 1280,\n  'height': 720,\n  'id': 282},\n {'license': 0,\n  'file_name': '0177_img.png',\n  'width': 1280,\n  'height': 720,\n  'id': 283},\n {'license': 0,\n  'file_name': '0157_img.png',\n  'width': 1280,\n  'height': 720,\n  'id': 284},\n {'license': 0,\n  'file_name': '0004_img.png',\n  'width': 1280,\n  'height': 720,\n  'id': 285},\n {'license': 0,\n  'file_name': '0228_img.png',\n  'width': 1280,\n  'height': 720,\n  'id': 286},\n {'license': 0,\n  'file_name': '0178_img.png',\n  'width': 1280,\n  'height': 720,\n  'id': 287},\n {'license': 0,\n  'file_name': '0200_img.png',\n  'width': 1280,\n  'height': 720,\n  'id': 288},\n {'license': 0,\n  'file_name': '0062_img.png',\n  'width': 1280,\n  'height': 720,\n  'id': 289},\n {'license': 0,\n  'file_name': '0149_img.png',\n  'width': 1280,\n  'height': 720,\n  'id': 290},\n {'license': 0,\n  'file_name': '0239_img.png',\n  'width': 1280,\n  'height': 720,\n  'id': 291},\n {'license': 0,\n  'file_name': '0224_img.png',\n  'width': 1280,\n  'height': 720,\n  'id': 292},\n {'license': 0,\n  'file_name': '0026_img.png',\n  'width': 1280,\n  'height': 720,\n  'id': 293},\n {'license': 0,\n  'file_name': '0260_img.png',\n  'width': 1280,\n  'height': 720,\n  'id': 294},\n {'license': 0,\n  'file_name': '0253_img.png',\n  'width': 1280,\n  'height': 720,\n  'id': 295},\n {'license': 0,\n  'file_name': '0048_img.png',\n  'width': 1280,\n  'height': 720,\n  'id': 296},\n {'license': 0,\n  'file_name': '0269_img.png',\n  'width': 1280,\n  'height': 720,\n  'id': 297},\n {'license': 0,\n  'file_name': '0225_img.png',\n  'width': 1280,\n  'height': 720,\n  'id': 298},\n {'license': 0,\n  'file_name': '0197_img.png',\n  'width': 1280,\n  'height': 720,\n  'id': 299},\n {'license': 0,\n  'file_name': '0097_img.png',\n  'width': 1280,\n  'height': 720,\n  'id': 300}]"
     },
     "metadata": {},
     "execution_count": 14
    }
   ],
   "source": [
    "my_dict[\"images\"]"
   ]
  },
  {
   "cell_type": "markdown",
   "metadata": {},
   "source": [
    "## trying other methods"
   ]
  },
  {
   "cell_type": "markdown",
   "metadata": {},
   "source": [
    "### Could be found at:\n",
    "https://github.com/cocodataset/cocoapi/issues/131"
   ]
  }
 ],
 "metadata": {
  "language_info": {
   "codemirror_mode": {
    "name": "ipython",
    "version": 3
   },
   "file_extension": ".py",
   "mimetype": "text/x-python",
   "name": "python",
   "nbconvert_exporter": "python",
   "pygments_lexer": "ipython3",
   "version": "3.6.10-final"
  },
  "orig_nbformat": 2,
  "kernelspec": {
   "name": "python_defaultSpec_1601765189885",
   "display_name": "Python 3.6.10 64-bit ('backmat': conda)"
  }
 },
 "nbformat": 4,
 "nbformat_minor": 2
}