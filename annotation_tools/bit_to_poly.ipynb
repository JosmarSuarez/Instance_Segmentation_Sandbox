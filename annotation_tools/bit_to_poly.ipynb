{
 "cells": [
  {
   "cell_type": "markdown",
   "metadata": {},
   "source": [
    "# Bitmask to polygonal annotation\n",
    "This notebook contains functions that allow us to transform bitmasks to polygonal annotations in COCO format\n",
    "## Main code"
   ]
  },
  {
   "cell_type": "code",
   "execution_count": 3,
   "metadata": {},
   "outputs": [],
   "source": [
    "from PIL import Image # (pip install Pillow)\n",
    "import matplotlib.pyplot as plt\n",
    "import numpy as np                                 # (pip install numpy)\n",
    "from skimage import measure                        # (pip install scikit-image)\n",
    "from shapely.geometry import Polygon, MultiPolygon # (pip install Shapely)\n",
    "import os"
   ]
  },
  {
   "cell_type": "markdown",
   "metadata": {},
   "source": [
    "### Submask creation (PIL)\n",
    "This function takes an image as an input, and creates a submask for each color in the image. The function returns a dictionary that has the color codes as keys and a submask as value"
   ]
  },
  {
   "cell_type": "code",
   "execution_count": 51,
   "metadata": {},
   "outputs": [],
   "source": [
    "def create_sub_masks(mask_image):\n",
    "    width, height = mask_image.size\n",
    "\n",
    "    # Initialize a dictionary of sub-masks indexed by RGB colors\n",
    "    sub_masks = {}\n",
    "    for x in range(width):\n",
    "        for y in range(height):\n",
    "            # Get the RGB values of the pixel\n",
    "            pixel = mask_image.getpixel((x,y))[:3]\n",
    "\n",
    "            # If the pixel is not black...\n",
    "            if pixel != (0, 0, 0):\n",
    "                # Check to see if we've created a sub-mask...\n",
    "                pixel_str = str(pixel)\n",
    "                sub_mask = sub_masks.get(pixel_str)\n",
    "                if sub_mask is None:\n",
    "                   # Create a sub-mask (one bit per pixel) and add to the dictionary\n",
    "                    # Note: we add 1 pixel of padding in each direction\n",
    "                    # because the contours module doesn't handle cases\n",
    "                    # where pixels bleed to the edge of the image\n",
    "                    sub_masks[pixel_str] = Image.new('1', (width+2, height+2))\n",
    "\n",
    "                # Set the pixel value to 1 (default is 0), accounting for padding\n",
    "                sub_masks[pixel_str].putpixel((x+1, y+1), 1)\n",
    "\n",
    "    return sub_masks"
   ]
  },
  {
   "cell_type": "markdown",
   "metadata": {},
   "source": [
    "### Submask annotation\n",
    "It takes the a dictionary consisting of color(key) and submask_image(value) and converts it into an annotation"
   ]
  },
  {
   "cell_type": "code",
   "execution_count": 52,
   "metadata": {},
   "outputs": [],
   "source": [
    "\n",
    "def create_sub_mask_annotation(sub_mask, image_id, category_id, annotation_id, is_crowd):\n",
    "    # Find contours (boundary lines) around each sub-mask\n",
    "    # Note: there could be multiple contours if the object\n",
    "    # is partially occluded. (E.g. an elephant behind a tree)\n",
    "    contours = measure.find_contours(sub_mask, 0.5, positive_orientation='low')\n",
    "\n",
    "    segmentations = []\n",
    "    polygons = []\n",
    "    for contour in contours:\n",
    "        # Flip from (row, col) representation to (x, y)\n",
    "        # and subtract the padding pixel\n",
    "        for i in range(len(contour)):\n",
    "            row, col = contour[i]\n",
    "            contour[i] = (col - 1, row - 1)\n",
    "\n",
    "        # Make a polygon and simplify it\n",
    "        poly = Polygon(contour)\n",
    "        poly = poly.simplify(1.0, preserve_topology=False)\n",
    "        polygons.append(poly)\n",
    "        segmentation = np.array(poly.exterior.coords).ravel().tolist()\n",
    "        segmentations.append(segmentation)\n",
    "\n",
    "    # Combine the polygons to calculate the bounding box and area\n",
    "    multi_poly = MultiPolygon(polygons)\n",
    "    x, y, max_x, max_y = multi_poly.bounds\n",
    "    width = max_x - x\n",
    "    height = max_y - y\n",
    "    bbox = (x, y, width, height)\n",
    "    area = multi_poly.area\n",
    "\n",
    "    annotation = {\n",
    "        'segmentation': segmentations,\n",
    "        'iscrowd': is_crowd,\n",
    "        'image_id': image_id,\n",
    "        'category_id': category_id,\n",
    "        'id': annotation_id,\n",
    "        'bbox': bbox,\n",
    "        'area': area\n",
    "    }\n",
    "\n",
    "    return annotation"
   ]
  },
  {
   "cell_type": "markdown",
   "metadata": {},
   "source": [
    "### Implementing the function"
   ]
  },
  {
   "cell_type": "code",
   "execution_count": 53,
   "metadata": {},
   "outputs": [
    {
     "output_type": "error",
     "ename": "FileNotFoundError",
     "evalue": "[Errno 2] No such file or directory: 'plant_book_mask.png'",
     "traceback": [
      "\u001b[0;31m---------------------------------------------------------------------------\u001b[0m",
      "\u001b[0;31mFileNotFoundError\u001b[0m                         Traceback (most recent call last)",
      "\u001b[0;32m<ipython-input-53-816fc1724a47>\u001b[0m in \u001b[0;36m<module>\u001b[0;34m\u001b[0m\n\u001b[1;32m      1\u001b[0m \u001b[0;32mimport\u001b[0m \u001b[0mjson\u001b[0m\u001b[0;34m\u001b[0m\u001b[0;34m\u001b[0m\u001b[0m\n\u001b[1;32m      2\u001b[0m \u001b[0;34m\u001b[0m\u001b[0m\n\u001b[0;32m----> 3\u001b[0;31m \u001b[0mplant_book_mask_image\u001b[0m \u001b[0;34m=\u001b[0m \u001b[0mImage\u001b[0m\u001b[0;34m.\u001b[0m\u001b[0mopen\u001b[0m\u001b[0;34m(\u001b[0m\u001b[0;34m'plant_book_mask.png'\u001b[0m\u001b[0;34m)\u001b[0m\u001b[0;34m\u001b[0m\u001b[0;34m\u001b[0m\u001b[0m\n\u001b[0m\u001b[1;32m      4\u001b[0m \u001b[0mbottle_book_mask_image\u001b[0m \u001b[0;34m=\u001b[0m \u001b[0mImage\u001b[0m\u001b[0;34m.\u001b[0m\u001b[0mopen\u001b[0m\u001b[0;34m(\u001b[0m\u001b[0;34m'bottle_book_mask.png'\u001b[0m\u001b[0;34m)\u001b[0m\u001b[0;34m\u001b[0m\u001b[0;34m\u001b[0m\u001b[0m\n\u001b[1;32m      5\u001b[0m \u001b[0mshapes\u001b[0m \u001b[0;34m=\u001b[0m \u001b[0mImage\u001b[0m\u001b[0;34m.\u001b[0m\u001b[0mopen\u001b[0m\u001b[0;34m(\u001b[0m\u001b[0;34m'shapes.png'\u001b[0m\u001b[0;34m)\u001b[0m\u001b[0;34m\u001b[0m\u001b[0;34m\u001b[0m\u001b[0m\n",
      "\u001b[0;32m~/.conda/envs/d2/lib/python3.6/site-packages/PIL/Image.py\u001b[0m in \u001b[0;36mopen\u001b[0;34m(fp, mode)\u001b[0m\n\u001b[1;32m   2841\u001b[0m \u001b[0;34m\u001b[0m\u001b[0m\n\u001b[1;32m   2842\u001b[0m     \u001b[0;32mif\u001b[0m \u001b[0mfilename\u001b[0m\u001b[0;34m:\u001b[0m\u001b[0;34m\u001b[0m\u001b[0;34m\u001b[0m\u001b[0m\n\u001b[0;32m-> 2843\u001b[0;31m         \u001b[0mfp\u001b[0m \u001b[0;34m=\u001b[0m \u001b[0mbuiltins\u001b[0m\u001b[0;34m.\u001b[0m\u001b[0mopen\u001b[0m\u001b[0;34m(\u001b[0m\u001b[0mfilename\u001b[0m\u001b[0;34m,\u001b[0m \u001b[0;34m\"rb\"\u001b[0m\u001b[0;34m)\u001b[0m\u001b[0;34m\u001b[0m\u001b[0;34m\u001b[0m\u001b[0m\n\u001b[0m\u001b[1;32m   2844\u001b[0m         \u001b[0mexclusive_fp\u001b[0m \u001b[0;34m=\u001b[0m \u001b[0;32mTrue\u001b[0m\u001b[0;34m\u001b[0m\u001b[0;34m\u001b[0m\u001b[0m\n\u001b[1;32m   2845\u001b[0m \u001b[0;34m\u001b[0m\u001b[0m\n",
      "\u001b[0;31mFileNotFoundError\u001b[0m: [Errno 2] No such file or directory: 'plant_book_mask.png'"
     ]
    }
   ],
   "source": [
    "import json\n",
    "\n",
    "plant_book_mask_image = Image.open('plant_book_mask.png')\n",
    "bottle_book_mask_image = Image.open('bottle_book_mask.png')\n",
    "shapes = Image.open('shapes.png')\n",
    "dog = Image.open('dog.png')\n",
    "\n",
    "#mask_images = [plant_book_mask_image, bottle_book_mask_image]\n",
    "mask_images = [img]"
   ]
  },
  {
   "cell_type": "code",
   "execution_count": 31,
   "metadata": {},
   "outputs": [],
   "source": [
    "# Define which colors match which categories in the images\n",
    "circle_id, square_id, dog_id, lamp_id = [1, 2, 3, 4]\n",
    "category_ids = {\n",
    "    1: {\n",
    "        '(0, 255, 0)': square_id,\n",
    "        '(255, 0, 0)': circle_id,\n",
    "    },\n",
    "    2: {\n",
    "        '(0, 0, 255)': dog_id,\n",
    "        '(255, 0, 0)': circle_id,\n",
    "    }\n",
    "}"
   ]
  },
  {
   "cell_type": "code",
   "execution_count": 32,
   "metadata": {},
   "outputs": [],
   "source": [
    "is_crowd = 0\n",
    "\n",
    "# These ids will be automatically increased as we go\n",
    "annotation_id = 1\n",
    "image_id = 1"
   ]
  },
  {
   "cell_type": "code",
   "execution_count": 33,
   "metadata": {
    "tags": []
   },
   "outputs": [
    {
     "output_type": "stream",
     "name": "stdout",
     "text": "[{\"segmentation\": [[122.0, 155.5, 136.0, 150.5, 148.5, 139.0, 152.5, 132.0, 155.5, 122.0, 155.5, 110.0, 150.5, 96.0, 139.0, 83.5, 132.0, 79.5, 122.0, 76.5, 110.0, 76.5, 96.0, 81.5, 83.5, 93.0, 79.5, 100.0, 76.5, 110.0, 76.5, 122.0, 81.5, 136.0, 93.0, 148.5, 100.0, 152.5, 110.0, 155.5, 122.0, 155.5]], \"iscrowd\": 0, \"image_id\": 1, \"category_id\": 1, \"id\": 1, \"bbox\": [76.5, 76.5, 79.0, 79.0], \"area\": 4901.5}, {\"segmentation\": [[278.0, 250.5, 278.5, 145.0, 173.0, 144.5, 172.5, 250.0, 278.0, 250.5]], \"iscrowd\": 0, \"image_id\": 1, \"category_id\": 2, \"id\": 2, \"bbox\": [172.5, 144.5, 106.0, 106.0], \"area\": 11130.5}]\n"
    }
   ],
   "source": [
    "# Create the annotations\n",
    "annotations = []\n",
    "for mask_image in mask_images:\n",
    "    sub_masks = create_sub_masks(mask_image)\n",
    "    for color, sub_mask in sub_masks.items():\n",
    "        category_id = category_ids[image_id][color]\n",
    "        annotation = create_sub_mask_annotation(np.array(sub_mask), image_id, category_id, annotation_id, is_crowd)\n",
    "        annotations.append(annotation)\n",
    "        annotation_id += 1\n",
    "    image_id += 1\n",
    "\n",
    "print(json.dumps(annotations))\n"
   ]
  },
  {
   "cell_type": "markdown",
   "metadata": {},
   "source": [
    "## Test Code zone"
   ]
  },
  {
   "cell_type": "code",
   "execution_count": 25,
   "metadata": {
    "tags": []
   },
   "outputs": [
    {
     "output_type": "stream",
     "name": "stdout",
     "text": "(0, 0, 255)\n"
    },
    {
     "output_type": "display_data",
     "data": {
      "text/plain": "<Figure size 432x288 with 1 Axes>",
      "image/svg+xml": "<?xml version=\"1.0\" encoding=\"utf-8\" standalone=\"no\"?>\n<!DOCTYPE svg PUBLIC \"-//W3C//DTD SVG 1.1//EN\"\n  \"http://www.w3.org/Graphics/SVG/1.1/DTD/svg11.dtd\">\n<!-- Created with matplotlib (https://matplotlib.org/) -->\n<svg height=\"244.257718pt\" version=\"1.1\" viewBox=\"0 0 375.2875 244.257718\" width=\"375.2875pt\" xmlns=\"http://www.w3.org/2000/svg\" xmlns:xlink=\"http://www.w3.org/1999/xlink\">\n <defs>\n  <style type=\"text/css\">\n*{stroke-linecap:butt;stroke-linejoin:round;}\n  </style>\n </defs>\n <g id=\"figure_1\">\n  <g id=\"patch_1\">\n   <path d=\"M 0 244.257718 \nL 375.2875 244.257718 \nL 375.2875 0 \nL 0 0 \nz\n\" style=\"fill:none;\"/>\n  </g>\n  <g id=\"axes_1\">\n   <g id=\"patch_2\">\n    <path d=\"M 33.2875 220.379593 \nL 368.0875 220.379593 \nL 368.0875 10.738471 \nL 33.2875 10.738471 \nz\n\" style=\"fill:#ffffff;\"/>\n   </g>\n   <g clip-path=\"url(#pf5bc446a9e)\">\n    <image height=\"210\" id=\"imagef242aadd6a\" transform=\"scale(1 -1)translate(0 -210)\" width=\"335\" x=\"33.2875\" xlink:href=\"data:image/png;base64,\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\" y=\"-10.379593\"/>\n   </g>\n   <g id=\"matplotlib.axis_1\">\n    <g id=\"xtick_1\">\n     <g id=\"line2d_1\">\n      <defs>\n       <path d=\"M 0 0 \nL 0 3.5 \n\" id=\"mb35538d93a\" style=\"stroke:#000000;stroke-width:0.8;\"/>\n      </defs>\n      <g>\n       <use style=\"stroke:#000000;stroke-width:0.8;\" x=\"33.548248\" xlink:href=\"#mb35538d93a\" y=\"220.379593\"/>\n      </g>\n     </g>\n     <g id=\"text_1\">\n      <!-- 0 -->\n      <defs>\n       <path d=\"M 31.78125 66.40625 \nQ 24.171875 66.40625 20.328125 58.90625 \nQ 16.5 51.421875 16.5 36.375 \nQ 16.5 21.390625 20.328125 13.890625 \nQ 24.171875 6.390625 31.78125 6.390625 \nQ 39.453125 6.390625 43.28125 13.890625 \nQ 47.125 21.390625 47.125 36.375 \nQ 47.125 51.421875 43.28125 58.90625 \nQ 39.453125 66.40625 31.78125 66.40625 \nz\nM 31.78125 74.21875 \nQ 44.046875 74.21875 50.515625 64.515625 \nQ 56.984375 54.828125 56.984375 36.375 \nQ 56.984375 17.96875 50.515625 8.265625 \nQ 44.046875 -1.421875 31.78125 -1.421875 \nQ 19.53125 -1.421875 13.0625 8.265625 \nQ 6.59375 17.96875 6.59375 36.375 \nQ 6.59375 54.828125 13.0625 64.515625 \nQ 19.53125 74.21875 31.78125 74.21875 \nz\n\" id=\"DejaVuSans-48\"/>\n      </defs>\n      <g transform=\"translate(30.366998 234.97803)scale(0.1 -0.1)\">\n       <use xlink:href=\"#DejaVuSans-48\"/>\n      </g>\n     </g>\n    </g>\n    <g id=\"xtick_2\">\n     <g id=\"line2d_2\">\n      <g>\n       <use style=\"stroke:#000000;stroke-width:0.8;\" x=\"85.69778\" xlink:href=\"#mb35538d93a\" y=\"220.379593\"/>\n      </g>\n     </g>\n     <g id=\"text_2\">\n      <!-- 100 -->\n      <defs>\n       <path d=\"M 12.40625 8.296875 \nL 28.515625 8.296875 \nL 28.515625 63.921875 \nL 10.984375 60.40625 \nL 10.984375 69.390625 \nL 28.421875 72.90625 \nL 38.28125 72.90625 \nL 38.28125 8.296875 \nL 54.390625 8.296875 \nL 54.390625 0 \nL 12.40625 0 \nz\n\" id=\"DejaVuSans-49\"/>\n      </defs>\n      <g transform=\"translate(76.15403 234.97803)scale(0.1 -0.1)\">\n       <use xlink:href=\"#DejaVuSans-49\"/>\n       <use x=\"63.623047\" xlink:href=\"#DejaVuSans-48\"/>\n       <use x=\"127.246094\" xlink:href=\"#DejaVuSans-48\"/>\n      </g>\n     </g>\n    </g>\n    <g id=\"xtick_3\">\n     <g id=\"line2d_3\">\n      <g>\n       <use style=\"stroke:#000000;stroke-width:0.8;\" x=\"137.847313\" xlink:href=\"#mb35538d93a\" y=\"220.379593\"/>\n      </g>\n     </g>\n     <g id=\"text_3\">\n      <!-- 200 -->\n      <defs>\n       <path d=\"M 19.1875 8.296875 \nL 53.609375 8.296875 \nL 53.609375 0 \nL 7.328125 0 \nL 7.328125 8.296875 \nQ 12.9375 14.109375 22.625 23.890625 \nQ 32.328125 33.6875 34.8125 36.53125 \nQ 39.546875 41.84375 41.421875 45.53125 \nQ 43.3125 49.21875 43.3125 52.78125 \nQ 43.3125 58.59375 39.234375 62.25 \nQ 35.15625 65.921875 28.609375 65.921875 \nQ 23.96875 65.921875 18.8125 64.3125 \nQ 13.671875 62.703125 7.8125 59.421875 \nL 7.8125 69.390625 \nQ 13.765625 71.78125 18.9375 73 \nQ 24.125 74.21875 28.421875 74.21875 \nQ 39.75 74.21875 46.484375 68.546875 \nQ 53.21875 62.890625 53.21875 53.421875 \nQ 53.21875 48.921875 51.53125 44.890625 \nQ 49.859375 40.875 45.40625 35.40625 \nQ 44.1875 33.984375 37.640625 27.21875 \nQ 31.109375 20.453125 19.1875 8.296875 \nz\n\" id=\"DejaVuSans-50\"/>\n      </defs>\n      <g transform=\"translate(128.303563 234.97803)scale(0.1 -0.1)\">\n       <use xlink:href=\"#DejaVuSans-50\"/>\n       <use x=\"63.623047\" xlink:href=\"#DejaVuSans-48\"/>\n       <use x=\"127.246094\" xlink:href=\"#DejaVuSans-48\"/>\n      </g>\n     </g>\n    </g>\n    <g id=\"xtick_4\">\n     <g id=\"line2d_4\">\n      <g>\n       <use style=\"stroke:#000000;stroke-width:0.8;\" x=\"189.996846\" xlink:href=\"#mb35538d93a\" y=\"220.379593\"/>\n      </g>\n     </g>\n     <g id=\"text_4\">\n      <!-- 300 -->\n      <defs>\n       <path d=\"M 40.578125 39.3125 \nQ 47.65625 37.796875 51.625 33 \nQ 55.609375 28.21875 55.609375 21.1875 \nQ 55.609375 10.40625 48.1875 4.484375 \nQ 40.765625 -1.421875 27.09375 -1.421875 \nQ 22.515625 -1.421875 17.65625 -0.515625 \nQ 12.796875 0.390625 7.625 2.203125 \nL 7.625 11.71875 \nQ 11.71875 9.328125 16.59375 8.109375 \nQ 21.484375 6.890625 26.8125 6.890625 \nQ 36.078125 6.890625 40.9375 10.546875 \nQ 45.796875 14.203125 45.796875 21.1875 \nQ 45.796875 27.640625 41.28125 31.265625 \nQ 36.765625 34.90625 28.71875 34.90625 \nL 20.21875 34.90625 \nL 20.21875 43.015625 \nL 29.109375 43.015625 \nQ 36.375 43.015625 40.234375 45.921875 \nQ 44.09375 48.828125 44.09375 54.296875 \nQ 44.09375 59.90625 40.109375 62.90625 \nQ 36.140625 65.921875 28.71875 65.921875 \nQ 24.65625 65.921875 20.015625 65.03125 \nQ 15.375 64.15625 9.8125 62.3125 \nL 9.8125 71.09375 \nQ 15.4375 72.65625 20.34375 73.4375 \nQ 25.25 74.21875 29.59375 74.21875 \nQ 40.828125 74.21875 47.359375 69.109375 \nQ 53.90625 64.015625 53.90625 55.328125 \nQ 53.90625 49.265625 50.4375 45.09375 \nQ 46.96875 40.921875 40.578125 39.3125 \nz\n\" id=\"DejaVuSans-51\"/>\n      </defs>\n      <g transform=\"translate(180.453096 234.97803)scale(0.1 -0.1)\">\n       <use xlink:href=\"#DejaVuSans-51\"/>\n       <use x=\"63.623047\" xlink:href=\"#DejaVuSans-48\"/>\n       <use x=\"127.246094\" xlink:href=\"#DejaVuSans-48\"/>\n      </g>\n     </g>\n    </g>\n    <g id=\"xtick_5\">\n     <g id=\"line2d_5\">\n      <g>\n       <use style=\"stroke:#000000;stroke-width:0.8;\" x=\"242.146379\" xlink:href=\"#mb35538d93a\" y=\"220.379593\"/>\n      </g>\n     </g>\n     <g id=\"text_5\">\n      <!-- 400 -->\n      <defs>\n       <path d=\"M 37.796875 64.3125 \nL 12.890625 25.390625 \nL 37.796875 25.390625 \nz\nM 35.203125 72.90625 \nL 47.609375 72.90625 \nL 47.609375 25.390625 \nL 58.015625 25.390625 \nL 58.015625 17.1875 \nL 47.609375 17.1875 \nL 47.609375 0 \nL 37.796875 0 \nL 37.796875 17.1875 \nL 4.890625 17.1875 \nL 4.890625 26.703125 \nz\n\" id=\"DejaVuSans-52\"/>\n      </defs>\n      <g transform=\"translate(232.602629 234.97803)scale(0.1 -0.1)\">\n       <use xlink:href=\"#DejaVuSans-52\"/>\n       <use x=\"63.623047\" xlink:href=\"#DejaVuSans-48\"/>\n       <use x=\"127.246094\" xlink:href=\"#DejaVuSans-48\"/>\n      </g>\n     </g>\n    </g>\n    <g id=\"xtick_6\">\n     <g id=\"line2d_6\">\n      <g>\n       <use style=\"stroke:#000000;stroke-width:0.8;\" x=\"294.295911\" xlink:href=\"#mb35538d93a\" y=\"220.379593\"/>\n      </g>\n     </g>\n     <g id=\"text_6\">\n      <!-- 500 -->\n      <defs>\n       <path d=\"M 10.796875 72.90625 \nL 49.515625 72.90625 \nL 49.515625 64.59375 \nL 19.828125 64.59375 \nL 19.828125 46.734375 \nQ 21.96875 47.46875 24.109375 47.828125 \nQ 26.265625 48.1875 28.421875 48.1875 \nQ 40.625 48.1875 47.75 41.5 \nQ 54.890625 34.8125 54.890625 23.390625 \nQ 54.890625 11.625 47.5625 5.09375 \nQ 40.234375 -1.421875 26.90625 -1.421875 \nQ 22.3125 -1.421875 17.546875 -0.640625 \nQ 12.796875 0.140625 7.71875 1.703125 \nL 7.71875 11.625 \nQ 12.109375 9.234375 16.796875 8.0625 \nQ 21.484375 6.890625 26.703125 6.890625 \nQ 35.15625 6.890625 40.078125 11.328125 \nQ 45.015625 15.765625 45.015625 23.390625 \nQ 45.015625 31 40.078125 35.4375 \nQ 35.15625 39.890625 26.703125 39.890625 \nQ 22.75 39.890625 18.8125 39.015625 \nQ 14.890625 38.140625 10.796875 36.28125 \nz\n\" id=\"DejaVuSans-53\"/>\n      </defs>\n      <g transform=\"translate(284.752161 234.97803)scale(0.1 -0.1)\">\n       <use xlink:href=\"#DejaVuSans-53\"/>\n       <use x=\"63.623047\" xlink:href=\"#DejaVuSans-48\"/>\n       <use x=\"127.246094\" xlink:href=\"#DejaVuSans-48\"/>\n      </g>\n     </g>\n    </g>\n    <g id=\"xtick_7\">\n     <g id=\"line2d_7\">\n      <g>\n       <use style=\"stroke:#000000;stroke-width:0.8;\" x=\"346.445444\" xlink:href=\"#mb35538d93a\" y=\"220.379593\"/>\n      </g>\n     </g>\n     <g id=\"text_7\">\n      <!-- 600 -->\n      <defs>\n       <path d=\"M 33.015625 40.375 \nQ 26.375 40.375 22.484375 35.828125 \nQ 18.609375 31.296875 18.609375 23.390625 \nQ 18.609375 15.53125 22.484375 10.953125 \nQ 26.375 6.390625 33.015625 6.390625 \nQ 39.65625 6.390625 43.53125 10.953125 \nQ 47.40625 15.53125 47.40625 23.390625 \nQ 47.40625 31.296875 43.53125 35.828125 \nQ 39.65625 40.375 33.015625 40.375 \nz\nM 52.59375 71.296875 \nL 52.59375 62.3125 \nQ 48.875 64.0625 45.09375 64.984375 \nQ 41.3125 65.921875 37.59375 65.921875 \nQ 27.828125 65.921875 22.671875 59.328125 \nQ 17.53125 52.734375 16.796875 39.40625 \nQ 19.671875 43.65625 24.015625 45.921875 \nQ 28.375 48.1875 33.59375 48.1875 \nQ 44.578125 48.1875 50.953125 41.515625 \nQ 57.328125 34.859375 57.328125 23.390625 \nQ 57.328125 12.15625 50.6875 5.359375 \nQ 44.046875 -1.421875 33.015625 -1.421875 \nQ 20.359375 -1.421875 13.671875 8.265625 \nQ 6.984375 17.96875 6.984375 36.375 \nQ 6.984375 53.65625 15.1875 63.9375 \nQ 23.390625 74.21875 37.203125 74.21875 \nQ 40.921875 74.21875 44.703125 73.484375 \nQ 48.484375 72.75 52.59375 71.296875 \nz\n\" id=\"DejaVuSans-54\"/>\n      </defs>\n      <g transform=\"translate(336.901694 234.97803)scale(0.1 -0.1)\">\n       <use xlink:href=\"#DejaVuSans-54\"/>\n       <use x=\"63.623047\" xlink:href=\"#DejaVuSans-48\"/>\n       <use x=\"127.246094\" xlink:href=\"#DejaVuSans-48\"/>\n      </g>\n     </g>\n    </g>\n   </g>\n   <g id=\"matplotlib.axis_2\">\n    <g id=\"ytick_1\">\n     <g id=\"line2d_8\">\n      <defs>\n       <path d=\"M 0 0 \nL -3.5 0 \n\" id=\"m63aaeb60cc\" style=\"stroke:#000000;stroke-width:0.8;\"/>\n      </defs>\n      <g>\n       <use style=\"stroke:#000000;stroke-width:0.8;\" x=\"33.2875\" xlink:href=\"#m63aaeb60cc\" y=\"10.999219\"/>\n      </g>\n     </g>\n     <g id=\"text_8\">\n      <!-- 0 -->\n      <g transform=\"translate(19.925 14.798437)scale(0.1 -0.1)\">\n       <use xlink:href=\"#DejaVuSans-48\"/>\n      </g>\n     </g>\n    </g>\n    <g id=\"ytick_2\">\n     <g id=\"line2d_9\">\n      <g>\n       <use style=\"stroke:#000000;stroke-width:0.8;\" x=\"33.2875\" xlink:href=\"#m63aaeb60cc\" y=\"37.073985\"/>\n      </g>\n     </g>\n     <g id=\"text_9\">\n      <!-- 50 -->\n      <g transform=\"translate(13.5625 40.873204)scale(0.1 -0.1)\">\n       <use xlink:href=\"#DejaVuSans-53\"/>\n       <use x=\"63.623047\" xlink:href=\"#DejaVuSans-48\"/>\n      </g>\n     </g>\n    </g>\n    <g id=\"ytick_3\">\n     <g id=\"line2d_10\">\n      <g>\n       <use style=\"stroke:#000000;stroke-width:0.8;\" x=\"33.2875\" xlink:href=\"#m63aaeb60cc\" y=\"63.148751\"/>\n      </g>\n     </g>\n     <g id=\"text_10\">\n      <!-- 100 -->\n      <g transform=\"translate(7.2 66.94797)scale(0.1 -0.1)\">\n       <use xlink:href=\"#DejaVuSans-49\"/>\n       <use x=\"63.623047\" xlink:href=\"#DejaVuSans-48\"/>\n       <use x=\"127.246094\" xlink:href=\"#DejaVuSans-48\"/>\n      </g>\n     </g>\n    </g>\n    <g id=\"ytick_4\">\n     <g id=\"line2d_11\">\n      <g>\n       <use style=\"stroke:#000000;stroke-width:0.8;\" x=\"33.2875\" xlink:href=\"#m63aaeb60cc\" y=\"89.223518\"/>\n      </g>\n     </g>\n     <g id=\"text_11\">\n      <!-- 150 -->\n      <g transform=\"translate(7.2 93.022737)scale(0.1 -0.1)\">\n       <use xlink:href=\"#DejaVuSans-49\"/>\n       <use x=\"63.623047\" xlink:href=\"#DejaVuSans-53\"/>\n       <use x=\"127.246094\" xlink:href=\"#DejaVuSans-48\"/>\n      </g>\n     </g>\n    </g>\n    <g id=\"ytick_5\">\n     <g id=\"line2d_12\">\n      <g>\n       <use style=\"stroke:#000000;stroke-width:0.8;\" x=\"33.2875\" xlink:href=\"#m63aaeb60cc\" y=\"115.298284\"/>\n      </g>\n     </g>\n     <g id=\"text_12\">\n      <!-- 200 -->\n      <g transform=\"translate(7.2 119.097503)scale(0.1 -0.1)\">\n       <use xlink:href=\"#DejaVuSans-50\"/>\n       <use x=\"63.623047\" xlink:href=\"#DejaVuSans-48\"/>\n       <use x=\"127.246094\" xlink:href=\"#DejaVuSans-48\"/>\n      </g>\n     </g>\n    </g>\n    <g id=\"ytick_6\">\n     <g id=\"line2d_13\">\n      <g>\n       <use style=\"stroke:#000000;stroke-width:0.8;\" x=\"33.2875\" xlink:href=\"#m63aaeb60cc\" y=\"141.373051\"/>\n      </g>\n     </g>\n     <g id=\"text_13\">\n      <!-- 250 -->\n      <g transform=\"translate(7.2 145.172269)scale(0.1 -0.1)\">\n       <use xlink:href=\"#DejaVuSans-50\"/>\n       <use x=\"63.623047\" xlink:href=\"#DejaVuSans-53\"/>\n       <use x=\"127.246094\" xlink:href=\"#DejaVuSans-48\"/>\n      </g>\n     </g>\n    </g>\n    <g id=\"ytick_7\">\n     <g id=\"line2d_14\">\n      <g>\n       <use style=\"stroke:#000000;stroke-width:0.8;\" x=\"33.2875\" xlink:href=\"#m63aaeb60cc\" y=\"167.447817\"/>\n      </g>\n     </g>\n     <g id=\"text_14\">\n      <!-- 300 -->\n      <g transform=\"translate(7.2 171.247036)scale(0.1 -0.1)\">\n       <use xlink:href=\"#DejaVuSans-51\"/>\n       <use x=\"63.623047\" xlink:href=\"#DejaVuSans-48\"/>\n       <use x=\"127.246094\" xlink:href=\"#DejaVuSans-48\"/>\n      </g>\n     </g>\n    </g>\n    <g id=\"ytick_8\">\n     <g id=\"line2d_15\">\n      <g>\n       <use style=\"stroke:#000000;stroke-width:0.8;\" x=\"33.2875\" xlink:href=\"#m63aaeb60cc\" y=\"193.522583\"/>\n      </g>\n     </g>\n     <g id=\"text_15\">\n      <!-- 350 -->\n      <g transform=\"translate(7.2 197.321802)scale(0.1 -0.1)\">\n       <use xlink:href=\"#DejaVuSans-51\"/>\n       <use x=\"63.623047\" xlink:href=\"#DejaVuSans-53\"/>\n       <use x=\"127.246094\" xlink:href=\"#DejaVuSans-48\"/>\n      </g>\n     </g>\n    </g>\n    <g id=\"ytick_9\">\n     <g id=\"line2d_16\">\n      <g>\n       <use style=\"stroke:#000000;stroke-width:0.8;\" x=\"33.2875\" xlink:href=\"#m63aaeb60cc\" y=\"219.59735\"/>\n      </g>\n     </g>\n     <g id=\"text_16\">\n      <!-- 400 -->\n      <g transform=\"translate(7.2 223.396568)scale(0.1 -0.1)\">\n       <use xlink:href=\"#DejaVuSans-52\"/>\n       <use x=\"63.623047\" xlink:href=\"#DejaVuSans-48\"/>\n       <use x=\"127.246094\" xlink:href=\"#DejaVuSans-48\"/>\n      </g>\n     </g>\n    </g>\n   </g>\n   <g id=\"patch_3\">\n    <path d=\"M 33.2875 220.379593 \nL 33.2875 10.738471 \n\" style=\"fill:none;stroke:#000000;stroke-linecap:square;stroke-linejoin:miter;stroke-width:0.8;\"/>\n   </g>\n   <g id=\"patch_4\">\n    <path d=\"M 368.0875 220.379593 \nL 368.0875 10.738471 \n\" style=\"fill:none;stroke:#000000;stroke-linecap:square;stroke-linejoin:miter;stroke-width:0.8;\"/>\n   </g>\n   <g id=\"patch_5\">\n    <path d=\"M 33.2875 220.379593 \nL 368.0875 220.379593 \n\" style=\"fill:none;stroke:#000000;stroke-linecap:square;stroke-linejoin:miter;stroke-width:0.8;\"/>\n   </g>\n   <g id=\"patch_6\">\n    <path d=\"M 33.2875 10.738471 \nL 368.0875 10.738471 \n\" style=\"fill:none;stroke:#000000;stroke-linecap:square;stroke-linejoin:miter;stroke-width:0.8;\"/>\n   </g>\n  </g>\n </g>\n <defs>\n  <clipPath id=\"pf5bc446a9e\">\n   <rect height=\"209.641121\" width=\"334.8\" x=\"33.2875\" y=\"10.738471\"/>\n  </clipPath>\n </defs>\n</svg>\n",
      "image/png": "[encoded data removed]"
     },
     "metadata": {
      "needs_background": "light"
     }
    }
   ],
   "source": [
    "\n",
    "#plt.imshow(plant_book_mask_image)\n",
    "#plt.show()\n",
    "#print(\"Colors:{}\".format(set(plant_book_mask_image.getdata())))\n",
    "sub_masks = create_sub_masks(dog)\n",
    "for color, sub_mask in sub_masks.items():\n",
    "    print(color)\n",
    "    plt.imshow(sub_mask)\n",
    "    plt.show()\n"
   ]
  },
  {
   "cell_type": "code",
   "execution_count": 26,
   "metadata": {
    "tags": []
   },
   "outputs": [
    {
     "output_type": "error",
     "ename": "SyntaxError",
     "evalue": "invalid syntax (<ipython-input-26-8b1aa1191e99>, line 4)",
     "traceback": [
      "\u001b[0;36m  File \u001b[0;32m\"<ipython-input-26-8b1aa1191e99>\"\u001b[0;36m, line \u001b[0;32m4\u001b[0m\n\u001b[0;31m    category_id = category_ids[1][color])\u001b[0m\n\u001b[0m                                        ^\u001b[0m\n\u001b[0;31mSyntaxError\u001b[0m\u001b[0;31m:\u001b[0m invalid syntax\n"
     ]
    }
   ],
   "source": [
    "for mask_image in mask_images:\n",
    "    sub_masks = create_sub_masks(mask_image)\n",
    "    for color, sub_mask in sub_masks.items():\n",
    "        category_id = category_ids[1][color])\n",
    "        annotation = "
   ]
  },
  {
   "cell_type": "markdown",
   "metadata": {},
   "source": [
    "## Annotation Format Test"
   ]
  },
  {
   "cell_type": "code",
   "execution_count": 44,
   "metadata": {},
   "outputs": [],
   "source": [
    "my_dict = {}\n",
    "info = {\n",
    "      \"description\":\"Test Dataset\",\n",
    "      \"url\":\"\",\n",
    "      \"version\":\"0.1\",\n",
    "      \"year\":2020,\n",
    "      \"contributor\":\"Josmar Suarez\",\n",
    "      \"date_created\":\"2020/07/14\"\n",
    "   }\n",
    "\n",
    "licenses = [{\n",
    "        \"url\": \"\",\n",
    "        \"id\": 0,\n",
    "        \"name\": \"Attribution-NonCommercial-ShareAlike License\"\n",
    "    }]\n",
    "categories = [\n",
    "      {\n",
    "         \"supercategory\":\"person\",\n",
    "         \"id\":1,\n",
    "         \"name\":\"person\"\n",
    "      }\n",
    "   ]\n"
   ]
  },
  {
   "cell_type": "code",
   "execution_count": 65,
   "metadata": {
    "tags": []
   },
   "outputs": [],
   "source": [
    "images=[]\n",
    "annotations = []\n",
    "dir_path = \"../datasets/casia/DatasetB-1/silhouettes/001/bg-01/090/\"\n",
    "img_names = os.listdir(dir_path)\n",
    "img_license = 0\n",
    "img_id=0         \n",
    "        \n",
    "for img_name in img_names:\n",
    "    new_img={}\n",
    "    new_img[\"license\"] = img_license\n",
    "    new_img[\"file_name\"] = img_name\n",
    "    new_img[\"width\"] = 320 #Colocar luego leyendo los valores\n",
    "    new_img[\"height\"] = 240\n",
    "    new_img[\"id\"] = img_id\n",
    "    images.append(new_img)\n",
    "\n",
    "    # sub_masks = create_sub_masks()\n",
    "    # for color, sub_mask in sub_masks.items():\n",
    "    #     plt.imshow(sub_mask)\n",
    "    #     plt.show()\n",
    "    \n",
    "    img_id+=1\n",
    "    \n",
    "\n",
    "\n",
    "\n",
    "# for mask_image in mask_images:\n",
    "#     sub_masks = create_sub_masks(mask_image)\n",
    "#     for color, sub_mask in sub_masks.items():\n",
    "#         category_id = category_ids[image_id][color]\n",
    "#         annotation = create_sub_mask_annotation(np.array(sub_mask), image_id, category_id, annotation_id, is_crowd)\n",
    "#         annotations.append(annotation)\n",
    "#         annotation_id += 1\n",
    "#     image_id += 1\n",
    "\n"
   ]
  },
  {
   "cell_type": "code",
   "execution_count": 66,
   "metadata": {
    "tags": []
   },
   "outputs": [
    {
     "output_type": "stream",
     "name": "stdout",
     "text": "dict_keys(['info', 'licenses', 'images', 'categories'])\n{'info': {'description': 'Test Dataset', 'url': '', 'version': '0.1', 'year': 2020, 'contributor': 'Josmar Suarez', 'date_created': '2020/07/14'}, 'licenses': [{'url': '', 'id': 0, 'name': 'Attribution-NonCommercial-ShareAlike License'}], 'images': [{'license': 0, 'file_name': '001-bg-01-090-070.png', 'width': 320, 'height': 240, 'id': 0}, {'license': 0, 'file_name': '001-bg-01-090-056.png', 'width': 320, 'height': 240, 'id': 1}, {'license': 0, 'file_name': '001-bg-01-090-047.png', 'width': 320, 'height': 240, 'id': 2}, {'license': 0, 'file_name': '001-bg-01-090-042.png', 'width': 320, 'height': 240, 'id': 3}, {'license': 0, 'file_name': '001-bg-01-090-073.png', 'width': 320, 'height': 240, 'id': 4}, {'license': 0, 'file_name': '001-bg-01-090-044.png', 'width': 320, 'height': 240, 'id': 5}, {'license': 0, 'file_name': '001-bg-01-090-076.png', 'width': 320, 'height': 240, 'id': 6}, {'license': 0, 'file_name': '001-bg-01-090-061.png', 'width': 320, 'height': 240, 'id': 7}, {'license': 0, 'file_name': '001-bg-01-090-068.png', 'width': 320, 'height': 240, 'id': 8}, {'license': 0, 'file_name': '001-bg-01-090-080.png', 'width': 320, 'height': 240, 'id': 9}, {'license': 0, 'file_name': '001-bg-01-090-072.png', 'width': 320, 'height': 240, 'id': 10}, {'license': 0, 'file_name': '001-bg-01-090-074.png', 'width': 320, 'height': 240, 'id': 11}, {'license': 0, 'file_name': '001-bg-01-090-093.png', 'width': 320, 'height': 240, 'id': 12}, {'license': 0, 'file_name': '001-bg-01-090-078.png', 'width': 320, 'height': 240, 'id': 13}, {'license': 0, 'file_name': '001-bg-01-090-052.png', 'width': 320, 'height': 240, 'id': 14}, {'license': 0, 'file_name': '001-bg-01-090-089.png', 'width': 320, 'height': 240, 'id': 15}, {'license': 0, 'file_name': '001-bg-01-090-086.png', 'width': 320, 'height': 240, 'id': 16}, {'license': 0, 'file_name': '001-bg-01-090-085.png', 'width': 320, 'height': 240, 'id': 17}, {'license': 0, 'file_name': '001-bg-01-090-087.png', 'width': 320, 'height': 240, 'id': 18}, {'license': 0, 'file_name': '001-bg-01-090-058.png', 'width': 320, 'height': 240, 'id': 19}, {'license': 0, 'file_name': '001-bg-01-090-041.png', 'width': 320, 'height': 240, 'id': 20}, {'license': 0, 'file_name': '001-bg-01-090-079.png', 'width': 320, 'height': 240, 'id': 21}, {'license': 0, 'file_name': '001-bg-01-090-082.png', 'width': 320, 'height': 240, 'id': 22}, {'license': 0, 'file_name': '001-bg-01-090-071.png', 'width': 320, 'height': 240, 'id': 23}, {'license': 0, 'file_name': '001-bg-01-090-092.png', 'width': 320, 'height': 240, 'id': 24}, {'license': 0, 'file_name': '001-bg-01-090-063.png', 'width': 320, 'height': 240, 'id': 25}, {'license': 0, 'file_name': '001-bg-01-090-035.png', 'width': 320, 'height': 240, 'id': 26}, {'license': 0, 'file_name': '001-bg-01-090-091.png', 'width': 320, 'height': 240, 'id': 27}, {'license': 0, 'file_name': '001-bg-01-090-055.png', 'width': 320, 'height': 240, 'id': 28}, {'license': 0, 'file_name': '001-bg-01-090-066.png', 'width': 320, 'height': 240, 'id': 29}, {'license': 0, 'file_name': '001-bg-01-090-045.png', 'width': 320, 'height': 240, 'id': 30}, {'license': 0, 'file_name': '001-bg-01-090-040.png', 'width': 320, 'height': 240, 'id': 31}, {'license': 0, 'file_name': '001-bg-01-090-046.png', 'width': 320, 'height': 240, 'id': 32}, {'license': 0, 'file_name': '001-bg-01-090-049.png', 'width': 320, 'height': 240, 'id': 33}, {'license': 0, 'file_name': '001-bg-01-090-084.png', 'width': 320, 'height': 240, 'id': 34}, {'license': 0, 'file_name': '001-bg-01-090-036.png', 'width': 320, 'height': 240, 'id': 35}, {'license': 0, 'file_name': '001-bg-01-090-081.png', 'width': 320, 'height': 240, 'id': 36}, {'license': 0, 'file_name': '001-bg-01-090-054.png', 'width': 320, 'height': 240, 'id': 37}, {'license': 0, 'file_name': '001-bg-01-090-053.png', 'width': 320, 'height': 240, 'id': 38}, {'license': 0, 'file_name': '001-bg-01-090-043.png', 'width': 320, 'height': 240, 'id': 39}, {'license': 0, 'file_name': '001-bg-01-090-050.png', 'width': 320, 'height': 240, 'id': 40}, {'license': 0, 'file_name': '001-bg-01-090-083.png', 'width': 320, 'height': 240, 'id': 41}, {'license': 0, 'file_name': '001-bg-01-090-062.png', 'width': 320, 'height': 240, 'id': 42}, {'license': 0, 'file_name': '001-bg-01-090-069.png', 'width': 320, 'height': 240, 'id': 43}, {'license': 0, 'file_name': '001-bg-01-090-057.png', 'width': 320, 'height': 240, 'id': 44}, {'license': 0, 'file_name': '001-bg-01-090-039.png', 'width': 320, 'height': 240, 'id': 45}, {'license': 0, 'file_name': '001-bg-01-090-064.png', 'width': 320, 'height': 240, 'id': 46}, {'license': 0, 'file_name': '001-bg-01-090-059.png', 'width': 320, 'height': 240, 'id': 47}, {'license': 0, 'file_name': '001-bg-01-090-037.png', 'width': 320, 'height': 240, 'id': 48}, {'license': 0, 'file_name': '001-bg-01-090-060.png', 'width': 320, 'height': 240, 'id': 49}, {'license': 0, 'file_name': '001-bg-01-090-088.png', 'width': 320, 'height': 240, 'id': 50}, {'license': 0, 'file_name': '001-bg-01-090-038.png', 'width': 320, 'height': 240, 'id': 51}, {'license': 0, 'file_name': '001-bg-01-090-065.png', 'width': 320, 'height': 240, 'id': 52}, {'license': 0, 'file_name': '001-bg-01-090-090.png', 'width': 320, 'height': 240, 'id': 53}, {'license': 0, 'file_name': '001-bg-01-090-075.png', 'width': 320, 'height': 240, 'id': 54}, {'license': 0, 'file_name': '001-bg-01-090-051.png', 'width': 320, 'height': 240, 'id': 55}, {'license': 0, 'file_name': '001-bg-01-090-067.png', 'width': 320, 'height': 240, 'id': 56}, {'license': 0, 'file_name': '001-bg-01-090-077.png', 'width': 320, 'height': 240, 'id': 57}, {'license': 0, 'file_name': '001-bg-01-090-048.png', 'width': 320, 'height': 240, 'id': 58}], 'categories': [{'supercategory': 'person', 'id': 1, 'name': 'person'}]}\n"
    }
   ],
   "source": [
    "my_dict[\"info\"]= info\n",
    "my_dict[\"licenses\"]= licenses\n",
    "my_dict[\"images\"]=images\n",
    "my_dict[\"categories\"]=categories\n",
    "print(my_dict.keys())\n",
    "print(my_dict)"
   ]
  },
  {
   "cell_type": "code",
   "execution_count": 6,
   "metadata": {},
   "outputs": [
    {
     "output_type": "display_data",
     "data": {
      "text/plain": "<Figure size 432x288 with 1 Axes>",
      "image/svg+xml": "<?xml version=\"1.0\" encoding=\"utf-8\" standalone=\"no\"?>\n<!DOCTYPE svg PUBLIC \"-//W3C//DTD SVG 1.1//EN\"\n  \"http://www.w3.org/Graphics/SVG/1.1/DTD/svg11.dtd\">\n<!-- Created with matplotlib (https://matplotlib.org/) -->\n<svg height=\"251.864344pt\" version=\"1.1\" viewBox=\"0 0 330.4075 251.864344\" width=\"330.4075pt\" xmlns=\"http://www.w3.org/2000/svg\" xmlns:xlink=\"http://www.w3.org/1999/xlink\">\n <defs>\n  <style type=\"text/css\">\n*{stroke-linecap:butt;stroke-linejoin:round;}\n  </style>\n </defs>\n <g id=\"figure_1\">\n  <g id=\"patch_1\">\n   <path d=\"M 0 251.864344 \nL 330.4075 251.864344 \nL 330.4075 0 \nL 0 0 \nz\n\" style=\"fill:none;\"/>\n  </g>\n  <g id=\"axes_1\">\n   <g id=\"patch_2\">\n    <path d=\"M 33.2875 227.986219 \nL 323.2075 227.986219 \nL 323.2075 10.546219 \nL 33.2875 10.546219 \nz\n\" style=\"fill:#ffffff;\"/>\n   </g>\n   <g clip-path=\"url(#pb156ebc39c)\">\n    <image height=\"218\" id=\"imageb4e376dbad\" transform=\"scale(1 -1)translate(0 -218)\" width=\"290\" x=\"33.2875\" xlink:href=\"data:image/png;base64,\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\" y=\"-9.986219\"/>\n   </g>\n   <g id=\"matplotlib.axis_1\">\n    <g id=\"xtick_1\">\n     <g id=\"line2d_1\">\n      <defs>\n       <path d=\"M 0 0 \nL 0 3.5 \n\" id=\"m12774b6b5a\" style=\"stroke:#000000;stroke-width:0.8;\"/>\n      </defs>\n      <g>\n       <use style=\"stroke:#000000;stroke-width:0.8;\" x=\"33.7405\" xlink:href=\"#m12774b6b5a\" y=\"227.986219\"/>\n      </g>\n     </g>\n     <g id=\"text_1\">\n      <!-- 0 -->\n      <defs>\n       <path d=\"M 31.78125 66.40625 \nQ 24.171875 66.40625 20.328125 58.90625 \nQ 16.5 51.421875 16.5 36.375 \nQ 16.5 21.390625 20.328125 13.890625 \nQ 24.171875 6.390625 31.78125 6.390625 \nQ 39.453125 6.390625 43.28125 13.890625 \nQ 47.125 21.390625 47.125 36.375 \nQ 47.125 51.421875 43.28125 58.90625 \nQ 39.453125 66.40625 31.78125 66.40625 \nz\nM 31.78125 74.21875 \nQ 44.046875 74.21875 50.515625 64.515625 \nQ 56.984375 54.828125 56.984375 36.375 \nQ 56.984375 17.96875 50.515625 8.265625 \nQ 44.046875 -1.421875 31.78125 -1.421875 \nQ 19.53125 -1.421875 13.0625 8.265625 \nQ 6.59375 17.96875 6.59375 36.375 \nQ 6.59375 54.828125 13.0625 64.515625 \nQ 19.53125 74.21875 31.78125 74.21875 \nz\n\" id=\"DejaVuSans-48\"/>\n      </defs>\n      <g transform=\"translate(30.55925 242.584656)scale(0.1 -0.1)\">\n       <use xlink:href=\"#DejaVuSans-48\"/>\n      </g>\n     </g>\n    </g>\n    <g id=\"xtick_2\">\n     <g id=\"line2d_2\">\n      <g>\n       <use style=\"stroke:#000000;stroke-width:0.8;\" x=\"79.0405\" xlink:href=\"#m12774b6b5a\" y=\"227.986219\"/>\n      </g>\n     </g>\n     <g id=\"text_2\">\n      <!-- 50 -->\n      <defs>\n       <path d=\"M 10.796875 72.90625 \nL 49.515625 72.90625 \nL 49.515625 64.59375 \nL 19.828125 64.59375 \nL 19.828125 46.734375 \nQ 21.96875 47.46875 24.109375 47.828125 \nQ 26.265625 48.1875 28.421875 48.1875 \nQ 40.625 48.1875 47.75 41.5 \nQ 54.890625 34.8125 54.890625 23.390625 \nQ 54.890625 11.625 47.5625 5.09375 \nQ 40.234375 -1.421875 26.90625 -1.421875 \nQ 22.3125 -1.421875 17.546875 -0.640625 \nQ 12.796875 0.140625 7.71875 1.703125 \nL 7.71875 11.625 \nQ 12.109375 9.234375 16.796875 8.0625 \nQ 21.484375 6.890625 26.703125 6.890625 \nQ 35.15625 6.890625 40.078125 11.328125 \nQ 45.015625 15.765625 45.015625 23.390625 \nQ 45.015625 31 40.078125 35.4375 \nQ 35.15625 39.890625 26.703125 39.890625 \nQ 22.75 39.890625 18.8125 39.015625 \nQ 14.890625 38.140625 10.796875 36.28125 \nz\n\" id=\"DejaVuSans-53\"/>\n      </defs>\n      <g transform=\"translate(72.678 242.584656)scale(0.1 -0.1)\">\n       <use xlink:href=\"#DejaVuSans-53\"/>\n       <use x=\"63.623047\" xlink:href=\"#DejaVuSans-48\"/>\n      </g>\n     </g>\n    </g>\n    <g id=\"xtick_3\">\n     <g id=\"line2d_3\">\n      <g>\n       <use style=\"stroke:#000000;stroke-width:0.8;\" x=\"124.3405\" xlink:href=\"#m12774b6b5a\" y=\"227.986219\"/>\n      </g>\n     </g>\n     <g id=\"text_3\">\n      <!-- 100 -->\n      <defs>\n       <path d=\"M 12.40625 8.296875 \nL 28.515625 8.296875 \nL 28.515625 63.921875 \nL 10.984375 60.40625 \nL 10.984375 69.390625 \nL 28.421875 72.90625 \nL 38.28125 72.90625 \nL 38.28125 8.296875 \nL 54.390625 8.296875 \nL 54.390625 0 \nL 12.40625 0 \nz\n\" id=\"DejaVuSans-49\"/>\n      </defs>\n      <g transform=\"translate(114.79675 242.584656)scale(0.1 -0.1)\">\n       <use xlink:href=\"#DejaVuSans-49\"/>\n       <use x=\"63.623047\" xlink:href=\"#DejaVuSans-48\"/>\n       <use x=\"127.246094\" xlink:href=\"#DejaVuSans-48\"/>\n      </g>\n     </g>\n    </g>\n    <g id=\"xtick_4\">\n     <g id=\"line2d_4\">\n      <g>\n       <use style=\"stroke:#000000;stroke-width:0.8;\" x=\"169.6405\" xlink:href=\"#m12774b6b5a\" y=\"227.986219\"/>\n      </g>\n     </g>\n     <g id=\"text_4\">\n      <!-- 150 -->\n      <g transform=\"translate(160.09675 242.584656)scale(0.1 -0.1)\">\n       <use xlink:href=\"#DejaVuSans-49\"/>\n       <use x=\"63.623047\" xlink:href=\"#DejaVuSans-53\"/>\n       <use x=\"127.246094\" xlink:href=\"#DejaVuSans-48\"/>\n      </g>\n     </g>\n    </g>\n    <g id=\"xtick_5\">\n     <g id=\"line2d_5\">\n      <g>\n       <use style=\"stroke:#000000;stroke-width:0.8;\" x=\"214.9405\" xlink:href=\"#m12774b6b5a\" y=\"227.986219\"/>\n      </g>\n     </g>\n     <g id=\"text_5\">\n      <!-- 200 -->\n      <defs>\n       <path d=\"M 19.1875 8.296875 \nL 53.609375 8.296875 \nL 53.609375 0 \nL 7.328125 0 \nL 7.328125 8.296875 \nQ 12.9375 14.109375 22.625 23.890625 \nQ 32.328125 33.6875 34.8125 36.53125 \nQ 39.546875 41.84375 41.421875 45.53125 \nQ 43.3125 49.21875 43.3125 52.78125 \nQ 43.3125 58.59375 39.234375 62.25 \nQ 35.15625 65.921875 28.609375 65.921875 \nQ 23.96875 65.921875 18.8125 64.3125 \nQ 13.671875 62.703125 7.8125 59.421875 \nL 7.8125 69.390625 \nQ 13.765625 71.78125 18.9375 73 \nQ 24.125 74.21875 28.421875 74.21875 \nQ 39.75 74.21875 46.484375 68.546875 \nQ 53.21875 62.890625 53.21875 53.421875 \nQ 53.21875 48.921875 51.53125 44.890625 \nQ 49.859375 40.875 45.40625 35.40625 \nQ 44.1875 33.984375 37.640625 27.21875 \nQ 31.109375 20.453125 19.1875 8.296875 \nz\n\" id=\"DejaVuSans-50\"/>\n      </defs>\n      <g transform=\"translate(205.39675 242.584656)scale(0.1 -0.1)\">\n       <use xlink:href=\"#DejaVuSans-50\"/>\n       <use x=\"63.623047\" xlink:href=\"#DejaVuSans-48\"/>\n       <use x=\"127.246094\" xlink:href=\"#DejaVuSans-48\"/>\n      </g>\n     </g>\n    </g>\n    <g id=\"xtick_6\">\n     <g id=\"line2d_6\">\n      <g>\n       <use style=\"stroke:#000000;stroke-width:0.8;\" x=\"260.2405\" xlink:href=\"#m12774b6b5a\" y=\"227.986219\"/>\n      </g>\n     </g>\n     <g id=\"text_6\">\n      <!-- 250 -->\n      <g transform=\"translate(250.69675 242.584656)scale(0.1 -0.1)\">\n       <use xlink:href=\"#DejaVuSans-50\"/>\n       <use x=\"63.623047\" xlink:href=\"#DejaVuSans-53\"/>\n       <use x=\"127.246094\" xlink:href=\"#DejaVuSans-48\"/>\n      </g>\n     </g>\n    </g>\n    <g id=\"xtick_7\">\n     <g id=\"line2d_7\">\n      <g>\n       <use style=\"stroke:#000000;stroke-width:0.8;\" x=\"305.5405\" xlink:href=\"#m12774b6b5a\" y=\"227.986219\"/>\n      </g>\n     </g>\n     <g id=\"text_7\">\n      <!-- 300 -->\n      <defs>\n       <path d=\"M 40.578125 39.3125 \nQ 47.65625 37.796875 51.625 33 \nQ 55.609375 28.21875 55.609375 21.1875 \nQ 55.609375 10.40625 48.1875 4.484375 \nQ 40.765625 -1.421875 27.09375 -1.421875 \nQ 22.515625 -1.421875 17.65625 -0.515625 \nQ 12.796875 0.390625 7.625 2.203125 \nL 7.625 11.71875 \nQ 11.71875 9.328125 16.59375 8.109375 \nQ 21.484375 6.890625 26.8125 6.890625 \nQ 36.078125 6.890625 40.9375 10.546875 \nQ 45.796875 14.203125 45.796875 21.1875 \nQ 45.796875 27.640625 41.28125 31.265625 \nQ 36.765625 34.90625 28.71875 34.90625 \nL 20.21875 34.90625 \nL 20.21875 43.015625 \nL 29.109375 43.015625 \nQ 36.375 43.015625 40.234375 45.921875 \nQ 44.09375 48.828125 44.09375 54.296875 \nQ 44.09375 59.90625 40.109375 62.90625 \nQ 36.140625 65.921875 28.71875 65.921875 \nQ 24.65625 65.921875 20.015625 65.03125 \nQ 15.375 64.15625 9.8125 62.3125 \nL 9.8125 71.09375 \nQ 15.4375 72.65625 20.34375 73.4375 \nQ 25.25 74.21875 29.59375 74.21875 \nQ 40.828125 74.21875 47.359375 69.109375 \nQ 53.90625 64.015625 53.90625 55.328125 \nQ 53.90625 49.265625 50.4375 45.09375 \nQ 46.96875 40.921875 40.578125 39.3125 \nz\n\" id=\"DejaVuSans-51\"/>\n      </defs>\n      <g transform=\"translate(295.99675 242.584656)scale(0.1 -0.1)\">\n       <use xlink:href=\"#DejaVuSans-51\"/>\n       <use x=\"63.623047\" xlink:href=\"#DejaVuSans-48\"/>\n       <use x=\"127.246094\" xlink:href=\"#DejaVuSans-48\"/>\n      </g>\n     </g>\n    </g>\n   </g>\n   <g id=\"matplotlib.axis_2\">\n    <g id=\"ytick_1\">\n     <g id=\"line2d_8\">\n      <defs>\n       <path d=\"M 0 0 \nL -3.5 0 \n\" id=\"md6f8fd51df\" style=\"stroke:#000000;stroke-width:0.8;\"/>\n      </defs>\n      <g>\n       <use style=\"stroke:#000000;stroke-width:0.8;\" x=\"33.2875\" xlink:href=\"#md6f8fd51df\" y=\"10.999219\"/>\n      </g>\n     </g>\n     <g id=\"text_8\">\n      <!-- 0 -->\n      <g transform=\"translate(19.925 14.798437)scale(0.1 -0.1)\">\n       <use xlink:href=\"#DejaVuSans-48\"/>\n      </g>\n     </g>\n    </g>\n    <g id=\"ytick_2\">\n     <g id=\"line2d_9\">\n      <g>\n       <use style=\"stroke:#000000;stroke-width:0.8;\" x=\"33.2875\" xlink:href=\"#md6f8fd51df\" y=\"56.299219\"/>\n      </g>\n     </g>\n     <g id=\"text_9\">\n      <!-- 50 -->\n      <g transform=\"translate(13.5625 60.098437)scale(0.1 -0.1)\">\n       <use xlink:href=\"#DejaVuSans-53\"/>\n       <use x=\"63.623047\" xlink:href=\"#DejaVuSans-48\"/>\n      </g>\n     </g>\n    </g>\n    <g id=\"ytick_3\">\n     <g id=\"line2d_10\">\n      <g>\n       <use style=\"stroke:#000000;stroke-width:0.8;\" x=\"33.2875\" xlink:href=\"#md6f8fd51df\" y=\"101.599219\"/>\n      </g>\n     </g>\n     <g id=\"text_10\">\n      <!-- 100 -->\n      <g transform=\"translate(7.2 105.398437)scale(0.1 -0.1)\">\n       <use xlink:href=\"#DejaVuSans-49\"/>\n       <use x=\"63.623047\" xlink:href=\"#DejaVuSans-48\"/>\n       <use x=\"127.246094\" xlink:href=\"#DejaVuSans-48\"/>\n      </g>\n     </g>\n    </g>\n    <g id=\"ytick_4\">\n     <g id=\"line2d_11\">\n      <g>\n       <use style=\"stroke:#000000;stroke-width:0.8;\" x=\"33.2875\" xlink:href=\"#md6f8fd51df\" y=\"146.899219\"/>\n      </g>\n     </g>\n     <g id=\"text_11\">\n      <!-- 150 -->\n      <g transform=\"translate(7.2 150.698437)scale(0.1 -0.1)\">\n       <use xlink:href=\"#DejaVuSans-49\"/>\n       <use x=\"63.623047\" xlink:href=\"#DejaVuSans-53\"/>\n       <use x=\"127.246094\" xlink:href=\"#DejaVuSans-48\"/>\n      </g>\n     </g>\n    </g>\n    <g id=\"ytick_5\">\n     <g id=\"line2d_12\">\n      <g>\n       <use style=\"stroke:#000000;stroke-width:0.8;\" x=\"33.2875\" xlink:href=\"#md6f8fd51df\" y=\"192.199219\"/>\n      </g>\n     </g>\n     <g id=\"text_12\">\n      <!-- 200 -->\n      <g transform=\"translate(7.2 195.998437)scale(0.1 -0.1)\">\n       <use xlink:href=\"#DejaVuSans-50\"/>\n       <use x=\"63.623047\" xlink:href=\"#DejaVuSans-48\"/>\n       <use x=\"127.246094\" xlink:href=\"#DejaVuSans-48\"/>\n      </g>\n     </g>\n    </g>\n   </g>\n   <g id=\"patch_3\">\n    <path d=\"M 33.2875 227.986219 \nL 33.2875 10.546219 \n\" style=\"fill:none;stroke:#000000;stroke-linecap:square;stroke-linejoin:miter;stroke-width:0.8;\"/>\n   </g>\n   <g id=\"patch_4\">\n    <path d=\"M 323.2075 227.986219 \nL 323.2075 10.546219 \n\" style=\"fill:none;stroke:#000000;stroke-linecap:square;stroke-linejoin:miter;stroke-width:0.8;\"/>\n   </g>\n   <g id=\"patch_5\">\n    <path d=\"M 33.2875 227.986219 \nL 323.2075 227.986219 \n\" style=\"fill:none;stroke:#000000;stroke-linecap:square;stroke-linejoin:miter;stroke-width:0.8;\"/>\n   </g>\n   <g id=\"patch_6\">\n    <path d=\"M 33.2875 10.546219 \nL 323.2075 10.546219 \n\" style=\"fill:none;stroke:#000000;stroke-linecap:square;stroke-linejoin:miter;stroke-width:0.8;\"/>\n   </g>\n  </g>\n </g>\n <defs>\n  <clipPath id=\"pb156ebc39c\">\n   <rect height=\"217.44\" width=\"289.92\" x=\"33.2875\" y=\"10.546219\"/>\n  </clipPath>\n </defs>\n</svg>\n",
      "image/png": "[encoded data removed]"
     },
     "metadata": {
      "needs_background": "light"
     }
    }
   ],
   "source": [
    "import cv2\n",
    "dir_path = \"../datasets/casia/DatasetB-1/silhouettes/001/bg-01/090/\"\n",
    "my_img = cv2.imread(dir_path + '001-bg-01-090-070.png')\n",
    "plt.imshow(my_img)\n",
    "plt.show()"
   ]
  },
  {
   "cell_type": "code",
   "execution_count": 22,
   "metadata": {
    "tags": []
   },
   "outputs": [
    {
     "output_type": "stream",
     "name": "stdout",
     "text": "False\n"
    }
   ],
   "source": [
    "\n",
    "sub_masks = {}\n",
    "width, height, _ = my_img.shape\n",
    "color = str(my_img[100][125][:3])\n",
    "if(color != \"[0 0 0]\"):\n",
    "    \n",
    "# for x in range(width):\n",
    "#     for y in range(height):\n",
    "#         # Get the RGB values of the pixel\n",
    "#         pixel = mask_image.getpixel((x,y))[:3]\n",
    "#         # If the pixel is not black...\n",
    "#         if pixel != (0, 0, 0):\n",
    "#             # Check to see if we've created a sub-mask...\n",
    "#             pixel_str = str(pixel)\n",
    "#             sub_mask = sub_masks.get(pixel_str)\n",
    "#             if sub_mask is None:\n",
    "#                # Create a sub-mask (one bit per pixel) and add to the dictionary\n",
    "#                 # Note: we add 1 pixel of padding in each direction\n",
    "#                 # because the contours module doesn't handle cases\n",
    "#                 # where pixels bleed to the edge of the image\n",
    "#                 sub_masks[pixel_str] = Image.new('1', (width+2, height+2))\n",
    "#             # Set the pixel value to 1 (default is 0), accounting for padding\n",
    "#             sub_masks[pixel_str].putpixel((x+1, y+1), 1)\n",
    "\n"
   ]
  },
  {
   "cell_type": "code",
   "execution_count": null,
   "metadata": {},
   "outputs": [],
   "source": [
    "\n",
    "m\n",
    "width, height = mask_image.size\n",
    "# Initialize a dictionary of sub-masks indexed by RGB colors\n",
    "sub_masks = {}\n",
    "for x in range(width):\n",
    "    for y in range(height):\n",
    "        # Get the RGB values of the pixel\n",
    "        pixel = mask_image.getpixel((x,y))[:3]\n",
    "        # If the pixel is not black...\n",
    "        if pixel != (0, 0, 0):\n",
    "            # Check to see if we've created a sub-mask...\n",
    "            pixel_str = str(pixel)\n",
    "            sub_mask = sub_masks.get(pixel_str)\n",
    "            if sub_mask is None:\n",
    "               # Create a sub-mask (one bit per pixel) and add to the dictionary\n",
    "                # Note: we add 1 pixel of padding in each direction\n",
    "                # because the contours module doesn't handle cases\n",
    "                # where pixels bleed to the edge of the image\n",
    "                sub_masks[pixel_str] = Image.new('1', (width+2, height+2))\n",
    "            # Set the pixel value to 1 (default is 0), accounting for padding\n",
    "            sub_masks[pixel_str].putpixel((x+1, y+1), 1)\n",
    "return sub_masks"
   ]
  }
 ],
 "metadata": {
  "language_info": {
   "codemirror_mode": {
    "name": "ipython",
    "version": 3
   },
   "file_extension": ".py",
   "mimetype": "text/x-python",
   "name": "python",
   "nbconvert_exporter": "python",
   "pygments_lexer": "ipython3",
   "version": "3.6.10-final"
  },
  "orig_nbformat": 2,
  "kernelspec": {
   "name": "python361064bitd2condafcc7f242a0d248929c8f8110917217d8",
   "display_name": "Python 3.6.10 64-bit ('d2': conda)"
  }
 },
 "nbformat": 4,
 "nbformat_minor": 2
}