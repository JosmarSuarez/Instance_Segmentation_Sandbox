{
 "cells": [
  {
   "cell_type": "markdown",
   "metadata": {},
   "source": [
    "# Bitmask to polygonal annotation\n",
    "This notebook contains functions that allow us to transform bitmasks to polygonal annotations in COCO format\n",
    "## Main code"
   ]
  },
  {
   "cell_type": "code",
   "execution_count": 1,
   "metadata": {},
   "outputs": [],
   "source": [
    "from PIL import Image # (pip install Pillow)\n",
    "import matplotlib.pyplot as plt\n",
    "import numpy as np                                 # (pip install numpy)\n",
    "from skimage import measure                        # (pip install scikit-image)\n",
    "from shapely.geometry import Polygon, MultiPolygon # (pip install Shapely)\n",
    "import cv2\n",
    "import os"
   ]
  },
  {
   "cell_type": "code",
   "execution_count": 2,
   "metadata": {
    "tags": []
   },
   "outputs": [],
   "source": [
    "\n",
    "def create_submask(my_img):\n",
    "    sub_masks = {}\n",
    "    width, height, _ = my_img.shape\n",
    "    black = np.ones(3)*255\n",
    "\n",
    "    for x in range(width):\n",
    "        for y in range(height):\n",
    "            \n",
    "            color = my_img[x][y][:3]\n",
    "            if((black==color).all()):\n",
    "                pixel_str = str(color)\n",
    "                sub_mask = sub_masks.get(pixel_str)\n",
    "                if sub_mask is None:\n",
    "                # Create a sub-mask (one bit per pixel) and add to the dictionary\n",
    "                    # Note: we add 1 pixel of padding in each direction\n",
    "                    # because the contours module doesn't handle cases\n",
    "                    # where pixels bleed to the edge of the image\n",
    "                    sub_masks[pixel_str] = np.zeros((width+2, height+2)) \n",
    "                # Set the pixel value to 1 (default is 0), accounting for padding\n",
    "                sub_masks[pixel_str][x+1][y+1]=255\n",
    "    return sub_masks\n",
    "\n"
   ]
  },
  {
   "cell_type": "code",
   "execution_count": 3,
   "metadata": {},
   "outputs": [],
   "source": [
    "def create_submask_annotation(sub_mask, image_id, category_id, annotation_id, is_crowd):\n",
    "    # Find contours (boundary lines) around each sub-mask\n",
    "    # Note: there could be multiple contours if the object\n",
    "    # is partially occluded. (E.g. an elephant behind a tree)\n",
    "    contours = measure.find_contours(sub_mask, 0.5, positive_orientation='low')\n",
    "\n",
    "    segmentations = []\n",
    "    polygons = []\n",
    "    for contour in contours:\n",
    "        # Flip from (row, col) representation to (x, y)\n",
    "        # and subtract the padding pixel\n",
    "        for i in range(len(contour)):\n",
    "            row, col = contour[i]\n",
    "            contour[i] = (col - 1, row - 1)\n",
    "\n",
    "        # Make a polygon and simplify it\n",
    "        poly = Polygon(contour)\n",
    "        poly = poly.simplify(1.0, preserve_topology=False)\n",
    "        polygons.append(poly)\n",
    "        segmentation = np.array(poly.exterior.coords).ravel().tolist()\n",
    "        segmentations.append(segmentation)\n",
    "\n",
    "    # Combine the polygons to calculate the bounding box and area\n",
    "    multi_poly = MultiPolygon(polygons)\n",
    "    x, y, max_x, max_y = multi_poly.bounds\n",
    "    width = max_x - x\n",
    "    height = max_y - y\n",
    "    bbox = (x, y, width, height)\n",
    "    area = multi_poly.area\n",
    "\n",
    "    annotation = {\n",
    "        'segmentation': segmentations,\n",
    "        'iscrowd': is_crowd,\n",
    "        'image_id': image_id,\n",
    "        'category_id': category_id,\n",
    "        'id': annotation_id,\n",
    "        'bbox': bbox,\n",
    "        'area': area\n",
    "    }\n",
    "\n",
    "    return annotation"
   ]
  },
  {
   "cell_type": "code",
   "execution_count": 5,
   "metadata": {
    "tags": []
   },
   "outputs": [],
   "source": [
    "def images_to_annotations(dir_path):\n",
    "    #Initializing images and annotations lists\n",
    "    images=[]\n",
    "    annotations = []\n",
    "    img_names = os.listdir(dir_path)\n",
    "    img_license = 0\n",
    "    img_id=0\n",
    "    ann_id=0\n",
    "    is_crowd=0\n",
    "            \n",
    "    for img_name in img_names:\n",
    "        img = cv2.imread(dir_path + img_name)\n",
    "        img_size = img.shape\n",
    "        submasks = create_submask(img)\n",
    "        for color, submask in submasks.items():\n",
    "            img_cat = color2cat[color]\n",
    "            annotation = create_submask_annotation(submask , img_id, img_cat, ann_id, is_crowd)\n",
    "            annotations.append(annotation)\n",
    "            ann_id+=1\n",
    "            \n",
    "\n",
    "        new_img={}\n",
    "        new_img[\"license\"] = img_license\n",
    "        new_img[\"file_name\"] = img_name.split(\".\")[0]+\".jpg\" #Changed to match the video images\n",
    "        new_img[\"width\"] = img_size[1]\n",
    "        new_img[\"height\"] = img_size[0]\n",
    "        new_img[\"id\"] = img_id\n",
    "        images.append(new_img)\n",
    "\n",
    "        # sub_masks = create_sub_masks()\n",
    "        # for color, sub_mask in sub_masks.items():\n",
    "        #     plt.imshow(sub_mask)\n",
    "        #     plt.show()\n",
    "        \n",
    "        img_id+=1\n",
    "\n",
    "    return annotations,images\n",
    "\n",
    "\n",
    "\n"
   ]
  },
  {
   "cell_type": "code",
   "execution_count": 6,
   "metadata": {},
   "outputs": [],
   "source": [
    "my_dict = {}\n",
    "color2cat={\"[255 255 255]\": 1}\n",
    "info = {\n",
    "      \"description\":\"Test Dataset\",\n",
    "      \"url\":\"\",\n",
    "      \"version\":\"0.1\",\n",
    "      \"year\":2020,\n",
    "      \"contributor\":\"Josmar Suarez\",\n",
    "      \"date_created\":\"2020/07/14\"\n",
    "   }\n",
    "\n",
    "licenses = [{\n",
    "        \"url\": \"\",\n",
    "        \"id\": 0,\n",
    "        \"name\": \"Attribution-NonCommercial-ShareAlike License\"\n",
    "    }]\n",
    "categories = [\n",
    "      {\n",
    "         \"supercategory\":\"person\",\n",
    "         \"id\":1,\n",
    "         \"name\":\"person\"\n",
    "      }\n",
    "   ]"
   ]
  },
  {
   "cell_type": "code",
   "execution_count": 7,
   "metadata": {
    "tags": []
   },
   "outputs": [
    {
     "output_type": "stream",
     "name": "stdout",
     "text": "dict_keys(['info', 'licenses', 'images', 'categories', 'annotations'])\n"
    }
   ],
   "source": [
    "dir_path = \"../datasets/casia/DatasetB-1/silhouettes/001/bg-01/090/\"\n",
    "anns,imgs = images_to_annotations(dir_path)\n",
    "\n",
    "my_dict[\"info\"]= info\n",
    "my_dict[\"licenses\"]= licenses\n",
    "my_dict[\"images\"]=imgs\n",
    "my_dict[\"categories\"]=categories\n",
    "my_dict[\"annotations\"]=anns\n",
    "print(my_dict.keys())"
   ]
  },
  {
   "cell_type": "code",
   "execution_count": 8,
   "metadata": {},
   "outputs": [],
   "source": [
    "import json\n",
    "\n",
    "with open('casia.json', 'w') as fp:\n",
    "    json.dump(my_dict, fp)"
   ]
  },
  {
   "cell_type": "code",
   "execution_count": null,
   "metadata": {},
   "outputs": [],
   "source": []
  }
 ],
 "metadata": {
  "language_info": {
   "codemirror_mode": {
    "name": "ipython",
    "version": 3
   },
   "file_extension": ".py",
   "mimetype": "text/x-python",
   "name": "python",
   "nbconvert_exporter": "python",
   "pygments_lexer": "ipython3",
   "version": "3.6.10-final"
  },
  "orig_nbformat": 2,
  "kernelspec": {
   "name": "python361064bitd2condafcc7f242a0d248929c8f8110917217d8",
   "display_name": "Python 3.6.10 64-bit ('d2': conda)"
  }
 },
 "nbformat": 4,
 "nbformat_minor": 2
}