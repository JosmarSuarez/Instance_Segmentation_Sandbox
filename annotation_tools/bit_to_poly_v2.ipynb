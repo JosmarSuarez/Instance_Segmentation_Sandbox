{
 "cells": [
  {
   "cell_type": "code",
   "execution_count": null,
   "metadata": {},
   "outputs": [],
   "source": [
    "import os"
   ]
  },
  {
   "cell_type": "code",
   "execution_count": 1,
   "metadata": {},
   "outputs": [],
   "source": [
    "my_dict = {}\n",
    "info = {\n",
    "      \"description\":\"Test Dataset\",\n",
    "      \"url\":\"\",\n",
    "      \"version\":\"0.1\",\n",
    "      \"year\":2020,\n",
    "      \"contributor\":\"Josmar Suarez\",\n",
    "      \"date_created\":\"2020/07/14\"\n",
    "   }\n",
    "\n",
    "licenses = [{\n",
    "        \"url\": \"\",\n",
    "        \"id\": 0,\n",
    "        \"name\": \"Attribution-NonCommercial-ShareAlike License\"\n",
    "    }]\n",
    "categories = [\n",
    "      {\n",
    "         \"supercategory\":\"person\",\n",
    "         \"id\":1,\n",
    "         \"name\":\"person\"\n",
    "      }\n",
    "   ]"
   ]
  },
  {
   "cell_type": "code",
   "execution_count": 2,
   "metadata": {},
   "outputs": [],
   "source": [
    "images=[]\n",
    "annotations = []\n",
    "dir_path = \"../datasets/casia/DatasetB-1/silhouettes/001/bg-01/090/\"\n",
    "img_names = os.listdir(dir_path)\n",
    "img_license = 0\n",
    "img_id=0         \n",
    "        \n",
    "for img_name in img_names:\n",
    "    new_img={}\n",
    "    new_img[\"license\"] = img_license\n",
    "    new_img[\"file_name\"] = img_name\n",
    "    new_img[\"width\"] = 320 #Colocar luego leyendo los valores\n",
    "    new_img[\"height\"] = 240\n",
    "    new_img[\"id\"] = img_id\n",
    "    images.append(new_img)\n",
    "\n",
    "    # sub_masks = create_sub_masks()\n",
    "    # for color, sub_mask in sub_masks.items():\n",
    "    #     plt.imshow(sub_mask)\n",
    "    #     plt.show()\n",
    "    \n",
    "    img_id+=1"
   ]
  },
  {
   "cell_type": "code",
   "execution_count": 3,
   "metadata": {
    "tags": []
   },
   "outputs": [
    {
     "output_type": "stream",
     "name": "stdout",
     "text": "dict_keys(['info', 'licenses', 'images', 'categories'])\n{'info': {'description': 'Test Dataset', 'url': '', 'version': '0.1', 'year': 2020, 'contributor': 'Josmar Suarez', 'date_created': '2020/07/14'}, 'licenses': [{'url': '', 'id': 0, 'name': 'Attribution-NonCommercial-ShareAlike License'}], 'images': [{'license': 0, 'file_name': '001-bg-01-090-070.png', 'width': 320, 'height': 240, 'id': 0}, {'license': 0, 'file_name': '001-bg-01-090-056.png', 'width': 320, 'height': 240, 'id': 1}, {'license': 0, 'file_name': '001-bg-01-090-047.png', 'width': 320, 'height': 240, 'id': 2}, {'license': 0, 'file_name': '001-bg-01-090-042.png', 'width': 320, 'height': 240, 'id': 3}, {'license': 0, 'file_name': '001-bg-01-090-073.png', 'width': 320, 'height': 240, 'id': 4}, {'license': 0, 'file_name': '001-bg-01-090-044.png', 'width': 320, 'height': 240, 'id': 5}, {'license': 0, 'file_name': '001-bg-01-090-076.png', 'width': 320, 'height': 240, 'id': 6}, {'license': 0, 'file_name': '001-bg-01-090-061.png', 'width': 320, 'height': 240, 'id': 7}, {'license': 0, 'file_name': '001-bg-01-090-068.png', 'width': 320, 'height': 240, 'id': 8}, {'license': 0, 'file_name': '001-bg-01-090-080.png', 'width': 320, 'height': 240, 'id': 9}, {'license': 0, 'file_name': '001-bg-01-090-072.png', 'width': 320, 'height': 240, 'id': 10}, {'license': 0, 'file_name': '001-bg-01-090-074.png', 'width': 320, 'height': 240, 'id': 11}, {'license': 0, 'file_name': '001-bg-01-090-093.png', 'width': 320, 'height': 240, 'id': 12}, {'license': 0, 'file_name': '001-bg-01-090-078.png', 'width': 320, 'height': 240, 'id': 13}, {'license': 0, 'file_name': '001-bg-01-090-052.png', 'width': 320, 'height': 240, 'id': 14}, {'license': 0, 'file_name': '001-bg-01-090-089.png', 'width': 320, 'height': 240, 'id': 15}, {'license': 0, 'file_name': '001-bg-01-090-086.png', 'width': 320, 'height': 240, 'id': 16}, {'license': 0, 'file_name': '001-bg-01-090-085.png', 'width': 320, 'height': 240, 'id': 17}, {'license': 0, 'file_name': '001-bg-01-090-087.png', 'width': 320, 'height': 240, 'id': 18}, {'license': 0, 'file_name': '001-bg-01-090-058.png', 'width': 320, 'height': 240, 'id': 19}, {'license': 0, 'file_name': '001-bg-01-090-041.png', 'width': 320, 'height': 240, 'id': 20}, {'license': 0, 'file_name': '001-bg-01-090-079.png', 'width': 320, 'height': 240, 'id': 21}, {'license': 0, 'file_name': '001-bg-01-090-082.png', 'width': 320, 'height': 240, 'id': 22}, {'license': 0, 'file_name': '001-bg-01-090-071.png', 'width': 320, 'height': 240, 'id': 23}, {'license': 0, 'file_name': '001-bg-01-090-092.png', 'width': 320, 'height': 240, 'id': 24}, {'license': 0, 'file_name': '001-bg-01-090-063.png', 'width': 320, 'height': 240, 'id': 25}, {'license': 0, 'file_name': '001-bg-01-090-035.png', 'width': 320, 'height': 240, 'id': 26}, {'license': 0, 'file_name': '001-bg-01-090-091.png', 'width': 320, 'height': 240, 'id': 27}, {'license': 0, 'file_name': '001-bg-01-090-055.png', 'width': 320, 'height': 240, 'id': 28}, {'license': 0, 'file_name': '001-bg-01-090-066.png', 'width': 320, 'height': 240, 'id': 29}, {'license': 0, 'file_name': '001-bg-01-090-045.png', 'width': 320, 'height': 240, 'id': 30}, {'license': 0, 'file_name': '001-bg-01-090-040.png', 'width': 320, 'height': 240, 'id': 31}, {'license': 0, 'file_name': '001-bg-01-090-046.png', 'width': 320, 'height': 240, 'id': 32}, {'license': 0, 'file_name': '001-bg-01-090-049.png', 'width': 320, 'height': 240, 'id': 33}, {'license': 0, 'file_name': '001-bg-01-090-084.png', 'width': 320, 'height': 240, 'id': 34}, {'license': 0, 'file_name': '001-bg-01-090-036.png', 'width': 320, 'height': 240, 'id': 35}, {'license': 0, 'file_name': '001-bg-01-090-081.png', 'width': 320, 'height': 240, 'id': 36}, {'license': 0, 'file_name': '001-bg-01-090-054.png', 'width': 320, 'height': 240, 'id': 37}, {'license': 0, 'file_name': '001-bg-01-090-053.png', 'width': 320, 'height': 240, 'id': 38}, {'license': 0, 'file_name': '001-bg-01-090-043.png', 'width': 320, 'height': 240, 'id': 39}, {'license': 0, 'file_name': '001-bg-01-090-050.png', 'width': 320, 'height': 240, 'id': 40}, {'license': 0, 'file_name': '001-bg-01-090-083.png', 'width': 320, 'height': 240, 'id': 41}, {'license': 0, 'file_name': '001-bg-01-090-062.png', 'width': 320, 'height': 240, 'id': 42}, {'license': 0, 'file_name': '001-bg-01-090-069.png', 'width': 320, 'height': 240, 'id': 43}, {'license': 0, 'file_name': '001-bg-01-090-057.png', 'width': 320, 'height': 240, 'id': 44}, {'license': 0, 'file_name': '001-bg-01-090-039.png', 'width': 320, 'height': 240, 'id': 45}, {'license': 0, 'file_name': '001-bg-01-090-064.png', 'width': 320, 'height': 240, 'id': 46}, {'license': 0, 'file_name': '001-bg-01-090-059.png', 'width': 320, 'height': 240, 'id': 47}, {'license': 0, 'file_name': '001-bg-01-090-037.png', 'width': 320, 'height': 240, 'id': 48}, {'license': 0, 'file_name': '001-bg-01-090-060.png', 'width': 320, 'height': 240, 'id': 49}, {'license': 0, 'file_name': '001-bg-01-090-088.png', 'width': 320, 'height': 240, 'id': 50}, {'license': 0, 'file_name': '001-bg-01-090-038.png', 'width': 320, 'height': 240, 'id': 51}, {'license': 0, 'file_name': '001-bg-01-090-065.png', 'width': 320, 'height': 240, 'id': 52}, {'license': 0, 'file_name': '001-bg-01-090-090.png', 'width': 320, 'height': 240, 'id': 53}, {'license': 0, 'file_name': '001-bg-01-090-075.png', 'width': 320, 'height': 240, 'id': 54}, {'license': 0, 'file_name': '001-bg-01-090-051.png', 'width': 320, 'height': 240, 'id': 55}, {'license': 0, 'file_name': '001-bg-01-090-067.png', 'width': 320, 'height': 240, 'id': 56}, {'license': 0, 'file_name': '001-bg-01-090-077.png', 'width': 320, 'height': 240, 'id': 57}, {'license': 0, 'file_name': '001-bg-01-090-048.png', 'width': 320, 'height': 240, 'id': 58}], 'categories': [{'supercategory': 'person', 'id': 1, 'name': 'person'}]}\n"
    }
   ],
   "source": [
    "my_dict[\"info\"]= info\n",
    "my_dict[\"licenses\"]= licenses\n",
    "my_dict[\"images\"]=images\n",
    "my_dict[\"categories\"]=categories\n",
    "print(my_dict.keys())\n",
    "print(my_dict)"
   ]
  },
  {
   "cell_type": "code",
   "execution_count": null,
   "metadata": {},
   "outputs": [],
   "source": []
  }
 ],
 "metadata": {
  "language_info": {
   "codemirror_mode": {
    "name": "ipython",
    "version": 3
   },
   "file_extension": ".py",
   "mimetype": "text/x-python",
   "name": "python",
   "nbconvert_exporter": "python",
   "pygments_lexer": "ipython3",
   "version": 3
  },
  "orig_nbformat": 2,
  "kernelspec": {
   "name": "python_defaultSpec_1594785244400",
   "display_name": "Python 3.6.10 64-bit ('d2': conda)"
  }
 },
 "nbformat": 4,
 "nbformat_minor": 2
}