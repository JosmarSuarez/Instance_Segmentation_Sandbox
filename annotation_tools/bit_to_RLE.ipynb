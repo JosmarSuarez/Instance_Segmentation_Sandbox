{
 "cells": [
  {
   "cell_type": "markdown",
   "metadata": {},
   "source": [
    "# Bitmask to RLE annotation\n",
    "This notebook contains functions that allow us to transform bitmasks to polygonal annotations in COCO format\n",
    "## Main code (just for one instance per image, for more than one see bit_to_poly.ipynb)"
   ]
  },
  {
   "cell_type": "code",
   "execution_count": 29,
   "metadata": {},
   "outputs": [],
   "source": [
    "from PIL import Image # (pip install Pillow)\n",
    "import matplotlib.pyplot as plt\n",
    "import numpy as np                                 # (pip install numpy)\n",
    "from skimage import measure                        # (pip install scikit-image)\n",
    "from shapely.geometry import Polygon, MultiPolygon # (pip install Shapely)\n",
    "import cv2\n",
    "import os"
   ]
  },
  {
   "cell_type": "code",
   "execution_count": 30,
   "metadata": {
    "tags": []
   },
   "outputs": [],
   "source": [
    "import json\n",
    "import numpy as np\n",
    "from pycocotools import mask\n",
    "from skimage import measure\n",
    "\n",
    "def mask_to_annotation(img_path, img_id, img_cat, ann_id, is_crowd):\n",
    "    gt_mask = cv2.imread(img_path,0)\n",
    "    fortran_gt_mask = np.asfortranarray(gt_mask)\n",
    "    encoded_ground_truth = mask.encode(fortran_gt_mask)\n",
    "    ground_truth_area = mask.area(encoded_ground_truth)\n",
    "    ground_truth_bounding_box = mask.toBbox(encoded_ground_truth)\n",
    "    # contours = measure.find_contours(ground_truth_binary_mask, 0.5)\n",
    "    #Decoding byte format encoded_ground_truth['counts'] into utf-8\n",
    "    encoded_ground_truth['counts'] = encoded_ground_truth['counts'].decode('utf-8')\n",
    "    annotation = {\n",
    "            \"segmentation\": encoded_ground_truth,\n",
    "            \"area\": ground_truth_area.tolist(),\n",
    "            \"iscrowd\": is_crowd,\n",
    "            \"image_id\": img_id,\n",
    "            \"bbox\": ground_truth_bounding_box.tolist(),\n",
    "            \"category_id\": img_cat,\n",
    "            \"id\": ann_id\n",
    "        }\n",
    "        \n",
    "    \n",
    "    return annotation"
   ]
  },
  {
   "cell_type": "code",
   "execution_count": 33,
   "metadata": {
    "tags": []
   },
   "outputs": [],
   "source": [
    "def images_to_annotations(dir_path):\n",
    "    #Initializing images and annotations lists\n",
    "    images=[]\n",
    "    annotations = []\n",
    "    img_names = os.listdir(dir_path)\n",
    "    img_names.sort()\n",
    "    img_license = 0\n",
    "    img_id=0\n",
    "    ann_id=0\n",
    "    is_crowd=0\n",
    "           \n",
    "    for img_name in img_names:\n",
    "        print(img_name)\n",
    "        img_path = os.path.join(dir_path, img_name)\n",
    "        img = cv2.imread(img_path,0)\n",
    "        img_size = img.shape\n",
    "        \n",
    "        img_cat = 1\n",
    "        annotation = mask_to_annotation(img_path , img_id, img_cat, ann_id, is_crowd)\n",
    "        annotations.append(annotation)\n",
    "        ann_id+=1\n",
    "            \n",
    "\n",
    "        new_img={}\n",
    "        new_img[\"license\"] = img_license\n",
    "        new_img[\"file_name\"] = img_name.split(\".\")[0]+\".png\" #Changed to match the video images\n",
    "        new_img[\"width\"] = img_size[1]\n",
    "        new_img[\"height\"] = img_size[0]\n",
    "        new_img[\"id\"] = img_id\n",
    "        images.append(new_img)\n",
    "\n",
    "        # sub_masks = create_sub_masks()\n",
    "        # for color, sub_mask in sub_masks.items():\n",
    "        #     plt.imshow(sub_mask)\n",
    "        #     plt.show()\n",
    "        \n",
    "        img_id+=1\n",
    "\n",
    "    return annotations,images\n",
    "\n",
    "\n",
    "\n"
   ]
  },
  {
   "cell_type": "code",
   "execution_count": 32,
   "metadata": {},
   "outputs": [],
   "source": [
    "my_dict = {}\n",
    "color2cat={\"[255 255 255]\": 1}\n",
    "info = {\n",
    "      \"description\":\"Test Dataset\",\n",
    "      \"url\":\"\",\n",
    "      \"version\":\"0.1\",\n",
    "      \"year\":2020,\n",
    "      \"contributor\":\"Josmar Suarez\",\n",
    "      \"date_created\":\"2020/07/14\"\n",
    "   }\n",
    "\n",
    "licenses = [{\n",
    "        \"url\": \"\",\n",
    "        \"id\": 0,\n",
    "        \"name\": \"Attribution-NonCommercial-ShareAlike License\"\n",
    "    }]\n",
    "categories = [\n",
    "      {\n",
    "         \"supercategory\":\"person\",\n",
    "         \"id\":1,\n",
    "         \"name\":\"person\"\n",
    "      }\n",
    "   ]"
   ]
  },
  {
   "cell_type": "code",
   "execution_count": 34,
   "metadata": {
    "tags": []
   },
   "outputs": [
    {
     "output_type": "stream",
     "name": "stdout",
     "text": "000.png\n001.png\n002.png\n003.png\n004.png\n005.png\n006.png\n007.png\n008.png\n009.png\n010.png\n011.png\n012.png\n013.png\n014.png\n015.png\n016.png\n017.png\n018.png\n019.png\n020.png\n021.png\n022.png\n023.png\n024.png\n025.png\n026.png\n027.png\n028.png\n029.png\n030.png\n031.png\n032.png\n033.png\n034.png\n035.png\n036.png\n037.png\n038.png\n039.png\n040.png\n041.png\n042.png\n043.png\n044.png\n045.png\n046.png\n047.png\n048.png\n049.png\n050.png\n051.png\n052.png\n053.png\n054.png\n055.png\n056.png\n057.png\n058.png\n059.png\n060.png\n061.png\n062.png\n063.png\n064.png\n065.png\n066.png\n067.png\n068.png\n069.png\n070.png\n071.png\n072.png\n073.png\n074.png\n075.png\n076.png\n077.png\n078.png\n079.png\n080.png\n081.png\n082.png\n083.png\n084.png\n085.png\n086.png\n087.png\n088.png\n089.png\n090.png\n091.png\n092.png\n093.png\n094.png\n095.png\n096.png\n097.png\n098.png\n099.png\n100.png\n101.png\n102.png\n103.png\n104.png\n105.png\n106.png\n107.png\n108.png\n109.png\n110.png\n111.png\n112.png\n113.png\n114.png\n115.png\n116.png\n117.png\n118.png\n119.png\n120.png\n121.png\n122.png\n123.png\n124.png\n125.png\n126.png\n127.png\n128.png\n129.png\n130.png\n131.png\n132.png\n133.png\n134.png\n135.png\n136.png\n137.png\n138.png\n139.png\n140.png\n141.png\n142.png\n143.png\n144.png\n145.png\n146.png\n147.png\n148.png\n149.png\n150.png\n151.png\n152.png\n153.png\n154.png\n155.png\n156.png\n157.png\n158.png\n159.png\n160.png\n161.png\n162.png\n163.png\n164.png\n165.png\n166.png\n167.png\n168.png\n169.png\n170.png\n171.png\n172.png\n173.png\n174.png\n175.png\n176.png\n177.png\n178.png\n179.png\n180.png\n181.png\n182.png\n183.png\n184.png\n185.png\n186.png\n187.png\n188.png\n189.png\n190.png\n191.png\n192.png\n193.png\n194.png\n195.png\n196.png\n197.png\n198.png\n199.png\n200.png\n201.png\n202.png\n203.png\n204.png\n205.png\n206.png\n207.png\n208.png\n209.png\n210.png\n211.png\n212.png\n213.png\n214.png\n215.png\n216.png\n217.png\n218.png\n219.png\n220.png\n221.png\n222.png\n223.png\n224.png\n225.png\n226.png\n227.png\n228.png\n229.png\n230.png\n231.png\n232.png\n233.png\n234.png\n235.png\n236.png\n237.png\n238.png\n239.png\n240.png\n241.png\n242.png\n243.png\n244.png\n245.png\n246.png\n247.png\n248.png\n249.png\n250.png\n251.png\n252.png\n253.png\n254.png\n255.png\n256.png\n257.png\n258.png\n259.png\n260.png\n261.png\n262.png\n263.png\n264.png\n265.png\n266.png\n267.png\n268.png\n269.png\n270.png\n271.png\n272.png\n273.png\n274.png\n275.png\n276.png\n277.png\n278.png\n279.png\n280.png\n281.png\n282.png\n283.png\n284.png\n285.png\n286.png\n287.png\n288.png\n289.png\n290.png\n291.png\n292.png\n293.png\n294.png\n295.png\n296.png\n297.png\n298.png\n299.png\n300.png\n"
    }
   ],
   "source": [
    "dir_path = \"/home/josmar/proyectos/codes/annotation_tools/background_substraction/bin_close_images/input\"\n",
    "# dir_path = '/home/josmar/proyectos/codes/datasets/casia_B1_silhouettes'\n",
    "anns,imgs = images_to_annotations(dir_path)\n",
    "\n",
    "my_dict[\"info\"]= info\n",
    "my_dict[\"licenses\"]= licenses\n",
    "my_dict[\"images\"]=imgs\n",
    "my_dict[\"categories\"]=categories\n",
    "my_dict[\"annotations\"]=anns"
   ]
  },
  {
   "cell_type": "code",
   "execution_count": 38,
   "metadata": {},
   "outputs": [],
   "source": [
    "import json \n",
    "with open('RLE_ENCODED.json', 'w') as fp:\n",
    "    json.dump(my_dict, fp)"
   ]
  },
  {
   "cell_type": "code",
   "execution_count": 37,
   "metadata": {
    "tags": []
   },
   "outputs": [
    {
     "output_type": "stream",
     "name": "stdout",
     "text": "{'size': [720, 1280], 'counts': b'bYVe01^f02O6J001O000O1000000O10000O1N3N10000O10000]OGnZO:Pe0InZO7Qe0e0N2gLnN`_O3IR1e`0oN]_O3KP1e`0QOZ_Of2m;nLcG?]Lf2m;PM`G?_Ld2P<oLaCH\\\\3i0oLd2T<\\\\MgF4PMe2X<\\\\MhD[OKg0ROe2[<[M^DKH8\\\\Od2^<\\\\MXD:\\\\OP4\\\\<iKkC]6V<dIhC^6X<cIeC_6Z<bIeC_6[<aIdC`6\\\\<`IdC_6\\\\<cIbC^6^<bIaC_6^<cI`C^6`<cI_C]6a<dI]C\\\\6d<h1O^O`CTGb<k8b0H7I8F:YOg0N2000000001O1O1O001O1O01]I]AX5b>fJaAY5`>eJcAZ5]>dJdA]5]>`JeA_5`>YJdAg5_>SJcAn5b>iIaAm4\\\\OULP`0[3R@eK1P1l?Z3U@bK3T1g?Z3e@eL\\\\?Z3e@fL[?Y3j@cLV?\\\\3l@bLU?]3l@cLT?[3n@eLR?Z3o@fLQ?X3QAgLP?W3RAiLn>V3RAkLn>R3UAnLk>Y2W@RMP1e0i>S2TBlMm=P2VBQNj=h1]BXNc=d1aB\\\\N_=\\\\1iBdNY=Q1PCoNR=2jCO\\\\a000000000000O10O100O100O10O11N0100P[OXOXd0g0e[O\\\\O[d0e0a[O]Oad0f0X[O\\\\Oid0U11O00001N1O1O2N101N1O2N1M4I6L5M2M4N2N2M3M5JT]m3'}\n{'size': [720, 1280], 'counts': 'bYVe01^f02O6J001O000O1000000O10000O1N3N10000O10000]OGnZO:Pe0InZO7Qe0e0N2gLnN`_O3IR1e`0oN]_O3KP1e`0QOZ_Of2m;nLcG?]Lf2m;PM`G?_Ld2P<oLaCH\\\\3i0oLd2T<\\\\MgF4PMe2X<\\\\MhD[OKg0ROe2[<[M^DKH8\\\\Od2^<\\\\MXD:\\\\OP4\\\\<iKkC]6V<dIhC^6X<cIeC_6Z<bIeC_6[<aIdC`6\\\\<`IdC_6\\\\<cIbC^6^<bIaC_6^<cI`C^6`<cI_C]6a<dI]C\\\\6d<h1O^O`CTGb<k8b0H7I8F:YOg0N2000000001O1O1O001O1O01]I]AX5b>fJaAY5`>eJcAZ5]>dJdA]5]>`JeA_5`>YJdAg5_>SJcAn5b>iIaAm4\\\\OULP`0[3R@eK1P1l?Z3U@bK3T1g?Z3e@eL\\\\?Z3e@fL[?Y3j@cLV?\\\\3l@bLU?]3l@cLT?[3n@eLR?Z3o@fLQ?X3QAgLP?W3RAiLn>V3RAkLn>R3UAnLk>Y2W@RMP1e0i>S2TBlMm=P2VBQNj=h1]BXNc=d1aB\\\\N_=\\\\1iBdNY=Q1PCoNR=2jCO\\\\a000000000000O10O100O100O10O11N0100P[OXOXd0g0e[O\\\\O[d0e0a[O]Oad0f0X[O\\\\Oid0U11O00001N1O1O2N101N1O2N1M4I6L5M2M4N2N2M3M5JT]m3'}\n"
    }
   ],
   "source": [
    "ground_truth_binary_mask = cv2.imread('/home/josmar/proyectos/codes/annotation_tools/background_substraction/bin_close_images/input/001.png',0)\n",
    "fortran_ground_truth_binary_mask = np.asfortranarray(ground_truth_binary_mask)\n",
    "encoded_ground_truth = mask.encode(fortran_ground_truth_binary_mask)\n",
    "print(encoded_ground_truth)\n",
    "encoded_ground_truth['counts'] = encoded_ground_truth['counts'].decode('utf-8')\n",
    "\n",
    "print(encoded_ground_truth)\n",
    "\n"
   ]
  },
  {
   "cell_type": "code",
   "execution_count": 47,
   "metadata": {
    "tags": []
   },
   "outputs": [
    {
     "output_type": "stream",
     "name": "stdout",
     "text": "{'counts': [694578, 1, 718, 3, 717, 9, 711, 9, 711, 10, 710, 10, 710, 10, 709, 11, 709, 11, 709, 11, 709, 11, 708, 12, 708, 12, 708, 12, 707, 13, 705, 16, 703, 17, 703, 17, 703, 17, 702, 18, 702, 18, 702, 18, 683, 9, 9, 19, 681, 12, 7, 19, 680, 40, 678, 42, 573, 8, 45, 11, 38, 44, 1, 571, 12, 40, 15, 35, 46, 1, 568, 16, 34, 101, 1, 415, 4, 146, 19, 31, 104, 1, 412, 9, 140, 24, 27, 107, 1, 411, 11, 12, 3, 120, 28, 23, 112, 411, 28, 114, 32, 18, 117, 410, 33, 50, 12, 45, 35, 15, 120, 410, 35, 40, 30, 32, 38, 12, 122, 410, 38, 34, 48, 14, 176, 410, 41, 21, 246, 411, 42, 19, 248, 411, 43, 16, 250, 410, 44, 15, 251, 410, 44, 14, 251, 1, 410, 44, 14, 251, 410, 46, 12, 252, 410, 46, 11, 253, 409, 48, 9, 254, 409, 49, 8, 254, 409, 50, 6, 254, 410, 310, 409, 292, 9, 8, 411, 291, 429, 283, 436, 276, 444, 266, 454, 243, 477, 241, 479, 241, 479, 241, 479, 241, 479, 241, 479, 242, 478, 243, 477, 244, 476, 244, 476, 245, 475, 246, 474, 246, 475, 35, 8, 203, 474, 33, 11, 202, 475, 31, 14, 201, 475, 29, 15, 202, 476, 26, 17, 201, 481, 18, 21, 201, 484, 12, 23, 202, 489, 3, 26, 160, 6, 37, 518, 144, 8, 4, 1, 9, 37, 517, 143, 1, 9, 1, 13, 37, 516, 143, 25, 36, 517, 142, 26, 1, 35, 517, 141, 31, 32, 517, 140, 33, 30, 518, 139, 34, 30, 518, 137, 36, 30, 518, 136, 37, 30, 518, 134, 39, 29, 519, 132, 41, 29, 519, 130, 1, 41, 30, 519, 128, 44, 30, 519, 103, 1, 13, 8, 1, 46, 30, 519, 97, 75, 29, 520, 93, 78, 30, 520, 86, 85, 30, 520, 82, 89, 30, 520, 74, 97, 30, 522, 63, 106, 30, 524, 32, 134, 31, 690, 31, 690, 31, 690, 31, 690, 31, 690, 31, 690, 31, 689, 32, 689, 31, 690, 31, 690, 30, 691, 30, 691, 29, 692, 29, 691, 30, 691, 1, 28, 692, 29, 692, 29, 20, 5, 668, 28, 17, 8, 668, 29, 13, 10, 670, 32, 6, 12, 671, 49, 672, 48, 672, 48, 672, 48, 673, 46, 674, 45, 675, 44, 677, 42, 678, 42, 679, 40, 680, 39, 682, 37, 683, 34, 687, 27, 693, 23, 698, 20, 700, 17, 704, 15, 706, 13, 708, 10, 711, 7, 716, 1, 129136], 'size': [720, 1280]}\n"
    }
   ],
   "source": [
    "import numpy as np\n",
    "from itertools import groupby\n",
    "\n",
    "def binary_mask_to_rle(binary_mask):\n",
    "    rle = {'counts': [], 'size': list(binary_mask.shape)}\n",
    "    counts = rle.get('counts')\n",
    "    for i, (value, elements) in enumerate(groupby(binary_mask.ravel(order='F'))):\n",
    "        if i == 0 and value == 1:\n",
    "            counts.append(0)\n",
    "        counts.append(len(list(elements)))\n",
    "    return rle\n",
    "\n",
    "ground_truth_binary_mask = cv2.imread('/home/josmar/proyectos/codes/annotation_tools/background_substraction/bin_close_images/input/001.png',0)\n",
    "\n",
    "fortran_ground_truth_binary_mask = np.asfortranarray(ground_truth_binary_mask)\n",
    "rle = binary_mask_to_rle(fortran_ground_truth_binary_mask)\n",
    "print(rle)"
   ]
  },
  {
   "cell_type": "code",
   "execution_count": 26,
   "metadata": {
    "tags": []
   },
   "outputs": [
    {
     "output_type": "display_data",
     "data": {
      "text/plain": "<Figure size 432x288 with 1 Axes>",
      "image/svg+xml": "<?xml version=\"1.0\" encoding=\"utf-8\" standalone=\"no\"?>\n<!DOCTYPE svg PUBLIC \"-//W3C//DTD SVG 1.1//EN\"\n  \"http://www.w3.org/Graphics/SVG/1.1/DTD/svg11.dtd\">\n<!-- Created with matplotlib (https://matplotlib.org/) -->\n<svg height=\"223.071563pt\" version=\"1.1\" viewBox=\"0 0 375.2875 223.071563\" width=\"375.2875pt\" xmlns=\"http://www.w3.org/2000/svg\" xmlns:xlink=\"http://www.w3.org/1999/xlink\">\n <metadata>\n  <rdf:RDF xmlns:cc=\"http://creativecommons.org/ns#\" xmlns:dc=\"http://purl.org/dc/elements/1.1/\" xmlns:rdf=\"http://www.w3.org/1999/02/22-rdf-syntax-ns#\">\n   <cc:Work>\n    <dc:type rdf:resource=\"http://purl.org/dc/dcmitype/StillImage\"/>\n    <dc:date>2020-10-03T19:31:40.986556</dc:date>\n    <dc:format>image/svg+xml</dc:format>\n    <dc:creator>\n     <cc:Agent>\n      <dc:title>Matplotlib v3.3.0, https://matplotlib.org/</dc:title>\n     </cc:Agent>\n    </dc:creator>\n   </cc:Work>\n  </rdf:RDF>\n </metadata>\n <defs>\n  <style type=\"text/css\">*{stroke-linecap:butt;stroke-linejoin:round;}</style>\n </defs>\n <g id=\"figure_1\">\n  <g id=\"patch_1\">\n   <path d=\"M 0 223.071563 \nL 375.2875 223.071563 \nL 375.2875 0 \nL 0 0 \nz\n\" style=\"fill:none;\"/>\n  </g>\n  <g id=\"axes_1\">\n   <g id=\"patch_2\">\n    <path d=\"M 33.2875 199.193438 \nL 368.0875 199.193438 \nL 368.0875 10.868437 \nL 33.2875 10.868437 \nz\n\" style=\"fill:#ffffff;\"/>\n   </g>\n   <g clip-path=\"url(#p3403feff94)\">\n    <image height=\"189\" id=\"imageb0781addc3\" transform=\"scale(1 -1)translate(0 -189)\" width=\"335\" x=\"33.2875\" xlink:href=\"data:image/png;base64,\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\" y=\"-10.193438\"/>\n   </g>\n   <g id=\"matplotlib.axis_1\">\n    <g id=\"xtick_1\">\n     <g id=\"line2d_1\">\n      <defs>\n       <path d=\"M 0 0 \nL 0 3.5 \n\" id=\"mff4c2ac9a9\" style=\"stroke:#000000;stroke-width:0.8;\"/>\n      </defs>\n      <g>\n       <use style=\"stroke:#000000;stroke-width:0.8;\" x=\"33.418281\" xlink:href=\"#mff4c2ac9a9\" y=\"199.193438\"/>\n      </g>\n     </g>\n     <g id=\"text_1\">\n      <!-- 0 -->\n      <g transform=\"translate(30.237031 213.791875)scale(0.1 -0.1)\">\n       <defs>\n        <path d=\"M 31.78125 66.40625 \nQ 24.171875 66.40625 20.328125 58.90625 \nQ 16.5 51.421875 16.5 36.375 \nQ 16.5 21.390625 20.328125 13.890625 \nQ 24.171875 6.390625 31.78125 6.390625 \nQ 39.453125 6.390625 43.28125 13.890625 \nQ 47.125 21.390625 47.125 36.375 \nQ 47.125 51.421875 43.28125 58.90625 \nQ 39.453125 66.40625 31.78125 66.40625 \nz\nM 31.78125 74.21875 \nQ 44.046875 74.21875 50.515625 64.515625 \nQ 56.984375 54.828125 56.984375 36.375 \nQ 56.984375 17.96875 50.515625 8.265625 \nQ 44.046875 -1.421875 31.78125 -1.421875 \nQ 19.53125 -1.421875 13.0625 8.265625 \nQ 6.59375 17.96875 6.59375 36.375 \nQ 6.59375 54.828125 13.0625 64.515625 \nQ 19.53125 74.21875 31.78125 74.21875 \nz\n\" id=\"DejaVuSans-48\"/>\n       </defs>\n       <use xlink:href=\"#DejaVuSans-48\"/>\n      </g>\n     </g>\n    </g>\n    <g id=\"xtick_2\">\n     <g id=\"line2d_2\">\n      <g>\n       <use style=\"stroke:#000000;stroke-width:0.8;\" x=\"85.730781\" xlink:href=\"#mff4c2ac9a9\" y=\"199.193438\"/>\n      </g>\n     </g>\n     <g id=\"text_2\">\n      <!-- 200 -->\n      <g transform=\"translate(76.187031 213.791875)scale(0.1 -0.1)\">\n       <defs>\n        <path d=\"M 19.1875 8.296875 \nL 53.609375 8.296875 \nL 53.609375 0 \nL 7.328125 0 \nL 7.328125 8.296875 \nQ 12.9375 14.109375 22.625 23.890625 \nQ 32.328125 33.6875 34.8125 36.53125 \nQ 39.546875 41.84375 41.421875 45.53125 \nQ 43.3125 49.21875 43.3125 52.78125 \nQ 43.3125 58.59375 39.234375 62.25 \nQ 35.15625 65.921875 28.609375 65.921875 \nQ 23.96875 65.921875 18.8125 64.3125 \nQ 13.671875 62.703125 7.8125 59.421875 \nL 7.8125 69.390625 \nQ 13.765625 71.78125 18.9375 73 \nQ 24.125 74.21875 28.421875 74.21875 \nQ 39.75 74.21875 46.484375 68.546875 \nQ 53.21875 62.890625 53.21875 53.421875 \nQ 53.21875 48.921875 51.53125 44.890625 \nQ 49.859375 40.875 45.40625 35.40625 \nQ 44.1875 33.984375 37.640625 27.21875 \nQ 31.109375 20.453125 19.1875 8.296875 \nz\n\" id=\"DejaVuSans-50\"/>\n       </defs>\n       <use xlink:href=\"#DejaVuSans-50\"/>\n       <use x=\"63.623047\" xlink:href=\"#DejaVuSans-48\"/>\n       <use x=\"127.246094\" xlink:href=\"#DejaVuSans-48\"/>\n      </g>\n     </g>\n    </g>\n    <g id=\"xtick_3\">\n     <g id=\"line2d_3\">\n      <g>\n       <use style=\"stroke:#000000;stroke-width:0.8;\" x=\"138.043281\" xlink:href=\"#mff4c2ac9a9\" y=\"199.193438\"/>\n      </g>\n     </g>\n     <g id=\"text_3\">\n      <!-- 400 -->\n      <g transform=\"translate(128.499531 213.791875)scale(0.1 -0.1)\">\n       <defs>\n        <path d=\"M 37.796875 64.3125 \nL 12.890625 25.390625 \nL 37.796875 25.390625 \nz\nM 35.203125 72.90625 \nL 47.609375 72.90625 \nL 47.609375 25.390625 \nL 58.015625 25.390625 \nL 58.015625 17.1875 \nL 47.609375 17.1875 \nL 47.609375 0 \nL 37.796875 0 \nL 37.796875 17.1875 \nL 4.890625 17.1875 \nL 4.890625 26.703125 \nz\n\" id=\"DejaVuSans-52\"/>\n       </defs>\n       <use xlink:href=\"#DejaVuSans-52\"/>\n       <use x=\"63.623047\" xlink:href=\"#DejaVuSans-48\"/>\n       <use x=\"127.246094\" xlink:href=\"#DejaVuSans-48\"/>\n      </g>\n     </g>\n    </g>\n    <g id=\"xtick_4\">\n     <g id=\"line2d_4\">\n      <g>\n       <use style=\"stroke:#000000;stroke-width:0.8;\" x=\"190.355781\" xlink:href=\"#mff4c2ac9a9\" y=\"199.193438\"/>\n      </g>\n     </g>\n     <g id=\"text_4\">\n      <!-- 600 -->\n      <g transform=\"translate(180.812031 213.791875)scale(0.1 -0.1)\">\n       <defs>\n        <path d=\"M 33.015625 40.375 \nQ 26.375 40.375 22.484375 35.828125 \nQ 18.609375 31.296875 18.609375 23.390625 \nQ 18.609375 15.53125 22.484375 10.953125 \nQ 26.375 6.390625 33.015625 6.390625 \nQ 39.65625 6.390625 43.53125 10.953125 \nQ 47.40625 15.53125 47.40625 23.390625 \nQ 47.40625 31.296875 43.53125 35.828125 \nQ 39.65625 40.375 33.015625 40.375 \nz\nM 52.59375 71.296875 \nL 52.59375 62.3125 \nQ 48.875 64.0625 45.09375 64.984375 \nQ 41.3125 65.921875 37.59375 65.921875 \nQ 27.828125 65.921875 22.671875 59.328125 \nQ 17.53125 52.734375 16.796875 39.40625 \nQ 19.671875 43.65625 24.015625 45.921875 \nQ 28.375 48.1875 33.59375 48.1875 \nQ 44.578125 48.1875 50.953125 41.515625 \nQ 57.328125 34.859375 57.328125 23.390625 \nQ 57.328125 12.15625 50.6875 5.359375 \nQ 44.046875 -1.421875 33.015625 -1.421875 \nQ 20.359375 -1.421875 13.671875 8.265625 \nQ 6.984375 17.96875 6.984375 36.375 \nQ 6.984375 53.65625 15.1875 63.9375 \nQ 23.390625 74.21875 37.203125 74.21875 \nQ 40.921875 74.21875 44.703125 73.484375 \nQ 48.484375 72.75 52.59375 71.296875 \nz\n\" id=\"DejaVuSans-54\"/>\n       </defs>\n       <use xlink:href=\"#DejaVuSans-54\"/>\n       <use x=\"63.623047\" xlink:href=\"#DejaVuSans-48\"/>\n       <use x=\"127.246094\" xlink:href=\"#DejaVuSans-48\"/>\n      </g>\n     </g>\n    </g>\n    <g id=\"xtick_5\">\n     <g id=\"line2d_5\">\n      <g>\n       <use style=\"stroke:#000000;stroke-width:0.8;\" x=\"242.668281\" xlink:href=\"#mff4c2ac9a9\" y=\"199.193438\"/>\n      </g>\n     </g>\n     <g id=\"text_5\">\n      <!-- 800 -->\n      <g transform=\"translate(233.124531 213.791875)scale(0.1 -0.1)\">\n       <defs>\n        <path d=\"M 31.78125 34.625 \nQ 24.75 34.625 20.71875 30.859375 \nQ 16.703125 27.09375 16.703125 20.515625 \nQ 16.703125 13.921875 20.71875 10.15625 \nQ 24.75 6.390625 31.78125 6.390625 \nQ 38.8125 6.390625 42.859375 10.171875 \nQ 46.921875 13.96875 46.921875 20.515625 \nQ 46.921875 27.09375 42.890625 30.859375 \nQ 38.875 34.625 31.78125 34.625 \nz\nM 21.921875 38.8125 \nQ 15.578125 40.375 12.03125 44.71875 \nQ 8.5 49.078125 8.5 55.328125 \nQ 8.5 64.0625 14.71875 69.140625 \nQ 20.953125 74.21875 31.78125 74.21875 \nQ 42.671875 74.21875 48.875 69.140625 \nQ 55.078125 64.0625 55.078125 55.328125 \nQ 55.078125 49.078125 51.53125 44.71875 \nQ 48 40.375 41.703125 38.8125 \nQ 48.828125 37.15625 52.796875 32.3125 \nQ 56.78125 27.484375 56.78125 20.515625 \nQ 56.78125 9.90625 50.3125 4.234375 \nQ 43.84375 -1.421875 31.78125 -1.421875 \nQ 19.734375 -1.421875 13.25 4.234375 \nQ 6.78125 9.90625 6.78125 20.515625 \nQ 6.78125 27.484375 10.78125 32.3125 \nQ 14.796875 37.15625 21.921875 38.8125 \nz\nM 18.3125 54.390625 \nQ 18.3125 48.734375 21.84375 45.5625 \nQ 25.390625 42.390625 31.78125 42.390625 \nQ 38.140625 42.390625 41.71875 45.5625 \nQ 45.3125 48.734375 45.3125 54.390625 \nQ 45.3125 60.0625 41.71875 63.234375 \nQ 38.140625 66.40625 31.78125 66.40625 \nQ 25.390625 66.40625 21.84375 63.234375 \nQ 18.3125 60.0625 18.3125 54.390625 \nz\n\" id=\"DejaVuSans-56\"/>\n       </defs>\n       <use xlink:href=\"#DejaVuSans-56\"/>\n       <use x=\"63.623047\" xlink:href=\"#DejaVuSans-48\"/>\n       <use x=\"127.246094\" xlink:href=\"#DejaVuSans-48\"/>\n      </g>\n     </g>\n    </g>\n    <g id=\"xtick_6\">\n     <g id=\"line2d_6\">\n      <g>\n       <use style=\"stroke:#000000;stroke-width:0.8;\" x=\"294.980781\" xlink:href=\"#mff4c2ac9a9\" y=\"199.193438\"/>\n      </g>\n     </g>\n     <g id=\"text_6\">\n      <!-- 1000 -->\n      <g transform=\"translate(282.255781 213.791875)scale(0.1 -0.1)\">\n       <defs>\n        <path d=\"M 12.40625 8.296875 \nL 28.515625 8.296875 \nL 28.515625 63.921875 \nL 10.984375 60.40625 \nL 10.984375 69.390625 \nL 28.421875 72.90625 \nL 38.28125 72.90625 \nL 38.28125 8.296875 \nL 54.390625 8.296875 \nL 54.390625 0 \nL 12.40625 0 \nz\n\" id=\"DejaVuSans-49\"/>\n       </defs>\n       <use xlink:href=\"#DejaVuSans-49\"/>\n       <use x=\"63.623047\" xlink:href=\"#DejaVuSans-48\"/>\n       <use x=\"127.246094\" xlink:href=\"#DejaVuSans-48\"/>\n       <use x=\"190.869141\" xlink:href=\"#DejaVuSans-48\"/>\n      </g>\n     </g>\n    </g>\n    <g id=\"xtick_7\">\n     <g id=\"line2d_7\">\n      <g>\n       <use style=\"stroke:#000000;stroke-width:0.8;\" x=\"347.293281\" xlink:href=\"#mff4c2ac9a9\" y=\"199.193438\"/>\n      </g>\n     </g>\n     <g id=\"text_7\">\n      <!-- 1200 -->\n      <g transform=\"translate(334.568281 213.791875)scale(0.1 -0.1)\">\n       <use xlink:href=\"#DejaVuSans-49\"/>\n       <use x=\"63.623047\" xlink:href=\"#DejaVuSans-50\"/>\n       <use x=\"127.246094\" xlink:href=\"#DejaVuSans-48\"/>\n       <use x=\"190.869141\" xlink:href=\"#DejaVuSans-48\"/>\n      </g>\n     </g>\n    </g>\n   </g>\n   <g id=\"matplotlib.axis_2\">\n    <g id=\"ytick_1\">\n     <g id=\"line2d_8\">\n      <defs>\n       <path d=\"M 0 0 \nL -3.5 0 \n\" id=\"mac78f9e36e\" style=\"stroke:#000000;stroke-width:0.8;\"/>\n      </defs>\n      <g>\n       <use style=\"stroke:#000000;stroke-width:0.8;\" x=\"33.2875\" xlink:href=\"#mac78f9e36e\" y=\"10.999219\"/>\n      </g>\n     </g>\n     <g id=\"text_8\">\n      <!-- 0 -->\n      <g transform=\"translate(19.925 14.798438)scale(0.1 -0.1)\">\n       <use xlink:href=\"#DejaVuSans-48\"/>\n      </g>\n     </g>\n    </g>\n    <g id=\"ytick_2\">\n     <g id=\"line2d_9\">\n      <g>\n       <use style=\"stroke:#000000;stroke-width:0.8;\" x=\"33.2875\" xlink:href=\"#mac78f9e36e\" y=\"37.155469\"/>\n      </g>\n     </g>\n     <g id=\"text_9\">\n      <!-- 100 -->\n      <g transform=\"translate(7.2 40.954688)scale(0.1 -0.1)\">\n       <use xlink:href=\"#DejaVuSans-49\"/>\n       <use x=\"63.623047\" xlink:href=\"#DejaVuSans-48\"/>\n       <use x=\"127.246094\" xlink:href=\"#DejaVuSans-48\"/>\n      </g>\n     </g>\n    </g>\n    <g id=\"ytick_3\">\n     <g id=\"line2d_10\">\n      <g>\n       <use style=\"stroke:#000000;stroke-width:0.8;\" x=\"33.2875\" xlink:href=\"#mac78f9e36e\" y=\"63.311719\"/>\n      </g>\n     </g>\n     <g id=\"text_10\">\n      <!-- 200 -->\n      <g transform=\"translate(7.2 67.110938)scale(0.1 -0.1)\">\n       <use xlink:href=\"#DejaVuSans-50\"/>\n       <use x=\"63.623047\" xlink:href=\"#DejaVuSans-48\"/>\n       <use x=\"127.246094\" xlink:href=\"#DejaVuSans-48\"/>\n      </g>\n     </g>\n    </g>\n    <g id=\"ytick_4\">\n     <g id=\"line2d_11\">\n      <g>\n       <use style=\"stroke:#000000;stroke-width:0.8;\" x=\"33.2875\" xlink:href=\"#mac78f9e36e\" y=\"89.467969\"/>\n      </g>\n     </g>\n     <g id=\"text_11\">\n      <!-- 300 -->\n      <g transform=\"translate(7.2 93.267188)scale(0.1 -0.1)\">\n       <defs>\n        <path d=\"M 40.578125 39.3125 \nQ 47.65625 37.796875 51.625 33 \nQ 55.609375 28.21875 55.609375 21.1875 \nQ 55.609375 10.40625 48.1875 4.484375 \nQ 40.765625 -1.421875 27.09375 -1.421875 \nQ 22.515625 -1.421875 17.65625 -0.515625 \nQ 12.796875 0.390625 7.625 2.203125 \nL 7.625 11.71875 \nQ 11.71875 9.328125 16.59375 8.109375 \nQ 21.484375 6.890625 26.8125 6.890625 \nQ 36.078125 6.890625 40.9375 10.546875 \nQ 45.796875 14.203125 45.796875 21.1875 \nQ 45.796875 27.640625 41.28125 31.265625 \nQ 36.765625 34.90625 28.71875 34.90625 \nL 20.21875 34.90625 \nL 20.21875 43.015625 \nL 29.109375 43.015625 \nQ 36.375 43.015625 40.234375 45.921875 \nQ 44.09375 48.828125 44.09375 54.296875 \nQ 44.09375 59.90625 40.109375 62.90625 \nQ 36.140625 65.921875 28.71875 65.921875 \nQ 24.65625 65.921875 20.015625 65.03125 \nQ 15.375 64.15625 9.8125 62.3125 \nL 9.8125 71.09375 \nQ 15.4375 72.65625 20.34375 73.4375 \nQ 25.25 74.21875 29.59375 74.21875 \nQ 40.828125 74.21875 47.359375 69.109375 \nQ 53.90625 64.015625 53.90625 55.328125 \nQ 53.90625 49.265625 50.4375 45.09375 \nQ 46.96875 40.921875 40.578125 39.3125 \nz\n\" id=\"DejaVuSans-51\"/>\n       </defs>\n       <use xlink:href=\"#DejaVuSans-51\"/>\n       <use x=\"63.623047\" xlink:href=\"#DejaVuSans-48\"/>\n       <use x=\"127.246094\" xlink:href=\"#DejaVuSans-48\"/>\n      </g>\n     </g>\n    </g>\n    <g id=\"ytick_5\">\n     <g id=\"line2d_12\">\n      <g>\n       <use style=\"stroke:#000000;stroke-width:0.8;\" x=\"33.2875\" xlink:href=\"#mac78f9e36e\" y=\"115.624219\"/>\n      </g>\n     </g>\n     <g id=\"text_12\">\n      <!-- 400 -->\n      <g transform=\"translate(7.2 119.423438)scale(0.1 -0.1)\">\n       <use xlink:href=\"#DejaVuSans-52\"/>\n       <use x=\"63.623047\" xlink:href=\"#DejaVuSans-48\"/>\n       <use x=\"127.246094\" xlink:href=\"#DejaVuSans-48\"/>\n      </g>\n     </g>\n    </g>\n    <g id=\"ytick_6\">\n     <g id=\"line2d_13\">\n      <g>\n       <use style=\"stroke:#000000;stroke-width:0.8;\" x=\"33.2875\" xlink:href=\"#mac78f9e36e\" y=\"141.780469\"/>\n      </g>\n     </g>\n     <g id=\"text_13\">\n      <!-- 500 -->\n      <g transform=\"translate(7.2 145.579688)scale(0.1 -0.1)\">\n       <defs>\n        <path d=\"M 10.796875 72.90625 \nL 49.515625 72.90625 \nL 49.515625 64.59375 \nL 19.828125 64.59375 \nL 19.828125 46.734375 \nQ 21.96875 47.46875 24.109375 47.828125 \nQ 26.265625 48.1875 28.421875 48.1875 \nQ 40.625 48.1875 47.75 41.5 \nQ 54.890625 34.8125 54.890625 23.390625 \nQ 54.890625 11.625 47.5625 5.09375 \nQ 40.234375 -1.421875 26.90625 -1.421875 \nQ 22.3125 -1.421875 17.546875 -0.640625 \nQ 12.796875 0.140625 7.71875 1.703125 \nL 7.71875 11.625 \nQ 12.109375 9.234375 16.796875 8.0625 \nQ 21.484375 6.890625 26.703125 6.890625 \nQ 35.15625 6.890625 40.078125 11.328125 \nQ 45.015625 15.765625 45.015625 23.390625 \nQ 45.015625 31 40.078125 35.4375 \nQ 35.15625 39.890625 26.703125 39.890625 \nQ 22.75 39.890625 18.8125 39.015625 \nQ 14.890625 38.140625 10.796875 36.28125 \nz\n\" id=\"DejaVuSans-53\"/>\n       </defs>\n       <use xlink:href=\"#DejaVuSans-53\"/>\n       <use x=\"63.623047\" xlink:href=\"#DejaVuSans-48\"/>\n       <use x=\"127.246094\" xlink:href=\"#DejaVuSans-48\"/>\n      </g>\n     </g>\n    </g>\n    <g id=\"ytick_7\">\n     <g id=\"line2d_14\">\n      <g>\n       <use style=\"stroke:#000000;stroke-width:0.8;\" x=\"33.2875\" xlink:href=\"#mac78f9e36e\" y=\"167.936719\"/>\n      </g>\n     </g>\n     <g id=\"text_14\">\n      <!-- 600 -->\n      <g transform=\"translate(7.2 171.735938)scale(0.1 -0.1)\">\n       <use xlink:href=\"#DejaVuSans-54\"/>\n       <use x=\"63.623047\" xlink:href=\"#DejaVuSans-48\"/>\n       <use x=\"127.246094\" xlink:href=\"#DejaVuSans-48\"/>\n      </g>\n     </g>\n    </g>\n    <g id=\"ytick_8\">\n     <g id=\"line2d_15\">\n      <g>\n       <use style=\"stroke:#000000;stroke-width:0.8;\" x=\"33.2875\" xlink:href=\"#mac78f9e36e\" y=\"194.092969\"/>\n      </g>\n     </g>\n     <g id=\"text_15\">\n      <!-- 700 -->\n      <g transform=\"translate(7.2 197.892188)scale(0.1 -0.1)\">\n       <defs>\n        <path d=\"M 8.203125 72.90625 \nL 55.078125 72.90625 \nL 55.078125 68.703125 \nL 28.609375 0 \nL 18.3125 0 \nL 43.21875 64.59375 \nL 8.203125 64.59375 \nz\n\" id=\"DejaVuSans-55\"/>\n       </defs>\n       <use xlink:href=\"#DejaVuSans-55\"/>\n       <use x=\"63.623047\" xlink:href=\"#DejaVuSans-48\"/>\n       <use x=\"127.246094\" xlink:href=\"#DejaVuSans-48\"/>\n      </g>\n     </g>\n    </g>\n   </g>\n   <g id=\"patch_3\">\n    <path d=\"M 33.2875 199.193438 \nL 33.2875 10.868438 \n\" style=\"fill:none;stroke:#000000;stroke-linecap:square;stroke-linejoin:miter;stroke-width:0.8;\"/>\n   </g>\n   <g id=\"patch_4\">\n    <path d=\"M 368.0875 199.193438 \nL 368.0875 10.868438 \n\" style=\"fill:none;stroke:#000000;stroke-linecap:square;stroke-linejoin:miter;stroke-width:0.8;\"/>\n   </g>\n   <g id=\"patch_5\">\n    <path d=\"M 33.2875 199.193438 \nL 368.0875 199.193438 \n\" style=\"fill:none;stroke:#000000;stroke-linecap:square;stroke-linejoin:miter;stroke-width:0.8;\"/>\n   </g>\n   <g id=\"patch_6\">\n    <path d=\"M 33.2875 10.868437 \nL 368.0875 10.868437 \n\" style=\"fill:none;stroke:#000000;stroke-linecap:square;stroke-linejoin:miter;stroke-width:0.8;\"/>\n   </g>\n  </g>\n </g>\n <defs>\n  <clipPath id=\"p3403feff94\">\n   <rect height=\"188.325\" width=\"334.8\" x=\"33.2875\" y=\"10.868437\"/>\n  </clipPath>\n </defs>\n</svg>\n",
      "image/png": "[encoded data removed]"
     },
     "metadata": {
      "needs_background": "light"
     }
    },
    {
     "output_type": "display_data",
     "data": {
      "text/plain": "<Figure size 432x288 with 1 Axes>",
      "image/svg+xml": "<?xml version=\"1.0\" encoding=\"utf-8\" standalone=\"no\"?>\n<!DOCTYPE svg PUBLIC \"-//W3C//DTD SVG 1.1//EN\"\n  \"http://www.w3.org/Graphics/SVG/1.1/DTD/svg11.dtd\">\n<!-- Created with matplotlib (https://matplotlib.org/) -->\n<svg height=\"251.864344pt\" version=\"1.1\" viewBox=\"0 0 330.4075 251.864344\" width=\"330.4075pt\" xmlns=\"http://www.w3.org/2000/svg\" xmlns:xlink=\"http://www.w3.org/1999/xlink\">\n <metadata>\n  <rdf:RDF xmlns:cc=\"http://creativecommons.org/ns#\" xmlns:dc=\"http://purl.org/dc/elements/1.1/\" xmlns:rdf=\"http://www.w3.org/1999/02/22-rdf-syntax-ns#\">\n   <cc:Work>\n    <dc:type rdf:resource=\"http://purl.org/dc/dcmitype/StillImage\"/>\n    <dc:date>2020-10-03T19:31:41.205549</dc:date>\n    <dc:format>image/svg+xml</dc:format>\n    <dc:creator>\n     <cc:Agent>\n      <dc:title>Matplotlib v3.3.0, https://matplotlib.org/</dc:title>\n     </cc:Agent>\n    </dc:creator>\n   </cc:Work>\n  </rdf:RDF>\n </metadata>\n <defs>\n  <style type=\"text/css\">*{stroke-linecap:butt;stroke-linejoin:round;}</style>\n </defs>\n <g id=\"figure_1\">\n  <g id=\"patch_1\">\n   <path d=\"M 0 251.864344 \nL 330.4075 251.864344 \nL 330.4075 0 \nL 0 0 \nz\n\" style=\"fill:none;\"/>\n  </g>\n  <g id=\"axes_1\">\n   <g id=\"patch_2\">\n    <path d=\"M 33.2875 227.986219 \nL 323.2075 227.986219 \nL 323.2075 10.546219 \nL 33.2875 10.546219 \nz\n\" style=\"fill:#ffffff;\"/>\n   </g>\n   <g clip-path=\"url(#p82e57e49f5)\">\n    <image height=\"218\" id=\"image84859d4891\" transform=\"scale(1 -1)translate(0 -218)\" width=\"290\" x=\"33.2875\" xlink:href=\"data:image/png;base64,\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\" y=\"-9.986219\"/>\n   </g>\n   <g id=\"matplotlib.axis_1\">\n    <g id=\"xtick_1\">\n     <g id=\"line2d_1\">\n      <defs>\n       <path d=\"M 0 0 \nL 0 3.5 \n\" id=\"m80a237eecf\" style=\"stroke:#000000;stroke-width:0.8;\"/>\n      </defs>\n      <g>\n       <use style=\"stroke:#000000;stroke-width:0.8;\" x=\"33.7405\" xlink:href=\"#m80a237eecf\" y=\"227.986219\"/>\n      </g>\n     </g>\n     <g id=\"text_1\">\n      <!-- 0 -->\n      <g transform=\"translate(30.55925 242.584656)scale(0.1 -0.1)\">\n       <defs>\n        <path d=\"M 31.78125 66.40625 \nQ 24.171875 66.40625 20.328125 58.90625 \nQ 16.5 51.421875 16.5 36.375 \nQ 16.5 21.390625 20.328125 13.890625 \nQ 24.171875 6.390625 31.78125 6.390625 \nQ 39.453125 6.390625 43.28125 13.890625 \nQ 47.125 21.390625 47.125 36.375 \nQ 47.125 51.421875 43.28125 58.90625 \nQ 39.453125 66.40625 31.78125 66.40625 \nz\nM 31.78125 74.21875 \nQ 44.046875 74.21875 50.515625 64.515625 \nQ 56.984375 54.828125 56.984375 36.375 \nQ 56.984375 17.96875 50.515625 8.265625 \nQ 44.046875 -1.421875 31.78125 -1.421875 \nQ 19.53125 -1.421875 13.0625 8.265625 \nQ 6.59375 17.96875 6.59375 36.375 \nQ 6.59375 54.828125 13.0625 64.515625 \nQ 19.53125 74.21875 31.78125 74.21875 \nz\n\" id=\"DejaVuSans-48\"/>\n       </defs>\n       <use xlink:href=\"#DejaVuSans-48\"/>\n      </g>\n     </g>\n    </g>\n    <g id=\"xtick_2\">\n     <g id=\"line2d_2\">\n      <g>\n       <use style=\"stroke:#000000;stroke-width:0.8;\" x=\"79.0405\" xlink:href=\"#m80a237eecf\" y=\"227.986219\"/>\n      </g>\n     </g>\n     <g id=\"text_2\">\n      <!-- 50 -->\n      <g transform=\"translate(72.678 242.584656)scale(0.1 -0.1)\">\n       <defs>\n        <path d=\"M 10.796875 72.90625 \nL 49.515625 72.90625 \nL 49.515625 64.59375 \nL 19.828125 64.59375 \nL 19.828125 46.734375 \nQ 21.96875 47.46875 24.109375 47.828125 \nQ 26.265625 48.1875 28.421875 48.1875 \nQ 40.625 48.1875 47.75 41.5 \nQ 54.890625 34.8125 54.890625 23.390625 \nQ 54.890625 11.625 47.5625 5.09375 \nQ 40.234375 -1.421875 26.90625 -1.421875 \nQ 22.3125 -1.421875 17.546875 -0.640625 \nQ 12.796875 0.140625 7.71875 1.703125 \nL 7.71875 11.625 \nQ 12.109375 9.234375 16.796875 8.0625 \nQ 21.484375 6.890625 26.703125 6.890625 \nQ 35.15625 6.890625 40.078125 11.328125 \nQ 45.015625 15.765625 45.015625 23.390625 \nQ 45.015625 31 40.078125 35.4375 \nQ 35.15625 39.890625 26.703125 39.890625 \nQ 22.75 39.890625 18.8125 39.015625 \nQ 14.890625 38.140625 10.796875 36.28125 \nz\n\" id=\"DejaVuSans-53\"/>\n       </defs>\n       <use xlink:href=\"#DejaVuSans-53\"/>\n       <use x=\"63.623047\" xlink:href=\"#DejaVuSans-48\"/>\n      </g>\n     </g>\n    </g>\n    <g id=\"xtick_3\">\n     <g id=\"line2d_3\">\n      <g>\n       <use style=\"stroke:#000000;stroke-width:0.8;\" x=\"124.3405\" xlink:href=\"#m80a237eecf\" y=\"227.986219\"/>\n      </g>\n     </g>\n     <g id=\"text_3\">\n      <!-- 100 -->\n      <g transform=\"translate(114.79675 242.584656)scale(0.1 -0.1)\">\n       <defs>\n        <path d=\"M 12.40625 8.296875 \nL 28.515625 8.296875 \nL 28.515625 63.921875 \nL 10.984375 60.40625 \nL 10.984375 69.390625 \nL 28.421875 72.90625 \nL 38.28125 72.90625 \nL 38.28125 8.296875 \nL 54.390625 8.296875 \nL 54.390625 0 \nL 12.40625 0 \nz\n\" id=\"DejaVuSans-49\"/>\n       </defs>\n       <use xlink:href=\"#DejaVuSans-49\"/>\n       <use x=\"63.623047\" xlink:href=\"#DejaVuSans-48\"/>\n       <use x=\"127.246094\" xlink:href=\"#DejaVuSans-48\"/>\n      </g>\n     </g>\n    </g>\n    <g id=\"xtick_4\">\n     <g id=\"line2d_4\">\n      <g>\n       <use style=\"stroke:#000000;stroke-width:0.8;\" x=\"169.6405\" xlink:href=\"#m80a237eecf\" y=\"227.986219\"/>\n      </g>\n     </g>\n     <g id=\"text_4\">\n      <!-- 150 -->\n      <g transform=\"translate(160.09675 242.584656)scale(0.1 -0.1)\">\n       <use xlink:href=\"#DejaVuSans-49\"/>\n       <use x=\"63.623047\" xlink:href=\"#DejaVuSans-53\"/>\n       <use x=\"127.246094\" xlink:href=\"#DejaVuSans-48\"/>\n      </g>\n     </g>\n    </g>\n    <g id=\"xtick_5\">\n     <g id=\"line2d_5\">\n      <g>\n       <use style=\"stroke:#000000;stroke-width:0.8;\" x=\"214.9405\" xlink:href=\"#m80a237eecf\" y=\"227.986219\"/>\n      </g>\n     </g>\n     <g id=\"text_5\">\n      <!-- 200 -->\n      <g transform=\"translate(205.39675 242.584656)scale(0.1 -0.1)\">\n       <defs>\n        <path d=\"M 19.1875 8.296875 \nL 53.609375 8.296875 \nL 53.609375 0 \nL 7.328125 0 \nL 7.328125 8.296875 \nQ 12.9375 14.109375 22.625 23.890625 \nQ 32.328125 33.6875 34.8125 36.53125 \nQ 39.546875 41.84375 41.421875 45.53125 \nQ 43.3125 49.21875 43.3125 52.78125 \nQ 43.3125 58.59375 39.234375 62.25 \nQ 35.15625 65.921875 28.609375 65.921875 \nQ 23.96875 65.921875 18.8125 64.3125 \nQ 13.671875 62.703125 7.8125 59.421875 \nL 7.8125 69.390625 \nQ 13.765625 71.78125 18.9375 73 \nQ 24.125 74.21875 28.421875 74.21875 \nQ 39.75 74.21875 46.484375 68.546875 \nQ 53.21875 62.890625 53.21875 53.421875 \nQ 53.21875 48.921875 51.53125 44.890625 \nQ 49.859375 40.875 45.40625 35.40625 \nQ 44.1875 33.984375 37.640625 27.21875 \nQ 31.109375 20.453125 19.1875 8.296875 \nz\n\" id=\"DejaVuSans-50\"/>\n       </defs>\n       <use xlink:href=\"#DejaVuSans-50\"/>\n       <use x=\"63.623047\" xlink:href=\"#DejaVuSans-48\"/>\n       <use x=\"127.246094\" xlink:href=\"#DejaVuSans-48\"/>\n      </g>\n     </g>\n    </g>\n    <g id=\"xtick_6\">\n     <g id=\"line2d_6\">\n      <g>\n       <use style=\"stroke:#000000;stroke-width:0.8;\" x=\"260.2405\" xlink:href=\"#m80a237eecf\" y=\"227.986219\"/>\n      </g>\n     </g>\n     <g id=\"text_6\">\n      <!-- 250 -->\n      <g transform=\"translate(250.69675 242.584656)scale(0.1 -0.1)\">\n       <use xlink:href=\"#DejaVuSans-50\"/>\n       <use x=\"63.623047\" xlink:href=\"#DejaVuSans-53\"/>\n       <use x=\"127.246094\" xlink:href=\"#DejaVuSans-48\"/>\n      </g>\n     </g>\n    </g>\n    <g id=\"xtick_7\">\n     <g id=\"line2d_7\">\n      <g>\n       <use style=\"stroke:#000000;stroke-width:0.8;\" x=\"305.5405\" xlink:href=\"#m80a237eecf\" y=\"227.986219\"/>\n      </g>\n     </g>\n     <g id=\"text_7\">\n      <!-- 300 -->\n      <g transform=\"translate(295.99675 242.584656)scale(0.1 -0.1)\">\n       <defs>\n        <path d=\"M 40.578125 39.3125 \nQ 47.65625 37.796875 51.625 33 \nQ 55.609375 28.21875 55.609375 21.1875 \nQ 55.609375 10.40625 48.1875 4.484375 \nQ 40.765625 -1.421875 27.09375 -1.421875 \nQ 22.515625 -1.421875 17.65625 -0.515625 \nQ 12.796875 0.390625 7.625 2.203125 \nL 7.625 11.71875 \nQ 11.71875 9.328125 16.59375 8.109375 \nQ 21.484375 6.890625 26.8125 6.890625 \nQ 36.078125 6.890625 40.9375 10.546875 \nQ 45.796875 14.203125 45.796875 21.1875 \nQ 45.796875 27.640625 41.28125 31.265625 \nQ 36.765625 34.90625 28.71875 34.90625 \nL 20.21875 34.90625 \nL 20.21875 43.015625 \nL 29.109375 43.015625 \nQ 36.375 43.015625 40.234375 45.921875 \nQ 44.09375 48.828125 44.09375 54.296875 \nQ 44.09375 59.90625 40.109375 62.90625 \nQ 36.140625 65.921875 28.71875 65.921875 \nQ 24.65625 65.921875 20.015625 65.03125 \nQ 15.375 64.15625 9.8125 62.3125 \nL 9.8125 71.09375 \nQ 15.4375 72.65625 20.34375 73.4375 \nQ 25.25 74.21875 29.59375 74.21875 \nQ 40.828125 74.21875 47.359375 69.109375 \nQ 53.90625 64.015625 53.90625 55.328125 \nQ 53.90625 49.265625 50.4375 45.09375 \nQ 46.96875 40.921875 40.578125 39.3125 \nz\n\" id=\"DejaVuSans-51\"/>\n       </defs>\n       <use xlink:href=\"#DejaVuSans-51\"/>\n       <use x=\"63.623047\" xlink:href=\"#DejaVuSans-48\"/>\n       <use x=\"127.246094\" xlink:href=\"#DejaVuSans-48\"/>\n      </g>\n     </g>\n    </g>\n   </g>\n   <g id=\"matplotlib.axis_2\">\n    <g id=\"ytick_1\">\n     <g id=\"line2d_8\">\n      <defs>\n       <path d=\"M 0 0 \nL -3.5 0 \n\" id=\"m69f1d5127c\" style=\"stroke:#000000;stroke-width:0.8;\"/>\n      </defs>\n      <g>\n       <use style=\"stroke:#000000;stroke-width:0.8;\" x=\"33.2875\" xlink:href=\"#m69f1d5127c\" y=\"10.999219\"/>\n      </g>\n     </g>\n     <g id=\"text_8\">\n      <!-- 0 -->\n      <g transform=\"translate(19.925 14.798437)scale(0.1 -0.1)\">\n       <use xlink:href=\"#DejaVuSans-48\"/>\n      </g>\n     </g>\n    </g>\n    <g id=\"ytick_2\">\n     <g id=\"line2d_9\">\n      <g>\n       <use style=\"stroke:#000000;stroke-width:0.8;\" x=\"33.2875\" xlink:href=\"#m69f1d5127c\" y=\"56.299219\"/>\n      </g>\n     </g>\n     <g id=\"text_9\">\n      <!-- 50 -->\n      <g transform=\"translate(13.5625 60.098437)scale(0.1 -0.1)\">\n       <use xlink:href=\"#DejaVuSans-53\"/>\n       <use x=\"63.623047\" xlink:href=\"#DejaVuSans-48\"/>\n      </g>\n     </g>\n    </g>\n    <g id=\"ytick_3\">\n     <g id=\"line2d_10\">\n      <g>\n       <use style=\"stroke:#000000;stroke-width:0.8;\" x=\"33.2875\" xlink:href=\"#m69f1d5127c\" y=\"101.599219\"/>\n      </g>\n     </g>\n     <g id=\"text_10\">\n      <!-- 100 -->\n      <g transform=\"translate(7.2 105.398437)scale(0.1 -0.1)\">\n       <use xlink:href=\"#DejaVuSans-49\"/>\n       <use x=\"63.623047\" xlink:href=\"#DejaVuSans-48\"/>\n       <use x=\"127.246094\" xlink:href=\"#DejaVuSans-48\"/>\n      </g>\n     </g>\n    </g>\n    <g id=\"ytick_4\">\n     <g id=\"line2d_11\">\n      <g>\n       <use style=\"stroke:#000000;stroke-width:0.8;\" x=\"33.2875\" xlink:href=\"#m69f1d5127c\" y=\"146.899219\"/>\n      </g>\n     </g>\n     <g id=\"text_11\">\n      <!-- 150 -->\n      <g transform=\"translate(7.2 150.698437)scale(0.1 -0.1)\">\n       <use xlink:href=\"#DejaVuSans-49\"/>\n       <use x=\"63.623047\" xlink:href=\"#DejaVuSans-53\"/>\n       <use x=\"127.246094\" xlink:href=\"#DejaVuSans-48\"/>\n      </g>\n     </g>\n    </g>\n    <g id=\"ytick_5\">\n     <g id=\"line2d_12\">\n      <g>\n       <use style=\"stroke:#000000;stroke-width:0.8;\" x=\"33.2875\" xlink:href=\"#m69f1d5127c\" y=\"192.199219\"/>\n      </g>\n     </g>\n     <g id=\"text_12\">\n      <!-- 200 -->\n      <g transform=\"translate(7.2 195.998437)scale(0.1 -0.1)\">\n       <use xlink:href=\"#DejaVuSans-50\"/>\n       <use x=\"63.623047\" xlink:href=\"#DejaVuSans-48\"/>\n       <use x=\"127.246094\" xlink:href=\"#DejaVuSans-48\"/>\n      </g>\n     </g>\n    </g>\n   </g>\n   <g id=\"patch_3\">\n    <path d=\"M 33.2875 227.986219 \nL 33.2875 10.546219 \n\" style=\"fill:none;stroke:#000000;stroke-linecap:square;stroke-linejoin:miter;stroke-width:0.8;\"/>\n   </g>\n   <g id=\"patch_4\">\n    <path d=\"M 323.2075 227.986219 \nL 323.2075 10.546219 \n\" style=\"fill:none;stroke:#000000;stroke-linecap:square;stroke-linejoin:miter;stroke-width:0.8;\"/>\n   </g>\n   <g id=\"patch_5\">\n    <path d=\"M 33.2875 227.986219 \nL 323.2075 227.986219 \n\" style=\"fill:none;stroke:#000000;stroke-linecap:square;stroke-linejoin:miter;stroke-width:0.8;\"/>\n   </g>\n   <g id=\"patch_6\">\n    <path d=\"M 33.2875 10.546219 \nL 323.2075 10.546219 \n\" style=\"fill:none;stroke:#000000;stroke-linecap:square;stroke-linejoin:miter;stroke-width:0.8;\"/>\n   </g>\n  </g>\n </g>\n <defs>\n  <clipPath id=\"p82e57e49f5\">\n   <rect height=\"217.44\" width=\"289.92\" x=\"33.2875\" y=\"10.546219\"/>\n  </clipPath>\n </defs>\n</svg>\n",
      "image/png": "[encoded data removed]"
     },
     "metadata": {
      "needs_background": "light"
     }
    }
   ],
   "source": [
    "img = cv2.imread('/home/josmar/proyectos/codes/annotation_tools/background_substraction/bin_close_images/input/001.png')\n",
    "img_casia = cv2.imread('/home/josmar/proyectos/codes/datasets/casia_B1_silhouettes/062-nm-06-180-118.png')\n",
    "\n",
    "# h,w, _ = img.shape\n",
    "# new_img =np.zeros((h, w, 3), np.uint8)\n",
    "# for i in range (h):\n",
    "#     for j in range (w):\n",
    "#         if img[i][j]==0:\n",
    "#             new_img[i][j] = (0, 255, 0)\n",
    "plt.imshow(img)\n",
    "plt.show()\n",
    "plt.imshow(img_casia)\n",
    "plt.show()\n",
    "        "
   ]
  },
  {
   "cell_type": "code",
   "execution_count": 28,
   "metadata": {
    "tags": []
   },
   "outputs": [
    {
     "output_type": "stream",
     "name": "stdout",
     "text": "(array([[  0,   0,   0],\n       [255, 255, 255]], dtype=uint8), array([905284,  16316]))\n(array([[  0,   0,   0],\n       [255, 255, 255]], dtype=uint8), array([75283,  1517]))\n"
    }
   ],
   "source": [
    "print(np.unique(img.reshape(-1, img.shape[-1]), axis=0, return_counts=True))\n",
    "print(np.unique(img_casia.reshape(-1, img.shape[-1]), axis=0, return_counts=True))"
   ]
  },
  {
   "cell_type": "markdown",
   "metadata": {},
   "source": [
    "## trying other methods"
   ]
  },
  {
   "cell_type": "markdown",
   "metadata": {},
   "source": [
    "### Could be found at:\n",
    "https://github.com/cocodataset/cocoapi/issues/131"
   ]
  }
 ],
 "metadata": {
  "language_info": {
   "codemirror_mode": {
    "name": "ipython",
    "version": 3
   },
   "file_extension": ".py",
   "mimetype": "text/x-python",
   "name": "python",
   "nbconvert_exporter": "python",
   "pygments_lexer": "ipython3",
   "version": "3.6.10-final"
  },
  "orig_nbformat": 2,
  "kernelspec": {
   "name": "python_defaultSpec_1601765189883",
   "display_name": "Python 3.6.10 64-bit ('backmat': conda)"
  }
 },
 "nbformat": 4,
 "nbformat_minor": 2
}