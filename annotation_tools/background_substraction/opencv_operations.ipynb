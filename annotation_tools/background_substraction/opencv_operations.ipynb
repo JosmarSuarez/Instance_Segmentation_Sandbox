{
 "cells": [
  {
   "cell_type": "code",
   "execution_count": 26,
   "metadata": {},
   "outputs": [],
   "source": [
    "import cv2\n",
    "import numpy as np\n",
    "import matplotlib.pyplot as plt\n",
    "import re #This allows us to search for patterns"
   ]
  },
  {
   "cell_type": "code",
   "execution_count": 34,
   "metadata": {},
   "outputs": [],
   "source": [
    "def create_folders(folder_list):\n",
    "    for f in folder_list:\n",
    "        if not os.path.isdir(f):\n",
    "            os.mkdir(f)"
   ]
  },
  {
   "cell_type": "markdown",
   "metadata": {},
   "source": [
    "## For videos\n",
    "If output is directory: Save result as images\n",
    "If output is FILE: Save result as video"
   ]
  },
  {
   "cell_type": "code",
   "execution_count": 27,
   "metadata": {
    "tags": []
   },
   "outputs": [],
   "source": [
    "def modify_video(_input , output,kernel,th_low=150,th_up=255, name_prefix=''):    \n",
    "\n",
    "    \n",
    "    # Python program to save a  \n",
    "    # video using OpenCV \n",
    "    \n",
    "    \n",
    "    import cv2 \n",
    "    \n",
    "    # Detect if the output path is a directory or a file\n",
    "    is_directory = os.path.isdir(output)\n",
    "\n",
    "    # Create an object to read  \n",
    "    # from camera \n",
    "    video = cv2.VideoCapture(_input) \n",
    "    \n",
    "    # We need to check if camera \n",
    "    # is opened previously or not \n",
    "    if (video.isOpened() == False):  \n",
    "        print(\"Error reading video file\") \n",
    "    \n",
    "    # We need to set resolutions. \n",
    "    # so, convert them from float to integer. \n",
    "    frame_width = int(video.get(3)) \n",
    "    frame_height = int(video.get(4)) \n",
    "    \n",
    "    size = (frame_width, frame_height) \n",
    "    \n",
    "    # Below VideoWriter object will create \n",
    "    # a frame of above defined The output  \n",
    "    # is stored in 'filename.avi' file.\n",
    "    if(not is_directory):\n",
    "        result = cv2.VideoWriter(output,  \n",
    "                                cv2.VideoWriter_fourcc(*'MP4V'), \n",
    "                                30, size) \n",
    "    n_frame=0\n",
    "    while(True): \n",
    "        ret, frame = video.read() \n",
    "    \n",
    "        if ret == True: \n",
    "            frame = cv2.cvtColor(frame, cv2.COLOR_BGR2GRAY)\n",
    "            _,thresh = cv2.threshold(frame,th_low,th_up,cv2.THRESH_BINARY)\n",
    "\n",
    "            # opening = cv2.morphologyEx(frame, cv2.MORPH_OPEN, kernel)\n",
    "            close = cv2.morphologyEx(thresh, cv2.MORPH_CLOSE, kernel)\n",
    "            # Write the frame into the \n",
    "            # file 'filename.avi' \n",
    "            if(is_directory):\n",
    "                \n",
    "                #This part could be changed deppending on the naming conventions <----------------------\n",
    "                \n",
    "                \n",
    "                out_img = '{}{}.png'.format(name_prefix,str(n_frame).zfill(3))\n",
    "                #--------------------------------------------------------\n",
    "                out_img = os.path.join(output, out_img)\n",
    "                cv2.imwrite(out_img, close)\n",
    "            else:\n",
    "                result.write(close) \n",
    "    \n",
    "            # Display the frame \n",
    "            # saved in the file \n",
    "            # cv2.imshow('Frame', close) \n",
    "\n",
    "            # Press S on keyboard  \n",
    "            # to stop the process \n",
    "            if cv2.waitKey(1) & 0xFF == ord('s'): \n",
    "                break\n",
    "            n_frame+=1\n",
    "    \n",
    "        # Break the loop \n",
    "        else: \n",
    "            break\n",
    "    \n",
    "    # When everything done, release  \n",
    "    # the video capture and video  \n",
    "    # write objects\n",
    "    video.release()\n",
    "    if (not is_directory): \n",
    "        result.release() \n",
    "        \n",
    "    # Closes all the frames \n",
    "    cv2.destroyAllWindows()\n",
    "    \n",
    "    \n",
    "    print(\"{} was successfully saved\".format(output))"
   ]
  },
  {
   "cell_type": "markdown",
   "metadata": {},
   "source": [
    "## Saving MANY videos"
   ]
  },
  {
   "cell_type": "code",
   "execution_count": 15,
   "metadata": {
    "tags": []
   },
   "outputs": [
    {
     "output_type": "stream",
     "name": "stdout",
     "text": "10_720_correction.mp4\n12_720_correction.mp4\n13_720_correction.mp4\n14_720_correction.mp4\n15_720_correction.mp4\n16_720_correction.mp4\n18_720_correction.mp4\n19_720_correction.mp4\n20_720_correction.mp4\n22_720_correction.mp4\n23_720_correction.mp4\n24_720_correction.mp4\n25_720_correction.mp4\n26_720_correction.mp4\n27_720_correction.mp4\n29_720_correction.mp4\n2_720_correction.mp4\n30_720_correction.mp4\n31_720_correction.mp4\n32_720_correction.mp4\n34_720_correction.mp4\n35_720_correction.mp4\n36_720_correction.mp4\n37_720_correction.mp4\n39_720_correction.mp4\n3_720_correction.mp4\n40_720_correction.mp4\n43_720_correction.mp4\n44_720_correction.mp4\n45_720_correction.mp4\n46_720_correction.mp4\n47_720_correction.mp4\n4_720_correction.mp4\n50_720_correction.mp4\n52_720_correction.mp4\n53_720_correction.mp4\n5_720_correction.mp4\n6_720_correction.mp4\n7_720_correction.mp4\n8_720_correction.mp4\n9_720_correction.mp4\n"
    }
   ],
   "source": [
    "input_folder = '/home/josmar/proyectos/Background_Matting/walking_clips/krita_files'\n",
    "kernel = np.ones((5,5),np.uint8)\n",
    "th_low = 100\n",
    "th_up = 255\n",
    "out_folder = 'bin_close_images'\n",
    "video_list = os.listdir(input_folder)\n",
    "video_list.sort()\n",
    "\n",
    "for v in video_list:\n",
    "    output = '{}_close.mp4'.format(v.split('.')[0])\n",
    "    output = os.path.join(out_folder,output)\n",
    "    _input = os.path.join(input_folder,v)\n",
    "    modify_video(_input, output, kernel, th_low, th_up)"
   ]
  },
  {
   "cell_type": "markdown",
   "metadata": {},
   "source": [
    "## Saving as folder\n",
    "You need to create the folder"
   ]
  },
  {
   "cell_type": "code",
   "execution_count": 18,
   "metadata": {
    "tags": []
   },
   "outputs": [
    {
     "output_type": "stream",
     "name": "stdout",
     "text": "bin_close_images/input was successfully saved\n"
    }
   ],
   "source": [
    "my_input = '/home/josmar/proyectos/Background_Matting/walking_clips/krita_files/27_720_correction.mp4'\n",
    "kernel = np.ones((5,5),np.uint8)\n",
    "th_low = 150\n",
    "th_up = 255\n",
    "output = 'bin_close_images/input'\n",
    "if not os.path.isdir(output):\n",
    "    os.mkdir(output)\n",
    "\n",
    "modify_video(my_input, output, kernel, th_low, th_up)"
   ]
  },
  {
   "cell_type": "markdown",
   "metadata": {},
   "source": [
    "## Saving many folders"
   ]
  },
  {
   "cell_type": "code",
   "execution_count": 28,
   "metadata": {
    "tags": []
   },
   "outputs": [
    {
     "output_type": "stream",
     "name": "stdout",
     "text": "bin_close_images/010/silhouette was successfully saved\nbin_close_images/012/silhouette was successfully saved\nbin_close_images/013/silhouette was successfully saved\nbin_close_images/014/silhouette was successfully saved\nbin_close_images/015/silhouette was successfully saved\nbin_close_images/016/silhouette was successfully saved\nbin_close_images/018/silhouette was successfully saved\nbin_close_images/019/silhouette was successfully saved\nbin_close_images/020/silhouette was successfully saved\nbin_close_images/022/silhouette was successfully saved\nbin_close_images/023/silhouette was successfully saved\nbin_close_images/024/silhouette was successfully saved\nbin_close_images/025/silhouette was successfully saved\nbin_close_images/026/silhouette was successfully saved\nbin_close_images/027/silhouette was successfully saved\nbin_close_images/029/silhouette was successfully saved\nbin_close_images/002/silhouette was successfully saved\nbin_close_images/030/silhouette was successfully saved\nbin_close_images/031/silhouette was successfully saved\nbin_close_images/032/silhouette was successfully saved\nbin_close_images/034/silhouette was successfully saved\nbin_close_images/035/silhouette was successfully saved\nbin_close_images/036/silhouette was successfully saved\nbin_close_images/037/silhouette was successfully saved\nbin_close_images/039/silhouette was successfully saved\nbin_close_images/003/silhouette was successfully saved\nbin_close_images/040/silhouette was successfully saved\nbin_close_images/043/silhouette was successfully saved\nbin_close_images/044/silhouette was successfully saved\nbin_close_images/045/silhouette was successfully saved\nbin_close_images/046/silhouette was successfully saved\nbin_close_images/047/silhouette was successfully saved\nbin_close_images/004/silhouette was successfully saved\nbin_close_images/050/silhouette was successfully saved\nbin_close_images/052/silhouette was successfully saved\nbin_close_images/053/silhouette was successfully saved\nbin_close_images/005/silhouette was successfully saved\nbin_close_images/006/silhouette was successfully saved\nbin_close_images/007/silhouette was successfully saved\nbin_close_images/008/silhouette was successfully saved\nbin_close_images/009/silhouette was successfully saved\n"
    }
   ],
   "source": [
    "input_folder = '/home/josmar/proyectos/Background_Matting/walking_clips/krita_files'\n",
    "kernel = np.ones((5,5),np.uint8)\n",
    "th_low = 100\n",
    "th_up = 255\n",
    "out_folder = 'bin_close_images'\n",
    "video_list = os.listdir(input_folder)\n",
    "video_list.sort()\n",
    "\n",
    "for v in video_list:\n",
    "    n_subject = v.split('_')[0].zfill(3)\n",
    "    subject_folder = os.path.join(out_folder,n_subject)\n",
    "    output = os.path.join(subject_folder,'silhouette')\n",
    "    \n",
    "    #Create folder and subfolder\n",
    "    for f in [subject_folder, output]:\n",
    "        if not os.path.isdir(f):\n",
    "            os.mkdir(f)\n",
    "    \n",
    "    _input = os.path.join(input_folder,v)\n",
    "    modify_video(_input, output, kernel, th_low, th_up,n_subject+'-')"
   ]
  },
  {
   "cell_type": "markdown",
   "metadata": {},
   "source": [
    "## Create images folder (This is extra)"
   ]
  },
  {
   "cell_type": "code",
   "execution_count": 42,
   "metadata": {
    "tags": []
   },
   "outputs": [],
   "source": [
    "import cv2 \n",
    "def extract_frames(video_path, out_folder, name_prefix):\n",
    "    # Create an object to read  \n",
    "    # from video \n",
    "    video = cv2.VideoCapture(video_path) \n",
    "    \n",
    "    # We need to check if camera \n",
    "    # is opened previously or not \n",
    "    if (video.isOpened() == False):  \n",
    "        print(\"Error reading video file\") \n",
    "    \n",
    "    # We need to set resolutions. \n",
    "    # so, convert them from float to integer. \n",
    "    frame_width = int(video.get(3)) \n",
    "    frame_height = int(video.get(4)) \n",
    "    \n",
    "    size = (frame_width, frame_height) \n",
    "    \n",
    "    # Below VideoWriter object will create \n",
    "    # a frame of above defined The output  \n",
    "    # is stored in 'filename.avi' file. \n",
    "    n_frame = 0\n",
    "    while(True): \n",
    "        ret, frame = video.read() \n",
    "    \n",
    "        if ret == True:   \n",
    "    \n",
    "            # Display the frame \n",
    "            # saved in the file \n",
    "            frame_str = str(n_frame).zfill(3)\n",
    "            filename = '{}{}.jpg'.format(name_prefix,str(n_frame).zfill(3))\n",
    "            filename = os.path.join(out_folder,filename)\n",
    "            cv2.imwrite(filename, frame)  \n",
    "    \n",
    "            # Press S on keyboard  \n",
    "            # to stop the process \n",
    "            if cv2.waitKey(1) & 0xFF == ord('s'): \n",
    "                break\n",
    "            n_frame+=1\n",
    "        # Break the loop \n",
    "        else: \n",
    "            break\n",
    "    \n",
    "    # When everything done, release  \n",
    "    # the video capture and video  \n",
    "    # write objects \n",
    "    video.release()  \n",
    "        \n",
    "    \n",
    "    print(\"{} was successfully saved\".format(video_path)) "
   ]
  },
  {
   "cell_type": "code",
   "execution_count": 46,
   "metadata": {
    "tags": []
   },
   "outputs": [
    {
     "output_type": "stream",
     "name": "stdout",
     "text": "/home/josmar/proyectos/Background_Matting/walking_clips/results/2/1280x720/trimmed.mp4 was successfully saved\n/home/josmar/proyectos/Background_Matting/walking_clips/results/3/1280x720/trimmed.mp4 was successfully saved\n/home/josmar/proyectos/Background_Matting/walking_clips/results/4/1280x720/trimmed.mp4 was successfully saved\n/home/josmar/proyectos/Background_Matting/walking_clips/results/5/1280x720/trimmed.mp4 was successfully saved\n/home/josmar/proyectos/Background_Matting/walking_clips/results/6/1280x720/trimmed.mp4 was successfully saved\n/home/josmar/proyectos/Background_Matting/walking_clips/results/7/1280x720/trimmed.mp4 was successfully saved\n/home/josmar/proyectos/Background_Matting/walking_clips/results/8/1280x720/trimmed.mp4 was successfully saved\n/home/josmar/proyectos/Background_Matting/walking_clips/results/9/1280x720/trimmed.mp4 was successfully saved\n/home/josmar/proyectos/Background_Matting/walking_clips/results/10/1280x720/trimmed.mp4 was successfully saved\n/home/josmar/proyectos/Background_Matting/walking_clips/results/12/1280x720/trimmed.mp4 was successfully saved\n/home/josmar/proyectos/Background_Matting/walking_clips/results/13/1280x720/trimmed.mp4 was successfully saved\n/home/josmar/proyectos/Background_Matting/walking_clips/results/14/1280x720/trimmed.mp4 was successfully saved\n/home/josmar/proyectos/Background_Matting/walking_clips/results/15/1280x720/trimmed.mp4 was successfully saved\n/home/josmar/proyectos/Background_Matting/walking_clips/results/16/1280x720/trimmed.mp4 was successfully saved\n/home/josmar/proyectos/Background_Matting/walking_clips/results/18/1280x720/trimmed.mp4 was successfully saved\n/home/josmar/proyectos/Background_Matting/walking_clips/results/19/1280x720/trimmed.mp4 was successfully saved\n/home/josmar/proyectos/Background_Matting/walking_clips/results/20/1280x720/trimmed.mp4 was successfully saved\n/home/josmar/proyectos/Background_Matting/walking_clips/results/22/1280x720/trimmed.mp4 was successfully saved\n/home/josmar/proyectos/Background_Matting/walking_clips/results/23/1280x720/trimmed.mp4 was successfully saved\n/home/josmar/proyectos/Background_Matting/walking_clips/results/24/1280x720/trimmed.mp4 was successfully saved\n/home/josmar/proyectos/Background_Matting/walking_clips/results/25/1280x720/trimmed.mp4 was successfully saved\n/home/josmar/proyectos/Background_Matting/walking_clips/results/26/1280x720/trimmed.mp4 was successfully saved\n/home/josmar/proyectos/Background_Matting/walking_clips/results/27/1280x720/trimmed.mp4 was successfully saved\n/home/josmar/proyectos/Background_Matting/walking_clips/results/29/1280x720/trimmed.mp4 was successfully saved\n/home/josmar/proyectos/Background_Matting/walking_clips/results/30/1280x720/trimmed.mp4 was successfully saved\n/home/josmar/proyectos/Background_Matting/walking_clips/results/31/1280x720/trimmed.mp4 was successfully saved\n/home/josmar/proyectos/Background_Matting/walking_clips/results/32/1280x720/trimmed.mp4 was successfully saved\n/home/josmar/proyectos/Background_Matting/walking_clips/results/34/1280x720/trimmed.mp4 was successfully saved\n/home/josmar/proyectos/Background_Matting/walking_clips/results/35/1280x720/trimmed.mp4 was successfully saved\n/home/josmar/proyectos/Background_Matting/walking_clips/results/36/1280x720/trimmed.mp4 was successfully saved\n/home/josmar/proyectos/Background_Matting/walking_clips/results/37/1280x720/trimmed.mp4 was successfully saved\n/home/josmar/proyectos/Background_Matting/walking_clips/results/39/1280x720/trimmed.mp4 was successfully saved\n/home/josmar/proyectos/Background_Matting/walking_clips/results/40/1280x720/trimmed.mp4 was successfully saved\n/home/josmar/proyectos/Background_Matting/walking_clips/results/43/1280x720/trimmed.mp4 was successfully saved\n/home/josmar/proyectos/Background_Matting/walking_clips/results/44/1280x720/trimmed.mp4 was successfully saved\n/home/josmar/proyectos/Background_Matting/walking_clips/results/45/1280x720/trimmed.mp4 was successfully saved\n/home/josmar/proyectos/Background_Matting/walking_clips/results/46/1280x720/trimmed.mp4 was successfully saved\n/home/josmar/proyectos/Background_Matting/walking_clips/results/47/1280x720/trimmed.mp4 was successfully saved\n/home/josmar/proyectos/Background_Matting/walking_clips/results/50/1280x720/trimmed.mp4 was successfully saved\n/home/josmar/proyectos/Background_Matting/walking_clips/results/52/1280x720/trimmed.mp4 was successfully saved\n/home/josmar/proyectos/Background_Matting/walking_clips/results/53/1280x720/trimmed.mp4 was successfully saved\n"
    }
   ],
   "source": [
    "root_folder = '/home/josmar/proyectos/codes/annotation_tools/background_substraction/bin_close_images'\n",
    "video_list = os.listdir(root_folder)\n",
    "video_list.sort()\n",
    "for v in video_list:\n",
    "\n",
    "    video_path = '/home/josmar/proyectos/Background_Matting/walking_clips/results/{}/1280x720/trimmed.mp4'.format(int(v))\n",
    "    out_folder = '{}/{}/img'.format(root_folder,v)\n",
    "    name_prefix = '{}-'.format(v)\n",
    "    # Create folder and subfolder\n",
    "    create_folders([out_folder])\n",
    "    extract_frames(video_path, out_folder, name_prefix)"
   ]
  },
  {
   "cell_type": "code",
   "execution_count": 54,
   "metadata": {
    "tags": []
   },
   "outputs": [
    {
     "output_type": "stream",
     "name": "stdout",
     "text": "/home/josmar/proyectos/codes/annotation_tools/background_substraction/bin_close_images/002/silhouette/002-300.png  doesn't exist, not removed\n/home/josmar/proyectos/codes/annotation_tools/background_substraction/bin_close_images/003/silhouette/003-300.png  removed\n/home/josmar/proyectos/codes/annotation_tools/background_substraction/bin_close_images/004/silhouette/004-300.png  removed\n/home/josmar/proyectos/codes/annotation_tools/background_substraction/bin_close_images/005/silhouette/005-300.png  removed\n/home/josmar/proyectos/codes/annotation_tools/background_substraction/bin_close_images/006/silhouette/006-300.png  removed\n/home/josmar/proyectos/codes/annotation_tools/background_substraction/bin_close_images/007/silhouette/007-300.png  removed\n/home/josmar/proyectos/codes/annotation_tools/background_substraction/bin_close_images/008/silhouette/008-300.png  removed\n/home/josmar/proyectos/codes/annotation_tools/background_substraction/bin_close_images/009/silhouette/009-300.png  removed\n/home/josmar/proyectos/codes/annotation_tools/background_substraction/bin_close_images/010/silhouette/010-300.png  removed\n/home/josmar/proyectos/codes/annotation_tools/background_substraction/bin_close_images/012/silhouette/012-300.png  removed\n/home/josmar/proyectos/codes/annotation_tools/background_substraction/bin_close_images/013/silhouette/013-300.png  removed\n/home/josmar/proyectos/codes/annotation_tools/background_substraction/bin_close_images/014/silhouette/014-300.png  removed\n/home/josmar/proyectos/codes/annotation_tools/background_substraction/bin_close_images/015/silhouette/015-300.png  removed\n/home/josmar/proyectos/codes/annotation_tools/background_substraction/bin_close_images/016/silhouette/016-300.png  removed\n/home/josmar/proyectos/codes/annotation_tools/background_substraction/bin_close_images/018/silhouette/018-300.png  removed\n/home/josmar/proyectos/codes/annotation_tools/background_substraction/bin_close_images/019/silhouette/019-300.png  removed\n/home/josmar/proyectos/codes/annotation_tools/background_substraction/bin_close_images/020/silhouette/020-300.png  removed\n/home/josmar/proyectos/codes/annotation_tools/background_substraction/bin_close_images/022/silhouette/022-300.png  removed\n/home/josmar/proyectos/codes/annotation_tools/background_substraction/bin_close_images/023/silhouette/023-300.png  removed\n/home/josmar/proyectos/codes/annotation_tools/background_substraction/bin_close_images/024/silhouette/024-300.png  removed\n/home/josmar/proyectos/codes/annotation_tools/background_substraction/bin_close_images/025/silhouette/025-300.png  removed\n/home/josmar/proyectos/codes/annotation_tools/background_substraction/bin_close_images/026/silhouette/026-300.png  removed\n/home/josmar/proyectos/codes/annotation_tools/background_substraction/bin_close_images/027/silhouette/027-300.png  removed\n/home/josmar/proyectos/codes/annotation_tools/background_substraction/bin_close_images/029/silhouette/029-300.png  removed\n/home/josmar/proyectos/codes/annotation_tools/background_substraction/bin_close_images/030/silhouette/030-300.png  removed\n/home/josmar/proyectos/codes/annotation_tools/background_substraction/bin_close_images/031/silhouette/031-300.png  removed\n/home/josmar/proyectos/codes/annotation_tools/background_substraction/bin_close_images/032/silhouette/032-300.png  removed\n/home/josmar/proyectos/codes/annotation_tools/background_substraction/bin_close_images/034/silhouette/034-300.png  removed\n/home/josmar/proyectos/codes/annotation_tools/background_substraction/bin_close_images/035/silhouette/035-300.png  removed\n/home/josmar/proyectos/codes/annotation_tools/background_substraction/bin_close_images/036/silhouette/036-300.png  removed\n/home/josmar/proyectos/codes/annotation_tools/background_substraction/bin_close_images/037/silhouette/037-300.png  removed\n/home/josmar/proyectos/codes/annotation_tools/background_substraction/bin_close_images/039/silhouette/039-300.png  removed\n/home/josmar/proyectos/codes/annotation_tools/background_substraction/bin_close_images/040/silhouette/040-300.png  removed\n/home/josmar/proyectos/codes/annotation_tools/background_substraction/bin_close_images/043/silhouette/043-300.png  removed\n/home/josmar/proyectos/codes/annotation_tools/background_substraction/bin_close_images/044/silhouette/044-300.png  removed\n/home/josmar/proyectos/codes/annotation_tools/background_substraction/bin_close_images/045/silhouette/045-300.png  removed\n/home/josmar/proyectos/codes/annotation_tools/background_substraction/bin_close_images/046/silhouette/046-300.png  removed\n/home/josmar/proyectos/codes/annotation_tools/background_substraction/bin_close_images/047/silhouette/047-300.png  removed\n/home/josmar/proyectos/codes/annotation_tools/background_substraction/bin_close_images/050/silhouette/050-300.png  removed\n/home/josmar/proyectos/codes/annotation_tools/background_substraction/bin_close_images/052/silhouette/052-300.png  removed\n/home/josmar/proyectos/codes/annotation_tools/background_substraction/bin_close_images/053/silhouette/053-300.png  doesn't exist, not removed\n"
    }
   ],
   "source": [
    "root_folder = '/home/josmar/proyectos/codes/annotation_tools/background_substraction/bin_close_images'\n",
    "video_list = os.listdir(root_folder)\n",
    "video_list.sort()\n",
    "for v in video_list:\n",
    "    _file = '/home/josmar/proyectos/codes/annotation_tools/background_substraction/bin_close_images/{}/silhouette/{}-300.png'.format(v,v)\n",
    "    \n",
    "    if os.path.exists(_file):\n",
    "        os.remove(_file)\n",
    "        print(_file, \" removed\")\n",
    "    else:\n",
    "        print(_file, \" doesn't exist, not removed\")"
   ]
  }
 ],
 "metadata": {
  "language_info": {
   "codemirror_mode": {
    "name": "ipython",
    "version": 3
   },
   "file_extension": ".py",
   "mimetype": "text/x-python",
   "name": "python",
   "nbconvert_exporter": "python",
   "pygments_lexer": "ipython3",
   "version": "3.6.10-final"
  },
  "orig_nbformat": 2,
  "kernelspec": {
   "name": "python_defaultSpec_1601845053308",
   "display_name": "Python 3.6.10 64-bit ('backmat': conda)"
  }
 },
 "nbformat": 4,
 "nbformat_minor": 2
}