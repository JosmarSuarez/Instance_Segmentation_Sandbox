{
 "cells": [
  {
   "cell_type": "code",
   "execution_count": 2,
   "metadata": {},
   "outputs": [],
   "source": [
    "import cv2\n",
    "import numpy as np\n",
    "import matplotlib.pyplot as plt"
   ]
  },
  {
   "cell_type": "markdown",
   "metadata": {},
   "source": [
    "## For videos\n",
    "If output is directory: Save result as images\n",
    "If output is FILE: Save result as video"
   ]
  },
  {
   "cell_type": "code",
   "execution_count": 48,
   "metadata": {
    "tags": []
   },
   "outputs": [],
   "source": [
    "def modify_video(_input , output,kernel,th_low=150,th_up=255):    \n",
    "\n",
    "    \n",
    "    # Python program to save a  \n",
    "    # video using OpenCV \n",
    "    \n",
    "    \n",
    "    import cv2 \n",
    "    \n",
    "    # Detect if the output path is a directory or a file\n",
    "    is_directory = os.path.isdir(output)\n",
    "\n",
    "    # Create an object to read  \n",
    "    # from camera \n",
    "    video = cv2.VideoCapture(_input) \n",
    "    \n",
    "    # We need to check if camera \n",
    "    # is opened previously or not \n",
    "    if (video.isOpened() == False):  \n",
    "        print(\"Error reading video file\") \n",
    "    \n",
    "    # We need to set resolutions. \n",
    "    # so, convert them from float to integer. \n",
    "    frame_width = int(video.get(3)) \n",
    "    frame_height = int(video.get(4)) \n",
    "    \n",
    "    size = (frame_width, frame_height) \n",
    "    \n",
    "    # Below VideoWriter object will create \n",
    "    # a frame of above defined The output  \n",
    "    # is stored in 'filename.avi' file.\n",
    "    if(not is_directory):\n",
    "        result = cv2.VideoWriter(output,  \n",
    "                                cv2.VideoWriter_fourcc(*'MP4V'), \n",
    "                                30, size) \n",
    "    n_frame=0\n",
    "    while(True): \n",
    "        ret, frame = video.read() \n",
    "    \n",
    "        if ret == True: \n",
    "            _,thresh = cv2.threshold(frame,th_low,th_up,cv2.THRESH_BINARY)\n",
    "\n",
    "            opening = cv2.morphologyEx(frame, cv2.MORPH_OPEN, kernel)\n",
    "            close = cv2.morphologyEx(thresh, cv2.MORPH_CLOSE, kernel)\n",
    "            # Write the frame into the \n",
    "            # file 'filename.avi' \n",
    "            if(is_directory):\n",
    "                \n",
    "                out_img = '{}.png'.format(str(n_frame).zfill(3))\n",
    "                out_img = os.path.join(output, out_img)\n",
    "                cv2.imwrite(out_img, close)\n",
    "            else:\n",
    "                result.write(close) \n",
    "    \n",
    "            # Display the frame \n",
    "            # saved in the file \n",
    "            # cv2.imshow('Frame', close) \n",
    "\n",
    "            # Press S on keyboard  \n",
    "            # to stop the process \n",
    "            if cv2.waitKey(1) & 0xFF == ord('s'): \n",
    "                break\n",
    "            n_frame+=1\n",
    "    \n",
    "        # Break the loop \n",
    "        else: \n",
    "            break\n",
    "    \n",
    "    # When everything done, release  \n",
    "    # the video capture and video  \n",
    "    # write objects\n",
    "    video.release()\n",
    "    if (not is_directory): \n",
    "        result.release() \n",
    "        \n",
    "    # Closes all the frames \n",
    "    cv2.destroyAllWindows()\n",
    "    \n",
    "    \n",
    "    print(\"{} was successfully saved\".format(output))"
   ]
  },
  {
   "cell_type": "code",
   "execution_count": 16,
   "metadata": {
    "tags": []
   },
   "outputs": [
    {
     "output_type": "stream",
     "name": "stdout",
     "text": "bin_close_images/10_720_correction_close.mp4 was successfully saved\n"
    }
   ],
   "source": [
    "input_folder = '/home/josmar/proyectos/Background_Matting/walking_clips/krita_files'\n",
    "kernel = np.ones((5,5),np.uint8)\n",
    "th_low = 100\n",
    "th_up = 255\n",
    "out_folder = 'bin_close_images'\n",
    "video_list = os.listdir(input_folder)\n",
    "video_list.sort()\n",
    "\n",
    "for v in video_list:\n",
    "    output = '{}_close.mp4'.format(v.split('.')[0])\n",
    "    output = os.path.join(out_folder,output)\n",
    "    _input = os.path.join(input_folder,v)\n",
    "    modify_video(_input, output, kernel, th_low, th_up)"
   ]
  },
  {
   "cell_type": "code",
   "execution_count": 47,
   "metadata": {
    "tags": []
   },
   "outputs": [
    {
     "output_type": "stream",
     "name": "stdout",
     "text": "0 bin_close_images/input/000.png\n1 bin_close_images/input/001.png\n2 bin_close_images/input/002.png\n3 bin_close_images/input/003.png\n4 bin_close_images/input/004.png\n5 bin_close_images/input/005.png\n6 bin_close_images/input/006.png\n7 bin_close_images/input/007.png\n8 bin_close_images/input/008.png\n9 bin_close_images/input/009.png\n10 bin_close_images/input/010.png\n11 bin_close_images/input/011.png\n12 bin_close_images/input/012.png\n13 bin_close_images/input/013.png\n14 bin_close_images/input/014.png\n15 bin_close_images/input/015.png\n16 bin_close_images/input/016.png\n17 bin_close_images/input/017.png\n18 bin_close_images/input/018.png\n19 bin_close_images/input/019.png\n20 bin_close_images/input/020.png\n21 bin_close_images/input/021.png\n22 bin_close_images/input/022.png\n23 bin_close_images/input/023.png\n24 bin_close_images/input/024.png\n25 bin_close_images/input/025.png\n26 bin_close_images/input/026.png\n27 bin_close_images/input/027.png\n28 bin_close_images/input/028.png\n29 bin_close_images/input/029.png\n30 bin_close_images/input/030.png\n31 bin_close_images/input/031.png\n32 bin_close_images/input/032.png\n33 bin_close_images/input/033.png\n34 bin_close_images/input/034.png\n35 bin_close_images/input/035.png\n36 bin_close_images/input/036.png\n37 bin_close_images/input/037.png\n38 bin_close_images/input/038.png\n39 bin_close_images/input/039.png\n40 bin_close_images/input/040.png\n41 bin_close_images/input/041.png\n42 bin_close_images/input/042.png\n43 bin_close_images/input/043.png\n44 bin_close_images/input/044.png\n45 bin_close_images/input/045.png\n46 bin_close_images/input/046.png\n47 bin_close_images/input/047.png\n48 bin_close_images/input/048.png\n49 bin_close_images/input/049.png\n50 bin_close_images/input/050.png\n51 bin_close_images/input/051.png\n52 bin_close_images/input/052.png\n53 bin_close_images/input/053.png\n54 bin_close_images/input/054.png\n55 bin_close_images/input/055.png\n56 bin_close_images/input/056.png\n57 bin_close_images/input/057.png\n58 bin_close_images/input/058.png\n59 bin_close_images/input/059.png\n60 bin_close_images/input/060.png\n61 bin_close_images/input/061.png\n62 bin_close_images/input/062.png\n63 bin_close_images/input/063.png\n64 bin_close_images/input/064.png\n65 bin_close_images/input/065.png\n66 bin_close_images/input/066.png\n67 bin_close_images/input/067.png\n68 bin_close_images/input/068.png\n69 bin_close_images/input/069.png\n70 bin_close_images/input/070.png\n71 bin_close_images/input/071.png\n72 bin_close_images/input/072.png\n73 bin_close_images/input/073.png\n74 bin_close_images/input/074.png\n75 bin_close_images/input/075.png\n76 bin_close_images/input/076.png\n77 bin_close_images/input/077.png\n78 bin_close_images/input/078.png\n79 bin_close_images/input/079.png\n80 bin_close_images/input/080.png\n81 bin_close_images/input/081.png\n82 bin_close_images/input/082.png\n83 bin_close_images/input/083.png\n84 bin_close_images/input/084.png\n85 bin_close_images/input/085.png\n86 bin_close_images/input/086.png\n87 bin_close_images/input/087.png\n88 bin_close_images/input/088.png\n89 bin_close_images/input/089.png\n90 bin_close_images/input/090.png\n91 bin_close_images/input/091.png\n92 bin_close_images/input/092.png\n93 bin_close_images/input/093.png\n94 bin_close_images/input/094.png\n95 bin_close_images/input/095.png\n96 bin_close_images/input/096.png\n97 bin_close_images/input/097.png\n98 bin_close_images/input/098.png\n99 bin_close_images/input/099.png\n100 bin_close_images/input/100.png\n101 bin_close_images/input/101.png\n102 bin_close_images/input/102.png\n103 bin_close_images/input/103.png\n104 bin_close_images/input/104.png\n105 bin_close_images/input/105.png\n106 bin_close_images/input/106.png\n107 bin_close_images/input/107.png\n108 bin_close_images/input/108.png\n109 bin_close_images/input/109.png\n110 bin_close_images/input/110.png\n111 bin_close_images/input/111.png\n112 bin_close_images/input/112.png\n113 bin_close_images/input/113.png\n114 bin_close_images/input/114.png\n115 bin_close_images/input/115.png\n116 bin_close_images/input/116.png\n117 bin_close_images/input/117.png\n118 bin_close_images/input/118.png\n119 bin_close_images/input/119.png\n120 bin_close_images/input/120.png\n121 bin_close_images/input/121.png\n122 bin_close_images/input/122.png\n123 bin_close_images/input/123.png\n124 bin_close_images/input/124.png\n125 bin_close_images/input/125.png\n126 bin_close_images/input/126.png\n127 bin_close_images/input/127.png\n128 bin_close_images/input/128.png\n129 bin_close_images/input/129.png\n130 bin_close_images/input/130.png\n131 bin_close_images/input/131.png\n132 bin_close_images/input/132.png\n133 bin_close_images/input/133.png\n134 bin_close_images/input/134.png\n135 bin_close_images/input/135.png\n136 bin_close_images/input/136.png\n137 bin_close_images/input/137.png\n138 bin_close_images/input/138.png\n139 bin_close_images/input/139.png\n140 bin_close_images/input/140.png\n141 bin_close_images/input/141.png\n142 bin_close_images/input/142.png\n143 bin_close_images/input/143.png\n144 bin_close_images/input/144.png\n145 bin_close_images/input/145.png\n146 bin_close_images/input/146.png\n147 bin_close_images/input/147.png\n148 bin_close_images/input/148.png\n149 bin_close_images/input/149.png\n150 bin_close_images/input/150.png\n151 bin_close_images/input/151.png\n152 bin_close_images/input/152.png\n153 bin_close_images/input/153.png\n154 bin_close_images/input/154.png\n155 bin_close_images/input/155.png\n156 bin_close_images/input/156.png\n157 bin_close_images/input/157.png\n158 bin_close_images/input/158.png\n159 bin_close_images/input/159.png\n160 bin_close_images/input/160.png\n161 bin_close_images/input/161.png\n162 bin_close_images/input/162.png\n163 bin_close_images/input/163.png\n164 bin_close_images/input/164.png\n165 bin_close_images/input/165.png\n166 bin_close_images/input/166.png\n167 bin_close_images/input/167.png\n168 bin_close_images/input/168.png\n169 bin_close_images/input/169.png\n170 bin_close_images/input/170.png\n171 bin_close_images/input/171.png\n172 bin_close_images/input/172.png\n173 bin_close_images/input/173.png\n174 bin_close_images/input/174.png\n175 bin_close_images/input/175.png\n176 bin_close_images/input/176.png\n177 bin_close_images/input/177.png\n178 bin_close_images/input/178.png\n179 bin_close_images/input/179.png\n180 bin_close_images/input/180.png\n181 bin_close_images/input/181.png\n182 bin_close_images/input/182.png\n183 bin_close_images/input/183.png\n184 bin_close_images/input/184.png\n185 bin_close_images/input/185.png\n186 bin_close_images/input/186.png\n187 bin_close_images/input/187.png\n188 bin_close_images/input/188.png\n189 bin_close_images/input/189.png\n190 bin_close_images/input/190.png\n191 bin_close_images/input/191.png\n192 bin_close_images/input/192.png\n193 bin_close_images/input/193.png\n194 bin_close_images/input/194.png\n195 bin_close_images/input/195.png\n196 bin_close_images/input/196.png\n197 bin_close_images/input/197.png\n198 bin_close_images/input/198.png\n199 bin_close_images/input/199.png\n200 bin_close_images/input/200.png\n201 bin_close_images/input/201.png\n202 bin_close_images/input/202.png\n203 bin_close_images/input/203.png\n204 bin_close_images/input/204.png\n205 bin_close_images/input/205.png\n206 bin_close_images/input/206.png\n207 bin_close_images/input/207.png\n208 bin_close_images/input/208.png\n209 bin_close_images/input/209.png\n210 bin_close_images/input/210.png\n211 bin_close_images/input/211.png\n212 bin_close_images/input/212.png\n213 bin_close_images/input/213.png\n214 bin_close_images/input/214.png\n215 bin_close_images/input/215.png\n216 bin_close_images/input/216.png\n217 bin_close_images/input/217.png\n218 bin_close_images/input/218.png\n219 bin_close_images/input/219.png\n220 bin_close_images/input/220.png\n221 bin_close_images/input/221.png\n222 bin_close_images/input/222.png\n223 bin_close_images/input/223.png\n224 bin_close_images/input/224.png\n225 bin_close_images/input/225.png\n226 bin_close_images/input/226.png\n227 bin_close_images/input/227.png\n228 bin_close_images/input/228.png\n229 bin_close_images/input/229.png\n230 bin_close_images/input/230.png\n231 bin_close_images/input/231.png\n232 bin_close_images/input/232.png\n233 bin_close_images/input/233.png\n234 bin_close_images/input/234.png\n235 bin_close_images/input/235.png\n236 bin_close_images/input/236.png\n237 bin_close_images/input/237.png\n238 bin_close_images/input/238.png\n239 bin_close_images/input/239.png\n240 bin_close_images/input/240.png\n241 bin_close_images/input/241.png\n242 bin_close_images/input/242.png\n243 bin_close_images/input/243.png\n244 bin_close_images/input/244.png\n245 bin_close_images/input/245.png\n246 bin_close_images/input/246.png\n247 bin_close_images/input/247.png\n248 bin_close_images/input/248.png\n249 bin_close_images/input/249.png\n250 bin_close_images/input/250.png\n251 bin_close_images/input/251.png\n252 bin_close_images/input/252.png\n253 bin_close_images/input/253.png\n254 bin_close_images/input/254.png\n255 bin_close_images/input/255.png\n256 bin_close_images/input/256.png\n257 bin_close_images/input/257.png\n258 bin_close_images/input/258.png\n259 bin_close_images/input/259.png\n260 bin_close_images/input/260.png\n261 bin_close_images/input/261.png\n262 bin_close_images/input/262.png\n263 bin_close_images/input/263.png\n264 bin_close_images/input/264.png\n265 bin_close_images/input/265.png\n266 bin_close_images/input/266.png\n267 bin_close_images/input/267.png\n268 bin_close_images/input/268.png\n269 bin_close_images/input/269.png\n270 bin_close_images/input/270.png\n271 bin_close_images/input/271.png\n272 bin_close_images/input/272.png\n273 bin_close_images/input/273.png\n274 bin_close_images/input/274.png\n275 bin_close_images/input/275.png\n276 bin_close_images/input/276.png\n277 bin_close_images/input/277.png\n278 bin_close_images/input/278.png\n279 bin_close_images/input/279.png\n280 bin_close_images/input/280.png\n281 bin_close_images/input/281.png\n282 bin_close_images/input/282.png\n283 bin_close_images/input/283.png\n284 bin_close_images/input/284.png\n285 bin_close_images/input/285.png\n286 bin_close_images/input/286.png\n287 bin_close_images/input/287.png\n288 bin_close_images/input/288.png\n289 bin_close_images/input/289.png\n290 bin_close_images/input/290.png\n291 bin_close_images/input/291.png\n292 bin_close_images/input/292.png\n293 bin_close_images/input/293.png\n294 bin_close_images/input/294.png\n295 bin_close_images/input/295.png\n296 bin_close_images/input/296.png\n297 bin_close_images/input/297.png\n298 bin_close_images/input/298.png\n299 bin_close_images/input/299.png\n300 bin_close_images/input/300.png\nbin_close_images/input was successfully saved\n"
    }
   ],
   "source": [
    "my_input = '/home/josmar/proyectos/Background_Matting/walking_clips/krita_files/27_720_correction.mp4'\n",
    "kernel = np.ones((5,5),np.uint8)\n",
    "th_low = 150\n",
    "th_up = 255\n",
    "output = 'bin_close_images/input'\n",
    "\n",
    "modify_video(my_input, output, kernel, th_low, th_up)"
   ]
  },
  {
   "cell_type": "code",
   "execution_count": 40,
   "metadata": {
    "tags": []
   },
   "outputs": [
    {
     "output_type": "execute_result",
     "data": {
      "text/plain": "True"
     },
     "metadata": {},
     "execution_count": 40
    }
   ],
   "source": [
    "img = cv2.imread('/home/josmar/proyectos/codes/annotation_tools/background_substraction/terraza/back_image.png')\n",
    "destiny = 'bin_close_images/input/000.png'\n",
    "cv2.imwrite(destiny, img)"
   ]
  },
  {
   "cell_type": "code",
   "execution_count": 21,
   "metadata": {
    "tags": []
   },
   "outputs": [
    {
     "output_type": "stream",
     "name": "stdout",
     "text": "004\n"
    }
   ],
   "source": [
    "n=4\n",
    "print(str(n).zfill(3))"
   ]
  }
 ],
 "metadata": {
  "language_info": {
   "codemirror_mode": {
    "name": "ipython",
    "version": 3
   },
   "file_extension": ".py",
   "mimetype": "text/x-python",
   "name": "python",
   "nbconvert_exporter": "python",
   "pygments_lexer": "ipython3",
   "version": "3.6.10-final"
  },
  "orig_nbformat": 2,
  "kernelspec": {
   "name": "python_defaultSpec_1601688996619",
   "display_name": "Python 3.6.10 64-bit ('backmat': conda)"
  }
 },
 "nbformat": 4,
 "nbformat_minor": 2
}