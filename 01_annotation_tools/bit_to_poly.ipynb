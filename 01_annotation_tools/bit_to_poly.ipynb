{
 "cells": [
  {
   "cell_type": "markdown",
   "metadata": {},
   "source": [
    "# Bitmask to polygonal annotation\n",
    "This notebook contains functions that allow us to transform bitmasks to polygonal annotations in COCO format\n",
    "## Main code"
   ]
  },
  {
   "cell_type": "code",
   "execution_count": 4,
   "metadata": {},
   "outputs": [],
   "source": [
    "from PIL import Image # (pip install Pillow)\n",
    "import matplotlib.pyplot as plt\n",
    "import numpy as np                                 # (pip install numpy)\n",
    "from skimage import measure                        # (pip install scikit-image)\n",
    "from shapely.geometry import Polygon, MultiPolygon # (pip install Shapely)\n",
    "import cv2\n",
    "import os"
   ]
  },
  {
   "cell_type": "code",
   "execution_count": 5,
   "metadata": {
    "tags": []
   },
   "outputs": [],
   "source": [
    "\n",
    "def create_submask(my_img):\n",
    "    sub_masks = {}\n",
    "    width, height, _ = my_img.shape\n",
    "    black = np.ones(3)*255\n",
    "\n",
    "    for x in range(width):\n",
    "        for y in range(height):\n",
    "            \n",
    "            color = my_img[x][y][:3]\n",
    "            if((black==color).all()):\n",
    "                pixel_str = str(color)\n",
    "                sub_mask = sub_masks.get(pixel_str)\n",
    "                if sub_mask is None:\n",
    "                # Create a sub-mask (one bit per pixel) and add to the dictionary\n",
    "                    # Note: we add 1 pixel of padding in each direction\n",
    "                    # because the contours module doesn't handle cases\n",
    "                    # where pixels bleed to the edge of the image\n",
    "                    sub_masks[pixel_str] = np.zeros((width+2, height+2)) \n",
    "                # Set the pixel value to 1 (default is 0), accounting for padding\n",
    "                sub_masks[pixel_str][x+1][y+1]=255\n",
    "    return sub_masks\n",
    "\n"
   ]
  },
  {
   "cell_type": "code",
   "execution_count": 6,
   "metadata": {},
   "outputs": [],
   "source": [
    "def create_submask_annotation(sub_mask, image_id, category_id, annotation_id, is_crowd):\n",
    "    # Find contours (boundary lines) around each sub-mask\n",
    "    # Note: there could be multiple contours if the object\n",
    "    # is partially occluded. (E.g. an elephant behind a tree)\n",
    "    contours = measure.find_contours(sub_mask, 0.5, positive_orientation='low')\n",
    "\n",
    "    segmentations = []\n",
    "    polygons = []\n",
    "    for contour in contours:\n",
    "        # Flip from (row, col) representation to (x, y)\n",
    "        # and subtract the padding pixel\n",
    "        for i in range(len(contour)):\n",
    "            row, col = contour[i]\n",
    "            contour[i] = (col - 1, row - 1)\n",
    "\n",
    "        # Make a polygon and simplify it\n",
    "        poly = Polygon(contour)\n",
    "        poly = poly.simplify(1.0, preserve_topology=False)\n",
    "        polygons.append(poly)\n",
    "        segmentation = np.array(poly.exterior.coords).ravel().tolist()\n",
    "        segmentations.append(segmentation)\n",
    "\n",
    "    # Combine the polygons to calculate the bounding box and area\n",
    "    multi_poly = MultiPolygon(polygons)\n",
    "    x, y, max_x, max_y = multi_poly.bounds\n",
    "    width = max_x - x\n",
    "    height = max_y - y\n",
    "    bbox = (x, y, width, height)\n",
    "    area = multi_poly.area\n",
    "\n",
    "    annotation = {\n",
    "        'segmentation': segmentations,\n",
    "        'iscrowd': is_crowd,\n",
    "        'image_id': image_id,\n",
    "        'category_id': category_id,\n",
    "        'id': annotation_id,\n",
    "        'bbox': bbox,\n",
    "        'area': area\n",
    "    }\n",
    "\n",
    "    return annotation"
   ]
  },
  {
   "cell_type": "code",
   "execution_count": 12,
   "metadata": {
    "tags": []
   },
   "outputs": [],
   "source": [
    "def images_to_annotations(dir_path):\n",
    "    #Initializing images and annotations lists\n",
    "    images=[]\n",
    "    annotations = []\n",
    "    img_names = os.listdir(dir_path)\n",
    "    img_license = 0\n",
    "    img_id=0\n",
    "    ann_id=0\n",
    "    is_crowd=0\n",
    "    print (img_names)        \n",
    "    for img_name in img_names:\n",
    "        img_path = os.path.join(dir_path, img_name)\n",
    "        img = cv2.imread(img_path)\n",
    "        img_size = img.shape\n",
    "        submasks = create_submask(img)\n",
    "        for color, submask in submasks.items():\n",
    "            img_cat = color2cat[color]\n",
    "            annotation = create_submask_annotation(submask , img_id, img_cat, ann_id, is_crowd)\n",
    "            annotations.append(annotation)\n",
    "            ann_id+=1\n",
    "            \n",
    "\n",
    "        new_img={}\n",
    "        new_img[\"license\"] = img_license\n",
    "        new_img[\"file_name\"] = img_name.split(\".\")[0]+\".jpg\" #Changed to match the video images\n",
    "        new_img[\"width\"] = img_size[1]\n",
    "        new_img[\"height\"] = img_size[0]\n",
    "        new_img[\"id\"] = img_id\n",
    "        images.append(new_img)\n",
    "\n",
    "        # sub_masks = create_sub_masks()\n",
    "        # for color, sub_mask in sub_masks.items():\n",
    "        #     plt.imshow(sub_mask)\n",
    "        #     plt.show()\n",
    "        \n",
    "        img_id+=1\n",
    "\n",
    "    return annotations,images\n",
    "\n",
    "\n",
    "\n"
   ]
  },
  {
   "cell_type": "code",
   "execution_count": 8,
   "metadata": {},
   "outputs": [],
   "source": [
    "my_dict = {}\n",
    "color2cat={\"[255 255 255]\": 1}\n",
    "info = {\n",
    "      \"description\":\"Test Dataset\",\n",
    "      \"url\":\"\",\n",
    "      \"version\":\"0.1\",\n",
    "      \"year\":2020,\n",
    "      \"contributor\":\"Josmar Suarez\",\n",
    "      \"date_created\":\"2020/07/14\"\n",
    "   }\n",
    "\n",
    "licenses = [{\n",
    "        \"url\": \"\",\n",
    "        \"id\": 0,\n",
    "        \"name\": \"Attribution-NonCommercial-ShareAlike License\"\n",
    "    }]\n",
    "categories = [\n",
    "      {\n",
    "         \"supercategory\":\"person\",\n",
    "         \"id\":1,\n",
    "         \"name\":\"person\"\n",
    "      }\n",
    "   ]"
   ]
  },
  {
   "cell_type": "code",
   "execution_count": 13,
   "metadata": {
    "tags": []
   },
   "outputs": [
    {
     "output_type": "stream",
     "name": "stdout",
     "text": "['0218_img.png', '0172_img.png', '0254_img.png', '0017_img.png', '0122_img.png', '0139_img.png', '0054_img.png', '0262_img.png', '0057_img.png', '0002_img.png', '0259_img.png', '0126_img.png', '0148_img.png', '0106_img.png', '0136_img.png', '0185_img.png', '0081_img.png', '0086_img.png', '0236_img.png', '0135_img.png', '0176_img.png', '0190_img.png', '0242_img.png', '0032_img.png', '0013_img.png', '0147_img.png', '0166_img.png', '0138_img.png', '0205_img.png', '0077_img.png', '0155_img.png', '0098_img.png', '0150_img.png', '0223_img.png', '0191_img.png', '0113_img.png', '0053_img.png', '0055_img.png', '0283_img.png', '0060_img.png', '0267_img.png', '0073_img.png', '0274_img.png', '0160_img.png', '0241_img.png', '0294_img.png', '0187_img.png', '0107_img.png', '0016_img.png', '0028_img.png', '0276_img.png', '0074_img.png', '0235_img.png', '0022_img.png', '0203_img.png', '0284_img.png', '0084_img.png', '0215_img.png', '0093_img.png', '0120_img.png', '0085_img.png', '0237_img.png', '0268_img.png', '0247_img.png', '0170_img.png', '0206_img.png', '0222_img.png', '0140_img.png', '0076_img.png', '0258_img.png', '0058_img.png', '0037_img.png', '0019_img.png', '0281_img.png', '0270_img.png', '0003_img.png', '0212_img.png', '0263_img.png', '0279_img.png', '0020_img.png', '0151_img.png', '0025_img.png', '0238_img.png', '0257_img.png', '0070_img.png', '0059_img.png', '0171_img.png', '0008_img.png', '0033_img.png', '0102_img.png', '0078_img.png', '0082_img.png', '0111_img.png', '0292_img.png', '0130_img.png', '0175_img.png', '0010_img.png', '0246_img.png', '0021_img.png', '0291_img.png', '0038_img.png', '0015_img.png', '0255_img.png', '0288_img.png', '0208_img.png', '0116_img.png', '0143_img.png', '0289_img.png', '0153_img.png', '0216_img.png', '0290_img.png', '0168_img.png', '0046_img.png', '0090_img.png', '0056_img.png', '0249_img.png', '0299_img.png', '0061_img.png', '0199_img.png', '0041_img.png', '0011_img.png', '0145_img.png', '0144_img.png', '0227_img.png', '0296_img.png', '0245_img.png', '0182_img.png', '0198_img.png', '0063_img.png', '0127_img.png', '0142_img.png', '0181_img.png', '0005_img.png', '0096_img.png', '0118_img.png', '0009_img.png', '0209_img.png', '0240_img.png', '0051_img.png', '0211_img.png', '0186_img.png', '0104_img.png', '0189_img.png', '0123_img.png', '0018_img.png', '0001_img.png', '0173_img.png', '0099_img.png', '0065_img.png', '0152_img.png', '0174_img.png', '0244_img.png', '0159_img.png', '0202_img.png', '0035_img.png', '0273_img.png', '0030_img.png', '0100_img.png', '0251_img.png', '0014_img.png', '0285_img.png', '0233_img.png', '0286_img.png', '0301_img.png', '0108_img.png', '0007_img.png', '0204_img.png', '0229_img.png', '0110_img.png', '0161_img.png', '0079_img.png', '0146_img.png', '0193_img.png', '0034_img.png', '0119_img.png', '0066_img.png', '0006_img.png', '0196_img.png', '0064_img.png', '0047_img.png', '0068_img.png', '0183_img.png', '0275_img.png', '0124_img.png', '0128_img.png', '0210_img.png', '0280_img.png', '0131_img.png', '0164_img.png', '0266_img.png', '0050_img.png', '0109_img.png', '0272_img.png', '0071_img.png', '0184_img.png', '0271_img.png', '0029_img.png', '0083_img.png', '0214_img.png', '0167_img.png', '0194_img.png', '0300_img.png', '0040_img.png', '0114_img.png', '0141_img.png', '0132_img.png', '0052_img.png', '0129_img.png', '0188_img.png', '0125_img.png', '0036_img.png', '0045_img.png', '0298_img.png', '0089_img.png', '0072_img.png', '0115_img.png', '0192_img.png', '0092_img.png', '0137_img.png', '0101_img.png', '0297_img.png', '0088_img.png', '0075_img.png', '0087_img.png', '0201_img.png', '0252_img.png', '0091_img.png', '0219_img.png', '0156_img.png', '0023_img.png', '0024_img.png', '0027_img.png', '0169_img.png', '0256_img.png', '0031_img.png', '0248_img.png', '0162_img.png', '0195_img.png', '0220_img.png', '0232_img.png', '0080_img.png', '0295_img.png', '0293_img.png', '0250_img.png', '0049_img.png', '0261_img.png', '0043_img.png', '0039_img.png', '0221_img.png', '0179_img.png', '0154_img.png', '0112_img.png', '0243_img.png', '0117_img.png', '0105_img.png', '0133_img.png', '0287_img.png', '0277_img.png', '0044_img.png', '0158_img.png', '0226_img.png', '0103_img.png', '0282_img.png', '0163_img.png', '0180_img.png', '0095_img.png', '0165_img.png', '0264_img.png', '0278_img.png', '0213_img.png', '0121_img.png', '0012_img.png', '0231_img.png', '0230_img.png', '0134_img.png', '0207_img.png', '0234_img.png', '0265_img.png', '0067_img.png', '0217_img.png', '0094_img.png', '0069_img.png', '0042_img.png', '0177_img.png', '0157_img.png', '0004_img.png', '0228_img.png', '0178_img.png', '0200_img.png', '0062_img.png', '0149_img.png', '0239_img.png', '0224_img.png', '0026_img.png', '0260_img.png', '0253_img.png', '0048_img.png', '0269_img.png', '0225_img.png', '0197_img.png', '0097_img.png']\ndict_keys(['info', 'licenses', 'images', 'categories', 'annotations'])\n"
    }
   ],
   "source": [
    "dir_path = \"/home/josmar/proyectos/codes/annotation_tools/background_substraction/bin_close_images/input\"\n",
    "anns,imgs = images_to_annotations(dir_path)\n",
    "\n",
    "my_dict[\"info\"]= info\n",
    "my_dict[\"licenses\"]= licenses\n",
    "my_dict[\"images\"]=imgs\n",
    "my_dict[\"categories\"]=categories\n",
    "my_dict[\"annotations\"]=anns\n",
    "print(my_dict.keys())"
   ]
  },
  {
   "cell_type": "code",
   "execution_count": 15,
   "metadata": {},
   "outputs": [],
   "source": [
    "import json\n",
    "\n",
    "with open('casia.json', 'w') as fp:\n",
    "    json.dump(my_dict, fp)"
   ]
  },
  {
   "cell_type": "markdown",
   "metadata": {},
   "source": [
    "## trying other methods"
   ]
  },
  {
   "cell_type": "markdown",
   "metadata": {},
   "source": [
    "### Could be found at:\n",
    "https://github.com/cocodataset/cocoapi/issues/131"
   ]
  },
  {
   "cell_type": "code",
   "execution_count": 19,
   "metadata": {
    "tags": [
     "outputPrepend"
    ]
   },
   "outputs": [
    {
     "output_type": "stream",
     "name": "stdout",
     "text": "6666,\n            1225.8333333333333,\n            566.0,\n            1225.0,\n            566.8333333333334\n        ],\n        [\n            1268.0,\n            566.9166666666666,\n            1267.0833333333333,\n            566.0,\n            1268.0,\n            565.0833333333334,\n            1268.9166666666667,\n            566.0,\n            1268.0,\n            566.9166666666666\n        ],\n        [\n            1057.0,\n            567.9285714285714,\n            1056.0714285714287,\n            567.0,\n            1057.0,\n            566.0714285714286,\n            1057.9285714285713,\n            567.0,\n            1057.0,\n            567.9285714285714\n        ],\n        [\n            1266.0,\n            575.9166666666666,\n            1265.0,\n            575.9,\n            1264.0,\n            575.75,\n            1263.25,\n            575.0,\n            1264.0,\n            574.25,\n            1265.0,\n            574.1,\n            1265.1666666666667,\n            574.0,\n            1265.1666666666667,\n            573.0,\n            1266.0,\n            572.1666666666666,\n            1266.8333333333333,\n            573.0,\n            1267.0,\n            573.1666666666666,\n            1267.25,\n            573.0,\n            1268.0,\n            572.25,\n            1268.5,\n            572.0,\n            1268.0,\n            571.5,\n            1267.875,\n            572.0,\n            1267.0,\n            572.875,\n            1266.125,\n            572.0,\n            1266.5,\n            571.0,\n            1267.0,\n            570.5,\n            1268.0,\n            570.5,\n            1269.0,\n            570.0833333333334,\n            1269.0833333333333,\n            570.0,\n            1269.05,\n            569.0,\n            1269.125,\n            568.0,\n            1270.0,\n            567.125,\n            1270.1666666666667,\n            567.0,\n            1271.0,\n            566.1666666666666,\n            1271.8333333333333,\n            567.0,\n            1271.5,\n            568.0,\n            1271.0,\n            568.5,\n            1270.95,\n            569.0,\n            1271.0,\n            569.1,\n            1271.9,\n            570.0,\n            1271.875,\n            571.0,\n            1271.75,\n            572.0,\n            1271.9615384615386,\n            573.0,\n            1271.0,\n            573.9615384615385,\n            1270.0,\n            573.9444444444445,\n            1269.0,\n            573.875,\n            1268.9,\n            574.0,\n            1268.0,\n            574.9,\n            1267.0,\n            574.8333333333334,\n            1266.9166666666667,\n            575.0,\n            1266.0,\n            575.9166666666666\n        ],\n        [\n            1065.0,\n            568.75,\n            1064.25,\n            568.0,\n            1065.0,\n            567.25,\n            1065.75,\n            568.0,\n            1065.0,\n            568.75\n        ],\n        [\n            1225.0,\n            568.8333333333334,\n            1224.0,\n            568.9615384615385,\n            1223.0384615384614,\n            568.0,\n            1224.0,\n            567.0384615384615,\n            1225.0,\n            567.1666666666666,\n            1225.8333333333333,\n            568.0,\n            1225.0,\n            568.8333333333334\n        ],\n        [\n            1068.0,\n            569.9375,\n            1067.0625,\n            569.0,\n            1068.0,\n            568.0625,\n            1068.9375,\n            569.0,\n            1068.0,\n            569.9375\n        ],\n        [\n            1069.0,\n            570.95,\n            1068.05,\n            570.0,\n            1069.0,\n            569.05,\n            1069.95,\n            570.0,\n            1069.0,\n            570.95\n        ],\n        [\n            1224.0,\n            571.8333333333334,\n            1223.1666666666667,\n            571.0,\n            1223.1,\n            570.0,\n            1224.0,\n            569.1,\n            1224.9,\n            570.0,\n            1224.8333333333333,\n            571.0,\n            1224.0,\n            571.8333333333334\n        ],\n        [\n            1226.0,\n            570.75,\n            1225.25,\n            570.0,\n            1226.0,\n            569.25,\n            1226.75,\n            570.0,\n            1226.0,\n            570.75\n        ],\n        [\n            1067.0,\n            574.5,\n            1066.5,\n            574.0,\n            1066.0,\n            573.8333333333334,\n            1065.1666666666667,\n            573.0,\n            1065.0625,\n            572.0,\n            1065.1666666666667,\n            571.0,\n            1066.0,\n            570.1666666666666,\n            1067.0,\n            570.25,\n            1067.75,\n            571.0,\n            1067.0,\n            571.75,\n            1066.9375,\n            572.0,\n            1067.0,\n            572.5,\n            1067.5,\n            573.0,\n            1067.5,\n            574.0,\n            1067.0,\n            574.5\n        ],\n        [\n            1070.0,\n            571.8333333333334,\n            1069.1666666666667,\n            571.0,\n            1070.0,\n            570.1666666666666,\n            1070.8333333333333,\n            571.0,\n            1070.0,\n            571.8333333333334\n        ],\n        [\n            1076.0,\n            572.875,\n            1075.125,\n            572.0,\n            1075.25,\n            571.0,\n            1076.0,\n            570.25,\n            1076.75,\n            571.0,\n            1076.875,\n            572.0,\n            1076.0,\n            572.875\n        ],\n        [\n            1079.0,\n            571.9285714285714,\n            1078.0714285714287,\n            571.0,\n            1079.0,\n            570.0714285714286,\n            1079.9285714285713,\n            571.0,\n            1079.0,\n            571.9285714285714\n        ],\n        [\n            1081.0,\n            573.75,\n            1080.25,\n            573.0,\n            1080.0,\n            572.75,\n            1079.25,\n            572.0,\n            1080.0,\n            571.25,\n            1081.0,\n            571.5,\n            1081.5,\n            571.0,\n            1082.0,\n            570.5,\n            1082.5,\n            571.0,\n            1082.8333333333333,\n            572.0,\n            1082.0,\n            572.8333333333334,\n            1081.75,\n            573.0,\n            1081.0,\n            573.75\n        ],\n        [\n            1118.0,\n            571.9285714285714,\n            1117.0714285714287,\n            571.0,\n            1118.0,\n            570.0714285714286,\n            1118.9285714285713,\n            571.0,\n            1118.0,\n            571.9285714285714\n        ],\n        [\n            1064.0,\n            572.875,\n            1063.125,\n            572.0,\n            1064.0,\n            571.125,\n            1064.875,\n            572.0,\n            1064.0,\n            572.875\n        ],\n        [\n            1068.0,\n            572.5,\n            1067.5,\n            572.0,\n            1068.0,\n            571.5,\n            1068.5,\n            572.0,\n            1068.0,\n            572.5\n        ],\n        [\n            1073.0,\n            572.8333333333334,\n            1072.1666666666667,\n            572.0,\n            1073.0,\n            571.1666666666666,\n            1073.8333333333333,\n            572.0,\n            1073.0,\n            572.8333333333334\n        ],\n        [\n            1078.0,\n            575.8333333333334,\n            1077.0,\n            575.9,\n            1076.1,\n            575.0,\n            1077.0,\n            574.1,\n            1077.05,\n            574.0,\n            1077.0,\n            573.8333333333334,\n            1076.1666666666667,\n            573.0,\n            1077.0,\n            572.1666666666666,\n            1077.25,\n            572.0,\n            1078.0,\n            571.25,\n            1078.75,\n            572.0,\n            1078.875,\n            573.0,\n            1079.0,\n            573.1666666666666,\n            1079.8333333333333,\n            574.0,\n            1079.0,\n            574.8333333333334,\n            1078.8333333333333,\n            575.0,\n            1078.0,\n            575.8333333333334\n        ],\n        [\n            1085.0,\n            572.875,\n            1084.125,\n            572.0,\n            1085.0,\n            571.125,\n            1085.875,\n            572.0,\n            1085.0,\n            572.875\n        ],\n        [\n            1115.0,\n            573.75,\n            1114.25,\n            573.0,\n            1114.1666666666667,\n            572.0,\n            1115.0,\n            571.1666666666666,\n            1116.0,\n            571.125,\n            1117.0,\n            571.5,\n            1117.5,\n            572.0,\n            1117.0,\n            572.5,\n            1116.0,\n            572.875,\n            1115.75,\n            573.0,\n            1115.0,\n            573.75\n        ],\n        [\n            1228.0,\n            572.8333333333334,\n            1227.0,\n            572.9,\n            1226.1,\n            572.0,\n            1227.0,\n            571.1,\n            1228.0,\n            571.1666666666666,\n            1228.8333333333333,\n            572.0,\n            1228.0,\n            572.8333333333334\n        ],\n        [\n            1270.25,\n            572.0,\n            1270.0,\n            571.75,\n            1269.5,\n            572.0,\n            1270.0,\n            572.0555555555555,\n            1270.25,\n            572.0\n        ],\n        [\n            1071.0,\n            573.5,\n            1070.5,\n            573.0,\n            1071.0,\n            572.5,\n            1071.5,\n            573.0,\n            1071.0,\n            573.5\n        ],\n        [\n            1074.0,\n            573.5,\n            1073.5,\n            573.0,\n            1074.0,\n            572.5,\n            1074.5,\n            573.0,\n            1074.0,\n            573.5\n        ],\n        [\n            1083.0,\n            575.75,\n            1082.0,\n            575.875,\n            1081.125,\n            575.0,\n            1082.0,\n            574.125,\n            1082.0714285714287,\n            574.0,\n            1082.0714285714287,\n            573.0,\n            1083.0,\n            572.0714285714286,\n            1083.9285714285713,\n            573.0,\n            1083.9285714285713,\n            574.0,\n            1083.75,\n            575.0,\n            1083.0,\n            575.75\n        ],\n        [\n            1104.0,\n            573.75,\n            1103.0,\n            573.9444444444445,\n            1102.0555555555557,\n            573.0,\n            1103.0,\n            572.0555555555555,\n            1104.0,\n            572.25,\n            1104.75,\n            573.0,\n            1104.0,\n            573.75\n        ],\n        [\n            1108.0,\n            573.8333333333334,\n            1107.1666666666667,\n            573.0,\n            1108.0,\n            572.1666666666666,\n            1108.8333333333333,\n            573.0,\n            1108.0,\n            573.8333333333334\n        ],\n        [\n            1118.0,\n            575.9285714285714,\n            1117.0714285714287,\n            575.0,\n            1117.5,\n            574.0,\n            1118.0,\n            573.5,\n            1118.5,\n            573.0,\n            1119.0,\n            572.5,\n            1119.5,\n            573.0,\n            1119.8333333333333,\n            574.0,\n            1119.0,\n            574.8333333333334,\n            1118.9285714285713,\n            575.0,\n            1118.0,\n            575.9285714285714\n        ],\n        [\n            1226.0,\n            575.5,\n            1225.0,\n            575.875,\n            1224.125,\n            575.0,\n            1224.0,\n            574.875,\n            1223.125,\n            574.0,\n            1223.0833333333333,\n            573.0,\n            1224.0,\n            572.0833333333334,\n            1224.9166666666667,\n            573.0,\n            1225.0,\n            573.0454545454545,\n            1225.125,\n            573.0,\n            1226.0,\n            572.125,\n            1226.875,\n            573.0,\n            1227.0,\n            573.1666666666666,\n            1227.8333333333333,\n            574.0,\n            1227.0,\n            574.8333333333334,\n            1226.5,\n            575.0,\n            1226.0,\n            575.5\n        ],\n        [\n            1064.0,\n            574.875,\n            1063.125,\n            574.0,\n            1064.0,\n            573.125,\n            1064.875,\n            574.0,\n            1064.0,\n            574.875\n        ],\n        [\n            1070.0,\n            574.5,\n            1069.5,\n            574.0,\n            1070.0,\n            573.5,\n            1070.5,\n            574.0,\n            1070.0,\n            574.5\n        ],\n        [\n            1072.0,\n            575.9583333333334,\n            1071.0,\n            575.75,\n            1070.25,\n            575.0,\n            1071.0,\n            574.25,\n            1071.25,\n            574.0,\n            1072.0,\n            573.25,\n            1072.75,\n            574.0,\n            1072.9583333333333,\n            575.0,\n            1072.0,\n            575.9583333333334\n        ],\n        [\n            1099.0,\n            574.5,\n            1098.5,\n            574.0,\n            1099.0,\n            573.5,\n            1099.5,\n            574.0,\n            1099.0,\n            574.5\n        ],\n        [\n            1102.0,\n            575.875,\n            1101.125,\n            575.0,\n            1101.0,\n            574.5,\n            1100.5,\n            574.0,\n            1101.0,\n            573.5,\n            1102.0,\n            573.25,\n            1102.75,\n            574.0,\n            1102.875,\n            575.0,\n            1102.0,\n            575.875\n        ],\n        [\n            1105.0,\n            574.9,\n            1104.1,\n            574.0,\n            1105.0,\n            573.1,\n            1105.9,\n            574.0,\n            1105.0,\n            574.9\n        ],\n        [\n            1109.0,\n            574.875,\n            1108.125,\n            574.0,\n            1109.0,\n            573.125,\n            1109.875,\n            574.0,\n            1109.0,\n            574.875\n        ],\n        [\n            1116.0,\n            574.8333333333334,\n            1115.1666666666667,\n            574.0,\n            1116.0,\n            573.1666666666666,\n            1116.8333333333333,\n            574.0,\n            1116.0,\n            574.8333333333334\n        ],\n        [\n            1066.0,\n            575.875,\n            1065.125,\n            575.0,\n            1066.0,\n            574.125,\n            1066.875,\n            575.0,\n            1066.0,\n            575.875\n        ],\n        [\n            1075.0,\n            575.75,\n            1074.0,\n            575.875,\n            1073.125,\n            575.0,\n            1074.0,\n            574.125,\n            1075.0,\n            574.25,\n            1075.75,\n            575.0,\n            1075.0,\n            575.75\n        ],\n        [\n            1080.0,\n            575.9444444444445,\n            1079.0555555555557,\n            575.0,\n            1080.0,\n            574.0555555555555,\n            1080.9444444444443,\n            575.0,\n            1080.0,\n            575.9444444444445\n        ],\n        [\n            1098.0,\n            575.9,\n            1097.1,\n            575.0,\n            1098.0,\n            574.1,\n            1098.9,\n            575.0,\n            1098.0,\n            575.9\n        ],\n        [\n            1115.0,\n            575.75,\n            1114.25,\n            575.0,\n            1115.0,\n            574.25,\n            1115.75,\n            575.0,\n            1115.0,\n            575.75\n        ],\n        [\n            1228.0,\n            575.9375,\n            1227.0625,\n            575.0,\n            1228.0,\n            574.0625,\n            1228.9375,\n            575.0,\n            1228.0,\n            575.9375\n        ],\n        [\n            1269.0,\n            575.8333333333334,\n            1268.1666666666667,\n            575.0,\n            1269.0,\n            574.1666666666666,\n            1269.8333333333333,\n            575.0,\n            1269.0,\n            575.8333333333334\n        ],\n        [\n            1271.0,\n            575.5,\n            1270.5,\n            575.0,\n            1271.0,\n            574.5,\n            1271.5,\n            575.0,\n            1271.0,\n            575.5\n        ],\n        [\n            1263.0,\n            579.9166666666666,\n            1262.0833333333333,\n            579.0,\n            1262.5,\n            578.0,\n            1262.1666666666667,\n            577.0,\n            1263.0,\n            576.1666666666666,\n            1263.8333333333333,\n            577.0,\n            1263.5,\n            578.0,\n            1263.9166666666667,\n            579.0,\n            1263.0,\n            579.9166666666666\n        ],\n        [\n            1233.0,\n            581.8333333333334,\n            1232.1666666666667,\n            581.0,\n            1233.0,\n            580.1666666666666,\n            1233.8333333333333,\n            581.0,\n            1233.0,\n            581.8333333333334\n        ],\n        [\n            1263.0,\n            583.75,\n            1262.25,\n            583.0,\n            1262.0,\n            582.75,\n            1261.75,\n            583.0,\n            1261.0,\n            583.75,\n            1260.25,\n            583.0,\n            1260.0,\n            582.875,\n            1259.125,\n            582.0,\n            1260.0,\n            581.125,\n            1260.0833333333333,\n            581.0,\n            1261.0,\n            580.0833333333334,\n            1261.9166666666667,\n            581.0,\n            1262.0,\n            581.25,\n            1263.0,\n            581.0833333333334,\n            1263.9166666666667,\n            582.0,\n            1263.75,\n            583.0,\n            1263.0,\n            583.75\n        ],\n        [\n            1232.0,\n            583.5,\n            1231.5,\n            583.0,\n            1231.1666666666667,\n            582.0,\n            1232.0,\n            581.1666666666666,\n            1232.8333333333333,\n            582.0,\n            1232.5,\n            583.0,\n            1232.0,\n            583.5\n        ],\n        [\n            1234.0,\n            583.8333333333334,\n            1233.1666666666667,\n            583.0,\n            1233.1666666666667,\n            582.0,\n            1234.0,\n            581.1666666666666,\n            1234.8333333333333,\n            582.0,\n            1234.8333333333333,\n            583.0,\n            1234.0,\n            583.8333333333334\n        ],\n        [\n            1239.0,\n            582.875,\n            1238.0,\n            582.5,\n            1237.5,\n            582.0,\n            1238.0,\n            581.5,\n            1239.0,\n            581.125,\n            1239.875,\n            582.0,\n            1239.0,\n            582.875\n        ],\n        [\n            1249.0,\n            583.9,\n            1248.1,\n            583.0,\n            1248.5,\n            582.0,\n            1249.0,\n            581.5,\n            1250.0,\n            581.1666666666666,\n            1250.8333333333333,\n            582.0,\n            1250.0,\n            582.8333333333334,\n            1249.9,\n            583.0,\n            1249.0,\n            583.9\n        ],\n        [\n            1253.0,\n            582.75,\n            1252.25,\n            582.0,\n            1253.0,\n            581.25,\n            1253.75,\n            582.0,\n            1253.0,\n            582.75\n        ],\n        [\n            1247.0,\n            583.875,\n            1246.0,\n            583.75,\n            1245.25,\n            583.0,\n            1246.0,\n            582.25,\n            1247.0,\n            582.125,\n            1247.875,\n            583.0,\n            1247.0,\n            583.875\n        ]\n    ],\n    \"area\": 85617,\n    \"iscrowd\": 0,\n    \"image_id\": 123,\n    \"bbox\": [\n        1048.0,\n        0.0,\n        232.0,\n        720.0\n    ],\n    \"category_id\": 1,\n    \"id\": 1\n}\n"
    }
   ],
   "source": [
    "import json\n",
    "import numpy as np\n",
    "from pycocotools import mask\n",
    "from skimage import measure\n",
    "\n",
    "\n",
    "ground_truth_binary_mask = cv2.imread('/home/josmar/proyectos/codes/annotation_tools/background_substraction/bin_close_images/input/0001_img.png',0)\n",
    "fortran_ground_truth_binary_mask = np.asfortranarray(ground_truth_binary_mask)\n",
    "encoded_ground_truth = mask.encode(fortran_ground_truth_binary_mask)\n",
    "ground_truth_area = mask.area(encoded_ground_truth)\n",
    "ground_truth_bounding_box = mask.toBbox(encoded_ground_truth)\n",
    "contours = measure.find_contours(ground_truth_binary_mask, 0.5)\n",
    "\n",
    "annotation = {\n",
    "        \"segmentation\": [],\n",
    "        \"area\": ground_truth_area.tolist(),\n",
    "        \"iscrowd\": 0,\n",
    "        \"image_id\": 123,\n",
    "        \"bbox\": ground_truth_bounding_box.tolist(),\n",
    "        \"category_id\": 1,\n",
    "        \"id\": 1\n",
    "    }\n",
    "\n",
    "for contour in contours:\n",
    "    contour = np.flip(contour, axis=1)\n",
    "    segmentation = contour.ravel().tolist()\n",
    "    annotation[\"segmentation\"].append(segmentation)\n",
    "    \n",
    "print(json.dumps(annotation, indent=4))"
   ]
  }
 ],
 "metadata": {
  "language_info": {
   "codemirror_mode": {
    "name": "ipython",
    "version": 3
   },
   "file_extension": ".py",
   "mimetype": "text/x-python",
   "name": "python",
   "nbconvert_exporter": "python",
   "pygments_lexer": "ipython3",
   "version": "3.6.10-final"
  },
  "orig_nbformat": 2,
  "kernelspec": {
   "name": "python_defaultSpec_1601589228371",
   "display_name": "Python 3.6.10 64-bit ('backmat': conda)"
  }
 },
 "nbformat": 4,
 "nbformat_minor": 2
}