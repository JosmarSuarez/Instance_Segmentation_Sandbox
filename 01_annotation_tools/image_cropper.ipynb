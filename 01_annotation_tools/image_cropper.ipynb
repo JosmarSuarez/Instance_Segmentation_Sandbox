{
 "cells": [
  {
   "cell_type": "markdown",
   "metadata": {},
   "source": [
    "# Image cropper\n",
    "Converts rectangular images to square"
   ]
  },
  {
   "cell_type": "code",
   "execution_count": 1,
   "metadata": {},
   "outputs": [],
   "source": [
    "import cv2\n",
    "import matplotlib.pyplot as plt\n",
    "import json"
   ]
  },
  {
   "cell_type": "code",
   "execution_count": 2,
   "metadata": {
    "tags": []
   },
   "outputs": [],
   "source": [
    "def square_image(data, in_folder_path, out_folder_path, change_ext=None):\n",
    "    \n",
    "    n_images = len(data[\"annotations\"])\n",
    "    for image in data[\"annotations\"]:\n",
    "        img_id = image[\"image_id\"] \n",
    "        img_name = data[\"images\"][img_id][\"file_name\"] #Considering image ids are in order\n",
    "        # Change the extension we are looking for if required\n",
    "        if change_ext is not None:\n",
    "            img_name = \"{}.{}\".format(img_name.split(\".\")[0], change_ext)\n",
    "        # Get bounding box\n",
    "        bx,by,bw,bh = image[\"bbox\"] #(x,y,w,h)\n",
    "        # Calculate the center of the bounding box\n",
    "        center_x,center_y = int(bx+bw/2),int(by+bh/2)\n",
    "        # Get img path\n",
    "        img_path = \"{}/{}\".format(in_folder_path, img_name)\n",
    "        # Read the image\n",
    "        img = cv2.imread(img_path)\n",
    "        # Get the iamge size\n",
    "        h,w,c = img.shape\n",
    "        # We are creating a square, and cropping the horizontal axis, we calculate w_min and w_max using bbox centers\n",
    "        w_min = int(center_x - h/2)\n",
    "        w_max = w_min + h\n",
    "        # print(w_min,w_max)\n",
    "        # If the predicted crop limits are out of image boundaries we recalculate them\n",
    "        if w_min < 0:\n",
    "            w_min = 0\n",
    "            w_max = h\n",
    "        elif w_max > w:\n",
    "            w_max = w\n",
    "            w_min = w-h\n",
    "        # print(w_min,w_max)\n",
    "        \n",
    "        # Cropping the image\n",
    "        crop_img = img[0:h, w_min:w_max]\n",
    "        # Saving cropped images\n",
    "        if change_ext is not None:\n",
    "            dest_path = \"{}/{}_crop.{}\".format(out_folder_path, img_name.split(\".\")[0], change_ext)\n",
    "        else:\n",
    "            dest_path = \"{}/{}_crop.{}\".format(out_folder_path, img_name.split(\".\")[0], img_name.split(\".\")[-1])\n",
    "        cv2.imwrite(dest_path,crop_img)\n",
    "        # Printing the progress\n",
    "        sys.stdout.write('\\r'+  \"Done: {}/{}\".format(img_id +1,n_images))\n",
    "        sys.stdout.flush()"
   ]
  },
  {
   "cell_type": "code",
   "execution_count": 3,
   "metadata": {
    "tags": []
   },
   "outputs": [],
   "source": [
    "ann_file = \"/home/josmar/proyectos/codes/datasets/ucb_gait_frames/annotations/ucb_gait_poly.json\"\n",
    "with open(ann_file) as f:\n",
    "    ann_data = json.load(f)\n"
   ]
  },
  {
   "cell_type": "code",
   "execution_count": 4,
   "metadata": {
    "tags": []
   },
   "outputs": [
    {
     "output_type": "stream",
     "name": "stdout",
     "text": "Done: 12300/12300"
    }
   ],
   "source": [
    "in_folder_path = \"/home/josmar/proyectos/codes/datasets/ucb_gait_frames/silhouettes\"\n",
    "out_folder_path =  \"/home/josmar/proyectos/codes/datasets/ucb_gait_square/silhouettes\"\n",
    "square_image(ann_data, in_folder_path, out_folder_path, change_ext=\"png\")"
   ]
  },
  {
   "cell_type": "markdown",
   "metadata": {
    "tags": []
   },
   "source": [
    "### Checking if the sizes are correct"
   ]
  },
  {
   "cell_type": "code",
   "execution_count": 5,
   "metadata": {
    "tags": []
   },
   "outputs": [
    {
     "output_type": "stream",
     "name": "stdout",
     "text": "{(720, 720, 3)}\n"
    }
   ],
   "source": [
    "results_list = os.listdir(out_folder_path)\n",
    "res_sizes = [cv2.imread(os.path.join(out_folder_path,i)).shape for i in results_list]\n",
    "print(set(res_sizes))"
   ]
  }
 ],
 "metadata": {
  "language_info": {
   "codemirror_mode": {
    "name": "ipython",
    "version": 3
   },
   "file_extension": ".py",
   "mimetype": "text/x-python",
   "name": "python",
   "nbconvert_exporter": "python",
   "pygments_lexer": "ipython3",
   "version": 3
  },
  "orig_nbformat": 2,
  "kernelspec": {
   "name": "python_defaultSpec_1604360815369",
   "display_name": "Python 3.6.10 64-bit ('d2': conda)"
  }
 },
 "nbformat": 4,
 "nbformat_minor": 2
}