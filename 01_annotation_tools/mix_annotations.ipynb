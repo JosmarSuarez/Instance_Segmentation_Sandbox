{
 "cells": [
  {
   "cell_type": "markdown",
   "metadata": {},
   "source": [
    "# mix_annotations.ipynb\n",
    "Combines coco .json files into one"
   ]
  },
  {
   "cell_type": "markdown",
   "metadata": {},
   "source": [
    "### Import json files by a dict of paths"
   ]
  },
  {
   "cell_type": "code",
   "execution_count": 1,
   "metadata": {},
   "outputs": [],
   "source": [
    "import json \n",
    "\n",
    "def read_annotations(ann_paths):\n",
    "    #Create empty list to store the datasets info\n",
    "    my_dicts = []\n",
    "    #Iterate for every dataset path\n",
    "    for ann_path in ann_paths:\n",
    "        # Read the .json file\n",
    "        with open(ann_path) as f:\n",
    "            data = json.load(f)\n",
    "            my_dicts.append(data)\n",
    "            print(\"Completed: \", ann_path )\n",
    "    return my_dicts"
   ]
  },
  {
   "cell_type": "markdown",
   "metadata": {},
   "source": [
    "### Mix annotations from the loaded dicts"
   ]
  },
  {
   "cell_type": "code",
   "execution_count": 2,
   "metadata": {
    "tags": []
   },
   "outputs": [],
   "source": [
    "import copy\n",
    "def mix_annotations(my_dicts):\n",
    "    combined_dict = copy.deepcopy(my_dicts[0])\n",
    "    im_id = len(my_dicts[0][\"images\"])\n",
    "    ann_id = len(my_dicts[0][\"annotations\"])\n",
    "    # print(im_id, ann_id)\n",
    "    for d in my_dicts[1:]:\n",
    "        for image in d[\"images\"]:\n",
    "            temp = image.copy()\n",
    "            temp[\"id\"] = im_id + temp[\"id\"] \n",
    "            combined_dict[\"images\"].append(temp)\n",
    "        for ann in d[\"annotations\"]:\n",
    "            temp = ann.copy()\n",
    "            temp[\"id\"] = ann_id + temp[\"id\"]\n",
    "            temp[\"image_id\"] = im_id + temp[\"image_id\"] \n",
    "            combined_dict[\"annotations\"].append(temp)\n",
    "\n",
    "        im_id = len(d[\"images\"])\n",
    "        ann_id = len(d[\"annotations\"])\n",
    "    return combined_dict\n"
   ]
  },
  {
   "cell_type": "markdown",
   "metadata": {},
   "source": [
    "## Mixing images example"
   ]
  },
  {
   "cell_type": "code",
   "execution_count": 3,
   "metadata": {
    "tags": []
   },
   "outputs": [
    {
     "output_type": "stream",
     "name": "stdout",
     "text": "Completed:  /home/josmar/proyectos/codes/01_annotation_tools/test_data/annotations/mixed_ucb.json\nCompleted:  /home/josmar/proyectos/codes/datasets/ucb_gait_frames/annotations/ucb_gait_poly.json\n"
    }
   ],
   "source": [
    "ann_paths = [\n",
    "    \"/home/josmar/proyectos/codes/01_annotation_tools/test_data/annotations/mixed_ucb.json\",\n",
    "    \"/home/josmar/proyectos/codes/datasets/ucb_gait_frames/annotations/ucb_gait_poly.json\",\n",
    "    ]\n",
    "my_dicts= read_annotations(ann_paths)"
   ]
  },
  {
   "cell_type": "code",
   "execution_count": 4,
   "metadata": {
    "tags": []
   },
   "outputs": [
    {
     "output_type": "stream",
     "name": "stdout",
     "text": "\nDataset  0\nImage IDs:\t 20000\nAnnotation IDs:\t 39999\n\nDataset  1\nImage IDs:\t 12300\nAnnotation IDs:\t 12300\n"
    }
   ],
   "source": [
    "index = 0\n",
    "for d in my_dicts:\n",
    "    print(\"\\nDataset \",index)\n",
    "    print(\"Image IDs:\\t\" , len(d[\"images\"]))\n",
    "    print(\"Annotation IDs:\\t\" , len(d[\"annotations\"]))\n",
    "    index+=1"
   ]
  },
  {
   "cell_type": "code",
   "execution_count": 5,
   "metadata": {},
   "outputs": [],
   "source": [
    "combined_dict = mix_annotations(my_dicts)"
   ]
  },
  {
   "cell_type": "code",
   "execution_count": 6,
   "metadata": {
    "tags": []
   },
   "outputs": [
    {
     "output_type": "stream",
     "name": "stdout",
     "text": "\nCombined dataset\nImage IDs:\t 32300\nAnnotation IDs:\t 52299\n"
    }
   ],
   "source": [
    "print(\"\\nCombined dataset\")\n",
    "print(\"Image IDs:\\t\" , len(combined_dict[\"images\"]))\n",
    "print(\"Annotation IDs:\\t\" , len(combined_dict[\"annotations\"]))"
   ]
  },
  {
   "cell_type": "markdown",
   "metadata": {},
   "source": [
    "### Saving the generated dataset"
   ]
  },
  {
   "cell_type": "code",
   "execution_count": 7,
   "metadata": {},
   "outputs": [],
   "source": [
    "out_path = \"/home/josmar/proyectos/codes/01_annotation_tools/test_data/annotations/combined.json\"\n",
    "with open(out_path, 'w') as fp:\n",
    "    json.dump(combined_dict, fp)"
   ]
  },
  {
   "cell_type": "markdown",
   "metadata": {},
   "source": [
    "## Creating Train Test and Val datasets with the generated json\n",
    "Based on https://github.com/akarazniewicz/cocosplit/blob/master/cocosplit.py"
   ]
  },
  {
   "cell_type": "code",
   "execution_count": 4,
   "metadata": {},
   "outputs": [],
   "source": [
    "def save_coco(file, info, licenses, images, annotations, categories):\n",
    "    with open(file, 'wt', encoding='UTF-8') as coco:\n",
    "        json.dump({ 'info': info, 'licenses': licenses, 'images': images, \n",
    "            'annotations': annotations, 'categories': categories}, coco, indent=2, sort_keys=True)"
   ]
  },
  {
   "cell_type": "code",
   "execution_count": 5,
   "metadata": {},
   "outputs": [],
   "source": [
    "def filter_annotations(annotations, images):\n",
    "    image_ids = funcy.lmap(lambda i: int(i['id']), images)\n",
    "    return funcy.lfilter(lambda a: int(a['image_id']) in image_ids, annotations)"
   ]
  },
  {
   "cell_type": "code",
   "execution_count": 6,
   "metadata": {
    "tags": []
   },
   "outputs": [
    {
     "output_type": "stream",
     "name": "stdout",
     "text": "Saved\n         25840 entries in /home/josmar/proyectos/codes/01_annotation_tools/test_data/annotations/train_combined.json\n         3230 entries in /home/josmar/proyectos/codes/01_annotation_tools/test_data/annotations/val_combined.json\n         3230 entries in /home/josmar/proyectos/codes/01_annotation_tools/test_data/annotations/test_combined.json\n"
    }
   ],
   "source": [
    "import random\n",
    "import json\n",
    "import funcy\n",
    "from sklearn.model_selection import train_test_split\n",
    "\n",
    "out_path = \"/home/josmar/proyectos/codes/01_annotation_tools/test_data/annotations/combined.json\"\n",
    "has_annotations = True\n",
    "train_split = 0.8\n",
    "val_split = 0.1\n",
    "train_file = \"/home/josmar/proyectos/codes/01_annotation_tools/test_data/annotations/train_combined.json\"\n",
    "val_file = \"/home/josmar/proyectos/codes/01_annotation_tools/test_data/annotations/val_combined.json\"\n",
    "test_file = \"/home/josmar/proyectos/codes/01_annotation_tools/test_data/annotations/test_combined.json\"\n",
    "with open(out_path, 'rt', encoding='UTF-8') as annotations:\n",
    "    \n",
    "    coco = json.load(annotations)\n",
    "    info = coco['info']\n",
    "    licenses = coco['licenses']\n",
    "    images = coco['images']\n",
    "    annotations = coco['annotations']\n",
    "    categories = coco['categories']\n",
    "\n",
    "    number_of_images = len(images)\n",
    "\n",
    "    images_with_annotations = funcy.lmap(lambda a: int(a['image_id']), annotations)\n",
    "\n",
    "    if has_annotations:\n",
    "        images = funcy.lremove(lambda i: i['id'] not in images_with_annotations, images)\n",
    "\n",
    "    x, y = train_test_split(images, train_size=train_split, shuffle=True)\n",
    "\n",
    "    val_split = round(val_split/(1-train_split) , 2)\n",
    "    y, z = train_test_split(y, train_size=val_split, shuffle=True)\n",
    "    \n",
    "    save_coco(train_file, info, licenses, x, filter_annotations(annotations, x), categories)\n",
    "    save_coco(val_file, info, licenses, y, filter_annotations(annotations, y), categories)\n",
    "    save_coco(test_file, info, licenses, z, filter_annotations(annotations, z), categories)\n",
    "\n",
    "    print(\"Saved\\n \\\n",
    "        {} entries in {}\\n \\\n",
    "        {} entries in {}\\n \\\n",
    "        {} entries in {}\".format(len(x), train_file, len(y), val_file, len(z), test_file))"
   ]
  },
  {
   "cell_type": "code",
   "execution_count": 30,
   "metadata": {
    "tags": []
   },
   "outputs": [
    {
     "output_type": "stream",
     "name": "stdout",
     "text": "0.5\n"
    }
   ],
   "source": [
    "train_split = 0.8\n",
    "val_split = 0.1\n",
    "\n",
    "print(val_split)"
   ]
  }
 ],
 "metadata": {
  "language_info": {
   "codemirror_mode": {
    "name": "ipython",
    "version": 3
   },
   "file_extension": ".py",
   "mimetype": "text/x-python",
   "name": "python",
   "nbconvert_exporter": "python",
   "pygments_lexer": "ipython3",
   "version": "3.6.10-final"
  },
  "orig_nbformat": 2,
  "kernelspec": {
   "name": "python361064bitd2condafcc7f242a0d248929c8f8110917217d8",
   "display_name": "Python 3.6.10 64-bit ('d2': conda)"
  }
 },
 "nbformat": 4,
 "nbformat_minor": 2
}