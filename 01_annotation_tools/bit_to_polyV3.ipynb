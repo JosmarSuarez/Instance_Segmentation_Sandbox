{
 "cells": [
  {
   "cell_type": "markdown",
   "metadata": {},
   "source": [
    "# Bitmask to polygonal annotation\n",
    "This notebook contains functions that allow us to transform bitmasks to polygonal annotations in COCO format\n",
    "## Main code (just for one instance per image, for more than one see bit_to_poly.ipynb)"
   ]
  },
  {
   "cell_type": "code",
   "execution_count": 3,
   "metadata": {},
   "outputs": [],
   "source": [
    "from PIL import Image # (pip install Pillow)\n",
    "import matplotlib.pyplot as plt\n",
    "import numpy as np                                 # (pip install numpy)\n",
    "from skimage import measure                        # (pip install scikit-image)\n",
    "from shapely.geometry import Polygon, MultiPolygon # (pip install Shapely)\n",
    "import cv2\n",
    "import os\n",
    "#\n",
    "from imantics import Polygons, Mask                 # (pip install imantics)"
   ]
  },
  {
   "cell_type": "code",
   "execution_count": 2,
   "metadata": {
    "tags": []
   },
   "outputs": [
    {
     "output_type": "stream",
     "name": "stdout",
     "text": "[array([[600, 175],\n       [599, 176],\n       [596, 176],\n       ...,\n       [622, 176],\n       [620, 176],\n       [619, 175]])]\n[[600, 175, 599, 176, 596, 176, 595, 177, 593, 177, 592, 178, 590, 178, 589, 179, 588, 179, 587, 180, 586, 180, 585, 181, 584, 181, 582, 183, 581, 183, 580, 184, 580, 185, 579, 186, 578, 186, 578, 187, 576, 189, 576, 191, 575, 192, 576, 193, 576, 197, 577, 198, 577, 199, 578, 200, 578, 201, 579, 202, 579, 213, 578, 214, 578, 221, 579, 222, 579, 225, 580, 226, 580, 227, 581, 228, 581, 229, 584, 232, 584, 233, 590, 239, 592, 239, 595, 242, 595, 246, 591, 250, 590, 250, 589, 251, 588, 251, 587, 252, 585, 252, 583, 254, 582, 254, 576, 260, 576, 261, 575, 262, 575, 263, 574, 264, 574, 266, 573, 267, 573, 275, 572, 276, 572, 278, 571, 279, 571, 281, 570, 282, 570, 284, 569, 285, 569, 286, 568, 287, 568, 313, 567, 314, 567, 334, 568, 335, 568, 343, 567, 344, 567, 352, 566, 353, 566, 357, 562, 361, 562, 362, 561, 363, 561, 364, 560, 365, 560, 367, 559, 368, 559, 371, 558, 372, 558, 373, 557, 374, 557, 375, 556, 376, 556, 377, 554, 379, 554, 380, 553, 381, 553, 382, 552, 383, 552, 385, 551, 386, 551, 388, 550, 389, 550, 390, 552, 392, 553, 392, 554, 393, 554, 399, 553, 400, 553, 410, 552, 411, 552, 421, 551, 422, 551, 432, 550, 433, 550, 436, 549, 437, 549, 439, 548, 440, 548, 444, 547, 445, 547, 446, 546, 447, 546, 459, 545, 460, 545, 465, 544, 466, 544, 475, 543, 476, 543, 482, 542, 483, 542, 487, 541, 488, 541, 494, 540, 495, 540, 505, 539, 506, 539, 511, 538, 512, 538, 519, 537, 520, 537, 527, 536, 528, 536, 530, 532, 534, 532, 543, 530, 545, 529, 545, 527, 547, 521, 547, 520, 548, 518, 548, 517, 549, 516, 549, 515, 550, 514, 550, 513, 551, 512, 551, 511, 552, 505, 552, 504, 551, 496, 551, 493, 554, 494, 555, 494, 556, 495, 557, 495, 558, 499, 562, 499, 563, 500, 564, 501, 564, 502, 565, 504, 565, 505, 566, 507, 566, 508, 567, 509, 567, 510, 568, 512, 568, 513, 569, 523, 569, 524, 570, 525, 570, 526, 571, 538, 571, 539, 570, 547, 570, 548, 571, 554, 571, 554, 570, 555, 569, 556, 569, 558, 567, 558, 561, 557, 560, 557, 551, 559, 549, 559, 548, 557, 548, 556, 547, 556, 542, 557, 541, 557, 540, 558, 539, 558, 538, 559, 537, 560, 537, 562, 535, 562, 525, 563, 524, 563, 522, 564, 521, 564, 518, 565, 517, 565, 516, 566, 515, 566, 512, 567, 511, 567, 508, 568, 507, 568, 505, 569, 504, 569, 502, 570, 501, 570, 500, 571, 499, 571, 496, 572, 495, 572, 493, 573, 492, 573, 489, 574, 488, 574, 484, 575, 483, 575, 478, 576, 477, 576, 474, 577, 473, 577, 470, 578, 469, 578, 467, 579, 466, 579, 465, 580, 464, 580, 462, 581, 461, 581, 460, 582, 459, 582, 457, 583, 456, 583, 455, 584, 454, 584, 453, 585, 452, 585, 450, 586, 449, 586, 448, 587, 447, 587, 445, 588, 444, 588, 442, 589, 441, 589, 440, 590, 439, 590, 438, 591, 437, 591, 436, 592, 435, 592, 434, 593, 433, 593, 432, 594, 431, 594, 430, 596, 428, 596, 427, 598, 425, 602, 425, 604, 427, 604, 428, 608, 432, 608, 433, 609, 434, 609, 435, 610, 436, 610, 437, 611, 438, 611, 439, 612, 440, 612, 441, 613, 442, 613, 444, 614, 445, 614, 446, 615, 447, 615, 449, 616, 450, 616, 452, 617, 453, 617, 454, 618, 455, 618, 457, 619, 458, 619, 459, 620, 460, 620, 461, 621, 462, 621, 463, 622, 464, 622, 465, 623, 466, 623, 467, 624, 468, 624, 469, 625, 470, 625, 471, 628, 474, 628, 475, 629, 475, 631, 477, 631, 478, 652, 499, 652, 500, 660, 508, 660, 509, 662, 511, 662, 512, 666, 516, 666, 517, 668, 519, 668, 520, 669, 521, 669, 522, 670, 523, 670, 525, 671, 526, 671, 527, 672, 528, 672, 529, 673, 530, 673, 532, 678, 537, 678, 538, 679, 539, 679, 540, 680, 541, 680, 547, 679, 548, 679, 551, 677, 553, 674, 553, 674, 554, 672, 556, 672, 557, 671, 558, 671, 560, 674, 560, 675, 561, 675, 565, 672, 568, 671, 568, 670, 569, 670, 575, 671, 575, 672, 576, 673, 576, 674, 577, 676, 577, 677, 578, 678, 578, 679, 579, 683, 579, 684, 580, 694, 580, 695, 579, 696, 579, 699, 576, 700, 576, 705, 571, 705, 570, 706, 569, 706, 560, 707, 559, 707, 557, 708, 556, 712, 556, 714, 554, 714, 553, 715, 552, 715, 549, 716, 548, 716, 547, 717, 546, 719, 546, 719, 535, 717, 535, 716, 534, 715, 535, 710, 535, 708, 533, 707, 533, 706, 532, 705, 532, 704, 531, 703, 531, 700, 528, 700, 527, 699, 526, 699, 524, 698, 523, 698, 522, 697, 521, 696, 521, 694, 519, 694, 517, 693, 516, 693, 514, 692, 513, 692, 512, 691, 511, 691, 510, 690, 509, 690, 508, 688, 506, 688, 505, 686, 503, 686, 502, 685, 501, 685, 500, 684, 499, 684, 498, 683, 497, 683, 495, 682, 494, 682, 493, 680, 491, 680, 490, 679, 489, 679, 488, 678, 487, 678, 486, 677, 485, 677, 484, 675, 482, 675, 481, 674, 480, 674, 479, 672, 477, 672, 476, 669, 473, 669, 472, 667, 470, 667, 469, 663, 465, 663, 464, 662, 464, 661, 463, 661, 461, 660, 460, 660, 459, 659, 458, 659, 455, 658, 454, 658, 453, 657, 452, 657, 451, 656, 450, 656, 449, 655, 448, 655, 440, 654, 439, 654, 437, 653, 436, 653, 423, 654, 422, 653, 421, 653, 402, 655, 400, 655, 394, 656, 393, 656, 389, 659, 386, 659, 382, 658, 381, 658, 376, 657, 375, 657, 366, 656, 365, 656, 362, 655, 361, 655, 355, 654, 354, 654, 353, 653, 352, 653, 342, 652, 341, 652, 340, 651, 339, 651, 325, 652, 324, 652, 317, 653, 316, 653, 302, 654, 301, 654, 296, 655, 295, 655, 289, 656, 288, 656, 280, 657, 279, 657, 277, 658, 276, 658, 270, 659, 269, 659, 262, 658, 261, 658, 257, 657, 256, 657, 255, 656, 254, 656, 253, 655, 252, 655, 251, 654, 250, 654, 249, 652, 247, 652, 246, 645, 239, 644, 239, 643, 238, 642, 238, 641, 237, 640, 237, 639, 236, 637, 236, 636, 235, 635, 235, 633, 233, 632, 233, 631, 232, 629, 232, 626, 229, 626, 228, 625, 227, 625, 221, 626, 220, 626, 219, 627, 218, 627, 217, 628, 216, 628, 214, 629, 213, 629, 210, 630, 209, 630, 207, 631, 206, 631, 204, 632, 203, 632, 193, 631, 192, 631, 190, 629, 188, 629, 187, 628, 186, 628, 182, 627, 181, 627, 180, 624, 177, 623, 177, 622, 176, 620, 176, 619, 175]]\n"
    }
   ],
   "source": [
    "\n",
    "\n",
    "# This can be any array\n",
    "img_path = \"/home/josmar/proyectos/codes/datasets/ucb_gait_square/silhouettes/002-000_crop.png\"\n",
    "ground_truth_binary_mask = cv2.imread(img_path,0)\n",
    "fortran_ground_truth_binary_mask = np.asfortranarray(ground_truth_binary_mask)\n",
    "polygons = Mask(fortran_ground_truth_binary_mask).polygons()\n",
    "\n",
    "print(polygons.points)\n",
    "print(polygons.segmentation)"
   ]
  },
  {
   "cell_type": "code",
   "execution_count": 13,
   "metadata": {},
   "outputs": [],
   "source": [
    "def close_contour(contour):\n",
    "    if not np.array_equal(contour[0], contour[-1]):\n",
    "        contour = np.vstack((contour, contour[0]))\n",
    "    return contour"
   ]
  },
  {
   "cell_type": "code",
   "execution_count": 19,
   "metadata": {
    "tags": []
   },
   "outputs": [],
   "source": [
    "import json\n",
    "import numpy as np\n",
    "from pycocotools import mask\n",
    "from skimage import measure\n",
    "\n",
    "def mask_to_annotation(img_path, img_id, img_cat, ann_id, is_crowd):\n",
    "    ground_truth_binary_mask = cv2.imread(img_path,0)\n",
    "    fortran_ground_truth_binary_mask = np.asfortranarray(ground_truth_binary_mask)\n",
    "    encoded_ground_truth = mask.encode(fortran_ground_truth_binary_mask)\n",
    "    ground_truth_area = mask.area(encoded_ground_truth)\n",
    "    ground_truth_bounding_box = mask.toBbox(encoded_ground_truth)\n",
    "\n",
    "    padded_binary_mask = np.pad(ground_truth_binary_mask, pad_width=1, mode='constant', constant_values=0)\n",
    "    contours = measure.find_contours(padded_binary_mask, 0.5)\n",
    "    contours = np.subtract(contours, 1)\n",
    "\n",
    "    annotation = {\n",
    "            \"segmentation\": [],\n",
    "            \"area\": ground_truth_area.tolist(),\n",
    "            \"iscrowd\": is_crowd,\n",
    "            \"image_id\": img_id,\n",
    "            \"bbox\": ground_truth_bounding_box.tolist(),\n",
    "            \"category_id\": img_cat,\n",
    "            \"id\": ann_id\n",
    "        }\n",
    "\n",
    "    for contour in contours:\n",
    "        contour = close_contour(contour)\n",
    "        contour = measure.approximate_polygon(contour, 0)   #tolerance = 0\n",
    "        if len(contour) < 3:\n",
    "            continue\n",
    "\n",
    "        contour = np.flip(contour, axis=1)\n",
    "        segmentation = contour.ravel().tolist()\n",
    "        segmentation = [0 if i < 0 else i for i in segmentation]\n",
    "        annotation[\"segmentation\"].append(segmentation)\n",
    "        \n",
    "    \n",
    "    return annotation"
   ]
  },
  {
   "cell_type": "code",
   "execution_count": 15,
   "metadata": {
    "tags": []
   },
   "outputs": [],
   "source": [
    "def images_to_annotations(dir_path, img_names):\n",
    "    #Initializing images and annotations lists\n",
    "    images=[]\n",
    "    annotations = []\n",
    "    img_names.sort()\n",
    "    img_license = 0\n",
    "    img_id=0\n",
    "    ann_id=0\n",
    "    is_crowd=0\n",
    "           \n",
    "    for img_name in img_names:\n",
    "        \n",
    "        img_path = os.path.join(dir_path, img_name)\n",
    "        img = cv2.imread(img_path)\n",
    "        img_size = img.shape\n",
    "        \n",
    "        img_cat = 1\n",
    "        annotation = mask_to_annotation(img_path , img_id, img_cat, ann_id, is_crowd)\n",
    "        annotations.append(annotation)\n",
    "        ann_id+=1\n",
    "            \n",
    "\n",
    "        new_img={}\n",
    "        new_img[\"license\"] = img_license\n",
    "        new_img[\"file_name\"] = img_name.split(\".\")[0]+\".jpg\" #Changed to match the video images\n",
    "        new_img[\"width\"] = img_size[1]\n",
    "        new_img[\"height\"] = img_size[0]\n",
    "        new_img[\"id\"] = img_id\n",
    "        images.append(new_img)\n",
    "\n",
    "        # sub_masks = create_sub_masks()\n",
    "        # for color, sub_mask in sub_masks.items():\n",
    "        #     plt.imshow(sub_mask)\n",
    "        #     plt.show()\n",
    "        \n",
    "        img_id+=1\n",
    "\n",
    "        sys.stdout.write('\\r'+  \"Done: {}/{}\".format(img_id,len(img_names)))\n",
    "        sys.stdout.flush()\n",
    "\n",
    "    return annotations,images\n",
    "\n",
    "\n",
    "\n"
   ]
  },
  {
   "cell_type": "code",
   "execution_count": 16,
   "metadata": {},
   "outputs": [],
   "source": [
    "def create_annotation_dict(info, licenses, imgs,categories,anns):\n",
    "    my_dict = {}\n",
    "    my_dict[\"info\"]= info\n",
    "    my_dict[\"licenses\"]= licenses\n",
    "    my_dict[\"images\"]=imgs\n",
    "    my_dict[\"categories\"]=categories\n",
    "    my_dict[\"annotations\"]=anns\n",
    "    return my_dict"
   ]
  },
  {
   "cell_type": "markdown",
   "metadata": {},
   "source": [
    "## Creating one dataset"
   ]
  },
  {
   "cell_type": "code",
   "execution_count": 47,
   "metadata": {
    "tags": []
   },
   "outputs": [
    {
     "output_type": "stream",
     "name": "stdout",
     "text": "Done: 300/300"
    }
   ],
   "source": [
    "dir_path = \"/home/josmar/proyectos/codes/datasets/ucb_gait_frames/silhouettes\"\n",
    "# dir_path = '/home/josmar/proyectos/codes/datasets/casia_B1_silhouettes'\n",
    "img_names=os.listdir(dir_path)\n",
    "color2cat={\"[255 255 255]\": 1}\n",
    "info = {\n",
    "    \"description\":\"Test Dataset\",\n",
    "    \"url\":\"\",\n",
    "    \"version\":\"0.1\",\n",
    "    \"year\":2020,\n",
    "    \"contributor\":\"Josmar Suarez\",\n",
    "    \"date_created\":\"2020/07/14\"\n",
    "}\n",
    "\n",
    "licenses = [{\n",
    "        \"url\": \"\",\n",
    "        \"id\": 0,\n",
    "        \"name\": \"Attribution-NonCommercial-ShareAlike License\"\n",
    "    }]\n",
    "categories = [\n",
    "    {\n",
    "        \"supercategory\":\"person\",\n",
    "        \"id\":1,\n",
    "        \"name\":\"person\"\n",
    "    }\n",
    "]\n",
    "anns,imgs = images_to_annotations(dir_path, img_names)\n",
    "my_dict = create_annotation_dict(info, licenses, imgs,categories,anns)\n"
   ]
  },
  {
   "cell_type": "markdown",
   "metadata": {},
   "source": [
    "## Creating train,val, test datasets"
   ]
  },
  {
   "cell_type": "code",
   "execution_count": 17,
   "metadata": {
    "tags": []
   },
   "outputs": [
    {
     "output_type": "stream",
     "name": "stdout",
     "text": "9840 1230 1230\n"
    }
   ],
   "source": [
    "import random\n",
    "#percent of ____ from 0 to 1\n",
    "p_train = 0.8\n",
    "p_val = 0.1\n",
    "p_test = 0.1\n",
    "\n",
    "#Reading and shuffling images list\n",
    "dir_path = \"/home/josmar/proyectos/codes/datasets/ucb_gait_square/silhouettes\"\n",
    "all_images = os.listdir(dir_path)\n",
    "random.shuffle(all_images)\n",
    "# Length of the image list\n",
    "n = len(all_images)\n",
    "# Limits of the index\n",
    "lim1 = int(p_train*n)\n",
    "lim2 = lim1 + int(p_val*n)\n",
    "# Creating lists for each value\n",
    "train_l = all_images[0:lim1]\n",
    "val_l = all_images[lim1:lim2]\n",
    "test_l = all_images[lim2:n]\n",
    "# Visualizing sizes\n",
    "print(len(train_l),len(val_l),len(test_l))\n"
   ]
  },
  {
   "cell_type": "code",
   "execution_count": 20,
   "metadata": {
    "tags": []
   },
   "outputs": [
    {
     "output_type": "stream",
     "name": "stdout",
     "text": "\n Ucb Gait Train\nDone: 9840/9840\n Ucb Gait Val\nDone: 1230/1230\n Ucb Gait Test\nDone: 1230/1230"
    }
   ],
   "source": [
    "dir_path = \"/home/josmar/proyectos/codes/datasets/ucb_gait_square/silhouettes\"\n",
    "# dir_path = '/home/josmar/proyectos/codes/datasets/casia_B1_silhouettes'\n",
    "all_dicts = [] \n",
    "datasets = [train_l,val_l,test_l]\n",
    "titles = [\"Ucb Gait Train\",\"Ucb Gait Val\", \"Ucb Gait Test\"]\n",
    "index=0\n",
    "for l in [train_l,val_l,test_l]:\n",
    "    color2cat={\"[255 255 255]\": 1}\n",
    "    info = {\n",
    "        \"description\":titles[index],\n",
    "        \"url\":\"\",\n",
    "        \"version\":\"0.1\",\n",
    "        \"year\":2020,\n",
    "        \"contributor\":\"Josmar Suarez\",\n",
    "        \"date_created\":\"2020/10/28\"\n",
    "    }\n",
    "\n",
    "    licenses = [{\n",
    "            \"url\": \"\",\n",
    "            \"id\": 0,\n",
    "            \"name\": \"Attribution-NonCommercial-ShareAlike License\"\n",
    "        }]\n",
    "    categories = [\n",
    "        {\n",
    "            \"supercategory\":\"person\",\n",
    "            \"id\":1,\n",
    "            \"name\":\"person\"\n",
    "        }\n",
    "    ]\n",
    "    print(\"\\n\",titles[index])\n",
    "    anns,imgs = images_to_annotations(dir_path, l)\n",
    "    my_dict = create_annotation_dict(info, licenses, imgs,categories,anns)\n",
    "    all_dicts.append(my_dict)\n",
    "    index+=1"
   ]
  },
  {
   "cell_type": "code",
   "execution_count": 21,
   "metadata": {},
   "outputs": [],
   "source": [
    "import json \n",
    "titles = [\"/home/josmar/proyectos/codes/datasets/ucb_gait_square/annotations/ucb_gait_train.json\",\"/home/josmar/proyectos/codes/datasets/ucb_gait_square/annotations/ucb_gait_val.json\", \"/home/josmar/proyectos/codes/datasets/ucb_gait_square/annotations/ucb_gait_test.json\"]\n",
    "index=0\n",
    "for my_dict in all_dicts:\n",
    "    with open(titles[index], 'w') as fp:\n",
    "        json.dump(my_dict, fp)\n",
    "    index += 1"
   ]
  },
  {
   "cell_type": "code",
   "execution_count": 76,
   "metadata": {},
   "outputs": [
    {
     "output_type": "execute_result",
     "data": {
      "text/plain": "30"
     },
     "metadata": {},
     "execution_count": 76
    }
   ],
   "source": [
    "len(all_dicts[2][\"annotations\"])"
   ]
  },
  {
   "cell_type": "markdown",
   "metadata": {},
   "source": [
    "## Saving the annotations in json format"
   ]
  },
  {
   "cell_type": "code",
   "execution_count": 6,
   "metadata": {},
   "outputs": [],
   "source": [
    "import json \n",
    "with open('ucb_gait_poly_new.json', 'w') as fp:\n",
    "    json.dump(my_dict, fp)"
   ]
  },
  {
   "cell_type": "code",
   "execution_count": 7,
   "metadata": {
    "tags": []
   },
   "outputs": [
    {
     "output_type": "execute_result",
     "data": {
      "text/plain": "{'license': 0,\n 'file_name': '002-000.jpg',\n 'width': 1280,\n 'height': 720,\n 'id': 0}"
     },
     "metadata": {},
     "execution_count": 7
    }
   ],
   "source": [
    "my_dict[\"images\"][0]"
   ]
  },
  {
   "cell_type": "markdown",
   "metadata": {},
   "source": [
    "## Extracting all silhouetes and images in datasets\n",
    "```\n",
    "import glob \n",
    "import shutil\n",
    "\n",
    "    \n",
    "destination_path = \"/home/josmar/proyectos/codes/datasets/ucb_gait_frames/silhouettes\"\n",
    "pattern = \"/home/josmar/proyectos/codes/annotation_tools/background_substraction/bin_close_images/*/silhouette/*\"  \n",
    "for img in glob.glob(pattern):\n",
    "    shutil.copy(img, destination_path)\n",
    "```\n"
   ]
  },
  {
   "cell_type": "code",
   "execution_count": null,
   "metadata": {},
   "outputs": [],
   "source": []
  },
  {
   "cell_type": "markdown",
   "metadata": {},
   "source": [
    "## Reviewing dictionary"
   ]
  },
  {
   "cell_type": "code",
   "execution_count": 10,
   "metadata": {},
   "outputs": [],
   "source": [
    "import json \n",
    "with open('/home/josmar/proyectos/codes/datasets/ucb_gait_square/annotations/ucb_gait_train.json') as f:\n",
    "    data = json.load(f)"
   ]
  },
  {
   "cell_type": "code",
   "execution_count": 10,
   "metadata": {
    "tags": []
   },
   "outputs": [
    {
     "output_type": "stream",
     "name": "stdout",
     "text": "{3368}\n"
    }
   ],
   "source": [
    "lengths=[]\n",
    "for ann in data[\"annotations\"]:\n",
    "    l=len(data[\"annotations\"][0][\"segmentation\"][0])\n",
    "    lengths.append(l)\n",
    "print(set(lengths))"
   ]
  },
  {
   "cell_type": "code",
   "execution_count": 2,
   "metadata": {
    "tags": []
   },
   "outputs": [
    {
     "output_type": "stream",
     "name": "stdout",
     "text": "{1}\n"
    }
   ],
   "source": [
    "category_list = []\n",
    "for ann in data[\"annotations\"]:\n",
    "    category_list.append(ann[\"category_id\"])\n",
    "print(set(category_list))"
   ]
  },
  {
   "cell_type": "code",
   "execution_count": 12,
   "metadata": {
    "tags": []
   },
   "outputs": [
    {
     "output_type": "stream",
     "name": "stdout",
     "text": "Done: 9840/9840\nTotal_tiny 127\n"
    }
   ],
   "source": [
    "n_points = []\n",
    "tiny = 0\n",
    "tiny_th = 3\n",
    "total_anns =len(data[\"annotations\"])\n",
    "for ann in data[\"annotations\"]:\n",
    "    ann_points = []\n",
    "    for i in ann[\"segmentation\"]:\n",
    "        n=len(i)\n",
    "        if n < tiny_th:\n",
    "            tiny+=1\n",
    "        ann_points.append(n)\n",
    "    n_points.append(ann_points)\n",
    "    \n",
    "    sys.stdout.write('\\r'+  \"Done: {}/{}\".format(ann[\"image_id\"]+1,total_anns))\n",
    "    sys.stdout.flush()\n",
    "print(\"\\nTotal_tiny\", tiny)\n"
   ]
  },
  {
   "cell_type": "code",
   "execution_count": 32,
   "metadata": {},
   "outputs": [
    {
     "output_type": "execute_result",
     "data": {
      "text/plain": "9840"
     },
     "metadata": {},
     "execution_count": 32
    }
   ],
   "source": [
    "print"
   ]
  },
  {
   "cell_type": "code",
   "execution_count": 20,
   "metadata": {
    "tags": []
   },
   "outputs": [
    {
     "output_type": "execute_result",
     "data": {
      "text/plain": "dict_keys(['segmentation', 'area', 'iscrowd', 'image_id', 'bbox', 'category_id', 'id'])"
     },
     "metadata": {},
     "execution_count": 20
    }
   ],
   "source": [
    "data[\"annotations\"][2].keys()"
   ]
  }
 ],
 "metadata": {
  "language_info": {
   "codemirror_mode": {
    "name": "ipython",
    "version": 3
   },
   "file_extension": ".py",
   "mimetype": "text/x-python",
   "name": "python",
   "nbconvert_exporter": "python",
   "pygments_lexer": "ipython3",
   "version": "3.6.10-final"
  },
  "orig_nbformat": 2,
  "kernelspec": {
   "name": "python_defaultSpec_1604287073807",
   "display_name": "Python 3.6.10 64-bit ('backmat': conda)"
  }
 },
 "nbformat": 4,
 "nbformat_minor": 2
}