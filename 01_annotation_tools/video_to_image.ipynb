{
 "cells": [
  {
   "cell_type": "code",
   "execution_count": 2,
   "metadata": {
    "tags": []
   },
   "outputs": [
    {
     "output_type": "stream",
     "name": "stdout",
     "text": "001-bg-01-090-070.png\n001-bg-01-090-056.png\n001-bg-01-090-047.png\n001-bg-01-090-042.png\n001-bg-01-090-073.png\n001-bg-01-090-044.png\n001-bg-01-090-076.png\n001-bg-01-090-061.png\n001-bg-01-090-068.png\n001-bg-01-090-080.png\n001-bg-01-090-072.png\n001-bg-01-090-074.png\n001-bg-01-090-093.png\n001-bg-01-090-078.png\n001-bg-01-090-052.png\n001-bg-01-090-089.png\n001-bg-01-090-086.png\n001-bg-01-090-085.png\n001-bg-01-090-087.png\n001-bg-01-090-058.png\n001-bg-01-090-041.png\n001-bg-01-090-079.png\n001-bg-01-090-082.png\n001-bg-01-090-071.png\n001-bg-01-090-092.png\n001-bg-01-090-063.png\n001-bg-01-090-035.png\n001-bg-01-090-091.png\n001-bg-01-090-055.png\n001-bg-01-090-066.png\n001-bg-01-090-045.png\n001-bg-01-090-040.png\n001-bg-01-090-046.png\n001-bg-01-090-049.png\n001-bg-01-090-084.png\n001-bg-01-090-036.png\n001-bg-01-090-081.png\n001-bg-01-090-054.png\n001-bg-01-090-053.png\n001-bg-01-090-043.png\n001-bg-01-090-050.png\n001-bg-01-090-083.png\n001-bg-01-090-062.png\n001-bg-01-090-069.png\n001-bg-01-090-057.png\n001-bg-01-090-039.png\n001-bg-01-090-064.png\n001-bg-01-090-059.png\n001-bg-01-090-037.png\n001-bg-01-090-060.png\n001-bg-01-090-088.png\n001-bg-01-090-038.png\n001-bg-01-090-065.png\n001-bg-01-090-090.png\n001-bg-01-090-075.png\n001-bg-01-090-051.png\n001-bg-01-090-067.png\n001-bg-01-090-077.png\n001-bg-01-090-048.png\n"
    }
   ],
   "source": [
    "import cv2\n",
    "import re\n",
    "path = \"/home/josmar/proyectos/codes/datasets/casia/DatasetB-1/silhouettes/001/bg-01/090\"\n",
    "names = os.listdir(path)\n",
    "f=[]\n",
    "for name in names:\n",
    "    x = re.split(\"-|\\.\",name)\n",
    "    print(name)\n",
    "    f.append(int(x[4]))\n",
    "    \n",
    "\n",
    "vid_path = \"/home/josmar/proyectos/codes/datasets/casia/DatasetB-1/video/\"\n",
    "vid_name = \"001-bg-01-090.avi\"\n",
    "\n",
    "    \n"
   ]
  },
  {
   "cell_type": "code",
   "execution_count": 7,
   "metadata": {
    "tags": []
   },
   "outputs": [
    {
     "output_type": "stream",
     "name": "stdout",
     "text": "Creating..../data/001-bg-01-090-035.jpg\nCreating..../data/001-bg-01-090-036.jpg\nCreating..../data/001-bg-01-090-037.jpg\nCreating..../data/001-bg-01-090-038.jpg\nCreating..../data/001-bg-01-090-039.jpg\nCreating..../data/001-bg-01-090-040.jpg\nCreating..../data/001-bg-01-090-041.jpg\nCreating..../data/001-bg-01-090-042.jpg\nCreating..../data/001-bg-01-090-043.jpg\nCreating..../data/001-bg-01-090-044.jpg\nCreating..../data/001-bg-01-090-045.jpg\nCreating..../data/001-bg-01-090-046.jpg\nCreating..../data/001-bg-01-090-047.jpg\nCreating..../data/001-bg-01-090-048.jpg\nCreating..../data/001-bg-01-090-049.jpg\nCreating..../data/001-bg-01-090-050.jpg\nCreating..../data/001-bg-01-090-051.jpg\nCreating..../data/001-bg-01-090-052.jpg\nCreating..../data/001-bg-01-090-053.jpg\nCreating..../data/001-bg-01-090-054.jpg\nCreating..../data/001-bg-01-090-055.jpg\nCreating..../data/001-bg-01-090-056.jpg\nCreating..../data/001-bg-01-090-057.jpg\nCreating..../data/001-bg-01-090-058.jpg\nCreating..../data/001-bg-01-090-059.jpg\nCreating..../data/001-bg-01-090-060.jpg\nCreating..../data/001-bg-01-090-061.jpg\nCreating..../data/001-bg-01-090-062.jpg\nCreating..../data/001-bg-01-090-063.jpg\nCreating..../data/001-bg-01-090-064.jpg\nCreating..../data/001-bg-01-090-065.jpg\nCreating..../data/001-bg-01-090-066.jpg\nCreating..../data/001-bg-01-090-067.jpg\nCreating..../data/001-bg-01-090-068.jpg\nCreating..../data/001-bg-01-090-069.jpg\nCreating..../data/001-bg-01-090-070.jpg\nCreating..../data/001-bg-01-090-071.jpg\nCreating..../data/001-bg-01-090-072.jpg\nCreating..../data/001-bg-01-090-073.jpg\nCreating..../data/001-bg-01-090-074.jpg\nCreating..../data/001-bg-01-090-075.jpg\nCreating..../data/001-bg-01-090-076.jpg\nCreating..../data/001-bg-01-090-077.jpg\nCreating..../data/001-bg-01-090-078.jpg\nCreating..../data/001-bg-01-090-079.jpg\nCreating..../data/001-bg-01-090-080.jpg\nCreating..../data/001-bg-01-090-081.jpg\nCreating..../data/001-bg-01-090-082.jpg\nCreating..../data/001-bg-01-090-083.jpg\nCreating..../data/001-bg-01-090-084.jpg\nCreating..../data/001-bg-01-090-085.jpg\nCreating..../data/001-bg-01-090-086.jpg\nCreating..../data/001-bg-01-090-087.jpg\nCreating..../data/001-bg-01-090-088.jpg\nCreating..../data/001-bg-01-090-089.jpg\nCreating..../data/001-bg-01-090-090.jpg\nCreating..../data/001-bg-01-090-091.jpg\nCreating..../data/001-bg-01-090-092.jpg\nCreating..../data/001-bg-01-090-093.jpg\n"
    }
   ],
   "source": [
    "import cv2 \n",
    "import os \n",
    "  \n",
    "# Read the video from specified path \n",
    "cam = cv2.VideoCapture(\"/home/josmar/proyectos/codes/datasets/casia/DatasetB-1/video/001-bg-01-090.avi\") \n",
    "  \n",
    "try: \n",
    "      \n",
    "    # creating a folder named data \n",
    "    if not os.path.exists('data'): \n",
    "        os.makedirs('data') \n",
    "  \n",
    "# if not created then raise error \n",
    "except OSError: \n",
    "    print ('Error: Creating directory of data') \n",
    "  \n",
    "# frame \n",
    "currentframe = 1\n",
    "  \n",
    "while(True): \n",
    "    \n",
    "    # reading from frame \n",
    "    ret,frame = cam.read() \n",
    "  \n",
    "    if (ret):\n",
    "        if(currentframe in f):\n",
    "            # if video is still left continue creating images \n",
    "            name = './data/'+ vid_name.split(\".\")[0]+\"-\"+ str(currentframe).zfill(3)+ '.jpg'\n",
    "            print ('Creating...' + name) \n",
    "\n",
    "            # writing the extracted images \n",
    "            cv2.imwrite(name, frame) \n",
    "\n",
    "            # increasing counter so that it will \n",
    "            # show how many frames are created \n",
    "        currentframe += 1\n",
    "    else: \n",
    "        break\n",
    "  \n",
    "# Release all space and windows once done \n",
    "cam.release() \n",
    "cv2.destroyAllWindows()"
   ]
  }
 ],
 "metadata": {
  "language_info": {
   "codemirror_mode": {
    "name": "ipython",
    "version": 3
   },
   "file_extension": ".py",
   "mimetype": "text/x-python",
   "name": "python",
   "nbconvert_exporter": "python",
   "pygments_lexer": "ipython3",
   "version": 3
  },
  "orig_nbformat": 2,
  "kernelspec": {
   "name": "python_defaultSpec_1595104982594",
   "display_name": "Python 3.6.10 64-bit ('d2': conda)"
  }
 },
 "nbformat": 4,
 "nbformat_minor": 2
}