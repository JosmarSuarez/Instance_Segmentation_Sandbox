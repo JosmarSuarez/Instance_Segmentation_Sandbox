{
 "cells": [
  {
   "cell_type": "markdown",
   "metadata": {},
   "source": [
    "# Video to image\n",
    "Converts a video to a group of images"
   ]
  },
  {
   "cell_type": "code",
   "execution_count": 48,
   "metadata": {
    "tags": []
   },
   "outputs": [],
   "source": [
    "import cv2 \n",
    "import os \n",
    "\n",
    "def video2images(video_path, dest_folder, name_format=\"{}{}.png\", prefix=\"\",n_frames=-1):\n",
    "    # Read the video from specified path \n",
    "    cam = cv2.VideoCapture(video_path)\n",
    "    # Get the total number of frames in the video\n",
    "    length = int(cam.get(cv2.CAP_PROP_FRAME_COUNT))\n",
    "    \n",
    "    #Adjust the iterations to the desired n_frames\n",
    "    if n_frames > 0:\n",
    "        length = n_frames\n",
    "\n",
    "    #Create destiny folder\n",
    "    try: \n",
    "        # creating a folder named data \n",
    "        if not os.path.exists(dest_folder): \n",
    "            os.makedirs(dest_folder) \n",
    "    \n",
    "    # if not created then raise error \n",
    "    except OSError: \n",
    "        print ('Error: Creating directory of data') \n",
    "    \n",
    "    # Iterate every frame to and save them as images\n",
    "    currentframe = 0\n",
    "    while(currentframe < length): \n",
    "        \n",
    "        # reading from frame \n",
    "        ret,frame = cam.read() \n",
    "    \n",
    "        if (ret):\n",
    "            \n",
    "            # if video is still left continue creating images \n",
    "            \n",
    "            # Get the generated path\n",
    "            img_name = name_format.format(prefix, str(currentframe).zfill(3))\n",
    "            img_path = os.path.join(dest_folder, img_name)\n",
    "\n",
    "            # Convert frame to Grayscale\n",
    "            frame = cv2.cvtColor(frame, cv2.COLOR_BGR2GRAY)\n",
    "            \n",
    "            # Save the extracted images\n",
    "            cv2.imwrite(img_path, frame)\n",
    "\n",
    "            sys.stdout.write('\\r'+  \"Creating frame: {}/{}\".format(currentframe+1,length))\n",
    "            sys.stdout.flush() \n",
    "            \n",
    "            # increasing counter so that it will \n",
    "            # show how many frames are created \n",
    "            currentframe += 1\n",
    "        else: \n",
    "            break\n",
    "    \n",
    "    # Release all space and windows once done \n",
    "    cam.release() \n",
    "    cv2.destroyAllWindows()"
   ]
  },
  {
   "cell_type": "markdown",
   "metadata": {},
   "source": [
    "## Using video2images function "
   ]
  },
  {
   "cell_type": "code",
   "execution_count": 58,
   "metadata": {
    "tags": []
   },
   "outputs": [
    {
     "output_type": "stream",
     "name": "stdout",
     "text": "Creating frame: 300/300"
    }
   ],
   "source": [
    "name_format=\"{}-{}.png\"\n",
    "prefix = \"002\"\n",
    "dest_folder = \"data\"\n",
    "input_video = \"/home/josmar/proyectos/Background_Matting/walking_clips/krita_files/2_720_correction.mp4\"\n",
    "n_frames = 300\n",
    "video2images(input_video, dest_folder, name_format, prefix, n_frames)\n"
   ]
  },
  {
   "cell_type": "markdown",
   "metadata": {},
   "source": [
    "## Extracting images from multiple folders"
   ]
  },
  {
   "cell_type": "code",
   "execution_count": 54,
   "metadata": {},
   "outputs": [
    {
     "output_type": "execute_result",
     "data": {
      "text/plain": "41"
     },
     "metadata": {},
     "execution_count": 54
    }
   ],
   "source": [
    "# Get the list of videos contained in one folder\n",
    "import glob\n",
    "tree_folder = \"/home/josmar/proyectos/Background_Matting/walking_clips/krita_files/*.mp4\"\n",
    "vid_list = glob.glob(tree_folder, recursive=True)\n",
    "vid_list.sort()\n",
    "len(vid_list)"
   ]
  },
  {
   "cell_type": "code",
   "execution_count": 61,
   "metadata": {
    "tags": []
   },
   "outputs": [
    {
     "output_type": "stream",
     "name": "stdout",
     "text": "['10', '12', '13', '14', '15', '16', '18', '19', '2', '20', '22', '23', '24', '25', '26', '27', '29', '3', '30', '31', '32', '34', '35', '36', '37', '39', '4', '40', '43', '44', '45', '46', '47', '5', '50', '52', '53', '6', '7', '8', '9']\n"
    }
   ],
   "source": [
    "#List all used subjects (this is useful in my case to select the videos that will be extracted)\n",
    "useful_sub = os.listdir(\"/home/josmar/proyectos/Background_Matting/walking_clips/krita_files\")\n",
    "useful_sub = [sub.split(\"_\")[0] for sub in useful_sub]\n",
    "useful_sub.sort()\n",
    "print(useful_sub)"
   ]
  },
  {
   "cell_type": "code",
   "execution_count": 71,
   "metadata": {
    "tags": []
   },
   "outputs": [
    {
     "output_type": "execute_result",
     "data": {
      "text/plain": "['/home/josmar/proyectos/Background_Matting/walking_clips/krita_files/10_720_correction.mp4',\n '/home/josmar/proyectos/Background_Matting/walking_clips/krita_files/12_720_correction.mp4',\n '/home/josmar/proyectos/Background_Matting/walking_clips/krita_files/13_720_correction.mp4',\n '/home/josmar/proyectos/Background_Matting/walking_clips/krita_files/14_720_correction.mp4',\n '/home/josmar/proyectos/Background_Matting/walking_clips/krita_files/15_720_correction.mp4',\n '/home/josmar/proyectos/Background_Matting/walking_clips/krita_files/16_720_correction.mp4',\n '/home/josmar/proyectos/Background_Matting/walking_clips/krita_files/18_720_correction.mp4',\n '/home/josmar/proyectos/Background_Matting/walking_clips/krita_files/19_720_correction.mp4',\n '/home/josmar/proyectos/Background_Matting/walking_clips/krita_files/20_720_correction.mp4',\n '/home/josmar/proyectos/Background_Matting/walking_clips/krita_files/22_720_correction.mp4',\n '/home/josmar/proyectos/Background_Matting/walking_clips/krita_files/23_720_correction.mp4',\n '/home/josmar/proyectos/Background_Matting/walking_clips/krita_files/24_720_correction.mp4',\n '/home/josmar/proyectos/Background_Matting/walking_clips/krita_files/25_720_correction.mp4',\n '/home/josmar/proyectos/Background_Matting/walking_clips/krita_files/26_720_correction.mp4',\n '/home/josmar/proyectos/Background_Matting/walking_clips/krita_files/27_720_correction.mp4',\n '/home/josmar/proyectos/Background_Matting/walking_clips/krita_files/29_720_correction.mp4',\n '/home/josmar/proyectos/Background_Matting/walking_clips/krita_files/2_720_correction.mp4',\n '/home/josmar/proyectos/Background_Matting/walking_clips/krita_files/30_720_correction.mp4',\n '/home/josmar/proyectos/Background_Matting/walking_clips/krita_files/31_720_correction.mp4',\n '/home/josmar/proyectos/Background_Matting/walking_clips/krita_files/32_720_correction.mp4',\n '/home/josmar/proyectos/Background_Matting/walking_clips/krita_files/34_720_correction.mp4',\n '/home/josmar/proyectos/Background_Matting/walking_clips/krita_files/35_720_correction.mp4',\n '/home/josmar/proyectos/Background_Matting/walking_clips/krita_files/36_720_correction.mp4',\n '/home/josmar/proyectos/Background_Matting/walking_clips/krita_files/37_720_correction.mp4',\n '/home/josmar/proyectos/Background_Matting/walking_clips/krita_files/39_720_correction.mp4',\n '/home/josmar/proyectos/Background_Matting/walking_clips/krita_files/3_720_correction.mp4',\n '/home/josmar/proyectos/Background_Matting/walking_clips/krita_files/40_720_correction.mp4',\n '/home/josmar/proyectos/Background_Matting/walking_clips/krita_files/43_720_correction.mp4',\n '/home/josmar/proyectos/Background_Matting/walking_clips/krita_files/44_720_correction.mp4',\n '/home/josmar/proyectos/Background_Matting/walking_clips/krita_files/45_720_correction.mp4',\n '/home/josmar/proyectos/Background_Matting/walking_clips/krita_files/46_720_correction.mp4',\n '/home/josmar/proyectos/Background_Matting/walking_clips/krita_files/47_720_correction.mp4',\n '/home/josmar/proyectos/Background_Matting/walking_clips/krita_files/4_720_correction.mp4',\n '/home/josmar/proyectos/Background_Matting/walking_clips/krita_files/50_720_correction.mp4',\n '/home/josmar/proyectos/Background_Matting/walking_clips/krita_files/52_720_correction.mp4',\n '/home/josmar/proyectos/Background_Matting/walking_clips/krita_files/53_720_correction.mp4',\n '/home/josmar/proyectos/Background_Matting/walking_clips/krita_files/5_720_correction.mp4',\n '/home/josmar/proyectos/Background_Matting/walking_clips/krita_files/6_720_correction.mp4',\n '/home/josmar/proyectos/Background_Matting/walking_clips/krita_files/7_720_correction.mp4',\n '/home/josmar/proyectos/Background_Matting/walking_clips/krita_files/8_720_correction.mp4',\n '/home/josmar/proyectos/Background_Matting/walking_clips/krita_files/9_720_correction.mp4']"
     },
     "metadata": {},
     "execution_count": 71
    }
   ],
   "source": [
    "# Create new vid_list\n",
    "import re\n",
    "\n",
    "new_vid_list = [vid for vid in vid_list if re.search(pattern, vid).group(1) in useful_sub]\n",
    "new_vid_list"
   ]
  },
  {
   "cell_type": "code",
   "execution_count": 74,
   "metadata": {
    "tags": []
   },
   "outputs": [
    {
     "output_type": "stream",
     "name": "stdout",
     "text": "\n 010\nCreating frame: 300/300\n 012\nCreating frame: 300/300\n 013\nCreating frame: 300/300\n 014\nCreating frame: 300/300\n 015\nCreating frame: 300/300\n 016\nCreating frame: 300/300\n 018\nCreating frame: 300/300\n 019\nCreating frame: 300/300\n 020\nCreating frame: 300/300\n 022\nCreating frame: 300/300\n 023\nCreating frame: 300/300\n 024\nCreating frame: 300/300\n 025\nCreating frame: 300/300\n 026\nCreating frame: 300/300\n 027\nCreating frame: 300/300\n 029\nCreating frame: 300/300\n 002\nCreating frame: 300/300\n 030\nCreating frame: 300/300\n 031\nCreating frame: 300/300\n 032\nCreating frame: 300/300\n 034\nCreating frame: 300/300\n 035\nCreating frame: 300/300\n 036\nCreating frame: 300/300\n 037\nCreating frame: 300/300\n 039\nCreating frame: 300/300\n 003\nCreating frame: 300/300\n 040\nCreating frame: 300/300\n 043\nCreating frame: 300/300\n 044\nCreating frame: 300/300\n 045\nCreating frame: 300/300\n 046\nCreating frame: 300/300\n 047\nCreating frame: 300/300\n 004\nCreating frame: 300/300\n 050\nCreating frame: 300/300\n 052\nCreating frame: 300/300\n 053\nCreating frame: 300/300\n 005\nCreating frame: 300/300\n 006\nCreating frame: 300/300\n 007\nCreating frame: 300/300\n 008\nCreating frame: 300/300\n 009\nCreating frame: 300/300"
    }
   ],
   "source": [
    "pattern = \"files/(.*?)_720\"\n",
    "name_format=\"{}-{}.png\"\n",
    "dest_folder = \"/home/josmar/proyectos/codes/datasets/ucb_gait_frames/mattes\"\n",
    "for vid in vid_list:\n",
    "    subject = re.search(pattern, vid).group(1)\n",
    "    if subject in useful_sub:\n",
    "        prefix = subject.zfill(3)\n",
    "        input_video = vid\n",
    "        n_frames = 300\n",
    "        print('\\n',prefix)\n",
    "        video2images(input_video, dest_folder, name_format, prefix, n_frames)\n"
   ]
  },
  {
   "cell_type": "markdown",
   "metadata": {},
   "source": [
    "## Check the colors of image (Optional)\n",
    "You can use the following code to check the extracted image colors, if the three channels (r,g,b) have the same value, the images were generated correctly"
   ]
  },
  {
   "cell_type": "code",
   "execution_count": 53,
   "metadata": {},
   "outputs": [
    {
     "output_type": "execute_result",
     "data": {
      "text/plain": "array([[  0,   0,   0],\n       [  1,   1,   1],\n       [  2,   2,   2],\n       [  3,   3,   3],\n       [  4,   4,   4],\n       [  5,   5,   5],\n       [  6,   6,   6],\n       [  7,   7,   7],\n       [  8,   8,   8],\n       [  9,   9,   9],\n       [ 10,  10,  10],\n       [ 11,  11,  11],\n       [ 12,  12,  12],\n       [ 13,  13,  13],\n       [ 14,  14,  14],\n       [ 15,  15,  15],\n       [ 16,  16,  16],\n       [ 17,  17,  17],\n       [ 18,  18,  18],\n       [ 19,  19,  19],\n       [ 20,  20,  20],\n       [ 21,  21,  21],\n       [ 22,  22,  22],\n       [ 23,  23,  23],\n       [ 24,  24,  24],\n       [ 25,  25,  25],\n       [ 26,  26,  26],\n       [ 27,  27,  27],\n       [ 28,  28,  28],\n       [ 29,  29,  29],\n       [ 30,  30,  30],\n       [ 31,  31,  31],\n       [ 32,  32,  32],\n       [ 33,  33,  33],\n       [ 34,  34,  34],\n       [ 35,  35,  35],\n       [ 36,  36,  36],\n       [ 37,  37,  37],\n       [ 38,  38,  38],\n       [ 39,  39,  39],\n       [ 40,  40,  40],\n       [ 41,  41,  41],\n       [ 42,  42,  42],\n       [ 43,  43,  43],\n       [ 44,  44,  44],\n       [ 45,  45,  45],\n       [ 46,  46,  46],\n       [ 47,  47,  47],\n       [ 48,  48,  48],\n       [ 49,  49,  49],\n       [ 50,  50,  50],\n       [ 51,  51,  51],\n       [ 52,  52,  52],\n       [ 53,  53,  53],\n       [ 54,  54,  54],\n       [ 55,  55,  55],\n       [ 56,  56,  56],\n       [ 57,  57,  57],\n       [ 58,  58,  58],\n       [ 59,  59,  59],\n       [ 60,  60,  60],\n       [ 61,  61,  61],\n       [ 62,  62,  62],\n       [ 63,  63,  63],\n       [ 64,  64,  64],\n       [ 65,  65,  65],\n       [ 66,  66,  66],\n       [ 67,  67,  67],\n       [ 68,  68,  68],\n       [ 69,  69,  69],\n       [ 70,  70,  70],\n       [ 71,  71,  71],\n       [ 72,  72,  72],\n       [ 73,  73,  73],\n       [ 74,  74,  74],\n       [ 75,  75,  75],\n       [ 76,  76,  76],\n       [ 77,  77,  77],\n       [ 78,  78,  78],\n       [ 79,  79,  79],\n       [ 80,  80,  80],\n       [ 81,  81,  81],\n       [ 82,  82,  82],\n       [ 83,  83,  83],\n       [ 84,  84,  84],\n       [ 85,  85,  85],\n       [ 86,  86,  86],\n       [ 87,  87,  87],\n       [ 88,  88,  88],\n       [ 89,  89,  89],\n       [ 90,  90,  90],\n       [ 91,  91,  91],\n       [ 92,  92,  92],\n       [ 93,  93,  93],\n       [ 94,  94,  94],\n       [ 95,  95,  95],\n       [ 96,  96,  96],\n       [ 97,  97,  97],\n       [ 98,  98,  98],\n       [ 99,  99,  99],\n       [100, 100, 100],\n       [101, 101, 101],\n       [102, 102, 102],\n       [103, 103, 103],\n       [104, 104, 104],\n       [105, 105, 105],\n       [106, 106, 106],\n       [107, 107, 107],\n       [108, 108, 108],\n       [109, 109, 109],\n       [110, 110, 110],\n       [111, 111, 111],\n       [112, 112, 112],\n       [113, 113, 113],\n       [114, 114, 114],\n       [115, 115, 115],\n       [116, 116, 116],\n       [117, 117, 117],\n       [118, 118, 118],\n       [119, 119, 119],\n       [120, 120, 120],\n       [121, 121, 121],\n       [122, 122, 122],\n       [123, 123, 123],\n       [124, 124, 124],\n       [125, 125, 125],\n       [126, 126, 126],\n       [127, 127, 127],\n       [128, 128, 128],\n       [129, 129, 129],\n       [130, 130, 130],\n       [131, 131, 131],\n       [132, 132, 132],\n       [133, 133, 133],\n       [134, 134, 134],\n       [135, 135, 135],\n       [136, 136, 136],\n       [137, 137, 137],\n       [138, 138, 138],\n       [139, 139, 139],\n       [140, 140, 140],\n       [141, 141, 141],\n       [142, 142, 142],\n       [143, 143, 143],\n       [144, 144, 144],\n       [145, 145, 145],\n       [146, 146, 146],\n       [147, 147, 147],\n       [148, 148, 148],\n       [149, 149, 149],\n       [150, 150, 150],\n       [151, 151, 151],\n       [152, 152, 152],\n       [153, 153, 153],\n       [154, 154, 154],\n       [155, 155, 155],\n       [156, 156, 156],\n       [157, 157, 157],\n       [158, 158, 158],\n       [159, 159, 159],\n       [160, 160, 160],\n       [161, 161, 161],\n       [162, 162, 162],\n       [163, 163, 163],\n       [164, 164, 164],\n       [165, 165, 165],\n       [166, 166, 166],\n       [167, 167, 167],\n       [168, 168, 168],\n       [169, 169, 169],\n       [170, 170, 170],\n       [171, 171, 171],\n       [172, 172, 172],\n       [173, 173, 173],\n       [174, 174, 174],\n       [175, 175, 175],\n       [176, 176, 176],\n       [177, 177, 177],\n       [178, 178, 178],\n       [179, 179, 179],\n       [180, 180, 180],\n       [181, 181, 181],\n       [182, 182, 182],\n       [183, 183, 183],\n       [184, 184, 184],\n       [185, 185, 185],\n       [186, 186, 186],\n       [187, 187, 187],\n       [188, 188, 188],\n       [189, 189, 189],\n       [190, 190, 190],\n       [191, 191, 191],\n       [192, 192, 192],\n       [193, 193, 193],\n       [194, 194, 194],\n       [195, 195, 195],\n       [196, 196, 196],\n       [197, 197, 197],\n       [198, 198, 198],\n       [199, 199, 199],\n       [200, 200, 200],\n       [201, 201, 201],\n       [202, 202, 202],\n       [203, 203, 203],\n       [204, 204, 204],\n       [205, 205, 205],\n       [206, 206, 206],\n       [207, 207, 207],\n       [208, 208, 208],\n       [209, 209, 209],\n       [210, 210, 210],\n       [211, 211, 211],\n       [212, 212, 212],\n       [213, 213, 213],\n       [214, 214, 214],\n       [215, 215, 215],\n       [216, 216, 216],\n       [217, 217, 217],\n       [218, 218, 218],\n       [219, 219, 219],\n       [220, 220, 220],\n       [221, 221, 221],\n       [222, 222, 222],\n       [223, 223, 223],\n       [224, 224, 224],\n       [225, 225, 225],\n       [226, 226, 226],\n       [227, 227, 227],\n       [228, 228, 228],\n       [229, 229, 229],\n       [230, 230, 230],\n       [231, 231, 231],\n       [232, 232, 232],\n       [233, 233, 233],\n       [234, 234, 234],\n       [235, 235, 235],\n       [236, 236, 236],\n       [237, 237, 237],\n       [238, 238, 238],\n       [239, 239, 239],\n       [240, 240, 240],\n       [241, 241, 241],\n       [242, 242, 242],\n       [243, 243, 243],\n       [244, 244, 244],\n       [245, 245, 245],\n       [246, 246, 246],\n       [247, 247, 247],\n       [248, 248, 248],\n       [249, 249, 249],\n       [250, 250, 250],\n       [251, 251, 251],\n       [252, 252, 252],\n       [253, 253, 253],\n       [254, 254, 254],\n       [255, 255, 255]], dtype=uint8)"
     },
     "metadata": {},
     "execution_count": 53
    }
   ],
   "source": [
    "import numpy as np\n",
    "img_path = \"/home/josmar/proyectos/codes/01_annotation_tools/data/002-000.png\"\n",
    "img = cv2.imread(img_path)\n",
    "np.unique(img.reshape(-1, img.shape[2]), axis=0)"
   ]
  }
 ],
 "metadata": {
  "language_info": {
   "codemirror_mode": {
    "name": "ipython",
    "version": 3
   },
   "file_extension": ".py",
   "mimetype": "text/x-python",
   "name": "python",
   "nbconvert_exporter": "python",
   "pygments_lexer": "ipython3",
   "version": 3
  },
  "orig_nbformat": 2,
  "kernelspec": {
   "name": "python_defaultSpec_1605046852901",
   "display_name": "Python 3.6.10 64-bit ('d2': conda)"
  }
 },
 "nbformat": 4,
 "nbformat_minor": 2
}