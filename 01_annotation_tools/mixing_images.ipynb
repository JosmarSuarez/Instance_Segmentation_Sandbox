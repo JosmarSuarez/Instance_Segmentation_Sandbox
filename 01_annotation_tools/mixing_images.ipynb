{
 "cells": [
  {
   "cell_type": "markdown",
   "metadata": {},
   "source": [
    "## Matting\n",
    "Using %%timeit obtained 419 ms ± 11.7 ms per loop (mean ± std. dev. of 7 runs, 1 loop each)"
   ]
  },
  {
   "cell_type": "code",
   "execution_count": 1,
   "metadata": {},
   "outputs": [],
   "source": [
    "import cv2\n",
    "import random\n",
    "import numpy as np\n",
    "import matplotlib.pyplot as plt"
   ]
  },
  {
   "cell_type": "code",
   "execution_count": 2,
   "metadata": {
    "tags": []
   },
   "outputs": [],
   "source": [
    "\n",
    "def mix_images(img_list, bg_path, colors, img_dest = None, sil_dest = None, show=False):\n",
    "    bg = cv2.imread(bg_path)\n",
    "    silhouettes = np.zeros(bg.shape, np.float64) \n",
    "    index = 0\n",
    "    for paths in img_list:\n",
    "        # Reading image, matte, and silhouette for each image\n",
    "        img = cv2.imread(paths[\"image\"]).astype(float)\n",
    "        matte = cv2.imread(paths[\"matte\"]).astype(float)/255\n",
    "        sil = cv2.imread(paths[\"silhouette\"]).astype(float)/255\n",
    "\n",
    "        # Mix silhouettes, all silhouettes will be saved in the silhouettes variable\n",
    "        silhouettes = cv2.multiply(1.0-sil,silhouettes)\n",
    "        silhouettes = cv2.add(sil*colors[index], silhouettes)\n",
    "        \n",
    "        # Mix images and save them in the bg variable\n",
    "        bg = bg.astype(float)\n",
    "        fg = cv2.multiply(img,matte)\n",
    "        \n",
    "        # Multiply the background with ( 1 - alpha )\n",
    "        back = cv2.multiply(1.0 - matte, bg)\n",
    "\n",
    "        # Add the masked foreground and background.\n",
    "        bg = cv2.add(fg, back)\n",
    "\n",
    "        index+=1\n",
    "\n",
    "    # Show results\n",
    "    if(show):\n",
    "        plt.imshow((bg/255)[:,:,::-1])\n",
    "        plt.show()\n",
    "        plt.imshow(silhouettes[:,:,::-1])\n",
    "        plt.show()\n",
    "    # Save images\n",
    "    if img_dest != None:\n",
    "        cv2.imwrite(img_dest,bg)\n",
    "    if sil_dest != None:\n",
    "        cv2.imwrite(sil_dest,silhouettes)"
   ]
  },
  {
   "cell_type": "markdown",
   "metadata": {
    "tags": []
   },
   "source": [
    "## Example of use mix_images()\n",
    "```python\n",
    "img_list = [\n",
    "    {\"image\":\"/home/josmar/proyectos/codes/datasets/ucb_gait_frames/images/018-060.jpg\",\n",
    "    \"matte\": \"/home/josmar/proyectos/codes/datasets/ucb_gait_frames/mattes/018-060.png\",\n",
    "    \"silhouette\":\"/home/josmar/proyectos/codes/datasets/ucb_gait_frames/silhouettes/018-060.png\"},\n",
    "    {\"image\":\"/home/josmar/proyectos/codes/datasets/ucb_gait_frames/images/002-008.jpg\",\n",
    "    \"matte\": \"/home/josmar/proyectos/codes/datasets/ucb_gait_frames/mattes/002-008.png\",\n",
    "    \"silhouette\":\"/home/josmar/proyectos/codes/datasets/ucb_gait_frames/silhouettes/002-008.png\"}\n",
    "]\n",
    "bg_path = \"/media/josmar/Nuevo vol/Experiments/segmentation_codes/background.jpg\"\n",
    "colors = [(255,0,0),(0,255,0),(0,0,255),(255,255,0),(0,255,255),(255, 0, 255)]\n",
    "img_dest = \"mix_img.jpg\"\n",
    "sil_dest = \"mix_silhouettes.png\"\n",
    "mix_images(img_list, bg_path, colors, img_dest, sil_dest, show=True)\n",
    "```"
   ]
  },
  {
   "cell_type": "markdown",
   "metadata": {},
   "source": [
    "## Checking bg sizes"
   ]
  },
  {
   "cell_type": "code",
   "execution_count": 3,
   "metadata": {
    "tags": []
   },
   "outputs": [],
   "source": [
    "bg_dir = \"/home/josmar/proyectos/codes/01_annotation_tools/test_data/backgrounds\"\n",
    "backgrounds = os.listdir(bg_dir)\n",
    "\n",
    "for bg in backgrounds:\n",
    "    img_path = os.path.join(bg_dir,bg)\n",
    "    img = cv2.imread(img_path)\n",
    "    if img.shape[0] != 720 and img.shape[1] != 1280:\n",
    "        print(img_path)"
   ]
  },
  {
   "cell_type": "markdown",
   "metadata": {},
   "source": [
    "## Aplying mix images to a folder"
   ]
  },
  {
   "cell_type": "code",
   "execution_count": 4,
   "metadata": {},
   "outputs": [],
   "source": [
    "def get_iou(boxA, boxB):\n",
    "\t# determine the (x, y)-coordinates of the intersection rectangle\n",
    "\txA = max(boxA[0], boxB[0])\n",
    "\tyA = max(boxA[1], boxB[1])\n",
    "\txB = min(boxA[2], boxB[2])\n",
    "\tyB = min(boxA[3], boxB[3])\n",
    "\t# compute the area of intersection rectangle\n",
    "\tinterArea = max(0, xB - xA + 1) * max(0, yB - yA + 1)\n",
    "\t# compute the area of both the prediction and ground-truth\n",
    "\t# rectangles\n",
    "\tboxAArea = (boxA[2] - boxA[0] + 1) * (boxA[3] - boxA[1] + 1)\n",
    "\tboxBArea = (boxB[2] - boxB[0] + 1) * (boxB[3] - boxB[1] + 1)\n",
    "\t# compute the intersection over union by taking the intersection\n",
    "\t# area and dividing it by the sum of prediction + ground-truth\n",
    "\t# areas - the interesection area\n",
    "\tiou = interArea / float(boxAArea + boxBArea - interArea)\n",
    "\t# return the intersection over union value\n",
    "\treturn iou"
   ]
  },
  {
   "cell_type": "code",
   "execution_count": 5,
   "metadata": {
    "tags": []
   },
   "outputs": [],
   "source": [
    "def augment_mix_images(n,img_dir,bg_dir,coco):\n",
    "    count = 0\n",
    "    backgrounds = os.listdir(bg_dir)\n",
    "    images = os.listdir(os.path.join(img_dir, \"images\"))\n",
    "    images = [image.split(\".\")[0] for image in images]\n",
    "\n",
    "    category = \"person\"\n",
    "    catIds = coco.getCatIds(catNms=[category])\n",
    "    imgIds = coco.getImgIds(catIds=catIds )\n",
    "    \n",
    "    while count<n:\n",
    "        imID = random.choices(imgIds, k=2)\n",
    "        rand_imgs = coco.loadImgs(imID)\n",
    "        bboxes = []\n",
    "        image_list = []\n",
    "        name_list = []\n",
    "        for rand_img in rand_imgs:\n",
    "            annIds = coco.getAnnIds(imgIds=rand_img['id'], catIds=catIds, iscrowd=None)\n",
    "            anns = coco.loadAnns(annIds)[0]\n",
    "\n",
    "            bbox = anns[\"bbox\"][:]\n",
    "            bbox[2], bbox[3] = bbox[0]+bbox[2], bbox[1]+bbox[3] \n",
    "            bboxes.append(bbox)\n",
    "\n",
    "            img_name = rand_img[\"file_name\"].split(\".\")[0]\n",
    "\n",
    "            paths = {\"image\":os.path.join(img_dir, \"images\", \"{}.jpg\".format(img_name)),\n",
    "                    \"matte\": os.path.join(img_dir, \"mattes\", \"{}.png\".format(img_name)),\n",
    "                    \"silhouette\":os.path.join(img_dir, \"silhouettes\", \"{}.png\".format(img_name))}\n",
    "            image_list.append(paths)\n",
    "            name_list.append(img_name)\n",
    "        \n",
    "        bg_name_ext = random.choice(backgrounds)\n",
    "        bg_name = bg_name_ext.split(\".\")[0]\n",
    "        bg_path = os.path.join(bg_dir, bg_name_ext)\n",
    "        \n",
    "        \n",
    "        dest_name = \"{}_{}_{}\".format(bg_name ,name_list[0], name_list[1])\n",
    "        \n",
    "        img_dest = os.path.join(results_dir, \"images\", \"{}.jpg\".format(dest_name))\n",
    "        sil_dest = os.path.join(results_dir, \"silhouettes\", \"{}.png\".format(dest_name))\n",
    "        if (get_iou(bboxes[0],bboxes[1]) < 0.1 and (name_list[0].split(\"-\")[0] != name_list[1].split(\"-\")[0])):\n",
    "            mix_images(image_list, bg_path, colors, img_dest, sil_dest)\n",
    "            count+=1\n",
    "\n",
    "            sys.stdout.write('\\r'+  \"Done: {}/{}\".format(count,n))\n",
    "            sys.stdout.flush()\n"
   ]
  },
  {
   "cell_type": "code",
   "execution_count": 6,
   "metadata": {
    "tags": []
   },
   "outputs": [
    {
     "output_type": "stream",
     "name": "stdout",
     "text": "Total images:  12300\nTotal backgrounds:  33\n"
    }
   ],
   "source": [
    "# List bakcground images\n",
    "bg_dir = \"/home/josmar/proyectos/codes/01_annotation_tools/test_data/backgrounds\"\n",
    "backgrounds = os.listdir(bg_dir)\n",
    "\n",
    "# List image files. Consider that images, silhouettes and mattes have the same notation ant the only thing that changes is the extension\n",
    "# Example:\n",
    "#           Image: 002-008.jpg\n",
    "#           Matte: 002-008.png\n",
    "#           Silhouette: 002-008.png\n",
    "img_dir = \"/home/josmar/proyectos/codes/datasets/ucb_gait_frames\"\n",
    "images = os.listdir(os.path.join(img_dir, \"images\"))\n",
    "images = [image.split(\".\")[0] for image in images]\n",
    "\n",
    "print(\"Total images: \", len(images))\n",
    "print(\"Total backgrounds: \", len(backgrounds))\n",
    "\n"
   ]
  },
  {
   "cell_type": "code",
   "execution_count": 7,
   "metadata": {
    "tags": []
   },
   "outputs": [
    {
     "output_type": "stream",
     "name": "stdout",
     "text": "loading annotations into memory...\nDone (t=6.31s)\ncreating index...\nindex created!\n"
    }
   ],
   "source": [
    "from pycocotools.coco import COCO\n",
    "\n",
    "annFile = \"/home/josmar/proyectos/codes/datasets/ucb_gait_frames/annotations/filtered_ucb_gait_poly.json\"\n",
    "# initialize COCO api for instance annotations\n",
    "coco=COCO(annFile)"
   ]
  },
  {
   "cell_type": "code",
   "execution_count": 8,
   "metadata": {
    "tags": []
   },
   "outputs": [
    {
     "output_type": "stream",
     "name": "stdout",
     "text": "Done: 10000/10000"
    }
   ],
   "source": [
    "n = 10000\n",
    "results_dir = \"/home/josmar/proyectos/codes/01_annotation_tools/test_data\"\n",
    "colors = [(255,0,0),(0,255,0),(0,0,255),(255,255,0),(0,255,255),(255, 0, 255)]\n",
    "\n",
    "augment_mix_images(n,img_dir,bg_dir,coco)"
   ]
  },
  {
   "cell_type": "code",
   "execution_count": null,
   "metadata": {},
   "outputs": [],
   "source": []
  }
 ],
 "metadata": {
  "language_info": {
   "codemirror_mode": {
    "name": "ipython",
    "version": 3
   },
   "file_extension": ".py",
   "mimetype": "text/x-python",
   "name": "python",
   "nbconvert_exporter": "python",
   "pygments_lexer": "ipython3",
   "version": "3.6.10-final"
  },
  "orig_nbformat": 2,
  "kernelspec": {
   "name": "python361064bitd2condafcc7f242a0d248929c8f8110917217d8",
   "display_name": "Python 3.6.10 64-bit ('d2': conda)"
  }
 },
 "nbformat": 4,
 "nbformat_minor": 2
}