{
 "cells": [
  {
   "cell_type": "code",
   "execution_count": 11,
   "metadata": {},
   "outputs": [],
   "source": [
    "# Change for your input and output folders\n",
    "tree_folder = \"/home/josmar/proyectos/codes/datasets/ucb_walk_frames_by_subject/**/silhouette/*.png\"\n",
    "dest_folder = \"/home/josmar/proyectos/codes/datasets/ucb_gait_frames/silhouettes\""
   ]
  },
  {
   "cell_type": "code",
   "execution_count": 19,
   "metadata": {
    "tags": []
   },
   "outputs": [
    {
     "output_type": "stream",
     "name": "stdout",
     "text": "Done: 12300/12300"
    }
   ],
   "source": [
    "import glob\n",
    "from shutil import copyfile\n",
    "\n",
    "img_list = glob.glob(tree_folder, recursive=True)\n",
    "n= len(img_list)\n",
    "count = 1\n",
    "for i in img_list:\n",
    "    \n",
    "    dest_path = os.path.join(dest_folder,i.split(\"/\")[-1])\n",
    "    copyfile(i, dest_path)# copyfile(src, dst)\n",
    "    \n",
    "    sys.stdout.write('\\r'+  \"Done: {}/{}\".format(count,n))\n",
    "    sys.stdout.flush()\n",
    "    count += 1\n"
   ]
  },
  {
   "cell_type": "code",
   "execution_count": 23,
   "metadata": {},
   "outputs": [
    {
     "output_type": "execute_result",
     "data": {
      "text/plain": "12300"
     },
     "metadata": {},
     "execution_count": 23
    }
   ],
   "source": [
    "len(os.listdir(dest_folder))"
   ]
  }
 ],
 "metadata": {
  "language_info": {
   "codemirror_mode": {
    "name": "ipython",
    "version": 3
   },
   "file_extension": ".py",
   "mimetype": "text/x-python",
   "name": "python",
   "nbconvert_exporter": "python",
   "pygments_lexer": "ipython3",
   "version": 3
  },
  "orig_nbformat": 2,
  "kernelspec": {
   "name": "python_defaultSpec_1604356964650",
   "display_name": "Python 3.6.10 64-bit ('d2': conda)"
  }
 },
 "nbformat": 4,
 "nbformat_minor": 2
}