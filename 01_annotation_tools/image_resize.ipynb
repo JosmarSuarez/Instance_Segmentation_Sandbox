{
 "cells": [
  {
   "cell_type": "code",
   "execution_count": 23,
   "metadata": {},
   "outputs": [],
   "source": [
    "import cv2\n",
    "from skimage.transform import resize\n",
    "from skimage import img_as_bool\n",
    "import sys"
   ]
  },
  {
   "cell_type": "code",
   "execution_count": 2,
   "metadata": {},
   "outputs": [],
   "source": [
    "input_folder = \"/home/josmar/proyectos/codes/datasets/ucb_gait_square/silhouettes\"\n",
    "output_folder = \"/home/josmar/proyectos/codes/datasets/ucb_gait_square_550/silhouettes\""
   ]
  },
  {
   "cell_type": "code",
   "execution_count": 31,
   "metadata": {
    "tags": []
   },
   "outputs": [
    {
     "output_type": "stream",
     "name": "stdout",
     "text": "Done: 12300/12300"
    }
   ],
   "source": [
    "n= len(os.listdir(input_folder))\n",
    "count = 1\n",
    "for i in os.listdir(input_folder):\n",
    "    img = cv2.imread(os.path.join(input_folder,i))\n",
    "    img_resized = img_as_bool(resize(img, (550, 550)))\n",
    "    # img_resized = cv2.resize(img, (550, 550))# for bilinear use cv2.INTER_LINEAR\n",
    "    cv2.imwrite(os.path.join(output_folder,i),img_resized *255)\n",
    "    \n",
    "\n",
    "    sys.stdout.write('\\r'+  \"Done: {}/{}\".format(count,n))\n",
    "    sys.stdout.flush()\n",
    "    count+=1"
   ]
  },
  {
   "cell_type": "code",
   "execution_count": 32,
   "metadata": {},
   "outputs": [
    {
     "output_type": "execute_result",
     "data": {
      "text/plain": "array([[  0,   0,   0],\n       [255, 255, 255]], dtype=uint8)"
     },
     "metadata": {},
     "execution_count": 32
    }
   ],
   "source": [
    "import cv2\n",
    "import numpy as np\n",
    "img = cv2.imread(\"/home/josmar/proyectos/codes/datasets/ucb_gait_square/silhouettes/005-221_crop.png\")\n",
    "np.unique(img.reshape(-1, img.shape[2]), axis=0)"
   ]
  },
  {
   "cell_type": "code",
   "execution_count": 19,
   "metadata": {},
   "outputs": [
    {
     "output_type": "execute_result",
     "data": {
      "text/plain": "array([[  0,   0,   0],\n       [255, 255, 255]])"
     },
     "metadata": {},
     "execution_count": 19
    }
   ],
   "source": [
    "img_resized = img_as_bool(resize(img, (550, 550)))\n",
    "img_resized = img_resized*255\n",
    "np.unique(img_resized.reshape(-1, img_resized.shape[2]), axis=0)\n"
   ]
  }
 ],
 "metadata": {
  "language_info": {
   "codemirror_mode": {
    "name": "ipython",
    "version": 3
   },
   "file_extension": ".py",
   "mimetype": "text/x-python",
   "name": "python",
   "nbconvert_exporter": "python",
   "pygments_lexer": "ipython3",
   "version": 3
  },
  "orig_nbformat": 2,
  "kernelspec": {
   "name": "python_defaultSpec_1604360814167",
   "display_name": "Python 3.6.10 64-bit ('d2': conda)"
  }
 },
 "nbformat": 4,
 "nbformat_minor": 2
}