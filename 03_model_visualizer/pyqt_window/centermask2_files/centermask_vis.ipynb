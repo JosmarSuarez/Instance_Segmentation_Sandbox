{
 "cells": [
  {
   "cell_type": "code",
   "execution_count": 14,
   "metadata": {},
   "outputs": [],
   "source": [
    "import sys\n",
    "\n",
    "from PyQt5.QtCore import QThread, Qt, pyqtSignal, pyqtSlot\n",
    "from PyQt5.QtGui import QImage, QPixmap\n",
    "\n",
    "import argparse\n",
    "import glob\n",
    "import multiprocessing as mp\n",
    "import os\n",
    "import time\n",
    "import cv2\n",
    "import tqdm\n",
    "import sys\n",
    "import numpy as np\n",
    "\n",
    "#TODO : this is a temporary expedient\n",
    "\n",
    "sys.path.append('/home/josmar/proyectos/centermask2')\n",
    "from detectron2.data.detection_utils import read_image\n",
    "from detectron2.utils.logger import setup_logger\n",
    "from detectron2.engine.defaults import DefaultPredictor\n",
    "\n",
    "from centermask.config import get_cfg"
   ]
  },
  {
   "cell_type": "code",
   "execution_count": 2,
   "metadata": {},
   "outputs": [],
   "source": [
    "class CentermaskArgs:\n",
    "    config_file = \"/home/josmar/proyectos/codes/03_model_visualizer/pyqt_window/centermask2_files/configs/centermask/centermask_lite_V_39_eSE_FPN_ms_4x.yaml\"\n",
    "    webcam =  1 # 'Take inputs from webcam.'\n",
    "    video_input = None #\"/media/josmar/Nuevo vol/Dataset Casia/DatasetB-1/video/001-bg-01-000.avi\" #'Path to video file.'\n",
    "    input =   None #'A list of space separated input images'\n",
    "    output =  None#'A file or directory to save output visualizations. '\n",
    "    confidence_threshold = 0.4\n",
    "    opts = [\"MODEL.WEIGHTS\",\"/home/josmar/proyectos/codes/03_model_visualizer/pyqt_window/centermask2_files/weights/centermask2-lite-V-39-eSE-FPN-ms-4x-ordered_run1.pth\",\n",
    "    \"MODEL.FCOS.NUM_CLASSES\", \"1\"]\n",
    "\n",
    "    show_image = True\n",
    "    show_boxes=True\n",
    "    show_labels=True\n",
    "    set_alpha=1\n",
    "    img_binary = True"
   ]
  },
  {
   "cell_type": "code",
   "execution_count": 3,
   "metadata": {},
   "outputs": [],
   "source": [
    "def setup_cfg(args):\n",
    "    # load config from file and command-line arguments\n",
    "    cfg = get_cfg()\n",
    "    cfg.merge_from_file(args.config_file)\n",
    "    cfg.merge_from_list(args.opts)\n",
    "    # Set score_threshold for builtin models\n",
    "    cfg.MODEL.RETINANET.SCORE_THRESH_TEST = args.confidence_threshold\n",
    "    cfg.MODEL.ROI_HEADS.SCORE_THRESH_TEST = args.confidence_threshold\n",
    "    cfg.MODEL.FCOS.INFERENCE_TH_TEST = args.confidence_threshold\n",
    "    cfg.MODEL.PANOPTIC_FPN.COMBINE.INSTANCES_CONFIDENCE_THRESH = args.confidence_threshold\n",
    "    cfg.freeze()\n",
    "    return cfg"
   ]
  },
  {
   "cell_type": "code",
   "execution_count": 4,
   "metadata": {
    "tags": []
   },
   "outputs": [
    {
     "output_type": "stream",
     "name": "stderr",
     "text": "Config '/home/josmar/proyectos/codes/03_model_visualizer/pyqt_window/centermask2_files/configs/centermask/centermask_lite_V_39_eSE_FPN_ms_4x.yaml' has no VERSION. Assuming it to be compatible with latest v2.\n"
    }
   ],
   "source": [
    "args = CentermaskArgs()\n",
    "cfg = setup_cfg(args)\n",
    "predictor = DefaultPredictor(cfg)"
   ]
  },
  {
   "cell_type": "code",
   "execution_count": 8,
   "metadata": {},
   "outputs": [],
   "source": [
    "img_path = \"/home/josmar/proyectos/codes/03_model_visualizer/pyqt_window/test/in/001-bg-01-090-088.jpg\"\n",
    "img = cv2.imread(img_path)"
   ]
  },
  {
   "cell_type": "code",
   "execution_count": 9,
   "metadata": {},
   "outputs": [],
   "source": [
    "results = predictor(img)"
   ]
  },
  {
   "cell_type": "code",
   "execution_count": 10,
   "metadata": {},
   "outputs": [
    {
     "output_type": "execute_result",
     "data": {
      "text/plain": "{'instances': Instances(num_instances=1, image_height=240, image_width=320, fields=[pred_boxes: Boxes(tensor([[ 19.4673,  56.8159,  76.0214, 192.4456]], device='cuda:0')), scores: tensor([0.8963], device='cuda:0'), pred_classes: tensor([0], device='cuda:0'), locations: tensor([[112., 304.]], device='cuda:0'), pred_masks: tensor([[[False, False, False,  ..., False, False, False],\n          [False, False, False,  ..., False, False, False],\n          [False, False, False,  ..., False, False, False],\n          ...,\n          [False, False, False,  ..., False, False, False],\n          [False, False, False,  ..., False, False, False],\n          [False, False, False,  ..., False, False, False]]], device='cuda:0'), mask_scores: tensor([0.8017], device='cuda:0')])}"
     },
     "metadata": {},
     "execution_count": 10
    }
   ],
   "source": [
    "results"
   ]
  },
  {
   "cell_type": "code",
   "execution_count": 34,
   "metadata": {},
   "outputs": [],
   "source": [
    "mask= results['instances'].get('pred_masks')\n",
    "mask= mask.to('cpu')\n",
    "num, h, w= mask.shape\n",
    "bin_mask= np.zeros((h, w))"
   ]
  },
  {
   "cell_type": "code",
   "execution_count": 35,
   "metadata": {
    "tags": []
   },
   "outputs": [
    {
     "output_type": "stream",
     "name": "stdout",
     "text": "[[False False False ... False False False]\n [False False False ... False False False]\n [False False False ... False False False]\n ...\n [False False False ... False False False]\n [False False False ... False False False]\n [False False False ... False False False]]\n"
    }
   ],
   "source": [
    "for m in mask:\n",
    "    sil = m.numpy()\n",
    "    print(sil)\n",
    "    bin_mask += sil\n"
   ]
  },
  {
   "cell_type": "code",
   "execution_count": 36,
   "metadata": {
    "tags": []
   },
   "outputs": [
    {
     "output_type": "execute_result",
     "data": {
      "text/plain": "<matplotlib.image.AxesImage at 0x7f6b985cb908>"
     },
     "metadata": {},
     "execution_count": 36
    },
    {
     "output_type": "display_data",
     "data": {
      "text/plain": "<Figure size 432x288 with 1 Axes>",
      "image/svg+xml": "<?xml version=\"1.0\" encoding=\"utf-8\" standalone=\"no\"?>\n<!DOCTYPE svg PUBLIC \"-//W3C//DTD SVG 1.1//EN\"\n  \"http://www.w3.org/Graphics/SVG/1.1/DTD/svg11.dtd\">\n<!-- Created with matplotlib (https://matplotlib.org/) -->\n<svg height=\"251.864344pt\" version=\"1.1\" viewBox=\"0 0 330.4075 251.864344\" width=\"330.4075pt\" xmlns=\"http://www.w3.org/2000/svg\" xmlns:xlink=\"http://www.w3.org/1999/xlink\">\n <metadata>\n  <rdf:RDF xmlns:cc=\"http://creativecommons.org/ns#\" xmlns:dc=\"http://purl.org/dc/elements/1.1/\" xmlns:rdf=\"http://www.w3.org/1999/02/22-rdf-syntax-ns#\">\n   <cc:Work>\n    <dc:type rdf:resource=\"http://purl.org/dc/dcmitype/StillImage\"/>\n    <dc:date>2021-01-02T23:15:32.299221</dc:date>\n    <dc:format>image/svg+xml</dc:format>\n    <dc:creator>\n     <cc:Agent>\n      <dc:title>Matplotlib v3.3.1, https://matplotlib.org/</dc:title>\n     </cc:Agent>\n    </dc:creator>\n   </cc:Work>\n  </rdf:RDF>\n </metadata>\n <defs>\n  <style type=\"text/css\">*{stroke-linecap:butt;stroke-linejoin:round;}</style>\n </defs>\n <g id=\"figure_1\">\n  <g id=\"patch_1\">\n   <path d=\"M 0 251.864344 \nL 330.4075 251.864344 \nL 330.4075 0 \nL 0 0 \nz\n\" style=\"fill:none;\"/>\n  </g>\n  <g id=\"axes_1\">\n   <g id=\"patch_2\">\n    <path d=\"M 33.2875 227.986219 \nL 323.2075 227.986219 \nL 323.2075 10.546219 \nL 33.2875 10.546219 \nz\n\" style=\"fill:#ffffff;\"/>\n   </g>\n   <g clip-path=\"url(#pda36941ad4)\">\n    <image height=\"218\" id=\"imagee2f4bfa5b9\" transform=\"scale(1 -1)translate(0 -218)\" width=\"290\" x=\"33.2875\" xlink:href=\"data:image/png;base64,\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\" y=\"-9.986219\"/>\n   </g>\n   <g id=\"matplotlib.axis_1\">\n    <g id=\"xtick_1\">\n     <g id=\"line2d_1\">\n      <defs>\n       <path d=\"M 0 0 \nL 0 3.5 \n\" id=\"m6c91776328\" style=\"stroke:#000000;stroke-width:0.8;\"/>\n      </defs>\n      <g>\n       <use style=\"stroke:#000000;stroke-width:0.8;\" x=\"33.7405\" xlink:href=\"#m6c91776328\" y=\"227.986219\"/>\n      </g>\n     </g>\n     <g id=\"text_1\">\n      <!-- 0 -->\n      <g transform=\"translate(30.55925 242.584656)scale(0.1 -0.1)\">\n       <defs>\n        <path d=\"M 31.78125 66.40625 \nQ 24.171875 66.40625 20.328125 58.90625 \nQ 16.5 51.421875 16.5 36.375 \nQ 16.5 21.390625 20.328125 13.890625 \nQ 24.171875 6.390625 31.78125 6.390625 \nQ 39.453125 6.390625 43.28125 13.890625 \nQ 47.125 21.390625 47.125 36.375 \nQ 47.125 51.421875 43.28125 58.90625 \nQ 39.453125 66.40625 31.78125 66.40625 \nz\nM 31.78125 74.21875 \nQ 44.046875 74.21875 50.515625 64.515625 \nQ 56.984375 54.828125 56.984375 36.375 \nQ 56.984375 17.96875 50.515625 8.265625 \nQ 44.046875 -1.421875 31.78125 -1.421875 \nQ 19.53125 -1.421875 13.0625 8.265625 \nQ 6.59375 17.96875 6.59375 36.375 \nQ 6.59375 54.828125 13.0625 64.515625 \nQ 19.53125 74.21875 31.78125 74.21875 \nz\n\" id=\"DejaVuSans-48\"/>\n       </defs>\n       <use xlink:href=\"#DejaVuSans-48\"/>\n      </g>\n     </g>\n    </g>\n    <g id=\"xtick_2\">\n     <g id=\"line2d_2\">\n      <g>\n       <use style=\"stroke:#000000;stroke-width:0.8;\" x=\"79.0405\" xlink:href=\"#m6c91776328\" y=\"227.986219\"/>\n      </g>\n     </g>\n     <g id=\"text_2\">\n      <!-- 50 -->\n      <g transform=\"translate(72.678 242.584656)scale(0.1 -0.1)\">\n       <defs>\n        <path d=\"M 10.796875 72.90625 \nL 49.515625 72.90625 \nL 49.515625 64.59375 \nL 19.828125 64.59375 \nL 19.828125 46.734375 \nQ 21.96875 47.46875 24.109375 47.828125 \nQ 26.265625 48.1875 28.421875 48.1875 \nQ 40.625 48.1875 47.75 41.5 \nQ 54.890625 34.8125 54.890625 23.390625 \nQ 54.890625 11.625 47.5625 5.09375 \nQ 40.234375 -1.421875 26.90625 -1.421875 \nQ 22.3125 -1.421875 17.546875 -0.640625 \nQ 12.796875 0.140625 7.71875 1.703125 \nL 7.71875 11.625 \nQ 12.109375 9.234375 16.796875 8.0625 \nQ 21.484375 6.890625 26.703125 6.890625 \nQ 35.15625 6.890625 40.078125 11.328125 \nQ 45.015625 15.765625 45.015625 23.390625 \nQ 45.015625 31 40.078125 35.4375 \nQ 35.15625 39.890625 26.703125 39.890625 \nQ 22.75 39.890625 18.8125 39.015625 \nQ 14.890625 38.140625 10.796875 36.28125 \nz\n\" id=\"DejaVuSans-53\"/>\n       </defs>\n       <use xlink:href=\"#DejaVuSans-53\"/>\n       <use x=\"63.623047\" xlink:href=\"#DejaVuSans-48\"/>\n      </g>\n     </g>\n    </g>\n    <g id=\"xtick_3\">\n     <g id=\"line2d_3\">\n      <g>\n       <use style=\"stroke:#000000;stroke-width:0.8;\" x=\"124.3405\" xlink:href=\"#m6c91776328\" y=\"227.986219\"/>\n      </g>\n     </g>\n     <g id=\"text_3\">\n      <!-- 100 -->\n      <g transform=\"translate(114.79675 242.584656)scale(0.1 -0.1)\">\n       <defs>\n        <path d=\"M 12.40625 8.296875 \nL 28.515625 8.296875 \nL 28.515625 63.921875 \nL 10.984375 60.40625 \nL 10.984375 69.390625 \nL 28.421875 72.90625 \nL 38.28125 72.90625 \nL 38.28125 8.296875 \nL 54.390625 8.296875 \nL 54.390625 0 \nL 12.40625 0 \nz\n\" id=\"DejaVuSans-49\"/>\n       </defs>\n       <use xlink:href=\"#DejaVuSans-49\"/>\n       <use x=\"63.623047\" xlink:href=\"#DejaVuSans-48\"/>\n       <use x=\"127.246094\" xlink:href=\"#DejaVuSans-48\"/>\n      </g>\n     </g>\n    </g>\n    <g id=\"xtick_4\">\n     <g id=\"line2d_4\">\n      <g>\n       <use style=\"stroke:#000000;stroke-width:0.8;\" x=\"169.6405\" xlink:href=\"#m6c91776328\" y=\"227.986219\"/>\n      </g>\n     </g>\n     <g id=\"text_4\">\n      <!-- 150 -->\n      <g transform=\"translate(160.09675 242.584656)scale(0.1 -0.1)\">\n       <use xlink:href=\"#DejaVuSans-49\"/>\n       <use x=\"63.623047\" xlink:href=\"#DejaVuSans-53\"/>\n       <use x=\"127.246094\" xlink:href=\"#DejaVuSans-48\"/>\n      </g>\n     </g>\n    </g>\n    <g id=\"xtick_5\">\n     <g id=\"line2d_5\">\n      <g>\n       <use style=\"stroke:#000000;stroke-width:0.8;\" x=\"214.9405\" xlink:href=\"#m6c91776328\" y=\"227.986219\"/>\n      </g>\n     </g>\n     <g id=\"text_5\">\n      <!-- 200 -->\n      <g transform=\"translate(205.39675 242.584656)scale(0.1 -0.1)\">\n       <defs>\n        <path d=\"M 19.1875 8.296875 \nL 53.609375 8.296875 \nL 53.609375 0 \nL 7.328125 0 \nL 7.328125 8.296875 \nQ 12.9375 14.109375 22.625 23.890625 \nQ 32.328125 33.6875 34.8125 36.53125 \nQ 39.546875 41.84375 41.421875 45.53125 \nQ 43.3125 49.21875 43.3125 52.78125 \nQ 43.3125 58.59375 39.234375 62.25 \nQ 35.15625 65.921875 28.609375 65.921875 \nQ 23.96875 65.921875 18.8125 64.3125 \nQ 13.671875 62.703125 7.8125 59.421875 \nL 7.8125 69.390625 \nQ 13.765625 71.78125 18.9375 73 \nQ 24.125 74.21875 28.421875 74.21875 \nQ 39.75 74.21875 46.484375 68.546875 \nQ 53.21875 62.890625 53.21875 53.421875 \nQ 53.21875 48.921875 51.53125 44.890625 \nQ 49.859375 40.875 45.40625 35.40625 \nQ 44.1875 33.984375 37.640625 27.21875 \nQ 31.109375 20.453125 19.1875 8.296875 \nz\n\" id=\"DejaVuSans-50\"/>\n       </defs>\n       <use xlink:href=\"#DejaVuSans-50\"/>\n       <use x=\"63.623047\" xlink:href=\"#DejaVuSans-48\"/>\n       <use x=\"127.246094\" xlink:href=\"#DejaVuSans-48\"/>\n      </g>\n     </g>\n    </g>\n    <g id=\"xtick_6\">\n     <g id=\"line2d_6\">\n      <g>\n       <use style=\"stroke:#000000;stroke-width:0.8;\" x=\"260.2405\" xlink:href=\"#m6c91776328\" y=\"227.986219\"/>\n      </g>\n     </g>\n     <g id=\"text_6\">\n      <!-- 250 -->\n      <g transform=\"translate(250.69675 242.584656)scale(0.1 -0.1)\">\n       <use xlink:href=\"#DejaVuSans-50\"/>\n       <use x=\"63.623047\" xlink:href=\"#DejaVuSans-53\"/>\n       <use x=\"127.246094\" xlink:href=\"#DejaVuSans-48\"/>\n      </g>\n     </g>\n    </g>\n    <g id=\"xtick_7\">\n     <g id=\"line2d_7\">\n      <g>\n       <use style=\"stroke:#000000;stroke-width:0.8;\" x=\"305.5405\" xlink:href=\"#m6c91776328\" y=\"227.986219\"/>\n      </g>\n     </g>\n     <g id=\"text_7\">\n      <!-- 300 -->\n      <g transform=\"translate(295.99675 242.584656)scale(0.1 -0.1)\">\n       <defs>\n        <path d=\"M 40.578125 39.3125 \nQ 47.65625 37.796875 51.625 33 \nQ 55.609375 28.21875 55.609375 21.1875 \nQ 55.609375 10.40625 48.1875 4.484375 \nQ 40.765625 -1.421875 27.09375 -1.421875 \nQ 22.515625 -1.421875 17.65625 -0.515625 \nQ 12.796875 0.390625 7.625 2.203125 \nL 7.625 11.71875 \nQ 11.71875 9.328125 16.59375 8.109375 \nQ 21.484375 6.890625 26.8125 6.890625 \nQ 36.078125 6.890625 40.9375 10.546875 \nQ 45.796875 14.203125 45.796875 21.1875 \nQ 45.796875 27.640625 41.28125 31.265625 \nQ 36.765625 34.90625 28.71875 34.90625 \nL 20.21875 34.90625 \nL 20.21875 43.015625 \nL 29.109375 43.015625 \nQ 36.375 43.015625 40.234375 45.921875 \nQ 44.09375 48.828125 44.09375 54.296875 \nQ 44.09375 59.90625 40.109375 62.90625 \nQ 36.140625 65.921875 28.71875 65.921875 \nQ 24.65625 65.921875 20.015625 65.03125 \nQ 15.375 64.15625 9.8125 62.3125 \nL 9.8125 71.09375 \nQ 15.4375 72.65625 20.34375 73.4375 \nQ 25.25 74.21875 29.59375 74.21875 \nQ 40.828125 74.21875 47.359375 69.109375 \nQ 53.90625 64.015625 53.90625 55.328125 \nQ 53.90625 49.265625 50.4375 45.09375 \nQ 46.96875 40.921875 40.578125 39.3125 \nz\n\" id=\"DejaVuSans-51\"/>\n       </defs>\n       <use xlink:href=\"#DejaVuSans-51\"/>\n       <use x=\"63.623047\" xlink:href=\"#DejaVuSans-48\"/>\n       <use x=\"127.246094\" xlink:href=\"#DejaVuSans-48\"/>\n      </g>\n     </g>\n    </g>\n   </g>\n   <g id=\"matplotlib.axis_2\">\n    <g id=\"ytick_1\">\n     <g id=\"line2d_8\">\n      <defs>\n       <path d=\"M 0 0 \nL -3.5 0 \n\" id=\"m4ae0634158\" style=\"stroke:#000000;stroke-width:0.8;\"/>\n      </defs>\n      <g>\n       <use style=\"stroke:#000000;stroke-width:0.8;\" x=\"33.2875\" xlink:href=\"#m4ae0634158\" y=\"10.999219\"/>\n      </g>\n     </g>\n     <g id=\"text_8\">\n      <!-- 0 -->\n      <g transform=\"translate(19.925 14.798437)scale(0.1 -0.1)\">\n       <use xlink:href=\"#DejaVuSans-48\"/>\n      </g>\n     </g>\n    </g>\n    <g id=\"ytick_2\">\n     <g id=\"line2d_9\">\n      <g>\n       <use style=\"stroke:#000000;stroke-width:0.8;\" x=\"33.2875\" xlink:href=\"#m4ae0634158\" y=\"56.299219\"/>\n      </g>\n     </g>\n     <g id=\"text_9\">\n      <!-- 50 -->\n      <g transform=\"translate(13.5625 60.098437)scale(0.1 -0.1)\">\n       <use xlink:href=\"#DejaVuSans-53\"/>\n       <use x=\"63.623047\" xlink:href=\"#DejaVuSans-48\"/>\n      </g>\n     </g>\n    </g>\n    <g id=\"ytick_3\">\n     <g id=\"line2d_10\">\n      <g>\n       <use style=\"stroke:#000000;stroke-width:0.8;\" x=\"33.2875\" xlink:href=\"#m4ae0634158\" y=\"101.599219\"/>\n      </g>\n     </g>\n     <g id=\"text_10\">\n      <!-- 100 -->\n      <g transform=\"translate(7.2 105.398437)scale(0.1 -0.1)\">\n       <use xlink:href=\"#DejaVuSans-49\"/>\n       <use x=\"63.623047\" xlink:href=\"#DejaVuSans-48\"/>\n       <use x=\"127.246094\" xlink:href=\"#DejaVuSans-48\"/>\n      </g>\n     </g>\n    </g>\n    <g id=\"ytick_4\">\n     <g id=\"line2d_11\">\n      <g>\n       <use style=\"stroke:#000000;stroke-width:0.8;\" x=\"33.2875\" xlink:href=\"#m4ae0634158\" y=\"146.899219\"/>\n      </g>\n     </g>\n     <g id=\"text_11\">\n      <!-- 150 -->\n      <g transform=\"translate(7.2 150.698437)scale(0.1 -0.1)\">\n       <use xlink:href=\"#DejaVuSans-49\"/>\n       <use x=\"63.623047\" xlink:href=\"#DejaVuSans-53\"/>\n       <use x=\"127.246094\" xlink:href=\"#DejaVuSans-48\"/>\n      </g>\n     </g>\n    </g>\n    <g id=\"ytick_5\">\n     <g id=\"line2d_12\">\n      <g>\n       <use style=\"stroke:#000000;stroke-width:0.8;\" x=\"33.2875\" xlink:href=\"#m4ae0634158\" y=\"192.199219\"/>\n      </g>\n     </g>\n     <g id=\"text_12\">\n      <!-- 200 -->\n      <g transform=\"translate(7.2 195.998437)scale(0.1 -0.1)\">\n       <use xlink:href=\"#DejaVuSans-50\"/>\n       <use x=\"63.623047\" xlink:href=\"#DejaVuSans-48\"/>\n       <use x=\"127.246094\" xlink:href=\"#DejaVuSans-48\"/>\n      </g>\n     </g>\n    </g>\n   </g>\n   <g id=\"patch_3\">\n    <path d=\"M 33.2875 227.986219 \nL 33.2875 10.546219 \n\" style=\"fill:none;stroke:#000000;stroke-linecap:square;stroke-linejoin:miter;stroke-width:0.8;\"/>\n   </g>\n   <g id=\"patch_4\">\n    <path d=\"M 323.2075 227.986219 \nL 323.2075 10.546219 \n\" style=\"fill:none;stroke:#000000;stroke-linecap:square;stroke-linejoin:miter;stroke-width:0.8;\"/>\n   </g>\n   <g id=\"patch_5\">\n    <path d=\"M 33.2875 227.986219 \nL 323.2075 227.986219 \n\" style=\"fill:none;stroke:#000000;stroke-linecap:square;stroke-linejoin:miter;stroke-width:0.8;\"/>\n   </g>\n   <g id=\"patch_6\">\n    <path d=\"M 33.2875 10.546219 \nL 323.2075 10.546219 \n\" style=\"fill:none;stroke:#000000;stroke-linecap:square;stroke-linejoin:miter;stroke-width:0.8;\"/>\n   </g>\n  </g>\n </g>\n <defs>\n  <clipPath id=\"pda36941ad4\">\n   <rect height=\"217.44\" width=\"289.92\" x=\"33.2875\" y=\"10.546219\"/>\n  </clipPath>\n </defs>\n</svg>\n",
      "image/png": "[encoded data removed]"
     },
     "metadata": {
      "needs_background": "light"
     }
    }
   ],
   "source": [
    "import matplotlib.pyplot as plt\n",
    "plt.imshow(bin_mask)"
   ]
  },
  {
   "cell_type": "code",
   "execution_count": 41,
   "metadata": {},
   "outputs": [
    {
     "output_type": "execute_result",
     "data": {
      "text/plain": "True"
     },
     "metadata": {},
     "execution_count": 41
    }
   ],
   "source": [
    "out_path = \"/home/josmar/proyectos/codes/03_model_visualizer/pyqt_window/test/out/im.png\"\n",
    "cv2.imwrite(out_path, bin_mask*255)"
   ]
  },
  {
   "cell_type": "code",
   "execution_count": 47,
   "metadata": {},
   "outputs": [
    {
     "output_type": "execute_result",
     "data": {
      "text/plain": "array([[0, 0, 0],\n       [1, 1, 1]], dtype=uint8)"
     },
     "metadata": {},
     "execution_count": 47
    }
   ],
   "source": [
    "img2 = cv2.imread(out_path)\n",
    "np.unique(img2.reshape(-1, img2.shape[2]), axis=0)"
   ]
  },
  {
   "cell_type": "code",
   "execution_count": 46,
   "metadata": {},
   "outputs": [
    {
     "output_type": "execute_result",
     "data": {
      "text/plain": "(1, 240, 320)"
     },
     "metadata": {},
     "execution_count": 46
    }
   ],
   "source": [
    "mask.numpy().shape"
   ]
  }
 ],
 "metadata": {
  "language_info": {
   "codemirror_mode": {
    "name": "ipython",
    "version": 3
   },
   "file_extension": ".py",
   "mimetype": "text/x-python",
   "name": "python",
   "nbconvert_exporter": "python",
   "pygments_lexer": "ipython3",
   "version": 3
  },
  "orig_nbformat": 2,
  "kernelspec": {
   "name": "python_defaultSpec_1609642482712",
   "display_name": "Python 3.6.10 64-bit ('d2': conda)"
  }
 },
 "nbformat": 4,
 "nbformat_minor": 2
}