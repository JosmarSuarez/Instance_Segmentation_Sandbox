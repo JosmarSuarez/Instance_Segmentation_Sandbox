{
 "cells": [
  {
   "cell_type": "code",
   "execution_count": 7,
   "metadata": {},
   "outputs": [],
   "source": [
    "casia_path = \"/home/josmar/proyectos/codes/datasets/casia_B2_images\"\n",
    "out_folder = \"/media/josmar/Nuevo vol/Taller de Grado/new_dataset/Casia_processed_silhouettes/Casia_B1_90_images\"\n",
    "images = os.listdir(casia_path)"
   ]
  },
  {
   "cell_type": "code",
   "execution_count": 8,
   "metadata": {},
   "outputs": [
    {
     "output_type": "execute_result",
     "data": {
      "text/plain": "['122-nm-03-072-041.jpg',\n '063-nm-02-054-064.jpg',\n '123-nm-05-018-045.jpg',\n '073-nm-02-162-140.jpg',\n '074-nm-01-072-037.jpg',\n '086-nm-06-018-035.jpg',\n '101-nm-05-162-019.jpg',\n '113-cl-01-144-081.jpg',\n '073-nm-01-180-096.jpg',\n '109-nm-01-072-104.jpg']"
     },
     "metadata": {},
     "execution_count": 8
    }
   ],
   "source": [
    "images[:10]"
   ]
  },
  {
   "cell_type": "markdown",
   "metadata": {},
   "source": [
    "Frames con 90°\n",
    "\n",
    "Casia B1: 36597\n",
    "\n",
    "Casia B2: 36689"
   ]
  },
  {
   "cell_type": "code",
   "execution_count": 9,
   "metadata": {
    "tags": []
   },
   "outputs": [
    {
     "output_type": "stream",
     "name": "stdout",
     "text": "551508\n36689\n"
    }
   ],
   "source": [
    "front_images = [image for image in images if image.split(\"-\")[3] == '090']\n",
    "print(len(images))\n",
    "print(len(front_images))"
   ]
  },
  {
   "cell_type": "markdown",
   "metadata": {},
   "source": [
    "## Move images to another folder"
   ]
  },
  {
   "cell_type": "code",
   "execution_count": 10,
   "metadata": {},
   "outputs": [],
   "source": [
    "import shutil\n",
    "\n",
    "def move_list(image_list, in_folder, out_folder):\n",
    "    out_list = []\n",
    "    for image in image_list:\n",
    "        input_path = os.path.join(in_folder, image)\n",
    "        output_path = os.path.join(out_folder, image)\n",
    "        shutil.copyfile(input_path, output_path)"
   ]
  },
  {
   "cell_type": "code",
   "execution_count": 12,
   "metadata": {},
   "outputs": [],
   "source": [
    "move_list(front_images, casia_path, out_folder)"
   ]
  },
  {
   "cell_type": "markdown",
   "metadata": {},
   "source": [
    "## Moving to a nested directory"
   ]
  },
  {
   "cell_type": "code",
   "execution_count": 4,
   "metadata": {
    "tags": []
   },
   "outputs": [],
   "source": [
    "import re\n",
    "def create_out_list(in_folder,out_folder, extension):\n",
    "    out_list = []\n",
    "    in_list = os.listdir(in_folder)\n",
    "    for path in in_list:\n",
    "        in_path = os.path.join(in_folder, path)\n",
    "        info = path.split(\"-\")\n",
    "        dest_path = \"{}/{}/{}-{}/{}/{}.{}\".format(out_folder, info[0], info[1], info[2], info[3], path.split(\".\")[0], extension)\n",
    "        out_list.append([in_path, dest_path])\n",
    "    return out_list\n"
   ]
  },
  {
   "cell_type": "code",
   "execution_count": 8,
   "metadata": {
    "tags": []
   },
   "outputs": [
    {
     "output_type": "stream",
     "name": "stdout",
     "text": "['/media/josmar/Nuevo vol/Taller de Grado/new_dataset/Casia_processed_silhouettes/yolact_pp_101_rc_ucb_gait_19_67000/001-bg-01-090-035.png', '/media/josmar/Nuevo vol/Taller de Grado/new_dataset/Casia_processed_silhouettes/sil_yolact_pp_101_rc_ucb_gait_19_67000/001/bg-01/090/001-bg-01-090-035.png']\n"
    }
   ],
   "source": [
    "extension = \"png\"\n",
    "# in_folder = \"/media/josmar/Nuevo vol/Taller de Grado/new_dataset/Casia_processed_silhouettes/yolact_pp_101_rc_ucb_gait_19_67000\"\n",
    "# out_folder = \"/media/josmar/Nuevo vol/Taller de Grado/new_dataset/Casia_processed_silhouettes/sil_yolact_pp_101_rc_ucb_gait_19_67000\"\n",
    "in_folder = \"/media/josmar/Nuevo vol/Taller de Grado/new_dataset/Casia_processed_silhouettes/yolact_pp_101_rc_ucb_gait_19_67000\"\n",
    "out_folder = \"/media/josmar/Nuevo vol/Taller de Grado/new_dataset/Casia_processed_silhouettes/sil_yolact_pp_101_rc_ucb_gait_19_67000\"\n",
    "\n",
    "out_list = create_out_list(in_folder, out_folder, extension)\n",
    "\n",
    "print(out_list[0])"
   ]
  },
  {
   "cell_type": "code",
   "execution_count": 9,
   "metadata": {
    "tags": []
   },
   "outputs": [
    {
     "output_type": "stream",
     "name": "stdout",
     "text": "Done: 36597/36597"
    }
   ],
   "source": [
    "import shutil\n",
    "import re\n",
    "from pathlib import Path\n",
    "def move2nested(out_list):\n",
    "    size = len(out_list)\n",
    "    counter = 0\n",
    "    for in_path, out_path in out_list:\n",
    "        idx = [x.end() for x in re.finditer('/', out_path)]\n",
    "        folders = out_path[:idx[-1]]\n",
    "        # _file = out_folder[idx[-1]:]\n",
    "        Path(folders).mkdir(parents=True, exist_ok=True)\n",
    "        shutil.copyfile(in_path, out_path)\n",
    "        \n",
    "        counter+=1\n",
    "\n",
    "        sys.stdout.write('\\r'+  \"Done: {}/{}\".format(counter, size))\n",
    "        sys.stdout.flush()\n",
    "move2nested(out_list)\n"
   ]
  }
 ],
 "metadata": {
  "language_info": {
   "codemirror_mode": {
    "name": "ipython",
    "version": 3
   },
   "file_extension": ".py",
   "mimetype": "text/x-python",
   "name": "python",
   "nbconvert_exporter": "python",
   "pygments_lexer": "ipython3",
   "version": 3
  },
  "orig_nbformat": 2,
  "kernelspec": {
   "name": "python_defaultSpec_1609600237034",
   "display_name": "Python 3.6.10 64-bit ('d2': conda)"
  }
 },
 "nbformat": 4,
 "nbformat_minor": 2
}