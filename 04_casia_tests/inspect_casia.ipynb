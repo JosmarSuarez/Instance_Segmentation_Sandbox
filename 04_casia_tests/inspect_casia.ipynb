{
 "cells": [
  {
   "cell_type": "code",
   "execution_count": 1,
   "metadata": {},
   "outputs": [],
   "source": [
    "casia_path = \"/home/josmar/proyectos/codes/datasets/casia_B1_images\"\n",
    "images = os.listdir(casia_path)"
   ]
  },
  {
   "cell_type": "code",
   "execution_count": 2,
   "metadata": {},
   "outputs": [
    {
     "output_type": "execute_result",
     "data": {
      "text/plain": "['032-nm-01-144-046.jpg',\n '052-nm-05-000-002.jpg',\n '060-nm-03-000-031.jpg',\n '053-cl-01-144-068.jpg',\n '008-nm-02-000-075.jpg',\n '058-nm-05-072-075.jpg',\n '035-nm-01-090-060.jpg',\n '020-nm-05-180-103.jpg',\n '047-nm-03-162-144.jpg',\n '013-bg-01-162-088.jpg',\n '002-nm-03-108-082.jpg',\n '037-bg-01-090-091.jpg',\n '019-nm-03-144-106.jpg',\n '007-cl-01-162-113.jpg',\n '004-cl-01-072-112.jpg',\n '011-nm-02-036-019.jpg',\n '006-nm-04-072-079.jpg',\n '041-nm-06-018-057.jpg',\n '061-nm-02-054-065.jpg',\n '052-nm-02-090-052.jpg',\n '006-nm-02-144-088.jpg',\n '048-nm-03-108-068.jpg',\n '027-nm-05-036-019.jpg',\n '011-cl-01-090-093.jpg',\n '030-bg-02-090-082.jpg',\n '059-cl-02-162-019.jpg',\n '044-nm-01-144-134.jpg',\n '008-nm-01-162-065.jpg',\n '013-bg-02-126-069.jpg',\n '029-bg-02-162-088.jpg']"
     },
     "metadata": {},
     "execution_count": 2
    }
   ],
   "source": [
    "images[:30]"
   ]
  },
  {
   "cell_type": "code",
   "execution_count": 3,
   "metadata": {
    "tags": []
   },
   "outputs": [
    {
     "output_type": "stream",
     "name": "stdout",
     "text": "566865\n36597\n"
    }
   ],
   "source": [
    "front_images = [image for image in images if image.split(\"-\")[3] == '090']\n",
    "print(len(images))\n",
    "print(len(front_images))"
   ]
  },
  {
   "cell_type": "code",
   "execution_count": 1,
   "metadata": {
    "tags": []
   },
   "outputs": [],
   "source": [
    "import re\n",
    "def create_out_list(in_folder,out_folder, extension):\n",
    "    out_list = []\n",
    "    in_list = os.listdir(in_folder)\n",
    "    for path in in_list:\n",
    "        in_path = os.path.join(in_folder, path)\n",
    "        info = path.split(\"-\")\n",
    "        dest_path = \"{}/{}/{}-{}/{}/{}.{}\".format(out_folder, info[0], info[1], info[2], info[3], path.split(\".\")[0], extension)\n",
    "        out_list.append([in_path, dest_path])\n",
    "    return out_list\n"
   ]
  },
  {
   "cell_type": "code",
   "execution_count": 8,
   "metadata": {
    "tags": []
   },
   "outputs": [
    {
     "output_type": "stream",
     "name": "stdout",
     "text": "['/media/josmar/Nuevo vol/Taller de Grado/new_dataset/Casia_processed_silhouettes/yolact_pp_101_rc_ucb_gait_19_67000/001-bg-01-090-035.png', '/media/josmar/Nuevo vol/Taller de Grado/new_dataset/Casia_processed_silhouettes/sil_yolact_pp_101_rc_ucb_gait_19_67000/001/bg-01/090/001-bg-01-090-035.png']\n"
    }
   ],
   "source": [
    "extension = \"png\"\n",
    "# in_folder = \"/media/josmar/Nuevo vol/Taller de Grado/new_dataset/Casia_processed_silhouettes/yolact_pp_101_rc_ucb_gait_19_67000\"\n",
    "# out_folder = \"/media/josmar/Nuevo vol/Taller de Grado/new_dataset/Casia_processed_silhouettes/sil_yolact_pp_101_rc_ucb_gait_19_67000\"\n",
    "in_folder = \"/media/josmar/Nuevo vol/Taller de Grado/new_dataset/Casia_processed_silhouettes/yolact_pp_101_rc_ucb_gait_19_67000\"\n",
    "out_folder = \"/media/josmar/Nuevo vol/Taller de Grado/new_dataset/Casia_processed_silhouettes/sil_yolact_pp_101_rc_ucb_gait_19_67000\"\n",
    "\n",
    "out_list = create_out_list(in_folder, out_folder, extension)\n",
    "\n",
    "print(out_list[0])"
   ]
  },
  {
   "cell_type": "code",
   "execution_count": 9,
   "metadata": {
    "tags": []
   },
   "outputs": [
    {
     "output_type": "stream",
     "name": "stdout",
     "text": "Done: 36597/36597"
    }
   ],
   "source": [
    "import shutil\n",
    "import re\n",
    "from pathlib import Path\n",
    "def move2nested(out_list):\n",
    "    size = len(out_list)\n",
    "    counter = 0\n",
    "    for in_path, out_path in out_list:\n",
    "        idx = [x.end() for x in re.finditer('/', out_path)]\n",
    "        folders = out_path[:idx[-1]]\n",
    "        # _file = out_folder[idx[-1]:]\n",
    "        Path(folders).mkdir(parents=True, exist_ok=True)\n",
    "        shutil.copyfile(in_path, out_path)\n",
    "        \n",
    "        counter+=1\n",
    "\n",
    "        sys.stdout.write('\\r'+  \"Done: {}/{}\".format(counter, size))\n",
    "        sys.stdout.flush()\n",
    "move2nested(out_list)\n"
   ]
  },
  {
   "cell_type": "code",
   "execution_count": 39,
   "metadata": {
    "tags": []
   },
   "outputs": [
    {
     "output_type": "stream",
     "name": "stdout",
     "text": "/home/josmar/proyectos/codes/04_casia_tests/\nsilhouettes\n"
    }
   ],
   "source": []
  },
  {
   "cell_type": "markdown",
   "metadata": {},
   "source": [
    "## Move images to another folder"
   ]
  },
  {
   "cell_type": "code",
   "execution_count": 6,
   "metadata": {
    "tags": []
   },
   "outputs": [],
   "source": [
    "import shutil\n",
    "\n",
    "def move_list(image_list, in_folder, out_folder):\n",
    "    out_list = []\n",
    "    for image in image_list:\n",
    "        input_path = os.path.join(in_folder, image)\n",
    "        output_path = os.path.join(out_folder, image)\n",
    "        shutil.copyfile(input_path, output_path)"
   ]
  },
  {
   "cell_type": "code",
   "execution_count": 20,
   "metadata": {
    "tags": []
   },
   "outputs": [],
   "source": [
    "move_list(front_images, casia_path, out_folder)"
   ]
  },
  {
   "cell_type": "code",
   "execution_count": null,
   "metadata": {},
   "outputs": [],
   "source": []
  }
 ],
 "metadata": {
  "language_info": {
   "codemirror_mode": {
    "name": "ipython",
    "version": 3
   },
   "file_extension": ".py",
   "mimetype": "text/x-python",
   "name": "python",
   "nbconvert_exporter": "python",
   "pygments_lexer": "ipython3",
   "version": 3
  },
  "orig_nbformat": 2,
  "kernelspec": {
   "name": "python_defaultSpec_1608951002575",
   "display_name": "Python 3.6.10 64-bit ('d2': conda)"
  }
 },
 "nbformat": 4,
 "nbformat_minor": 2
}