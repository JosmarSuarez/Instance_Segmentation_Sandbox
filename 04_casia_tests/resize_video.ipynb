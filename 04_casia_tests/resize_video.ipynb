{
 "cells": [
  {
   "cell_type": "code",
   "execution_count": 2,
   "metadata": {},
   "outputs": [],
   "source": [
    "import numpy as np\n",
    "import cv2"
   ]
  },
  {
   "cell_type": "code",
   "execution_count": 7,
   "metadata": {},
   "outputs": [],
   "source": [
    "video_path = '/media/josmar/Nuevo vol/Taller de Grado/new_dataset/toma2/minute_cut/minute_cut.mp4'\n",
    "w = 1280\n",
    "h = 720\n",
    "def resize(video_path, w,h , out_folder, fps):\n",
    "    cap = cv2.VideoCapture(video_path)\n",
    "    \n",
    "    fourcc = cv2.VideoWriter_fourcc(*'MP4V')\n",
    "    new_name = \"{}/minute_cut_{}x{}.mp4\".format(out_folder, str(w), str(h))\n",
    "    out = cv2.VideoWriter(new_name ,fourcc, fps, (w,h))\n",
    "    \n",
    "    while True:\n",
    "        ret, frame = cap.read()\n",
    "        if ret == True:\n",
    "            b = cv2.resize(frame,(w,h),fx=0,fy=0, interpolation = cv2.INTER_CUBIC)\n",
    "            out.write(b)\n",
    "        else:\n",
    "            break\n",
    "        \n",
    "    cap.release()\n",
    "    out.release()\n",
    "    cv2.destroyAllWindows()"
   ]
  },
  {
   "cell_type": "code",
   "execution_count": 12,
   "metadata": {
    "tags": []
   },
   "outputs": [
    {
     "output_type": "stream",
     "name": "stdout",
     "text": "Processing:  256 x 144\nProcessing:  426 x 240\nProcessing:  640 x 360\nProcessing:  768 x 432\nProcessing:  800 x 450\nProcessing:  848 x 480\nProcessing:  854 x 480\nProcessing:  960 x 540\nProcessing:  1024 x 576\nProcessing:  1280 x 720\nProcessing:  1366 x 768\nProcessing:  1600 x 900\nProcessing:  1920 x 1080\n"
    }
   ],
   "source": [
    "video_path = \"/media/josmar/Nuevo vol/Taller de Grado/new_dataset/toma2/minute_cut/minute_cut.mp4\"\n",
    "\n",
    "out_folder = \"/media/josmar/Nuevo vol/Taller de Grado/new_dataset/toma2/minute_cut\"\n",
    "sizes = [[256,144],\t\n",
    "[426,240],\t\n",
    "[640,360],\t\n",
    "[768,432],\t\n",
    "[800,450],\t\n",
    "[848,480],\t\n",
    "[854,480],\t\n",
    "[960,540],\t\n",
    "[1024,576],\t\n",
    "[1280,720],\t\n",
    "[1366,768],\t\n",
    "[1600,900],\t\n",
    "[1920,1080]]\n",
    "\n",
    "for size in sizes:\n",
    "    print(\"Processing: \" ,size[0], \"x\",size[1])\n",
    "    resize(video_path, size[0], size[1], out_folder, 25)"
   ]
  }
 ],
 "metadata": {
  "language_info": {
   "codemirror_mode": {
    "name": "ipython",
    "version": 3
   },
   "file_extension": ".py",
   "mimetype": "text/x-python",
   "name": "python",
   "nbconvert_exporter": "python",
   "pygments_lexer": "ipython3",
   "version": 3
  },
  "orig_nbformat": 2,
  "kernelspec": {
   "name": "python_defaultSpec_1609725146266",
   "display_name": "Python 3.6.10 64-bit ('d2': conda)"
  }
 },
 "nbformat": 4,
 "nbformat_minor": 2
}