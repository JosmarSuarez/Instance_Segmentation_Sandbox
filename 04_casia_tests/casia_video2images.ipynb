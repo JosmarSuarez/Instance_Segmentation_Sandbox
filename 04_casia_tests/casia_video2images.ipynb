{
 "cells": [
  {
   "cell_type": "markdown",
   "metadata": {},
   "source": [
    "# Casia video2image\n",
    "Converts a video to a group of images"
   ]
  },
  {
   "cell_type": "code",
   "execution_count": 1,
   "metadata": {},
   "outputs": [],
   "source": [
    "import glob\n",
    "import cv2\n",
    "import os"
   ]
  },
  {
   "cell_type": "code",
   "execution_count": 2,
   "metadata": {},
   "outputs": [],
   "source": [
    "casia_sil_path = \"/media/josmar/Nuevo vol/Dataset Casia/DatasetB-2/silhouettes/*/*/\""
   ]
  },
  {
   "cell_type": "code",
   "execution_count": 5,
   "metadata": {},
   "outputs": [],
   "source": [
    "silhouette_list = glob.glob('/media/josmar/Nuevo vol/Dataset Casia/DatasetB-2/silhouettes/*/*/*/*.png',  \n",
    "                   recursive = True)"
   ]
  },
  {
   "cell_type": "code",
   "execution_count": 7,
   "metadata": {},
   "outputs": [
    {
     "output_type": "execute_result",
     "data": {
      "text/plain": "8443"
     },
     "metadata": {},
     "execution_count": 7
    }
   ],
   "source": [
    "len(silhouette_list)"
   ]
  },
  {
   "cell_type": "code",
   "execution_count": null,
   "metadata": {},
   "outputs": [],
   "source": [
    "silhouette_list[:10]"
   ]
  },
  {
   "cell_type": "code",
   "execution_count": null,
   "metadata": {
    "tags": []
   },
   "outputs": [],
   "source": [
    "video_dict = {}\n",
    "for sil in silhouette_list:    #Change this after\n",
    "    img_name = sil.split(\"/\")[-1]\n",
    "    key = img_name[:-8] + \".avi\"\n",
    "    if not key in video_dict:\n",
    "        video_dict[key] = []\n",
    "    video_dict[key].append(int(img_name[-7:-4]))"
   ]
  },
  {
   "cell_type": "code",
   "execution_count": 15,
   "metadata": {
    "tags": []
   },
   "outputs": [
    {
     "output_type": "stream",
     "name": "stdout",
     "text": "Done: 6795/6795"
    }
   ],
   "source": [
    "casia_vid_folder = \"/media/josmar/Nuevo vol/Dataset Casia/DatasetB-2/video\"\n",
    "output_folder = \"/home/josmar/proyectos/codes/datasets/casia_B2_images\"\n",
    "size = len(video_dict)\n",
    "n_video = 1\n",
    "for video in video_dict:\n",
    "    vid_path = os.path.join(casia_vid_folder, video)\n",
    "    # print(vid_path)\n",
    "    cap = cv2.VideoCapture(vid_path)\n",
    "    idx = 1\n",
    "    while(cap.isOpened()):\n",
    "        ret, frame = cap.read()\n",
    "        if ret == True:\n",
    "            if idx in video_dict[video]:\n",
    "                n_frame = str(idx).zfill(3)\n",
    "                img_name = \"{}-{}.jpg\".format(video[:-4], n_frame)\n",
    "                out_path = os.path.join(output_folder, img_name)\n",
    "                cv2.imwrite(out_path, frame)\n",
    "                sys.stdout.write('\\r'+  \"Done: {}/{}\".format(n_video,size))\n",
    "                sys.stdout.flush()\n",
    "\n",
    "            idx+=1\n",
    "        else:\n",
    "            break\n",
    "    cap.release()\n",
    "    n_video += 1\n"
   ]
  },
  {
   "cell_type": "code",
   "execution_count": 18,
   "metadata": {
    "tags": []
   },
   "outputs": [
    {
     "output_type": "stream",
     "name": "stdout",
     "text": "551508\n551508\n"
    }
   ],
   "source": [
    "print(len (silhouette_list))\n",
    "print(len (os.listdir(output_folder)))"
   ]
  },
  {
   "cell_type": "code",
   "execution_count": 19,
   "metadata": {},
   "outputs": [
    {
     "output_type": "execute_result",
     "data": {
      "text/plain": "'076-nm-04-000-071.png'"
     },
     "metadata": {},
     "execution_count": 19
    }
   ],
   "source": [
    "os.listdir(output_folder)[0]"
   ]
  },
  {
   "cell_type": "code",
   "execution_count": 12,
   "metadata": {
    "tags": []
   },
   "outputs": [
    {
     "output_type": "stream",
     "name": "stdout",
     "text": "566865\n551508\n"
    }
   ],
   "source": [
    "casia_b1 = os.listdir(\"/home/josmar/proyectos/codes/datasets/casia_B1_images\")\n",
    "casia_b2 = os.listdir(\"/home/josmar/proyectos/codes/datasets/casia_B2_images\")\n",
    "\n",
    "print(len(casia_b1))\n",
    "print(len(casia_b2))"
   ]
  }
 ],
 "metadata": {
  "language_info": {
   "codemirror_mode": {
    "name": "ipython",
    "version": 3
   },
   "file_extension": ".py",
   "mimetype": "text/x-python",
   "name": "python",
   "nbconvert_exporter": "python",
   "pygments_lexer": "ipython3",
   "version": 3
  },
  "orig_nbformat": 2,
  "kernelspec": {
   "name": "python_defaultSpec_1609600358845",
   "display_name": "Python 3.6.10 64-bit ('d2': conda)"
  }
 },
 "nbformat": 4,
 "nbformat_minor": 2
}