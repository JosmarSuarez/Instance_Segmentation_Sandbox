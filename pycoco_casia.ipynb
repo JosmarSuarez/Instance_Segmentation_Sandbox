{
 "cells": [
  {
   "cell_type": "code",
   "execution_count": 1,
   "metadata": {
    "collapsed": true
   },
   "outputs": [],
   "source": [
    "%matplotlib inline\n",
    "from pycocotools.coco import COCO\n",
    "import numpy as np\n",
    "import skimage.io as io\n",
    "import matplotlib.pyplot as plt\n",
    "import pylab\n",
    "pylab.rcParams['figure.figsize'] = (8.0, 10.0)"
   ]
  },
  {
   "cell_type": "code",
   "execution_count": 2,
   "metadata": {
    "collapsed": true
   },
   "outputs": [],
   "source": [
    "dataDir='annotation_tools/'\n",
    "#dataType='val2017'\n",
    "annFile='{}casia.json'.format(dataDir) #.format coloca dentro de {} las variables escritas después"
   ]
  },
  {
   "cell_type": "code",
   "execution_count": 3,
   "metadata": {
    "tags": []
   },
   "outputs": [
    {
     "output_type": "stream",
     "name": "stdout",
     "text": "loading annotations into memory...\nDone (t=0.00s)\ncreating index...\nindex created!\n"
    }
   ],
   "source": [
    "# initialize COCO api for instance annotations\n",
    "coco=COCO(annFile)"
   ]
  },
  {
   "cell_type": "code",
   "execution_count": 4,
   "metadata": {
    "scrolled": true,
    "tags": []
   },
   "outputs": [
    {
     "output_type": "stream",
     "name": "stdout",
     "text": "COCO categories: \nperson\n\nCOCO supercategories: \nperson\n"
    }
   ],
   "source": [
    "# display COCO categories and supercategories\n",
    "cats = coco.loadCats(coco.getCatIds())\n",
    "nms=[cat['name'] for cat in cats]\n",
    "print('COCO categories: \\n{}\\n'.format(' '.join(nms)))\n",
    "\n",
    "nms = set([cat['supercategory'] for cat in cats])\n",
    "print('COCO supercategories: \\n{}'.format(' '.join(nms)))"
   ]
  },
  {
   "cell_type": "code",
   "execution_count": 5,
   "metadata": {
    "tags": []
   },
   "outputs": [
    {
     "output_type": "stream",
     "name": "stdout",
     "text": "Hay 59 imagenes de la categoría person\n"
    }
   ],
   "source": [
    "# get all images containing given categories, select one at random\n",
    "category = \"person\"\n",
    "catIds = coco.getCatIds(catNms=[category]);\n",
    "imgIds = coco.getImgIds(catIds=catIds );\n",
    "print(\"Hay {} imagenes de la categoría {}\".format(len(imgIds), category))\n",
    "img = coco.loadImgs(imgIds[np.random.randint(0,len(imgIds))])[0]\n",
    "#img =coco.loadImgs(imgIds[2])[0]"
   ]
  },
  {
   "cell_type": "code",
   "execution_count": 6,
   "metadata": {},
   "outputs": [
    {
     "output_type": "execute_result",
     "data": {
      "text/plain": "'001-bg-01-090-093.png'"
     },
     "metadata": {},
     "execution_count": 6
    }
   ],
   "source": [
    "img['file_name']"
   ]
  },
  {
   "cell_type": "code",
   "execution_count": 7,
   "metadata": {},
   "outputs": [
    {
     "output_type": "display_data",
     "data": {
      "text/plain": "<Figure size 576x720 with 1 Axes>",
      "image/svg+xml": "<?xml version=\"1.0\" encoding=\"utf-8\" standalone=\"no\"?>\n<!DOCTYPE svg PUBLIC \"-//W3C//DTD SVG 1.1//EN\"\n  \"http://www.w3.org/Graphics/SVG/1.1/DTD/svg11.dtd\">\n<!-- Created with matplotlib (https://matplotlib.org/) -->\n<svg height=\"349.2pt\" version=\"1.1\" viewBox=\"0 0 460.8 349.2\" width=\"460.8pt\" xmlns=\"http://www.w3.org/2000/svg\" xmlns:xlink=\"http://www.w3.org/1999/xlink\">\n <defs>\n  <style type=\"text/css\">\n*{stroke-linecap:butt;stroke-linejoin:round;}\n  </style>\n </defs>\n <g id=\"figure_1\">\n  <g id=\"patch_1\">\n   <path d=\"M 0 349.2 \nL 460.8 349.2 \nL 460.8 0 \nL 0 0 \nz\n\" style=\"fill:none;\"/>\n  </g>\n  <g id=\"axes_1\">\n   <g clip-path=\"url(#pddcb6e52a6)\">\n    <image height=\"335\" id=\"imagede4ce2edf4\" transform=\"scale(1 -1)translate(0 -335)\" width=\"447\" x=\"7.2\" xlink:href=\"data:image/png;base64,\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\" y=\"-7\"/>\n   </g>\n  </g>\n </g>\n <defs>\n  <clipPath id=\"pddcb6e52a6\">\n   <rect height=\"334.8\" width=\"446.4\" x=\"7.2\" y=\"7.2\"/>\n  </clipPath>\n </defs>\n</svg>\n",
      "image/png": "[encoded data removed]"
     },
     "metadata": {
      "needs_background": "light"
     }
    }
   ],
   "source": [
    "# load and display image\n",
    "# I = io.imread('%s/images/%s/%s'%(dataDir,dataType,img['file_name']))\n",
    "# use url to load image\n",
    "I = io.imread(\"datasets/casia/DatasetB-1/silhouettes/001/bg-01/090/\"+img['file_name'])\n",
    "plt.axis('off')\n",
    "plt.imshow(I)\n",
    "plt.show()"
   ]
  },
  {
   "cell_type": "code",
   "execution_count": 8,
   "metadata": {},
   "outputs": [
    {
     "output_type": "display_data",
     "data": {
      "text/plain": "<Figure size 576x720 with 1 Axes>",
      "image/svg+xml": "<?xml version=\"1.0\" encoding=\"utf-8\" standalone=\"no\"?>\n<!DOCTYPE svg PUBLIC \"-//W3C//DTD SVG 1.1//EN\"\n  \"http://www.w3.org/Graphics/SVG/1.1/DTD/svg11.dtd\">\n<!-- Created with matplotlib (https://matplotlib.org/) -->\n<svg height=\"349.2pt\" version=\"1.1\" viewBox=\"0 0 460.8 349.2\" width=\"460.8pt\" xmlns=\"http://www.w3.org/2000/svg\" xmlns:xlink=\"http://www.w3.org/1999/xlink\">\n <defs>\n  <style type=\"text/css\">\n*{stroke-linecap:butt;stroke-linejoin:round;}\n  </style>\n </defs>\n <g id=\"figure_1\">\n  <g id=\"patch_1\">\n   <path d=\"M 0 349.2 \nL 460.8 349.2 \nL 460.8 0 \nL 0 0 \nz\n\" style=\"fill:none;\"/>\n  </g>\n  <g id=\"axes_1\">\n   <g clip-path=\"url(#p703df4d6d7)\">\n    <image height=\"335\" id=\"imageb302dee230\" transform=\"scale(1 -1)translate(0 -335)\" width=\"447\" x=\"7.2\" xlink:href=\"data:image/png;base64,\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\" y=\"-7\"/>\n   </g>\n   <g id=\"PatchCollection_1\">\n    <path clip-path=\"url(#p703df4d6d7)\" d=\"M 59.5125 277.129765 \nL 62.299765 274.3425 \nL 62.299765 265.9725 \nL 44.164765 215.7525 \nL 44.164765 203.1975 \nL 56.7225 203.194765 \nL 65.089765 197.6175 \nL 66.484765 178.0875 \nL 63.694765 169.7175 \nL 58.114765 166.9275 \nL 56.719765 162.7425 \nL 55.324765 151.5825 \nL 51.139765 143.2125 \nL 49.744765 127.8675 \nL 34.399765 112.5225 \nL 34.399765 105.5475 \nL 38.584765 98.5725 \nL 37.189765 88.8075 \nL 34.4025 86.020235 \nL 26.0325 84.625235 \nL 20.4525 87.415235 \nL 14.875235 94.3875 \nL 14.875235 106.9425 \nL 19.060235 119.4975 \nL 16.270235 122.2875 \nL 16.270235 157.1625 \nL 13.480235 179.4825 \nL 19.060235 197.6175 \nL 12.085235 214.3575 \nL 12.085235 224.1225 \nL 14.875235 231.0975 \nL 14.875235 245.0475 \nL 17.665235 257.6025 \nL 12.0825 257.605235 \nL 10.690235 261.7875 \nL 14.875235 264.5775 \nL 20.4525 274.339765 \nL 34.4025 274.339765 \nL 37.1925 277.129765 \nz\n\" style=\"fill:#6797f9;fill-opacity:0.4;\"/>\n    <path clip-path=\"url(#p703df4d6d7)\" d=\"M 42.775235 267.3675 \nL 44.170235 263.1825 \nL 41.380235 257.6025 \nL 35.800235 247.8375 \nL 33.0075 247.834765 \nL 34.399765 265.9725 \nz\n\" style=\"fill:#6797f9;fill-opacity:0.4;\"/>\n   </g>\n   <g id=\"PatchCollection_2\">\n    <path clip-path=\"url(#p703df4d6d7)\" d=\"M 59.5125 277.129765 \nL 62.299765 274.3425 \nL 62.299765 265.9725 \nL 44.164765 215.7525 \nL 44.164765 203.1975 \nL 56.7225 203.194765 \nL 65.089765 197.6175 \nL 66.484765 178.0875 \nL 63.694765 169.7175 \nL 58.114765 166.9275 \nL 56.719765 162.7425 \nL 55.324765 151.5825 \nL 51.139765 143.2125 \nL 49.744765 127.8675 \nL 34.399765 112.5225 \nL 34.399765 105.5475 \nL 38.584765 98.5725 \nL 37.189765 88.8075 \nL 34.4025 86.020235 \nL 26.0325 84.625235 \nL 20.4525 87.415235 \nL 14.875235 94.3875 \nL 14.875235 106.9425 \nL 19.060235 119.4975 \nL 16.270235 122.2875 \nL 16.270235 157.1625 \nL 13.480235 179.4825 \nL 19.060235 197.6175 \nL 12.085235 214.3575 \nL 12.085235 224.1225 \nL 14.875235 231.0975 \nL 14.875235 245.0475 \nL 17.665235 257.6025 \nL 12.0825 257.605235 \nL 10.690235 261.7875 \nL 14.875235 264.5775 \nL 20.4525 274.339765 \nL 34.4025 274.339765 \nL 37.1925 277.129765 \nz\n\" style=\"fill:none;stroke:#6797f9;stroke-width:2;\"/>\n    <path clip-path=\"url(#p703df4d6d7)\" d=\"M 42.775235 267.3675 \nL 44.170235 263.1825 \nL 41.380235 257.6025 \nL 35.800235 247.8375 \nL 33.0075 247.834765 \nL 34.399765 265.9725 \nz\n\" style=\"fill:none;stroke:#6797f9;stroke-width:2;\"/>\n   </g>\n  </g>\n </g>\n <defs>\n  <clipPath id=\"p703df4d6d7\">\n   <rect height=\"334.8\" width=\"446.4\" x=\"7.2\" y=\"7.2\"/>\n  </clipPath>\n </defs>\n</svg>\n",
      "image/png": "[encoded data removed]"
     },
     "metadata": {
      "needs_background": "light"
     }
    }
   ],
   "source": [
    "# load and display instance annotations\n",
    "plt.imshow(I); plt.axis('off')\n",
    "annIds = coco.getAnnIds(imgIds=img['id'], catIds=catIds, iscrowd=None)\n",
    "anns = coco.loadAnns(annIds)\n",
    "coco.showAnns(anns)"
   ]
  },
  {
   "cell_type": "code",
   "execution_count": null,
   "metadata": {},
   "outputs": [],
   "source": []
  }
 ],
 "metadata": {
  "kernelspec": {
   "display_name": "Python 3.6.10 64-bit ('d2': conda)",
   "language": "python",
   "name": "python361064bitd2condafcc7f242a0d248929c8f8110917217d8"
  },
  "language_info": {
   "codemirror_mode": {
    "name": "ipython",
    "version": 2
   },
   "file_extension": ".py",
   "mimetype": "text/x-python",
   "name": "python",
   "nbconvert_exporter": "python",
   "pygments_lexer": "ipython2",
   "version": "3.6.10-final"
  }
 },
 "nbformat": 4,
 "nbformat_minor": 1
}