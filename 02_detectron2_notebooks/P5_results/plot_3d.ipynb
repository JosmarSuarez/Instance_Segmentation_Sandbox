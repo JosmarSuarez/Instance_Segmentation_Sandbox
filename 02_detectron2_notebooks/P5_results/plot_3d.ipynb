{
 "cells": [
  {
   "cell_type": "code",
   "execution_count": 10,
   "metadata": {},
   "outputs": [],
   "source": [
    "from mpl_toolkits.mplot3d import Axes3D\n",
    "import matplotlib.pyplot as plt\n",
    "import numpy as np\n",
    "import pandas as pd"
   ]
  },
  {
   "cell_type": "code",
   "execution_count": 4,
   "metadata": {},
   "outputs": [],
   "source": [
    "def randrange(n, vmin, vmax):\n",
    "    '''\n",
    "    Helper function to make an array of random numbers having shape (n, )\n",
    "    with each number distributed Uniform(vmin, vmax).\n",
    "    '''\n",
    "    return (vmax - vmin)*np.random.rand(n) + vmin"
   ]
  },
  {
   "cell_type": "code",
   "execution_count": 29,
   "metadata": {},
   "outputs": [],
   "source": [
    "filename = \"/home/josmar/Descargas/wandb_export_2021-01-30T18_57_07.490-04_00.csv\"\n",
    "df = pd.read_csv(filename) "
   ]
  },
  {
   "cell_type": "code",
   "execution_count": 13,
   "metadata": {},
   "outputs": [
    {
     "output_type": "execute_result",
     "data": {
      "text/plain": "                  Name        lr  momentum    segm.AP  _wandb\n0  effortless-sweep-10  0.000020  0.986948  85.494377     NaN\n1       devout-sweep-9  0.000033  0.993388  86.442296     NaN\n2         mild-sweep-8  0.000116  0.924295  86.112183     NaN\n3         trim-sweep-7  0.000089  0.920779  85.603411     NaN\n4        super-sweep-6  0.000125  0.988082  86.711083     NaN",
      "text/html": "<div>\n<style scoped>\n    .dataframe tbody tr th:only-of-type {\n        vertical-align: middle;\n    }\n\n    .dataframe tbody tr th {\n        vertical-align: top;\n    }\n\n    .dataframe thead th {\n        text-align: right;\n    }\n</style>\n<table border=\"1\" class=\"dataframe\">\n  <thead>\n    <tr style=\"text-align: right;\">\n      <th></th>\n      <th>Name</th>\n      <th>lr</th>\n      <th>momentum</th>\n      <th>segm.AP</th>\n      <th>_wandb</th>\n    </tr>\n  </thead>\n  <tbody>\n    <tr>\n      <th>0</th>\n      <td>effortless-sweep-10</td>\n      <td>0.000020</td>\n      <td>0.986948</td>\n      <td>85.494377</td>\n      <td>NaN</td>\n    </tr>\n    <tr>\n      <th>1</th>\n      <td>devout-sweep-9</td>\n      <td>0.000033</td>\n      <td>0.993388</td>\n      <td>86.442296</td>\n      <td>NaN</td>\n    </tr>\n    <tr>\n      <th>2</th>\n      <td>mild-sweep-8</td>\n      <td>0.000116</td>\n      <td>0.924295</td>\n      <td>86.112183</td>\n      <td>NaN</td>\n    </tr>\n    <tr>\n      <th>3</th>\n      <td>trim-sweep-7</td>\n      <td>0.000089</td>\n      <td>0.920779</td>\n      <td>85.603411</td>\n      <td>NaN</td>\n    </tr>\n    <tr>\n      <th>4</th>\n      <td>super-sweep-6</td>\n      <td>0.000125</td>\n      <td>0.988082</td>\n      <td>86.711083</td>\n      <td>NaN</td>\n    </tr>\n  </tbody>\n</table>\n</div>"
     },
     "metadata": {},
     "execution_count": 13
    }
   ],
   "source": [
    "df.head()"
   ]
  },
  {
   "cell_type": "code",
   "execution_count": 16,
   "metadata": {},
   "outputs": [],
   "source": [
    "x = df['lr']\n",
    "y = df['momentum']\n",
    "z = df['segm.AP']"
   ]
  },
  {
   "cell_type": "code",
   "execution_count": null,
   "metadata": {},
   "outputs": [],
   "source": [
    "new_df = px."
   ]
  },
  {
   "cell_type": "code",
   "execution_count": 30,
   "metadata": {},
   "outputs": [
    {
     "output_type": "display_data",
     "data": {
      "application/vnd.plotly.v1+json": {
       "config": {
        "plotlyServerURL": "https://plot.ly"
       },
       "data": [
        {
         "hovertemplate": "lr=%{x}<br>momentum=%{y}<br>segm.AP=%{marker.color}<extra></extra>",
         "legendgroup": "",
         "marker": {
          "color": [
           85.49437653453244,
           86.44229568200922,
           86.11218293019293,
           85.60341067432593,
           86.71108338732367,
           83.29767530259792,
           84.29934156497512,
           84.8459348436273,
           85.1699846868174,
           81.06812763217306,
           86.22243151015734,
           82.792008416924,
           85.79052669246397,
           84.62470844972394,
           85.01854820983543,
           84.14131730469158,
           86.31964924838344,
           84.67673807564691,
           86.10186960472858,
           80.50544242426871,
           86.64145953345238,
           81.4929151265675,
           84.99679218065376,
           76.21653536962008,
           84.09527462737955,
           80.0598459803387,
           87.19939722858534,
           86.10109006460169,
           86.25103110402628,
           85.12785491705705
          ],
          "coloraxis": "coloraxis",
          "symbol": "circle"
         },
         "mode": "markers",
         "name": "",
         "scene": "scene",
         "showlegend": false,
         "type": "scatter3d",
         "x": [
          0.00001968666998198617,
          0.000033397176015930935,
          0.0001157242117109317,
          0.00008919123591176025,
          0.00012468080254261673,
          0.00001030702508617422,
          0.000020064602137786727,
          0.000039326138354998766,
          0.00010123072938431407,
          0.00006604559514091579,
          0.00028019177787337867,
          0.0008083107321053269,
          0.00040119802662770413,
          0.0006564644202830619,
          0.00016094919610910722,
          0.0009554673253327395,
          0.00010694771011352224,
          0.0005047286984284252,
          0.0003867648449174216,
          0.0006983296164274149,
          0.0001778338255239354,
          0.0007557211712741797,
          0.0007960847912418166,
          0.0009245608144422976,
          0.0007496981073045127,
          0.0003706801721989358,
          0.00032164157254729663,
          0.0001090914474622082,
          0.00025995966539976955,
          0.00030656650160907885
         ],
         "y": [
          0.9869484758033936,
          0.9933879867155028,
          0.9242951969043196,
          0.9207793310838018,
          0.988082150888422,
          0.9336107651354736,
          0.9242032409702508,
          0.9000824316762717,
          0.901474970072042,
          0.9982359079679499,
          0.9227951824378398,
          0.9848455730328628,
          0.968691537375575,
          0.9379873648551584,
          0.9809391998588536,
          0.9568822641704556,
          0.9840084267853584,
          0.9883684378974552,
          0.9208807864064852,
          0.9870185215752711,
          0.9663000349733312,
          0.985819655802096,
          0.9400965459209641,
          0.9712361559190912,
          0.9539903249111996,
          0.9847250087906378,
          0.9102020251848854,
          0.976437833973462,
          0.9710879337105413,
          0.9072070093933986
         ],
         "z": [
          85.49437653453244,
          86.44229568200922,
          86.11218293019293,
          85.60341067432593,
          86.71108338732367,
          83.29767530259792,
          84.29934156497512,
          84.8459348436273,
          85.1699846868174,
          81.06812763217306,
          86.22243151015734,
          82.792008416924,
          85.79052669246397,
          84.62470844972394,
          85.01854820983543,
          84.14131730469158,
          86.31964924838344,
          84.67673807564691,
          86.10186960472858,
          80.50544242426871,
          86.64145953345238,
          81.4929151265675,
          84.99679218065376,
          76.21653536962008,
          84.09527462737955,
          80.0598459803387,
          87.19939722858534,
          86.10109006460169,
          86.25103110402628,
          85.12785491705705
         ]
        }
       ],
       "layout": {
        "coloraxis": {
         "colorbar": {
          "title": {
           "text": "segm.AP"
          }
         },
         "colorscale": [
          [
           0,
           "#0d0887"
          ],
          [
           0.1111111111111111,
           "#46039f"
          ],
          [
           0.2222222222222222,
           "#7201a8"
          ],
          [
           0.3333333333333333,
           "#9c179e"
          ],
          [
           0.4444444444444444,
           "#bd3786"
          ],
          [
           0.5555555555555556,
           "#d8576b"
          ],
          [
           0.6666666666666666,
           "#ed7953"
          ],
          [
           0.7777777777777778,
           "#fb9f3a"
          ],
          [
           0.8888888888888888,
           "#fdca26"
          ],
          [
           1,
           "#f0f921"
          ]
         ]
        },
        "legend": {
         "tracegroupgap": 0
        },
        "margin": {
         "t": 60
        },
        "scene": {
         "domain": {
          "x": [
           0,
           1
          ],
          "y": [
           0,
           1
          ]
         },
         "xaxis": {
          "title": {
           "text": "lr"
          }
         },
         "yaxis": {
          "title": {
           "text": "momentum"
          }
         },
         "zaxis": {
          "title": {
           "text": "segm.AP"
          }
         }
        },
        "template": {
         "data": {
          "bar": [
           {
            "error_x": {
             "color": "#2a3f5f"
            },
            "error_y": {
             "color": "#2a3f5f"
            },
            "marker": {
             "line": {
              "color": "#E5ECF6",
              "width": 0.5
             }
            },
            "type": "bar"
           }
          ],
          "barpolar": [
           {
            "marker": {
             "line": {
              "color": "#E5ECF6",
              "width": 0.5
             }
            },
            "type": "barpolar"
           }
          ],
          "carpet": [
           {
            "aaxis": {
             "endlinecolor": "#2a3f5f",
             "gridcolor": "white",
             "linecolor": "white",
             "minorgridcolor": "white",
             "startlinecolor": "#2a3f5f"
            },
            "baxis": {
             "endlinecolor": "#2a3f5f",
             "gridcolor": "white",
             "linecolor": "white",
             "minorgridcolor": "white",
             "startlinecolor": "#2a3f5f"
            },
            "type": "carpet"
           }
          ],
          "choropleth": [
           {
            "colorbar": {
             "outlinewidth": 0,
             "ticks": ""
            },
            "type": "choropleth"
           }
          ],
          "contour": [
           {
            "colorbar": {
             "outlinewidth": 0,
             "ticks": ""
            },
            "colorscale": [
             [
              0,
              "#0d0887"
             ],
             [
              0.1111111111111111,
              "#46039f"
             ],
             [
              0.2222222222222222,
              "#7201a8"
             ],
             [
              0.3333333333333333,
              "#9c179e"
             ],
             [
              0.4444444444444444,
              "#bd3786"
             ],
             [
              0.5555555555555556,
              "#d8576b"
             ],
             [
              0.6666666666666666,
              "#ed7953"
             ],
             [
              0.7777777777777778,
              "#fb9f3a"
             ],
             [
              0.8888888888888888,
              "#fdca26"
             ],
             [
              1,
              "#f0f921"
             ]
            ],
            "type": "contour"
           }
          ],
          "contourcarpet": [
           {
            "colorbar": {
             "outlinewidth": 0,
             "ticks": ""
            },
            "type": "contourcarpet"
           }
          ],
          "heatmap": [
           {
            "colorbar": {
             "outlinewidth": 0,
             "ticks": ""
            },
            "colorscale": [
             [
              0,
              "#0d0887"
             ],
             [
              0.1111111111111111,
              "#46039f"
             ],
             [
              0.2222222222222222,
              "#7201a8"
             ],
             [
              0.3333333333333333,
              "#9c179e"
             ],
             [
              0.4444444444444444,
              "#bd3786"
             ],
             [
              0.5555555555555556,
              "#d8576b"
             ],
             [
              0.6666666666666666,
              "#ed7953"
             ],
             [
              0.7777777777777778,
              "#fb9f3a"
             ],
             [
              0.8888888888888888,
              "#fdca26"
             ],
             [
              1,
              "#f0f921"
             ]
            ],
            "type": "heatmap"
           }
          ],
          "heatmapgl": [
           {
            "colorbar": {
             "outlinewidth": 0,
             "ticks": ""
            },
            "colorscale": [
             [
              0,
              "#0d0887"
             ],
             [
              0.1111111111111111,
              "#46039f"
             ],
             [
              0.2222222222222222,
              "#7201a8"
             ],
             [
              0.3333333333333333,
              "#9c179e"
             ],
             [
              0.4444444444444444,
              "#bd3786"
             ],
             [
              0.5555555555555556,
              "#d8576b"
             ],
             [
              0.6666666666666666,
              "#ed7953"
             ],
             [
              0.7777777777777778,
              "#fb9f3a"
             ],
             [
              0.8888888888888888,
              "#fdca26"
             ],
             [
              1,
              "#f0f921"
             ]
            ],
            "type": "heatmapgl"
           }
          ],
          "histogram": [
           {
            "marker": {
             "colorbar": {
              "outlinewidth": 0,
              "ticks": ""
             }
            },
            "type": "histogram"
           }
          ],
          "histogram2d": [
           {
            "colorbar": {
             "outlinewidth": 0,
             "ticks": ""
            },
            "colorscale": [
             [
              0,
              "#0d0887"
             ],
             [
              0.1111111111111111,
              "#46039f"
             ],
             [
              0.2222222222222222,
              "#7201a8"
             ],
             [
              0.3333333333333333,
              "#9c179e"
             ],
             [
              0.4444444444444444,
              "#bd3786"
             ],
             [
              0.5555555555555556,
              "#d8576b"
             ],
             [
              0.6666666666666666,
              "#ed7953"
             ],
             [
              0.7777777777777778,
              "#fb9f3a"
             ],
             [
              0.8888888888888888,
              "#fdca26"
             ],
             [
              1,
              "#f0f921"
             ]
            ],
            "type": "histogram2d"
           }
          ],
          "histogram2dcontour": [
           {
            "colorbar": {
             "outlinewidth": 0,
             "ticks": ""
            },
            "colorscale": [
             [
              0,
              "#0d0887"
             ],
             [
              0.1111111111111111,
              "#46039f"
             ],
             [
              0.2222222222222222,
              "#7201a8"
             ],
             [
              0.3333333333333333,
              "#9c179e"
             ],
             [
              0.4444444444444444,
              "#bd3786"
             ],
             [
              0.5555555555555556,
              "#d8576b"
             ],
             [
              0.6666666666666666,
              "#ed7953"
             ],
             [
              0.7777777777777778,
              "#fb9f3a"
             ],
             [
              0.8888888888888888,
              "#fdca26"
             ],
             [
              1,
              "#f0f921"
             ]
            ],
            "type": "histogram2dcontour"
           }
          ],
          "mesh3d": [
           {
            "colorbar": {
             "outlinewidth": 0,
             "ticks": ""
            },
            "type": "mesh3d"
           }
          ],
          "parcoords": [
           {
            "line": {
             "colorbar": {
              "outlinewidth": 0,
              "ticks": ""
             }
            },
            "type": "parcoords"
           }
          ],
          "pie": [
           {
            "automargin": true,
            "type": "pie"
           }
          ],
          "scatter": [
           {
            "marker": {
             "colorbar": {
              "outlinewidth": 0,
              "ticks": ""
             }
            },
            "type": "scatter"
           }
          ],
          "scatter3d": [
           {
            "line": {
             "colorbar": {
              "outlinewidth": 0,
              "ticks": ""
             }
            },
            "marker": {
             "colorbar": {
              "outlinewidth": 0,
              "ticks": ""
             }
            },
            "type": "scatter3d"
           }
          ],
          "scattercarpet": [
           {
            "marker": {
             "colorbar": {
              "outlinewidth": 0,
              "ticks": ""
             }
            },
            "type": "scattercarpet"
           }
          ],
          "scattergeo": [
           {
            "marker": {
             "colorbar": {
              "outlinewidth": 0,
              "ticks": ""
             }
            },
            "type": "scattergeo"
           }
          ],
          "scattergl": [
           {
            "marker": {
             "colorbar": {
              "outlinewidth": 0,
              "ticks": ""
             }
            },
            "type": "scattergl"
           }
          ],
          "scattermapbox": [
           {
            "marker": {
             "colorbar": {
              "outlinewidth": 0,
              "ticks": ""
             }
            },
            "type": "scattermapbox"
           }
          ],
          "scatterpolar": [
           {
            "marker": {
             "colorbar": {
              "outlinewidth": 0,
              "ticks": ""
             }
            },
            "type": "scatterpolar"
           }
          ],
          "scatterpolargl": [
           {
            "marker": {
             "colorbar": {
              "outlinewidth": 0,
              "ticks": ""
             }
            },
            "type": "scatterpolargl"
           }
          ],
          "scatterternary": [
           {
            "marker": {
             "colorbar": {
              "outlinewidth": 0,
              "ticks": ""
             }
            },
            "type": "scatterternary"
           }
          ],
          "surface": [
           {
            "colorbar": {
             "outlinewidth": 0,
             "ticks": ""
            },
            "colorscale": [
             [
              0,
              "#0d0887"
             ],
             [
              0.1111111111111111,
              "#46039f"
             ],
             [
              0.2222222222222222,
              "#7201a8"
             ],
             [
              0.3333333333333333,
              "#9c179e"
             ],
             [
              0.4444444444444444,
              "#bd3786"
             ],
             [
              0.5555555555555556,
              "#d8576b"
             ],
             [
              0.6666666666666666,
              "#ed7953"
             ],
             [
              0.7777777777777778,
              "#fb9f3a"
             ],
             [
              0.8888888888888888,
              "#fdca26"
             ],
             [
              1,
              "#f0f921"
             ]
            ],
            "type": "surface"
           }
          ],
          "table": [
           {
            "cells": {
             "fill": {
              "color": "#EBF0F8"
             },
             "line": {
              "color": "white"
             }
            },
            "header": {
             "fill": {
              "color": "#C8D4E3"
             },
             "line": {
              "color": "white"
             }
            },
            "type": "table"
           }
          ]
         },
         "layout": {
          "annotationdefaults": {
           "arrowcolor": "#2a3f5f",
           "arrowhead": 0,
           "arrowwidth": 1
          },
          "autotypenumbers": "strict",
          "coloraxis": {
           "colorbar": {
            "outlinewidth": 0,
            "ticks": ""
           }
          },
          "colorscale": {
           "diverging": [
            [
             0,
             "#8e0152"
            ],
            [
             0.1,
             "#c51b7d"
            ],
            [
             0.2,
             "#de77ae"
            ],
            [
             0.3,
             "#f1b6da"
            ],
            [
             0.4,
             "#fde0ef"
            ],
            [
             0.5,
             "#f7f7f7"
            ],
            [
             0.6,
             "#e6f5d0"
            ],
            [
             0.7,
             "#b8e186"
            ],
            [
             0.8,
             "#7fbc41"
            ],
            [
             0.9,
             "#4d9221"
            ],
            [
             1,
             "#276419"
            ]
           ],
           "sequential": [
            [
             0,
             "#0d0887"
            ],
            [
             0.1111111111111111,
             "#46039f"
            ],
            [
             0.2222222222222222,
             "#7201a8"
            ],
            [
             0.3333333333333333,
             "#9c179e"
            ],
            [
             0.4444444444444444,
             "#bd3786"
            ],
            [
             0.5555555555555556,
             "#d8576b"
            ],
            [
             0.6666666666666666,
             "#ed7953"
            ],
            [
             0.7777777777777778,
             "#fb9f3a"
            ],
            [
             0.8888888888888888,
             "#fdca26"
            ],
            [
             1,
             "#f0f921"
            ]
           ],
           "sequentialminus": [
            [
             0,
             "#0d0887"
            ],
            [
             0.1111111111111111,
             "#46039f"
            ],
            [
             0.2222222222222222,
             "#7201a8"
            ],
            [
             0.3333333333333333,
             "#9c179e"
            ],
            [
             0.4444444444444444,
             "#bd3786"
            ],
            [
             0.5555555555555556,
             "#d8576b"
            ],
            [
             0.6666666666666666,
             "#ed7953"
            ],
            [
             0.7777777777777778,
             "#fb9f3a"
            ],
            [
             0.8888888888888888,
             "#fdca26"
            ],
            [
             1,
             "#f0f921"
            ]
           ]
          },
          "colorway": [
           "#636efa",
           "#EF553B",
           "#00cc96",
           "#ab63fa",
           "#FFA15A",
           "#19d3f3",
           "#FF6692",
           "#B6E880",
           "#FF97FF",
           "#FECB52"
          ],
          "font": {
           "color": "#2a3f5f"
          },
          "geo": {
           "bgcolor": "white",
           "lakecolor": "white",
           "landcolor": "#E5ECF6",
           "showlakes": true,
           "showland": true,
           "subunitcolor": "white"
          },
          "hoverlabel": {
           "align": "left"
          },
          "hovermode": "closest",
          "mapbox": {
           "style": "light"
          },
          "paper_bgcolor": "white",
          "plot_bgcolor": "#E5ECF6",
          "polar": {
           "angularaxis": {
            "gridcolor": "white",
            "linecolor": "white",
            "ticks": ""
           },
           "bgcolor": "#E5ECF6",
           "radialaxis": {
            "gridcolor": "white",
            "linecolor": "white",
            "ticks": ""
           }
          },
          "scene": {
           "xaxis": {
            "backgroundcolor": "#E5ECF6",
            "gridcolor": "white",
            "gridwidth": 2,
            "linecolor": "white",
            "showbackground": true,
            "ticks": "",
            "zerolinecolor": "white"
           },
           "yaxis": {
            "backgroundcolor": "#E5ECF6",
            "gridcolor": "white",
            "gridwidth": 2,
            "linecolor": "white",
            "showbackground": true,
            "ticks": "",
            "zerolinecolor": "white"
           },
           "zaxis": {
            "backgroundcolor": "#E5ECF6",
            "gridcolor": "white",
            "gridwidth": 2,
            "linecolor": "white",
            "showbackground": true,
            "ticks": "",
            "zerolinecolor": "white"
           }
          },
          "shapedefaults": {
           "line": {
            "color": "#2a3f5f"
           }
          },
          "ternary": {
           "aaxis": {
            "gridcolor": "white",
            "linecolor": "white",
            "ticks": ""
           },
           "baxis": {
            "gridcolor": "white",
            "linecolor": "white",
            "ticks": ""
           },
           "bgcolor": "#E5ECF6",
           "caxis": {
            "gridcolor": "white",
            "linecolor": "white",
            "ticks": ""
           }
          },
          "title": {
           "x": 0.05
          },
          "xaxis": {
           "automargin": true,
           "gridcolor": "white",
           "linecolor": "white",
           "ticks": "",
           "title": {
            "standoff": 15
           },
           "zerolinecolor": "white",
           "zerolinewidth": 2
          },
          "yaxis": {
           "automargin": true,
           "gridcolor": "white",
           "linecolor": "white",
           "ticks": "",
           "title": {
            "standoff": 15
           },
           "zerolinecolor": "white",
           "zerolinewidth": 2
          }
         }
        }
       }
      }
     },
     "metadata": {}
    }
   ],
   "source": [
    "import plotly.express as px\n",
    "\n",
    "fig = px.scatter_3d(df, x='lr', y='momentum', z='segm.AP',\n",
    "              color='segm.AP')\n",
    "fig.show()"
   ]
  },
  {
   "cell_type": "code",
   "execution_count": 23,
   "metadata": {},
   "outputs": [
    {
     "output_type": "display_data",
     "data": {
      "text/plain": "<Figure size 432x288 with 1 Axes>",
      "image/svg+xml": "<?xml version=\"1.0\" encoding=\"utf-8\" standalone=\"no\"?>\n<!DOCTYPE svg PUBLIC \"-//W3C//DTD SVG 1.1//EN\"\n  \"http://www.w3.org/Graphics/SVG/1.1/DTD/svg11.dtd\">\n<!-- Created with matplotlib (https://matplotlib.org/) -->\n<svg height=\"247.563227pt\" version=\"1.1\" viewBox=\"0 0 269.281721 247.563227\" width=\"269.281721pt\" xmlns=\"http://www.w3.org/2000/svg\" xmlns:xlink=\"http://www.w3.org/1999/xlink\">\n <metadata>\n  <rdf:RDF xmlns:cc=\"http://creativecommons.org/ns#\" xmlns:dc=\"http://purl.org/dc/elements/1.1/\" xmlns:rdf=\"http://www.w3.org/1999/02/22-rdf-syntax-ns#\">\n   <cc:Work>\n    <dc:type rdf:resource=\"http://purl.org/dc/dcmitype/StillImage\"/>\n    <dc:date>2021-01-30T19:25:28.733290</dc:date>\n    <dc:format>image/svg+xml</dc:format>\n    <dc:creator>\n     <cc:Agent>\n      <dc:title>Matplotlib v3.3.1, https://matplotlib.org/</dc:title>\n     </cc:Agent>\n    </dc:creator>\n   </cc:Work>\n  </rdf:RDF>\n </metadata>\n <defs>\n  <style type=\"text/css\">*{stroke-linecap:butt;stroke-linejoin:round;}</style>\n </defs>\n <g id=\"figure_1\">\n  <g id=\"patch_1\">\n   <path d=\"M 0 247.563227 \nL 269.281721 247.563227 \nL 269.281721 0 \nL 0 0 \nz\n\" style=\"fill:none;\"/>\n  </g>\n  <g id=\"patch_2\">\n   <path d=\"M 9.525634 224.64 \nL 226.965634 224.64 \nL 226.965634 7.2 \nL 9.525634 7.2 \nz\n\" style=\"fill:#ffffff;\"/>\n  </g>\n  <g id=\"pane3d_1\">\n   <g id=\"patch_3\">\n    <path d=\"M 25.943854 171.026264 \nL 97.749643 110.837228 \nL 96.751474 24.033878 \nL 21.509407 78.942111 \n\" style=\"fill:#f2f2f2;opacity:0.5;stroke:#f2f2f2;stroke-linejoin:miter;\"/>\n   </g>\n  </g>\n  <g id=\"pane3d_2\">\n   <g id=\"patch_4\">\n    <path d=\"M 97.749643 110.837228 \nL 212.972314 144.32791 \nL 217.084205 54.534718 \nL 96.751474 24.033878 \n\" style=\"fill:#e6e6e6;opacity:0.5;stroke:#e6e6e6;stroke-linejoin:miter;\"/>\n   </g>\n  </g>\n  <g id=\"pane3d_3\">\n   <g id=\"patch_5\">\n    <path d=\"M 25.943854 171.026264 \nL 148.085513 210.91773 \nL 212.972314 144.32791 \nL 97.749643 110.837228 \n\" style=\"fill:#ececec;opacity:0.5;stroke:#ececec;stroke-linejoin:miter;\"/>\n   </g>\n  </g>\n  <g id=\"axis3d_1\">\n   <g id=\"line2d_1\">\n    <path d=\"M 25.943854 171.026264 \nL 148.085513 210.91773 \n\" style=\"fill:none;stroke:#000000;stroke-linecap:square;stroke-width:0.8;\"/>\n   </g>\n   <g id=\"text_1\">\n    <!-- learning rate -->\n    <g transform=\"translate(37.670799 218.427519)rotate(-341.912962)scale(0.1 -0.1)\">\n     <defs>\n      <path d=\"M 9.421875 75.984375 \nL 18.40625 75.984375 \nL 18.40625 0 \nL 9.421875 0 \nz\n\" id=\"DejaVuSans-108\"/>\n      <path d=\"M 56.203125 29.59375 \nL 56.203125 25.203125 \nL 14.890625 25.203125 \nQ 15.484375 15.921875 20.484375 11.0625 \nQ 25.484375 6.203125 34.421875 6.203125 \nQ 39.59375 6.203125 44.453125 7.46875 \nQ 49.3125 8.734375 54.109375 11.28125 \nL 54.109375 2.78125 \nQ 49.265625 0.734375 44.1875 -0.34375 \nQ 39.109375 -1.421875 33.890625 -1.421875 \nQ 20.796875 -1.421875 13.15625 6.1875 \nQ 5.515625 13.8125 5.515625 26.8125 \nQ 5.515625 40.234375 12.765625 48.109375 \nQ 20.015625 56 32.328125 56 \nQ 43.359375 56 49.78125 48.890625 \nQ 56.203125 41.796875 56.203125 29.59375 \nz\nM 47.21875 32.234375 \nQ 47.125 39.59375 43.09375 43.984375 \nQ 39.0625 48.390625 32.421875 48.390625 \nQ 24.90625 48.390625 20.390625 44.140625 \nQ 15.875 39.890625 15.1875 32.171875 \nz\n\" id=\"DejaVuSans-101\"/>\n      <path d=\"M 34.28125 27.484375 \nQ 23.390625 27.484375 19.1875 25 \nQ 14.984375 22.515625 14.984375 16.5 \nQ 14.984375 11.71875 18.140625 8.90625 \nQ 21.296875 6.109375 26.703125 6.109375 \nQ 34.1875 6.109375 38.703125 11.40625 \nQ 43.21875 16.703125 43.21875 25.484375 \nL 43.21875 27.484375 \nz\nM 52.203125 31.203125 \nL 52.203125 0 \nL 43.21875 0 \nL 43.21875 8.296875 \nQ 40.140625 3.328125 35.546875 0.953125 \nQ 30.953125 -1.421875 24.3125 -1.421875 \nQ 15.921875 -1.421875 10.953125 3.296875 \nQ 6 8.015625 6 15.921875 \nQ 6 25.140625 12.171875 29.828125 \nQ 18.359375 34.515625 30.609375 34.515625 \nL 43.21875 34.515625 \nL 43.21875 35.40625 \nQ 43.21875 41.609375 39.140625 45 \nQ 35.0625 48.390625 27.6875 48.390625 \nQ 23 48.390625 18.546875 47.265625 \nQ 14.109375 46.140625 10.015625 43.890625 \nL 10.015625 52.203125 \nQ 14.9375 54.109375 19.578125 55.046875 \nQ 24.21875 56 28.609375 56 \nQ 40.484375 56 46.34375 49.84375 \nQ 52.203125 43.703125 52.203125 31.203125 \nz\n\" id=\"DejaVuSans-97\"/>\n      <path d=\"M 41.109375 46.296875 \nQ 39.59375 47.171875 37.8125 47.578125 \nQ 36.03125 48 33.890625 48 \nQ 26.265625 48 22.1875 43.046875 \nQ 18.109375 38.09375 18.109375 28.8125 \nL 18.109375 0 \nL 9.078125 0 \nL 9.078125 54.6875 \nL 18.109375 54.6875 \nL 18.109375 46.1875 \nQ 20.953125 51.171875 25.484375 53.578125 \nQ 30.03125 56 36.53125 56 \nQ 37.453125 56 38.578125 55.875 \nQ 39.703125 55.765625 41.0625 55.515625 \nz\n\" id=\"DejaVuSans-114\"/>\n      <path d=\"M 54.890625 33.015625 \nL 54.890625 0 \nL 45.90625 0 \nL 45.90625 32.71875 \nQ 45.90625 40.484375 42.875 44.328125 \nQ 39.84375 48.1875 33.796875 48.1875 \nQ 26.515625 48.1875 22.3125 43.546875 \nQ 18.109375 38.921875 18.109375 30.90625 \nL 18.109375 0 \nL 9.078125 0 \nL 9.078125 54.6875 \nL 18.109375 54.6875 \nL 18.109375 46.1875 \nQ 21.34375 51.125 25.703125 53.5625 \nQ 30.078125 56 35.796875 56 \nQ 45.21875 56 50.046875 50.171875 \nQ 54.890625 44.34375 54.890625 33.015625 \nz\n\" id=\"DejaVuSans-110\"/>\n      <path d=\"M 9.421875 54.6875 \nL 18.40625 54.6875 \nL 18.40625 0 \nL 9.421875 0 \nz\nM 9.421875 75.984375 \nL 18.40625 75.984375 \nL 18.40625 64.59375 \nL 9.421875 64.59375 \nz\n\" id=\"DejaVuSans-105\"/>\n      <path d=\"M 45.40625 27.984375 \nQ 45.40625 37.75 41.375 43.109375 \nQ 37.359375 48.484375 30.078125 48.484375 \nQ 22.859375 48.484375 18.828125 43.109375 \nQ 14.796875 37.75 14.796875 27.984375 \nQ 14.796875 18.265625 18.828125 12.890625 \nQ 22.859375 7.515625 30.078125 7.515625 \nQ 37.359375 7.515625 41.375 12.890625 \nQ 45.40625 18.265625 45.40625 27.984375 \nz\nM 54.390625 6.78125 \nQ 54.390625 -7.171875 48.1875 -13.984375 \nQ 42 -20.796875 29.203125 -20.796875 \nQ 24.46875 -20.796875 20.265625 -20.09375 \nQ 16.0625 -19.390625 12.109375 -17.921875 \nL 12.109375 -9.1875 \nQ 16.0625 -11.328125 19.921875 -12.34375 \nQ 23.78125 -13.375 27.78125 -13.375 \nQ 36.625 -13.375 41.015625 -8.765625 \nQ 45.40625 -4.15625 45.40625 5.171875 \nL 45.40625 9.625 \nQ 42.625 4.78125 38.28125 2.390625 \nQ 33.9375 0 27.875 0 \nQ 17.828125 0 11.671875 7.65625 \nQ 5.515625 15.328125 5.515625 27.984375 \nQ 5.515625 40.671875 11.671875 48.328125 \nQ 17.828125 56 27.875 56 \nQ 33.9375 56 38.28125 53.609375 \nQ 42.625 51.21875 45.40625 46.390625 \nL 45.40625 54.6875 \nL 54.390625 54.6875 \nz\n\" id=\"DejaVuSans-103\"/>\n      <path id=\"DejaVuSans-32\"/>\n      <path d=\"M 18.3125 70.21875 \nL 18.3125 54.6875 \nL 36.8125 54.6875 \nL 36.8125 47.703125 \nL 18.3125 47.703125 \nL 18.3125 18.015625 \nQ 18.3125 11.328125 20.140625 9.421875 \nQ 21.96875 7.515625 27.59375 7.515625 \nL 36.8125 7.515625 \nL 36.8125 0 \nL 27.59375 0 \nQ 17.1875 0 13.234375 3.875 \nQ 9.28125 7.765625 9.28125 18.015625 \nL 9.28125 47.703125 \nL 2.6875 47.703125 \nL 2.6875 54.6875 \nL 9.28125 54.6875 \nL 9.28125 70.21875 \nz\n\" id=\"DejaVuSans-116\"/>\n     </defs>\n     <use xlink:href=\"#DejaVuSans-108\"/>\n     <use x=\"27.783203\" xlink:href=\"#DejaVuSans-101\"/>\n     <use x=\"89.306641\" xlink:href=\"#DejaVuSans-97\"/>\n     <use x=\"150.585938\" xlink:href=\"#DejaVuSans-114\"/>\n     <use x=\"189.949219\" xlink:href=\"#DejaVuSans-110\"/>\n     <use x=\"253.328125\" xlink:href=\"#DejaVuSans-105\"/>\n     <use x=\"281.111328\" xlink:href=\"#DejaVuSans-110\"/>\n     <use x=\"344.490234\" xlink:href=\"#DejaVuSans-103\"/>\n     <use x=\"407.966797\" xlink:href=\"#DejaVuSans-32\"/>\n     <use x=\"439.753906\" xlink:href=\"#DejaVuSans-114\"/>\n     <use x=\"480.867188\" xlink:href=\"#DejaVuSans-97\"/>\n     <use x=\"542.146484\" xlink:href=\"#DejaVuSans-116\"/>\n     <use x=\"581.355469\" xlink:href=\"#DejaVuSans-101\"/>\n    </g>\n   </g>\n   <g id=\"Line3DCollection_1\">\n    <path d=\"M 32.23197 173.079963 \nL 103.706445 112.568635 \nL 102.960014 25.607562 \n\" style=\"fill:none;stroke:#b0b0b0;stroke-width:0.8;\"/>\n    <path d=\"M 53.955608 180.174903 \nL 124.264627 118.544087 \nL 124.397403 31.041315 \n\" style=\"fill:none;stroke:#b0b0b0;stroke-width:0.8;\"/>\n    <path d=\"M 76.100595 187.407456 \nL 145.188308 124.625775 \nL 146.232501 36.575876 \n\" style=\"fill:none;stroke:#b0b0b0;stroke-width:0.8;\"/>\n    <path d=\"M 98.67931 194.781664 \nL 166.487323 130.816558 \nL 168.47648 42.214076 \n\" style=\"fill:none;stroke:#b0b0b0;stroke-width:0.8;\"/>\n    <path d=\"M 121.70462 202.301731 \nL 188.171862 137.119397 \nL 191.140933 47.958854 \n\" style=\"fill:none;stroke:#b0b0b0;stroke-width:0.8;\"/>\n    <path d=\"M 145.18991 209.972026 \nL 210.252488 143.537364 \nL 214.237896 53.813261 \n\" style=\"fill:none;stroke:#b0b0b0;stroke-width:0.8;\"/>\n   </g>\n   <g id=\"xtick_1\">\n    <g id=\"line2d_2\">\n     <path d=\"M 32.854341 172.553055 \nL 30.984558 174.136039 \n\" style=\"fill:none;stroke:#000000;stroke-linecap:square;stroke-width:0.8;\"/>\n    </g>\n    <g id=\"text_2\">\n     <!-- 0.0000 -->\n     <g transform=\"translate(7.2 196.392802)scale(0.1 -0.1)\">\n      <defs>\n       <path d=\"M 31.78125 66.40625 \nQ 24.171875 66.40625 20.328125 58.90625 \nQ 16.5 51.421875 16.5 36.375 \nQ 16.5 21.390625 20.328125 13.890625 \nQ 24.171875 6.390625 31.78125 6.390625 \nQ 39.453125 6.390625 43.28125 13.890625 \nQ 47.125 21.390625 47.125 36.375 \nQ 47.125 51.421875 43.28125 58.90625 \nQ 39.453125 66.40625 31.78125 66.40625 \nz\nM 31.78125 74.21875 \nQ 44.046875 74.21875 50.515625 64.515625 \nQ 56.984375 54.828125 56.984375 36.375 \nQ 56.984375 17.96875 50.515625 8.265625 \nQ 44.046875 -1.421875 31.78125 -1.421875 \nQ 19.53125 -1.421875 13.0625 8.265625 \nQ 6.59375 17.96875 6.59375 36.375 \nQ 6.59375 54.828125 13.0625 64.515625 \nQ 19.53125 74.21875 31.78125 74.21875 \nz\n\" id=\"DejaVuSans-48\"/>\n       <path d=\"M 10.6875 12.40625 \nL 21 12.40625 \nL 21 0 \nL 10.6875 0 \nz\n\" id=\"DejaVuSans-46\"/>\n      </defs>\n      <use xlink:href=\"#DejaVuSans-48\"/>\n      <use x=\"63.623047\" xlink:href=\"#DejaVuSans-46\"/>\n      <use x=\"95.410156\" xlink:href=\"#DejaVuSans-48\"/>\n      <use x=\"159.033203\" xlink:href=\"#DejaVuSans-48\"/>\n      <use x=\"222.65625\" xlink:href=\"#DejaVuSans-48\"/>\n      <use x=\"286.279297\" xlink:href=\"#DejaVuSans-48\"/>\n     </g>\n    </g>\n   </g>\n   <g id=\"xtick_2\">\n    <g id=\"line2d_3\">\n     <path d=\"M 54.568308 179.637828 \nL 52.727555 181.251379 \n\" style=\"fill:none;stroke:#000000;stroke-linecap:square;stroke-width:0.8;\"/>\n    </g>\n    <g id=\"text_3\">\n     <!-- 0.0002 -->\n     <g transform=\"translate(28.950733 203.67197)scale(0.1 -0.1)\">\n      <defs>\n       <path d=\"M 19.1875 8.296875 \nL 53.609375 8.296875 \nL 53.609375 0 \nL 7.328125 0 \nL 7.328125 8.296875 \nQ 12.9375 14.109375 22.625 23.890625 \nQ 32.328125 33.6875 34.8125 36.53125 \nQ 39.546875 41.84375 41.421875 45.53125 \nQ 43.3125 49.21875 43.3125 52.78125 \nQ 43.3125 58.59375 39.234375 62.25 \nQ 35.15625 65.921875 28.609375 65.921875 \nQ 23.96875 65.921875 18.8125 64.3125 \nQ 13.671875 62.703125 7.8125 59.421875 \nL 7.8125 69.390625 \nQ 13.765625 71.78125 18.9375 73 \nQ 24.125 74.21875 28.421875 74.21875 \nQ 39.75 74.21875 46.484375 68.546875 \nQ 53.21875 62.890625 53.21875 53.421875 \nQ 53.21875 48.921875 51.53125 44.890625 \nQ 49.859375 40.875 45.40625 35.40625 \nQ 44.1875 33.984375 37.640625 27.21875 \nQ 31.109375 20.453125 19.1875 8.296875 \nz\n\" id=\"DejaVuSans-50\"/>\n      </defs>\n      <use xlink:href=\"#DejaVuSans-48\"/>\n      <use x=\"63.623047\" xlink:href=\"#DejaVuSans-46\"/>\n      <use x=\"95.410156\" xlink:href=\"#DejaVuSans-48\"/>\n      <use x=\"159.033203\" xlink:href=\"#DejaVuSans-48\"/>\n      <use x=\"222.65625\" xlink:href=\"#DejaVuSans-48\"/>\n      <use x=\"286.279297\" xlink:href=\"#DejaVuSans-50\"/>\n     </g>\n    </g>\n   </g>\n   <g id=\"xtick_3\">\n    <g id=\"line2d_4\">\n     <path d=\"M 76.70313 186.859917 \nL 74.89289 188.504927 \n\" style=\"fill:none;stroke:#000000;stroke-linecap:square;stroke-width:0.8;\"/>\n    </g>\n    <g id=\"text_4\">\n     <!-- 0.0004 -->\n     <g transform=\"translate(51.125298 211.092977)scale(0.1 -0.1)\">\n      <defs>\n       <path d=\"M 37.796875 64.3125 \nL 12.890625 25.390625 \nL 37.796875 25.390625 \nz\nM 35.203125 72.90625 \nL 47.609375 72.90625 \nL 47.609375 25.390625 \nL 58.015625 25.390625 \nL 58.015625 17.1875 \nL 47.609375 17.1875 \nL 47.609375 0 \nL 37.796875 0 \nL 37.796875 17.1875 \nL 4.890625 17.1875 \nL 4.890625 26.703125 \nz\n\" id=\"DejaVuSans-52\"/>\n      </defs>\n      <use xlink:href=\"#DejaVuSans-48\"/>\n      <use x=\"63.623047\" xlink:href=\"#DejaVuSans-46\"/>\n      <use x=\"95.410156\" xlink:href=\"#DejaVuSans-48\"/>\n      <use x=\"159.033203\" xlink:href=\"#DejaVuSans-48\"/>\n      <use x=\"222.65625\" xlink:href=\"#DejaVuSans-48\"/>\n      <use x=\"286.279297\" xlink:href=\"#DejaVuSans-52\"/>\n     </g>\n    </g>\n   </g>\n   <g id=\"xtick_4\">\n    <g id=\"line2d_5\">\n     <path d=\"M 99.271163 194.223353 \nL 97.49299 195.900751 \n\" style=\"fill:none;stroke:#000000;stroke-linecap:square;stroke-width:0.8;\"/>\n    </g>\n    <g id=\"text_5\">\n     <!-- 0.0006 -->\n     <g transform=\"translate(73.736205 218.660013)scale(0.1 -0.1)\">\n      <defs>\n       <path d=\"M 33.015625 40.375 \nQ 26.375 40.375 22.484375 35.828125 \nQ 18.609375 31.296875 18.609375 23.390625 \nQ 18.609375 15.53125 22.484375 10.953125 \nQ 26.375 6.390625 33.015625 6.390625 \nQ 39.65625 6.390625 43.53125 10.953125 \nQ 47.40625 15.53125 47.40625 23.390625 \nQ 47.40625 31.296875 43.53125 35.828125 \nQ 39.65625 40.375 33.015625 40.375 \nz\nM 52.59375 71.296875 \nL 52.59375 62.3125 \nQ 48.875 64.0625 45.09375 64.984375 \nQ 41.3125 65.921875 37.59375 65.921875 \nQ 27.828125 65.921875 22.671875 59.328125 \nQ 17.53125 52.734375 16.796875 39.40625 \nQ 19.671875 43.65625 24.015625 45.921875 \nQ 28.375 48.1875 33.59375 48.1875 \nQ 44.578125 48.1875 50.953125 41.515625 \nQ 57.328125 34.859375 57.328125 23.390625 \nQ 57.328125 12.15625 50.6875 5.359375 \nQ 44.046875 -1.421875 33.015625 -1.421875 \nQ 20.359375 -1.421875 13.671875 8.265625 \nQ 6.984375 17.96875 6.984375 36.375 \nQ 6.984375 53.65625 15.1875 63.9375 \nQ 23.390625 74.21875 37.203125 74.21875 \nQ 40.921875 74.21875 44.703125 73.484375 \nQ 48.484375 72.75 52.59375 71.296875 \nz\n\" id=\"DejaVuSans-54\"/>\n      </defs>\n      <use xlink:href=\"#DejaVuSans-48\"/>\n      <use x=\"63.623047\" xlink:href=\"#DejaVuSans-46\"/>\n      <use x=\"95.410156\" xlink:href=\"#DejaVuSans-48\"/>\n      <use x=\"159.033203\" xlink:href=\"#DejaVuSans-48\"/>\n      <use x=\"222.65625\" xlink:href=\"#DejaVuSans-48\"/>\n      <use x=\"286.279297\" xlink:href=\"#DejaVuSans-54\"/>\n     </g>\n    </g>\n   </g>\n   <g id=\"xtick_5\">\n    <g id=\"line2d_6\">\n     <path d=\"M 122.28525 201.732326 \nL 120.540773 203.443079 \n\" style=\"fill:none;stroke:#000000;stroke-linecap:square;stroke-width:0.8;\"/>\n    </g>\n    <g id=\"text_6\">\n     <!-- 0.0008 -->\n     <g transform=\"translate(96.796461 226.377428)scale(0.1 -0.1)\">\n      <defs>\n       <path d=\"M 31.78125 34.625 \nQ 24.75 34.625 20.71875 30.859375 \nQ 16.703125 27.09375 16.703125 20.515625 \nQ 16.703125 13.921875 20.71875 10.15625 \nQ 24.75 6.390625 31.78125 6.390625 \nQ 38.8125 6.390625 42.859375 10.171875 \nQ 46.921875 13.96875 46.921875 20.515625 \nQ 46.921875 27.09375 42.890625 30.859375 \nQ 38.875 34.625 31.78125 34.625 \nz\nM 21.921875 38.8125 \nQ 15.578125 40.375 12.03125 44.71875 \nQ 8.5 49.078125 8.5 55.328125 \nQ 8.5 64.0625 14.71875 69.140625 \nQ 20.953125 74.21875 31.78125 74.21875 \nQ 42.671875 74.21875 48.875 69.140625 \nQ 55.078125 64.0625 55.078125 55.328125 \nQ 55.078125 49.078125 51.53125 44.71875 \nQ 48 40.375 41.703125 38.8125 \nQ 48.828125 37.15625 52.796875 32.3125 \nQ 56.78125 27.484375 56.78125 20.515625 \nQ 56.78125 9.90625 50.3125 4.234375 \nQ 43.84375 -1.421875 31.78125 -1.421875 \nQ 19.734375 -1.421875 13.25 4.234375 \nQ 6.78125 9.90625 6.78125 20.515625 \nQ 6.78125 27.484375 10.78125 32.3125 \nQ 14.796875 37.15625 21.921875 38.8125 \nz\nM 18.3125 54.390625 \nQ 18.3125 48.734375 21.84375 45.5625 \nQ 25.390625 42.390625 31.78125 42.390625 \nQ 38.140625 42.390625 41.71875 45.5625 \nQ 45.3125 48.734375 45.3125 54.390625 \nQ 45.3125 60.0625 41.71875 63.234375 \nQ 38.140625 66.40625 31.78125 66.40625 \nQ 25.390625 66.40625 21.84375 63.234375 \nQ 18.3125 60.0625 18.3125 54.390625 \nz\n\" id=\"DejaVuSans-56\"/>\n      </defs>\n      <use xlink:href=\"#DejaVuSans-48\"/>\n      <use x=\"63.623047\" xlink:href=\"#DejaVuSans-46\"/>\n      <use x=\"95.410156\" xlink:href=\"#DejaVuSans-48\"/>\n      <use x=\"159.033203\" xlink:href=\"#DejaVuSans-48\"/>\n      <use x=\"222.65625\" xlink:href=\"#DejaVuSans-48\"/>\n      <use x=\"286.279297\" xlink:href=\"#DejaVuSans-56\"/>\n     </g>\n    </g>\n   </g>\n   <g id=\"xtick_6\">\n    <g id=\"line2d_7\">\n     <path d=\"M 145.758746 209.391194 \nL 144.049675 211.136306 \n\" style=\"fill:none;stroke:#000000;stroke-linecap:square;stroke-width:0.8;\"/>\n    </g>\n    <g id=\"text_7\">\n     <!-- 0.0010 -->\n     <g transform=\"translate(120.319595 234.249752)scale(0.1 -0.1)\">\n      <defs>\n       <path d=\"M 12.40625 8.296875 \nL 28.515625 8.296875 \nL 28.515625 63.921875 \nL 10.984375 60.40625 \nL 10.984375 69.390625 \nL 28.421875 72.90625 \nL 38.28125 72.90625 \nL 38.28125 8.296875 \nL 54.390625 8.296875 \nL 54.390625 0 \nL 12.40625 0 \nz\n\" id=\"DejaVuSans-49\"/>\n      </defs>\n      <use xlink:href=\"#DejaVuSans-48\"/>\n      <use x=\"63.623047\" xlink:href=\"#DejaVuSans-46\"/>\n      <use x=\"95.410156\" xlink:href=\"#DejaVuSans-48\"/>\n      <use x=\"159.033203\" xlink:href=\"#DejaVuSans-48\"/>\n      <use x=\"222.65625\" xlink:href=\"#DejaVuSans-49\"/>\n      <use x=\"286.279297\" xlink:href=\"#DejaVuSans-48\"/>\n     </g>\n    </g>\n   </g>\n  </g>\n  <g id=\"axis3d_2\">\n   <g id=\"line2d_8\">\n    <path d=\"M 212.972314 144.32791 \nL 148.085513 210.91773 \n\" style=\"fill:none;stroke:#000000;stroke-linecap:square;stroke-width:0.8;\"/>\n   </g>\n   <g id=\"text_8\">\n    <!-- momentum -->\n    <g transform=\"translate(190.665511 226.879015)rotate(-45.742112)scale(0.1 -0.1)\">\n     <defs>\n      <path d=\"M 52 44.1875 \nQ 55.375 50.25 60.0625 53.125 \nQ 64.75 56 71.09375 56 \nQ 79.640625 56 84.28125 50.015625 \nQ 88.921875 44.046875 88.921875 33.015625 \nL 88.921875 0 \nL 79.890625 0 \nL 79.890625 32.71875 \nQ 79.890625 40.578125 77.09375 44.375 \nQ 74.3125 48.1875 68.609375 48.1875 \nQ 61.625 48.1875 57.5625 43.546875 \nQ 53.515625 38.921875 53.515625 30.90625 \nL 53.515625 0 \nL 44.484375 0 \nL 44.484375 32.71875 \nQ 44.484375 40.625 41.703125 44.40625 \nQ 38.921875 48.1875 33.109375 48.1875 \nQ 26.21875 48.1875 22.15625 43.53125 \nQ 18.109375 38.875 18.109375 30.90625 \nL 18.109375 0 \nL 9.078125 0 \nL 9.078125 54.6875 \nL 18.109375 54.6875 \nL 18.109375 46.1875 \nQ 21.1875 51.21875 25.484375 53.609375 \nQ 29.78125 56 35.6875 56 \nQ 41.65625 56 45.828125 52.96875 \nQ 50 49.953125 52 44.1875 \nz\n\" id=\"DejaVuSans-109\"/>\n      <path d=\"M 30.609375 48.390625 \nQ 23.390625 48.390625 19.1875 42.75 \nQ 14.984375 37.109375 14.984375 27.296875 \nQ 14.984375 17.484375 19.15625 11.84375 \nQ 23.34375 6.203125 30.609375 6.203125 \nQ 37.796875 6.203125 41.984375 11.859375 \nQ 46.1875 17.53125 46.1875 27.296875 \nQ 46.1875 37.015625 41.984375 42.703125 \nQ 37.796875 48.390625 30.609375 48.390625 \nz\nM 30.609375 56 \nQ 42.328125 56 49.015625 48.375 \nQ 55.71875 40.765625 55.71875 27.296875 \nQ 55.71875 13.875 49.015625 6.21875 \nQ 42.328125 -1.421875 30.609375 -1.421875 \nQ 18.84375 -1.421875 12.171875 6.21875 \nQ 5.515625 13.875 5.515625 27.296875 \nQ 5.515625 40.765625 12.171875 48.375 \nQ 18.84375 56 30.609375 56 \nz\n\" id=\"DejaVuSans-111\"/>\n      <path d=\"M 8.5 21.578125 \nL 8.5 54.6875 \nL 17.484375 54.6875 \nL 17.484375 21.921875 \nQ 17.484375 14.15625 20.5 10.265625 \nQ 23.53125 6.390625 29.59375 6.390625 \nQ 36.859375 6.390625 41.078125 11.03125 \nQ 45.3125 15.671875 45.3125 23.6875 \nL 45.3125 54.6875 \nL 54.296875 54.6875 \nL 54.296875 0 \nL 45.3125 0 \nL 45.3125 8.40625 \nQ 42.046875 3.421875 37.71875 1 \nQ 33.40625 -1.421875 27.6875 -1.421875 \nQ 18.265625 -1.421875 13.375 4.4375 \nQ 8.5 10.296875 8.5 21.578125 \nz\nM 31.109375 56 \nz\n\" id=\"DejaVuSans-117\"/>\n     </defs>\n     <use xlink:href=\"#DejaVuSans-109\"/>\n     <use x=\"97.412109\" xlink:href=\"#DejaVuSans-111\"/>\n     <use x=\"158.59375\" xlink:href=\"#DejaVuSans-109\"/>\n     <use x=\"256.005859\" xlink:href=\"#DejaVuSans-101\"/>\n     <use x=\"317.529297\" xlink:href=\"#DejaVuSans-110\"/>\n     <use x=\"380.908203\" xlink:href=\"#DejaVuSans-116\"/>\n     <use x=\"420.117188\" xlink:href=\"#DejaVuSans-117\"/>\n     <use x=\"483.496094\" xlink:href=\"#DejaVuSans-109\"/>\n    </g>\n   </g>\n   <g id=\"Line3DCollection_2\">\n    <path d=\"M 26.653003 75.188549 \nL 30.835207 166.926235 \nL 152.523771 206.362986 \n\" style=\"fill:none;stroke:#b0b0b0;stroke-width:0.8;\"/>\n    <path d=\"M 40.875218 64.809824 \nL 44.373168 155.578448 \nL 164.793748 193.77097 \n\" style=\"fill:none;stroke:#b0b0b0;stroke-width:0.8;\"/>\n    <path d=\"M 54.644072 54.761942 \nL 57.498091 144.576877 \nL 176.669867 181.583151 \n\" style=\"fill:none;stroke:#b0b0b0;stroke-width:0.8;\"/>\n    <path d=\"M 67.980903 45.02933 \nL 70.228593 133.905918 \nL 188.17079 169.780375 \n\" style=\"fill:none;stroke:#b0b0b0;stroke-width:0.8;\"/>\n    <path d=\"M 80.905731 35.597379 \nL 82.582191 123.550887 \nL 199.314022 158.344677 \n\" style=\"fill:none;stroke:#b0b0b0;stroke-width:0.8;\"/>\n    <path d=\"M 93.437357 26.452369 \nL 94.57538 113.497958 \nL 210.115994 147.259197 \n\" style=\"fill:none;stroke:#b0b0b0;stroke-width:0.8;\"/>\n   </g>\n   <g id=\"xtick_7\">\n    <g id=\"line2d_9\">\n     <path d=\"M 151.498294 206.03065 \nL 154.577376 207.028517 \n\" style=\"fill:none;stroke:#000000;stroke-linecap:square;stroke-width:0.8;\"/>\n    </g>\n    <g id=\"text_9\">\n     <!-- 0.90 -->\n     <g transform=\"translate(154.274162 227.387472)scale(0.1 -0.1)\">\n      <defs>\n       <path d=\"M 10.984375 1.515625 \nL 10.984375 10.5 \nQ 14.703125 8.734375 18.5 7.8125 \nQ 22.3125 6.890625 25.984375 6.890625 \nQ 35.75 6.890625 40.890625 13.453125 \nQ 46.046875 20.015625 46.78125 33.40625 \nQ 43.953125 29.203125 39.59375 26.953125 \nQ 35.25 24.703125 29.984375 24.703125 \nQ 19.046875 24.703125 12.671875 31.3125 \nQ 6.296875 37.9375 6.296875 49.421875 \nQ 6.296875 60.640625 12.9375 67.421875 \nQ 19.578125 74.21875 30.609375 74.21875 \nQ 43.265625 74.21875 49.921875 64.515625 \nQ 56.59375 54.828125 56.59375 36.375 \nQ 56.59375 19.140625 48.40625 8.859375 \nQ 40.234375 -1.421875 26.421875 -1.421875 \nQ 22.703125 -1.421875 18.890625 -0.6875 \nQ 15.09375 0.046875 10.984375 1.515625 \nz\nM 30.609375 32.421875 \nQ 37.25 32.421875 41.125 36.953125 \nQ 45.015625 41.5 45.015625 49.421875 \nQ 45.015625 57.28125 41.125 61.84375 \nQ 37.25 66.40625 30.609375 66.40625 \nQ 23.96875 66.40625 20.09375 61.84375 \nQ 16.21875 57.28125 16.21875 49.421875 \nQ 16.21875 41.5 20.09375 36.953125 \nQ 23.96875 32.421875 30.609375 32.421875 \nz\n\" id=\"DejaVuSans-57\"/>\n      </defs>\n      <use xlink:href=\"#DejaVuSans-48\"/>\n      <use x=\"63.623047\" xlink:href=\"#DejaVuSans-46\"/>\n      <use x=\"95.410156\" xlink:href=\"#DejaVuSans-57\"/>\n      <use x=\"159.033203\" xlink:href=\"#DejaVuSans-48\"/>\n     </g>\n    </g>\n   </g>\n   <g id=\"xtick_8\">\n    <g id=\"line2d_10\">\n     <path d=\"M 163.779796 193.449385 \nL 166.824234 194.414958 \n\" style=\"fill:none;stroke:#000000;stroke-linecap:square;stroke-width:0.8;\"/>\n    </g>\n    <g id=\"text_10\">\n     <!-- 0.92 -->\n     <g transform=\"translate(166.34269 214.567221)scale(0.1 -0.1)\">\n      <use xlink:href=\"#DejaVuSans-48\"/>\n      <use x=\"63.623047\" xlink:href=\"#DejaVuSans-46\"/>\n      <use x=\"95.410156\" xlink:href=\"#DejaVuSans-57\"/>\n      <use x=\"159.033203\" xlink:href=\"#DejaVuSans-50\"/>\n     </g>\n    </g>\n   </g>\n   <g id=\"xtick_9\">\n    <g id=\"line2d_11\">\n     <path d=\"M 175.667232 181.271804 \nL 178.677646 182.206624 \n\" style=\"fill:none;stroke:#000000;stroke-linecap:square;stroke-width:0.8;\"/>\n    </g>\n    <g id=\"text_11\">\n     <!-- 0.94 -->\n     <g transform=\"translate(178.023551 202.158784)scale(0.1 -0.1)\">\n      <use xlink:href=\"#DejaVuSans-48\"/>\n      <use x=\"63.623047\" xlink:href=\"#DejaVuSans-46\"/>\n      <use x=\"95.410156\" xlink:href=\"#DejaVuSans-57\"/>\n      <use x=\"159.033203\" xlink:href=\"#DejaVuSans-52\"/>\n     </g>\n    </g>\n   </g>\n   <g id=\"xtick_10\">\n    <g id=\"line2d_12\">\n     <path d=\"M 187.17927 169.478784 \nL 190.156273 170.384298 \n\" style=\"fill:none;stroke:#000000;stroke-linecap:square;stroke-width:0.8;\"/>\n    </g>\n    <g id=\"text_12\">\n     <!-- 0.96 -->\n     <g transform=\"translate(189.335127 190.142633)scale(0.1 -0.1)\">\n      <use xlink:href=\"#DejaVuSans-48\"/>\n      <use x=\"63.623047\" xlink:href=\"#DejaVuSans-46\"/>\n      <use x=\"95.410156\" xlink:href=\"#DejaVuSans-57\"/>\n      <use x=\"159.033203\" xlink:href=\"#DejaVuSans-54\"/>\n     </g>\n    </g>\n   </g>\n   <g id=\"xtick_11\">\n    <g id=\"line2d_13\">\n     <path d=\"M 198.333416 158.052392 \nL 201.277613 158.929957 \n\" style=\"fill:none;stroke:#000000;stroke-linecap:square;stroke-width:0.8;\"/>\n    </g>\n    <g id=\"text_13\">\n     <!-- 0.98 -->\n     <g transform=\"translate(200.294659 178.500455)scale(0.1 -0.1)\">\n      <use xlink:href=\"#DejaVuSans-48\"/>\n      <use x=\"63.623047\" xlink:href=\"#DejaVuSans-46\"/>\n      <use x=\"95.410156\" xlink:href=\"#DejaVuSans-57\"/>\n      <use x=\"159.033203\" xlink:href=\"#DejaVuSans-56\"/>\n     </g>\n    </g>\n   </g>\n   <g id=\"xtick_12\">\n    <g id=\"line2d_14\">\n     <path d=\"M 209.146102 146.975793 \nL 212.058092 147.826683 \n\" style=\"fill:none;stroke:#000000;stroke-linecap:square;stroke-width:0.8;\"/>\n    </g>\n    <g id=\"text_14\">\n     <!-- 1.00 -->\n     <g transform=\"translate(210.918329 167.215059)scale(0.1 -0.1)\">\n      <use xlink:href=\"#DejaVuSans-49\"/>\n      <use x=\"63.623047\" xlink:href=\"#DejaVuSans-46\"/>\n      <use x=\"95.410156\" xlink:href=\"#DejaVuSans-48\"/>\n      <use x=\"159.033203\" xlink:href=\"#DejaVuSans-48\"/>\n     </g>\n    </g>\n   </g>\n  </g>\n  <g id=\"axis3d_3\">\n   <g id=\"line2d_15\">\n    <path d=\"M 212.972314 144.32791 \nL 217.084205 54.534718 \n\" style=\"fill:none;stroke:#000000;stroke-linecap:square;stroke-width:0.8;\"/>\n   </g>\n   <g id=\"text_15\">\n    <!-- segmentation AP -->\n    <g transform=\"translate(256.107025 137.692113)rotate(-87.378092)scale(0.1 -0.1)\">\n     <defs>\n      <path d=\"M 44.28125 53.078125 \nL 44.28125 44.578125 \nQ 40.484375 46.53125 36.375 47.5 \nQ 32.28125 48.484375 27.875 48.484375 \nQ 21.1875 48.484375 17.84375 46.4375 \nQ 14.5 44.390625 14.5 40.28125 \nQ 14.5 37.15625 16.890625 35.375 \nQ 19.28125 33.59375 26.515625 31.984375 \nL 29.59375 31.296875 \nQ 39.15625 29.25 43.1875 25.515625 \nQ 47.21875 21.78125 47.21875 15.09375 \nQ 47.21875 7.46875 41.1875 3.015625 \nQ 35.15625 -1.421875 24.609375 -1.421875 \nQ 20.21875 -1.421875 15.453125 -0.5625 \nQ 10.6875 0.296875 5.421875 2 \nL 5.421875 11.28125 \nQ 10.40625 8.6875 15.234375 7.390625 \nQ 20.0625 6.109375 24.8125 6.109375 \nQ 31.15625 6.109375 34.5625 8.28125 \nQ 37.984375 10.453125 37.984375 14.40625 \nQ 37.984375 18.0625 35.515625 20.015625 \nQ 33.0625 21.96875 24.703125 23.78125 \nL 21.578125 24.515625 \nQ 13.234375 26.265625 9.515625 29.90625 \nQ 5.8125 33.546875 5.8125 39.890625 \nQ 5.8125 47.609375 11.28125 51.796875 \nQ 16.75 56 26.8125 56 \nQ 31.78125 56 36.171875 55.265625 \nQ 40.578125 54.546875 44.28125 53.078125 \nz\n\" id=\"DejaVuSans-115\"/>\n      <path d=\"M 34.1875 63.1875 \nL 20.796875 26.90625 \nL 47.609375 26.90625 \nz\nM 28.609375 72.90625 \nL 39.796875 72.90625 \nL 67.578125 0 \nL 57.328125 0 \nL 50.6875 18.703125 \nL 17.828125 18.703125 \nL 11.1875 0 \nL 0.78125 0 \nz\n\" id=\"DejaVuSans-65\"/>\n      <path d=\"M 19.671875 64.796875 \nL 19.671875 37.40625 \nL 32.078125 37.40625 \nQ 38.96875 37.40625 42.71875 40.96875 \nQ 46.484375 44.53125 46.484375 51.125 \nQ 46.484375 57.671875 42.71875 61.234375 \nQ 38.96875 64.796875 32.078125 64.796875 \nz\nM 9.8125 72.90625 \nL 32.078125 72.90625 \nQ 44.34375 72.90625 50.609375 67.359375 \nQ 56.890625 61.8125 56.890625 51.125 \nQ 56.890625 40.328125 50.609375 34.8125 \nQ 44.34375 29.296875 32.078125 29.296875 \nL 19.671875 29.296875 \nL 19.671875 0 \nL 9.8125 0 \nz\n\" id=\"DejaVuSans-80\"/>\n     </defs>\n     <use xlink:href=\"#DejaVuSans-115\"/>\n     <use x=\"52.099609\" xlink:href=\"#DejaVuSans-101\"/>\n     <use x=\"113.623047\" xlink:href=\"#DejaVuSans-103\"/>\n     <use x=\"177.099609\" xlink:href=\"#DejaVuSans-109\"/>\n     <use x=\"274.511719\" xlink:href=\"#DejaVuSans-101\"/>\n     <use x=\"336.035156\" xlink:href=\"#DejaVuSans-110\"/>\n     <use x=\"399.414062\" xlink:href=\"#DejaVuSans-116\"/>\n     <use x=\"438.623047\" xlink:href=\"#DejaVuSans-97\"/>\n     <use x=\"499.902344\" xlink:href=\"#DejaVuSans-116\"/>\n     <use x=\"539.111328\" xlink:href=\"#DejaVuSans-105\"/>\n     <use x=\"566.894531\" xlink:href=\"#DejaVuSans-111\"/>\n     <use x=\"628.076172\" xlink:href=\"#DejaVuSans-110\"/>\n     <use x=\"691.455078\" xlink:href=\"#DejaVuSans-32\"/>\n     <use x=\"723.242188\" xlink:href=\"#DejaVuSans-65\"/>\n     <use x=\"791.650391\" xlink:href=\"#DejaVuSans-80\"/>\n    </g>\n   </g>\n   <g id=\"Line3DCollection_3\">\n    <path d=\"M 213.155408 140.329619 \nL 97.705107 106.964265 \nL 25.746715 166.932563 \n\" style=\"fill:none;stroke:#b0b0b0;stroke-width:0.8;\"/>\n    <path d=\"M 213.787687 126.52226 \nL 97.551375 93.595303 \nL 25.065708 152.790997 \n\" style=\"fill:none;stroke:#b0b0b0;stroke-width:0.8;\"/>\n    <path d=\"M 214.428719 112.523743 \nL 97.395616 80.050115 \nL 24.374911 138.446161 \n\" style=\"fill:none;stroke:#b0b0b0;stroke-width:0.8;\"/>\n    <path d=\"M 215.078689 98.330071 \nL 97.23779 66.325195 \nL 23.674114 123.893642 \n\" style=\"fill:none;stroke:#b0b0b0;stroke-width:0.8;\"/>\n    <path d=\"M 215.737783 83.937133 \nL 97.077856 52.416941 \nL 22.963096 109.128896 \n\" style=\"fill:none;stroke:#b0b0b0;stroke-width:0.8;\"/>\n    <path d=\"M 216.406196 69.340705 \nL 96.915772 38.321655 \nL 22.241633 94.147247 \n\" style=\"fill:none;stroke:#b0b0b0;stroke-width:0.8;\"/>\n   </g>\n   <g id=\"xtick_13\">\n    <g id=\"line2d_16\">\n     <path d=\"M 212.186371 140.049566 \nL 215.09579 140.890393 \n\" style=\"fill:none;stroke:#000000;stroke-linecap:square;stroke-width:0.8;\"/>\n    </g>\n    <g id=\"text_16\">\n     <!-- 76 -->\n     <g transform=\"translate(225.064878 145.334323)scale(0.1 -0.1)\">\n      <defs>\n       <path d=\"M 8.203125 72.90625 \nL 55.078125 72.90625 \nL 55.078125 68.703125 \nL 28.609375 0 \nL 18.3125 0 \nL 43.21875 64.59375 \nL 8.203125 64.59375 \nz\n\" id=\"DejaVuSans-55\"/>\n      </defs>\n      <use xlink:href=\"#DejaVuSans-55\"/>\n      <use x=\"63.623047\" xlink:href=\"#DejaVuSans-54\"/>\n     </g>\n    </g>\n   </g>\n   <g id=\"xtick_14\">\n    <g id=\"line2d_17\">\n     <path d=\"M 212.811738 126.245797 \nL 215.741925 127.075849 \n\" style=\"fill:none;stroke:#000000;stroke-linecap:square;stroke-width:0.8;\"/>\n    </g>\n    <g id=\"text_17\">\n     <!-- 78 -->\n     <g transform=\"translate(225.819969 131.560277)scale(0.1 -0.1)\">\n      <use xlink:href=\"#DejaVuSans-55\"/>\n      <use x=\"63.623047\" xlink:href=\"#DejaVuSans-56\"/>\n     </g>\n    </g>\n   </g>\n   <g id=\"xtick_15\">\n    <g id=\"line2d_18\">\n     <path d=\"M 213.44576 112.250998 \nL 216.397013 113.069893 \n\" style=\"fill:none;stroke:#000000;stroke-linecap:square;stroke-width:0.8;\"/>\n    </g>\n    <g id=\"text_18\">\n     <!-- 80 -->\n     <g transform=\"translate(226.585474 117.596244)scale(0.1 -0.1)\">\n      <use xlink:href=\"#DejaVuSans-56\"/>\n      <use x=\"63.623047\" xlink:href=\"#DejaVuSans-48\"/>\n     </g>\n    </g>\n   </g>\n   <g id=\"xtick_16\">\n    <g id=\"line2d_19\">\n     <path d=\"M 214.088617 98.061174 \nL 217.06124 98.86852 \n\" style=\"fill:none;stroke:#000000;stroke-linecap:square;stroke-width:0.8;\"/>\n    </g>\n    <g id=\"text_19\">\n     <!-- 82 -->\n     <g transform=\"translate(227.361611 103.438267)scale(0.1 -0.1)\">\n      <use xlink:href=\"#DejaVuSans-56\"/>\n      <use x=\"63.623047\" xlink:href=\"#DejaVuSans-50\"/>\n     </g>\n    </g>\n   </g>\n   <g id=\"xtick_17\">\n    <g id=\"line2d_20\">\n     <path d=\"M 214.740496 83.672219 \nL 217.734801 84.467611 \n\" style=\"fill:none;stroke:#000000;stroke-linecap:square;stroke-width:0.8;\"/>\n    </g>\n    <g id=\"text_20\">\n     <!-- 84 -->\n     <g transform=\"translate(228.148604 89.082277)scale(0.1 -0.1)\">\n      <use xlink:href=\"#DejaVuSans-56\"/>\n      <use x=\"63.623047\" xlink:href=\"#DejaVuSans-52\"/>\n     </g>\n    </g>\n   </g>\n   <g id=\"xtick_18\">\n    <g id=\"line2d_21\">\n     <path d=\"M 215.401587 69.079914 \nL 218.417892 69.86293 \n\" style=\"fill:none;stroke:#000000;stroke-linecap:square;stroke-width:0.8;\"/>\n    </g>\n    <g id=\"text_21\">\n     <!-- 86 -->\n     <g transform=\"translate(228.94668 74.52409)scale(0.1 -0.1)\">\n      <use xlink:href=\"#DejaVuSans-56\"/>\n      <use x=\"63.623047\" xlink:href=\"#DejaVuSans-54\"/>\n     </g>\n    </g>\n   </g>\n  </g>\n  <g id=\"axes_1\">\n   <g id=\"Path3DCollection_1\">\n    <defs>\n     <path d=\"M 0 2.236068 \nC 0.593012 2.236068 1.161816 2.000462 1.581139 1.581139 \nC 2.000462 1.161816 2.236068 0.593012 2.236068 -0 \nC 2.236068 -0.593012 2.000462 -1.161816 1.581139 -1.581139 \nC 1.161816 -2.000462 0.593012 -2.236068 0 -2.236068 \nC -0.593012 -2.236068 -1.161816 -2.000462 -1.581139 -1.581139 \nC -2.000462 -1.161816 -2.236068 -0.593012 -2.236068 0 \nC -2.236068 0.593012 -2.000462 1.161816 -1.581139 1.581139 \nC -1.161816 2.000462 -0.593012 2.236068 0 2.236068 \nz\n\" id=\"C0_0_fd6a3d62db\"/>\n    </defs>\n    <g clip-path=\"url(#p583c4d6bee)\">\n     <use style=\"fill:#ff0000;fill-opacity:0.3;stroke:#ff0000;stroke-opacity:0.3;\" x=\"105.999471\" xlink:href=\"#C0_0_fd6a3d62db\" y=\"79.73059\"/>\n    </g>\n    <g clip-path=\"url(#p583c4d6bee)\">\n     <use style=\"fill:#ff0000;fill-opacity:0.432613;stroke:#ff0000;stroke-opacity:0.432613;\" x=\"99.273518\" xlink:href=\"#C0_0_fd6a3d62db\" y=\"43.216591\"/>\n    </g>\n    <g clip-path=\"url(#p583c4d6bee)\">\n     <use style=\"fill:#ff0000;fill-opacity:0.434452;stroke:#ff0000;stroke-opacity:0.434452;\" x=\"130.390249\" xlink:href=\"#C0_0_fd6a3d62db\" y=\"102.512426\"/>\n    </g>\n    <g clip-path=\"url(#p583c4d6bee)\">\n     <use style=\"fill:#ff0000;fill-opacity:0.439571;stroke:#ff0000;stroke-opacity:0.439571;\" x=\"93.916524\" xlink:href=\"#C0_0_fd6a3d62db\" y=\"52.647757\"/>\n    </g>\n    <g clip-path=\"url(#p583c4d6bee)\">\n     <use style=\"fill:#ff0000;fill-opacity:0.493431;stroke:#ff0000;stroke-opacity:0.493431;\" x=\"105.781776\" xlink:href=\"#C0_0_fd6a3d62db\" y=\"46.324886\"/>\n    </g>\n    <g clip-path=\"url(#p583c4d6bee)\">\n     <use style=\"fill:#ff0000;fill-opacity:0.4999;stroke:#ff0000;stroke-opacity:0.4999;\" x=\"101.376728\" xlink:href=\"#C0_0_fd6a3d62db\" y=\"50.582471\"/>\n    </g>\n    <g clip-path=\"url(#p583c4d6bee)\">\n     <use style=\"fill:#ff0000;fill-opacity:0.502432;stroke:#ff0000;stroke-opacity:0.502432;\" x=\"105.386457\" xlink:href=\"#C0_0_fd6a3d62db\" y=\"62.994407\"/>\n    </g>\n    <g clip-path=\"url(#p583c4d6bee)\">\n     <use style=\"fill:#ff0000;fill-opacity:0.533263;stroke:#ff0000;stroke-opacity:0.533263;\" x=\"167.720657\" xlink:href=\"#C0_0_fd6a3d62db\" y=\"108.340894\"/>\n    </g>\n    <g clip-path=\"url(#p583c4d6bee)\">\n     <use style=\"fill:#ff0000;fill-opacity:0.53459;stroke:#ff0000;stroke-opacity:0.53459;\" x=\"96.908167\" xlink:href=\"#C0_0_fd6a3d62db\" y=\"55.849801\"/>\n    </g>\n    <g clip-path=\"url(#p583c4d6bee)\">\n     <use style=\"fill:#ff0000;fill-opacity:0.562854;stroke:#ff0000;stroke-opacity:0.562854;\" x=\"147.503614\" xlink:href=\"#C0_0_fd6a3d62db\" y=\"71.927437\"/>\n    </g>\n    <g clip-path=\"url(#p583c4d6bee)\">\n     <use style=\"fill:#ff0000;fill-opacity:0.580533;stroke:#ff0000;stroke-opacity:0.580533;\" x=\"173.631112\" xlink:href=\"#C0_0_fd6a3d62db\" y=\"103.753282\"/>\n    </g>\n    <g clip-path=\"url(#p583c4d6bee)\">\n     <use style=\"fill:#ff0000;fill-opacity:0.586476;stroke:#ff0000;stroke-opacity:0.586476;\" x=\"183.342613\" xlink:href=\"#C0_0_fd6a3d62db\" y=\"154.350944\"/>\n    </g>\n    <g clip-path=\"url(#p583c4d6bee)\">\n     <use style=\"fill:#ff0000;fill-opacity:0.613661;stroke:#ff0000;stroke-opacity:0.613661;\" x=\"110.014537\" xlink:href=\"#C0_0_fd6a3d62db\" y=\"61.768325\"/>\n    </g>\n    <g clip-path=\"url(#p583c4d6bee)\">\n     <use style=\"fill:#ff0000;fill-opacity:0.622214;stroke:#ff0000;stroke-opacity:0.622214;\" x=\"97.960931\" xlink:href=\"#C0_0_fd6a3d62db\" y=\"58.841123\"/>\n    </g>\n    <g clip-path=\"url(#p583c4d6bee)\">\n     <use style=\"fill:#ff0000;fill-opacity:0.633171;stroke:#ff0000;stroke-opacity:0.633171;\" x=\"179.272231\" xlink:href=\"#C0_0_fd6a3d62db\" y=\"96.586634\"/>\n    </g>\n    <g clip-path=\"url(#p583c4d6bee)\">\n     <use style=\"fill:#ff0000;fill-opacity:0.660755;stroke:#ff0000;stroke-opacity:0.660755;\" x=\"124.179359\" xlink:href=\"#C0_0_fd6a3d62db\" y=\"70.545774\"/>\n    </g>\n    <g clip-path=\"url(#p583c4d6bee)\">\n     <use style=\"fill:#ff0000;fill-opacity:0.663475;stroke:#ff0000;stroke-opacity:0.663475;\" x=\"58.915801\" xlink:href=\"#C0_0_fd6a3d62db\" y=\"94.69552\"/>\n    </g>\n    <g clip-path=\"url(#p583c4d6bee)\">\n     <use style=\"fill:#ff0000;fill-opacity:0.742347;stroke:#ff0000;stroke-opacity:0.742347;\" x=\"53.401859\" xlink:href=\"#C0_0_fd6a3d62db\" y=\"92.620386\"/>\n    </g>\n    <g clip-path=\"url(#p583c4d6bee)\">\n     <use style=\"fill:#ff0000;fill-opacity:0.815054;stroke:#ff0000;stroke-opacity:0.815054;\" x=\"154.622406\" xlink:href=\"#C0_0_fd6a3d62db\" y=\"101.55838\"/>\n    </g>\n    <g clip-path=\"url(#p583c4d6bee)\">\n     <use style=\"fill:#ff0000;fill-opacity:0.817015;stroke:#ff0000;stroke-opacity:0.817015;\" x=\"58.373289\" xlink:href=\"#C0_0_fd6a3d62db\" y=\"86.963871\"/>\n    </g>\n    <g clip-path=\"url(#p583c4d6bee)\">\n     <use style=\"fill:#ff0000;fill-opacity:0.818979;stroke:#ff0000;stroke-opacity:0.818979;\" x=\"63.605353\" xlink:href=\"#C0_0_fd6a3d62db\" y=\"82.159459\"/>\n    </g>\n    <g clip-path=\"url(#p583c4d6bee)\">\n     <use style=\"fill:#ff0000;fill-opacity:0.869829;stroke:#ff0000;stroke-opacity:0.869829;\" x=\"180.344039\" xlink:href=\"#C0_0_fd6a3d62db\" y=\"106.346414\"/>\n    </g>\n    <g clip-path=\"url(#p583c4d6bee)\">\n     <use style=\"fill:#ff0000;fill-opacity:0.886451;stroke:#ff0000;stroke-opacity:0.886451;\" x=\"81.007759\" xlink:href=\"#C0_0_fd6a3d62db\" y=\"87.334868\"/>\n    </g>\n    <g clip-path=\"url(#p583c4d6bee)\">\n     <use style=\"fill:#ff0000;fill-opacity:0.887765;stroke:#ff0000;stroke-opacity:0.887765;\" x=\"134.008483\" xlink:href=\"#C0_0_fd6a3d62db\" y=\"103.275891\"/>\n    </g>\n    <g clip-path=\"url(#p583c4d6bee)\">\n     <use style=\"fill:#ff0000;fill-opacity:0.898658;stroke:#ff0000;stroke-opacity:0.898658;\" x=\"38.632942\" xlink:href=\"#C0_0_fd6a3d62db\" y=\"102.116645\"/>\n    </g>\n    <g clip-path=\"url(#p583c4d6bee)\">\n     <use style=\"fill:#ff0000;fill-opacity:0.92045;stroke:#ff0000;stroke-opacity:0.92045;\" x=\"46.428035\" xlink:href=\"#C0_0_fd6a3d62db\" y=\"100.956167\"/>\n    </g>\n    <g clip-path=\"url(#p583c4d6bee)\">\n     <use style=\"fill:#ff0000;fill-opacity:0.931365;stroke:#ff0000;stroke-opacity:0.931365;\" x=\"91.856718\" xlink:href=\"#C0_0_fd6a3d62db\" y=\"92.700598\"/>\n    </g>\n    <g clip-path=\"url(#p583c4d6bee)\">\n     <use style=\"fill:#ff0000;fill-opacity:0.933623;stroke:#ff0000;stroke-opacity:0.933623;\" x=\"151.618016\" xlink:href=\"#C0_0_fd6a3d62db\" y=\"103.923056\"/>\n    </g>\n    <g clip-path=\"url(#p583c4d6bee)\">\n     <use style=\"fill:#ff0000;fill-opacity:0.957731;stroke:#ff0000;stroke-opacity:0.957731;\" x=\"73.595887\" xlink:href=\"#C0_0_fd6a3d62db\" y=\"104.889485\"/>\n    </g>\n    <g clip-path=\"url(#p583c4d6bee)\">\n     <use style=\"fill:#ff0000;stroke:#ff0000;\" x=\"77.02139\" xlink:href=\"#C0_0_fd6a3d62db\" y=\"88.036542\"/>\n    </g>\n   </g>\n   <g id=\"Path3DCollection_2\">\n    <path clip-path=\"url(#p583c4d6bee)\" d=\"M 105.999471 77.494522 \nL 103.763403 81.966658 \nL 108.235539 81.966658 \nz\n\" style=\"fill:#0000ff;fill-opacity:0.3;stroke:#0000ff;stroke-opacity:0.3;\"/>\n    <path clip-path=\"url(#p583c4d6bee)\" d=\"M 99.273518 40.980523 \nL 97.03745 45.452659 \nL 101.509586 45.452659 \nz\n\" style=\"fill:#0000ff;fill-opacity:0.432613;stroke:#0000ff;stroke-opacity:0.432613;\"/>\n    <path clip-path=\"url(#p583c4d6bee)\" d=\"M 130.390249 100.276358 \nL 128.154181 104.748494 \nL 132.626317 104.748494 \nz\n\" style=\"fill:#0000ff;fill-opacity:0.434452;stroke:#0000ff;stroke-opacity:0.434452;\"/>\n    <path clip-path=\"url(#p583c4d6bee)\" d=\"M 93.916524 50.411689 \nL 91.680456 54.883825 \nL 96.152592 54.883825 \nz\n\" style=\"fill:#0000ff;fill-opacity:0.439571;stroke:#0000ff;stroke-opacity:0.439571;\"/>\n    <path clip-path=\"url(#p583c4d6bee)\" d=\"M 105.781776 44.088818 \nL 103.545708 48.560954 \nL 108.017844 48.560954 \nz\n\" style=\"fill:#0000ff;fill-opacity:0.493431;stroke:#0000ff;stroke-opacity:0.493431;\"/>\n    <path clip-path=\"url(#p583c4d6bee)\" d=\"M 101.376728 48.346403 \nL 99.14066 52.818539 \nL 103.612796 52.818539 \nz\n\" style=\"fill:#0000ff;fill-opacity:0.4999;stroke:#0000ff;stroke-opacity:0.4999;\"/>\n    <path clip-path=\"url(#p583c4d6bee)\" d=\"M 105.386457 60.758339 \nL 103.150389 65.230475 \nL 107.622525 65.230475 \nz\n\" style=\"fill:#0000ff;fill-opacity:0.502432;stroke:#0000ff;stroke-opacity:0.502432;\"/>\n    <path clip-path=\"url(#p583c4d6bee)\" d=\"M 167.720657 106.104826 \nL 165.484589 110.576962 \nL 169.956725 110.576962 \nz\n\" style=\"fill:#0000ff;fill-opacity:0.533263;stroke:#0000ff;stroke-opacity:0.533263;\"/>\n    <path clip-path=\"url(#p583c4d6bee)\" d=\"M 96.908167 53.613733 \nL 94.672099 58.085869 \nL 99.144235 58.085869 \nz\n\" style=\"fill:#0000ff;fill-opacity:0.53459;stroke:#0000ff;stroke-opacity:0.53459;\"/>\n    <path clip-path=\"url(#p583c4d6bee)\" d=\"M 147.503614 69.691369 \nL 145.267546 74.163505 \nL 149.739682 74.163505 \nz\n\" style=\"fill:#0000ff;fill-opacity:0.562854;stroke:#0000ff;stroke-opacity:0.562854;\"/>\n    <path clip-path=\"url(#p583c4d6bee)\" d=\"M 173.631112 101.517215 \nL 171.395044 105.98935 \nL 175.86718 105.98935 \nz\n\" style=\"fill:#0000ff;fill-opacity:0.580533;stroke:#0000ff;stroke-opacity:0.580533;\"/>\n    <path clip-path=\"url(#p583c4d6bee)\" d=\"M 183.342613 152.114876 \nL 181.106546 156.587012 \nL 185.578681 156.587012 \nz\n\" style=\"fill:#0000ff;fill-opacity:0.586476;stroke:#0000ff;stroke-opacity:0.586476;\"/>\n    <path clip-path=\"url(#p583c4d6bee)\" d=\"M 110.014537 59.532257 \nL 107.778469 64.004393 \nL 112.250605 64.004393 \nz\n\" style=\"fill:#0000ff;fill-opacity:0.613661;stroke:#0000ff;stroke-opacity:0.613661;\"/>\n    <path clip-path=\"url(#p583c4d6bee)\" d=\"M 97.960931 56.605055 \nL 95.724863 61.077191 \nL 100.196999 61.077191 \nz\n\" style=\"fill:#0000ff;fill-opacity:0.622214;stroke:#0000ff;stroke-opacity:0.622214;\"/>\n    <path clip-path=\"url(#p583c4d6bee)\" d=\"M 179.272231 94.350566 \nL 177.036163 98.822702 \nL 181.508299 98.822702 \nz\n\" style=\"fill:#0000ff;fill-opacity:0.633171;stroke:#0000ff;stroke-opacity:0.633171;\"/>\n    <path clip-path=\"url(#p583c4d6bee)\" d=\"M 124.179359 68.309706 \nL 121.943291 72.781842 \nL 126.415427 72.781842 \nz\n\" style=\"fill:#0000ff;fill-opacity:0.660755;stroke:#0000ff;stroke-opacity:0.660755;\"/>\n    <path clip-path=\"url(#p583c4d6bee)\" d=\"M 58.915801 92.459452 \nL 56.679733 96.931588 \nL 61.151869 96.931588 \nz\n\" style=\"fill:#0000ff;fill-opacity:0.663475;stroke:#0000ff;stroke-opacity:0.663475;\"/>\n    <path clip-path=\"url(#p583c4d6bee)\" d=\"M 53.401859 90.384318 \nL 51.165791 94.856453 \nL 55.637927 94.856453 \nz\n\" style=\"fill:#0000ff;fill-opacity:0.742347;stroke:#0000ff;stroke-opacity:0.742347;\"/>\n    <path clip-path=\"url(#p583c4d6bee)\" d=\"M 154.622406 99.322312 \nL 152.386338 103.794448 \nL 156.858474 103.794448 \nz\n\" style=\"fill:#0000ff;fill-opacity:0.815054;stroke:#0000ff;stroke-opacity:0.815054;\"/>\n    <path clip-path=\"url(#p583c4d6bee)\" d=\"M 58.373289 84.727803 \nL 56.137221 89.199939 \nL 60.609357 89.199939 \nz\n\" style=\"fill:#0000ff;fill-opacity:0.817015;stroke:#0000ff;stroke-opacity:0.817015;\"/>\n    <path clip-path=\"url(#p583c4d6bee)\" d=\"M 63.605353 79.923391 \nL 61.369285 84.395527 \nL 65.841421 84.395527 \nz\n\" style=\"fill:#0000ff;fill-opacity:0.818979;stroke:#0000ff;stroke-opacity:0.818979;\"/>\n    <path clip-path=\"url(#p583c4d6bee)\" d=\"M 180.344039 104.110346 \nL 178.107971 108.582482 \nL 182.580107 108.582482 \nz\n\" style=\"fill:#0000ff;fill-opacity:0.869829;stroke:#0000ff;stroke-opacity:0.869829;\"/>\n    <path clip-path=\"url(#p583c4d6bee)\" d=\"M 81.007759 85.0988 \nL 78.771691 89.570936 \nL 83.243827 89.570936 \nz\n\" style=\"fill:#0000ff;fill-opacity:0.886451;stroke:#0000ff;stroke-opacity:0.886451;\"/>\n    <path clip-path=\"url(#p583c4d6bee)\" d=\"M 134.008483 101.039823 \nL 131.772415 105.511959 \nL 136.244551 105.511959 \nz\n\" style=\"fill:#0000ff;fill-opacity:0.887765;stroke:#0000ff;stroke-opacity:0.887765;\"/>\n    <path clip-path=\"url(#p583c4d6bee)\" d=\"M 38.632942 99.880577 \nL 36.396874 104.352713 \nL 40.86901 104.352713 \nz\n\" style=\"fill:#0000ff;fill-opacity:0.898658;stroke:#0000ff;stroke-opacity:0.898658;\"/>\n    <path clip-path=\"url(#p583c4d6bee)\" d=\"M 46.428035 98.720099 \nL 44.191967 103.192235 \nL 48.664103 103.192235 \nz\n\" style=\"fill:#0000ff;fill-opacity:0.92045;stroke:#0000ff;stroke-opacity:0.92045;\"/>\n    <path clip-path=\"url(#p583c4d6bee)\" d=\"M 91.856718 90.46453 \nL 89.62065 94.936666 \nL 94.092786 94.936666 \nz\n\" style=\"fill:#0000ff;fill-opacity:0.931365;stroke:#0000ff;stroke-opacity:0.931365;\"/>\n    <path clip-path=\"url(#p583c4d6bee)\" d=\"M 151.618016 101.686988 \nL 149.381948 106.159124 \nL 153.854084 106.159124 \nz\n\" style=\"fill:#0000ff;fill-opacity:0.933623;stroke:#0000ff;stroke-opacity:0.933623;\"/>\n    <path clip-path=\"url(#p583c4d6bee)\" d=\"M 73.595887 102.653417 \nL 71.359819 107.125553 \nL 75.831955 107.125553 \nz\n\" style=\"fill:#0000ff;fill-opacity:0.957731;stroke:#0000ff;stroke-opacity:0.957731;\"/>\n    <path clip-path=\"url(#p583c4d6bee)\" d=\"M 77.02139 85.800474 \nL 74.785322 90.27261 \nL 79.257458 90.27261 \nz\n\" style=\"fill:#0000ff;stroke:#0000ff;\"/>\n   </g>\n  </g>\n </g>\n <defs>\n  <clipPath id=\"p583c4d6bee\">\n   <rect height=\"217.44\" width=\"217.44\" x=\"9.525634\" y=\"7.2\"/>\n  </clipPath>\n </defs>\n</svg>\n",
      "image/png": "[encoded data removed]"
     },
     "metadata": {
      "needs_background": "light"
     }
    }
   ],
   "source": [
    "fig = plt.figure()\n",
    "ax = fig.add_subplot(111, projection='3d')\n",
    "\n",
    "n = 100\n",
    "# For each set of style and range settings, plot n random points in the box\n",
    "# defined by x in [23, 32], y in [0, 100], z in [zlow, zhigh].\n",
    "for c, m, zlow, zhigh in [('r', 'o', -50, -25), ('b', '^', -30, -5)]:\n",
    "    xs = randrange(n, 23, 32)\n",
    "    ys = randrange(n, 0, 100)\n",
    "    zs = randrange(n, zlow, zhigh)\n",
    "    ax.scatter(x, y, z, c=z, marker=m)\n",
    "\n",
    "ax.set_xlabel('learning rate')\n",
    "ax.set_ylabel('momentum')\n",
    "ax.set_zlabel('segmentation AP')\n",
    "\n",
    "plt.show()"
   ]
  },
  {
   "cell_type": "code",
   "execution_count": null,
   "metadata": {},
   "outputs": [],
   "source": []
  }
 ],
 "metadata": {
  "language_info": {
   "codemirror_mode": {
    "name": "ipython",
    "version": 3
   },
   "file_extension": ".py",
   "mimetype": "text/x-python",
   "name": "python",
   "nbconvert_exporter": "python",
   "pygments_lexer": "ipython3",
   "version": 3
  },
  "orig_nbformat": 2,
  "kernelspec": {
   "name": "python_defaultSpec_1612047606237",
   "display_name": "Python 3.6.10 64-bit ('d2': conda)"
  }
 },
 "nbformat": 4,
 "nbformat_minor": 2
}