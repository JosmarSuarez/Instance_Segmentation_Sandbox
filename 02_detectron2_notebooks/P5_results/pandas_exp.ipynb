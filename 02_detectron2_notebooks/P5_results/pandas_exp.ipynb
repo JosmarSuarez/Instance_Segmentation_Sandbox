{
 "cells": [
  {
   "cell_type": "code",
   "execution_count": 1,
   "metadata": {},
   "outputs": [],
   "source": [
    "import pandas as pd\n",
    "\n",
    "my_dict = {\"bbox/AP\": 94.2903683094904, \"bbox/AP50\": 98.98667450189714, \"bbox/AP75\": 98.69820295885981, \"bbox/APl\": 95.84667940250075, \"bbox/APm\": 76.42330696392958, \"bbox/APs\": 35.362140580750456, \"iteration\": 6000, \"segm/AP\": 87.82606460471648, \"segm/AP50\": 98.99017079911181, \"segm/AP75\": 97.9859531488177, \"segm/APl\": 89.22457258638195, \"segm/APm\": 66.80171753185519, \"segm/APs\": 27.88324825135563}\n",
    "df = pd.DataFrame(list(my_dict.items()),columns = ['metric','value']) "
   ]
  },
  {
   "cell_type": "code",
   "execution_count": 3,
   "metadata": {},
   "outputs": [
    {
     "output_type": "execute_result",
     "data": {
      "text/plain": "       metric        value\n0     bbox/AP    94.290368\n1   bbox/AP50    98.986675\n2   bbox/AP75    98.698203\n3    bbox/APl    95.846679\n4    bbox/APm    76.423307\n5    bbox/APs    35.362141\n6   iteration  6000.000000\n7     segm/AP    87.826065\n8   segm/AP50    98.990171\n9   segm/AP75    97.985953\n10   segm/APl    89.224573\n11   segm/APm    66.801718\n12   segm/APs    27.883248",
      "text/html": "<div>\n<style scoped>\n    .dataframe tbody tr th:only-of-type {\n        vertical-align: middle;\n    }\n\n    .dataframe tbody tr th {\n        vertical-align: top;\n    }\n\n    .dataframe thead th {\n        text-align: right;\n    }\n</style>\n<table border=\"1\" class=\"dataframe\">\n  <thead>\n    <tr style=\"text-align: right;\">\n      <th></th>\n      <th>metric</th>\n      <th>value</th>\n    </tr>\n  </thead>\n  <tbody>\n    <tr>\n      <th>0</th>\n      <td>bbox/AP</td>\n      <td>94.290368</td>\n    </tr>\n    <tr>\n      <th>1</th>\n      <td>bbox/AP50</td>\n      <td>98.986675</td>\n    </tr>\n    <tr>\n      <th>2</th>\n      <td>bbox/AP75</td>\n      <td>98.698203</td>\n    </tr>\n    <tr>\n      <th>3</th>\n      <td>bbox/APl</td>\n      <td>95.846679</td>\n    </tr>\n    <tr>\n      <th>4</th>\n      <td>bbox/APm</td>\n      <td>76.423307</td>\n    </tr>\n    <tr>\n      <th>5</th>\n      <td>bbox/APs</td>\n      <td>35.362141</td>\n    </tr>\n    <tr>\n      <th>6</th>\n      <td>iteration</td>\n      <td>6000.000000</td>\n    </tr>\n    <tr>\n      <th>7</th>\n      <td>segm/AP</td>\n      <td>87.826065</td>\n    </tr>\n    <tr>\n      <th>8</th>\n      <td>segm/AP50</td>\n      <td>98.990171</td>\n    </tr>\n    <tr>\n      <th>9</th>\n      <td>segm/AP75</td>\n      <td>97.985953</td>\n    </tr>\n    <tr>\n      <th>10</th>\n      <td>segm/APl</td>\n      <td>89.224573</td>\n    </tr>\n    <tr>\n      <th>11</th>\n      <td>segm/APm</td>\n      <td>66.801718</td>\n    </tr>\n    <tr>\n      <th>12</th>\n      <td>segm/APs</td>\n      <td>27.883248</td>\n    </tr>\n  </tbody>\n</table>\n</div>"
     },
     "metadata": {},
     "execution_count": 3
    }
   ],
   "source": [
    "df"
   ]
  },
  {
   "cell_type": "code",
   "execution_count": 2,
   "metadata": {},
   "outputs": [],
   "source": [
    "yolact = {\"elapsed\": 35.66419434547424, \"epoch\": 17, \"iter\": 60000, \"box\": {\"all\": 78.57, \"50\": 97.64, \"55\": 96.73, \"60\": 96.7, \"65\": 95.69, \"70\": 94.52, \"75\": 91.14, \"80\": 84.71, \"85\": 72.4, \"90\": 47.71, \"95\": 8.44}, \"mask\": {\"all\": 90.73, \"50\": 97.77, \"55\": 97.76, \"60\": 97.74, \"65\": 97.73, \"70\": 97.71, \"75\": 97.69, \"80\": 96.74, \"85\": 95.43, \"90\": 90.77, \"95\": 37.94}}"
   ]
  },
  {
   "cell_type": "code",
   "execution_count": 3,
   "metadata": {},
   "outputs": [],
   "source": [
    "yolact[\"box\"]\n",
    "yolact[\"mask\"]\n",
    "yb = pd.DataFrame(list(yolact[\"box\"].items()),columns = ['metric','value']) \n",
    "ym = pd.DataFrame(list(yolact[\"mask\"].items()),columns = ['metric','value']) "
   ]
  },
  {
   "cell_type": "code",
   "execution_count": 4,
   "metadata": {},
   "outputs": [
    {
     "output_type": "execute_result",
     "data": {
      "text/plain": "   metric  value\n0     all  78.57\n1      50  97.64\n2      55  96.73\n3      60  96.70\n4      65  95.69\n5      70  94.52\n6      75  91.14\n7      80  84.71\n8      85  72.40\n9      90  47.71\n10     95   8.44",
      "text/html": "<div>\n<style scoped>\n    .dataframe tbody tr th:only-of-type {\n        vertical-align: middle;\n    }\n\n    .dataframe tbody tr th {\n        vertical-align: top;\n    }\n\n    .dataframe thead th {\n        text-align: right;\n    }\n</style>\n<table border=\"1\" class=\"dataframe\">\n  <thead>\n    <tr style=\"text-align: right;\">\n      <th></th>\n      <th>metric</th>\n      <th>value</th>\n    </tr>\n  </thead>\n  <tbody>\n    <tr>\n      <th>0</th>\n      <td>all</td>\n      <td>78.57</td>\n    </tr>\n    <tr>\n      <th>1</th>\n      <td>50</td>\n      <td>97.64</td>\n    </tr>\n    <tr>\n      <th>2</th>\n      <td>55</td>\n      <td>96.73</td>\n    </tr>\n    <tr>\n      <th>3</th>\n      <td>60</td>\n      <td>96.70</td>\n    </tr>\n    <tr>\n      <th>4</th>\n      <td>65</td>\n      <td>95.69</td>\n    </tr>\n    <tr>\n      <th>5</th>\n      <td>70</td>\n      <td>94.52</td>\n    </tr>\n    <tr>\n      <th>6</th>\n      <td>75</td>\n      <td>91.14</td>\n    </tr>\n    <tr>\n      <th>7</th>\n      <td>80</td>\n      <td>84.71</td>\n    </tr>\n    <tr>\n      <th>8</th>\n      <td>85</td>\n      <td>72.40</td>\n    </tr>\n    <tr>\n      <th>9</th>\n      <td>90</td>\n      <td>47.71</td>\n    </tr>\n    <tr>\n      <th>10</th>\n      <td>95</td>\n      <td>8.44</td>\n    </tr>\n  </tbody>\n</table>\n</div>"
     },
     "metadata": {},
     "execution_count": 4
    }
   ],
   "source": [
    "yb"
   ]
  },
  {
   "cell_type": "code",
   "execution_count": 5,
   "metadata": {},
   "outputs": [
    {
     "output_type": "execute_result",
     "data": {
      "text/plain": "   metric  value\n0     all  90.73\n1      50  97.77\n2      55  97.76\n3      60  97.74\n4      65  97.73\n5      70  97.71\n6      75  97.69\n7      80  96.74\n8      85  95.43\n9      90  90.77\n10     95  37.94",
      "text/html": "<div>\n<style scoped>\n    .dataframe tbody tr th:only-of-type {\n        vertical-align: middle;\n    }\n\n    .dataframe tbody tr th {\n        vertical-align: top;\n    }\n\n    .dataframe thead th {\n        text-align: right;\n    }\n</style>\n<table border=\"1\" class=\"dataframe\">\n  <thead>\n    <tr style=\"text-align: right;\">\n      <th></th>\n      <th>metric</th>\n      <th>value</th>\n    </tr>\n  </thead>\n  <tbody>\n    <tr>\n      <th>0</th>\n      <td>all</td>\n      <td>90.73</td>\n    </tr>\n    <tr>\n      <th>1</th>\n      <td>50</td>\n      <td>97.77</td>\n    </tr>\n    <tr>\n      <th>2</th>\n      <td>55</td>\n      <td>97.76</td>\n    </tr>\n    <tr>\n      <th>3</th>\n      <td>60</td>\n      <td>97.74</td>\n    </tr>\n    <tr>\n      <th>4</th>\n      <td>65</td>\n      <td>97.73</td>\n    </tr>\n    <tr>\n      <th>5</th>\n      <td>70</td>\n      <td>97.71</td>\n    </tr>\n    <tr>\n      <th>6</th>\n      <td>75</td>\n      <td>97.69</td>\n    </tr>\n    <tr>\n      <th>7</th>\n      <td>80</td>\n      <td>96.74</td>\n    </tr>\n    <tr>\n      <th>8</th>\n      <td>85</td>\n      <td>95.43</td>\n    </tr>\n    <tr>\n      <th>9</th>\n      <td>90</td>\n      <td>90.77</td>\n    </tr>\n    <tr>\n      <th>10</th>\n      <td>95</td>\n      <td>37.94</td>\n    </tr>\n  </tbody>\n</table>\n</div>"
     },
     "metadata": {},
     "execution_count": 5
    }
   ],
   "source": [
    "ym"
   ]
  }
 ],
 "metadata": {
  "language_info": {
   "codemirror_mode": {
    "name": "ipython",
    "version": 3
   },
   "file_extension": ".py",
   "mimetype": "text/x-python",
   "name": "python",
   "nbconvert_exporter": "python",
   "pygments_lexer": "ipython3",
   "version": "3.6.10-final"
  },
  "orig_nbformat": 2,
  "kernelspec": {
   "name": "python361064bitd2condafcc7f242a0d248929c8f8110917217d8",
   "display_name": "Python 3.6.10 64-bit ('d2': conda)"
  }
 },
 "nbformat": 4,
 "nbformat_minor": 2
}