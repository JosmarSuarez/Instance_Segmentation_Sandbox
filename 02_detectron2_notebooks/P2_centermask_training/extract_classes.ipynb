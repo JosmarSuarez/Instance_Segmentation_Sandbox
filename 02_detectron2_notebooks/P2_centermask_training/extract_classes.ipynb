{
 "cells": [
  {
   "cell_type": "code",
   "execution_count": 1,
   "metadata": {},
   "outputs": [],
   "source": [
    " import json"
   ]
  },
  {
   "cell_type": "code",
   "execution_count": 3,
   "metadata": {},
   "outputs": [],
   "source": [
    "ann_path = \"detectron2_wandb/datasets/coco/annotations/instances_val2017.json\"\n",
    "out_path = \"extracted_classes\""
   ]
  },
  {
   "cell_type": "code",
   "execution_count": 4,
   "metadata": {},
   "outputs": [],
   "source": [
    "with open(ann_path) as f:\n",
    "    annotations = json.load(f)\n"
   ]
  },
  {
   "cell_type": "code",
   "execution_count": 25,
   "metadata": {},
   "outputs": [
    {
     "output_type": "execute_result",
     "data": {
      "text/plain": "dict_keys(['info', 'licenses', 'images', 'annotations', 'categories'])"
     },
     "metadata": {},
     "execution_count": 25
    }
   ],
   "source": [
    "annotations.keys()"
   ]
  },
  {
   "cell_type": "markdown",
   "metadata": {},
   "source": [
    "### List all categories"
   ]
  },
  {
   "cell_type": "code",
   "execution_count": 26,
   "metadata": {},
   "outputs": [
    {
     "output_type": "execute_result",
     "data": {
      "text/plain": "[{'supercategory': 'person', 'id': 1, 'name': 'person'},\n {'supercategory': 'vehicle', 'id': 2, 'name': 'bicycle'},\n {'supercategory': 'vehicle', 'id': 3, 'name': 'car'},\n {'supercategory': 'vehicle', 'id': 4, 'name': 'motorcycle'},\n {'supercategory': 'vehicle', 'id': 5, 'name': 'airplane'},\n {'supercategory': 'vehicle', 'id': 6, 'name': 'bus'},\n {'supercategory': 'vehicle', 'id': 7, 'name': 'train'},\n {'supercategory': 'vehicle', 'id': 8, 'name': 'truck'},\n {'supercategory': 'vehicle', 'id': 9, 'name': 'boat'},\n {'supercategory': 'outdoor', 'id': 10, 'name': 'traffic light'},\n {'supercategory': 'outdoor', 'id': 11, 'name': 'fire hydrant'},\n {'supercategory': 'outdoor', 'id': 13, 'name': 'stop sign'},\n {'supercategory': 'outdoor', 'id': 14, 'name': 'parking meter'},\n {'supercategory': 'outdoor', 'id': 15, 'name': 'bench'},\n {'supercategory': 'animal', 'id': 16, 'name': 'bird'},\n {'supercategory': 'animal', 'id': 17, 'name': 'cat'},\n {'supercategory': 'animal', 'id': 18, 'name': 'dog'},\n {'supercategory': 'animal', 'id': 19, 'name': 'horse'},\n {'supercategory': 'animal', 'id': 20, 'name': 'sheep'},\n {'supercategory': 'animal', 'id': 21, 'name': 'cow'},\n {'supercategory': 'animal', 'id': 22, 'name': 'elephant'},\n {'supercategory': 'animal', 'id': 23, 'name': 'bear'},\n {'supercategory': 'animal', 'id': 24, 'name': 'zebra'},\n {'supercategory': 'animal', 'id': 25, 'name': 'giraffe'},\n {'supercategory': 'accessory', 'id': 27, 'name': 'backpack'},\n {'supercategory': 'accessory', 'id': 28, 'name': 'umbrella'},\n {'supercategory': 'accessory', 'id': 31, 'name': 'handbag'},\n {'supercategory': 'accessory', 'id': 32, 'name': 'tie'},\n {'supercategory': 'accessory', 'id': 33, 'name': 'suitcase'},\n {'supercategory': 'sports', 'id': 34, 'name': 'frisbee'},\n {'supercategory': 'sports', 'id': 35, 'name': 'skis'},\n {'supercategory': 'sports', 'id': 36, 'name': 'snowboard'},\n {'supercategory': 'sports', 'id': 37, 'name': 'sports ball'},\n {'supercategory': 'sports', 'id': 38, 'name': 'kite'},\n {'supercategory': 'sports', 'id': 39, 'name': 'baseball bat'},\n {'supercategory': 'sports', 'id': 40, 'name': 'baseball glove'},\n {'supercategory': 'sports', 'id': 41, 'name': 'skateboard'},\n {'supercategory': 'sports', 'id': 42, 'name': 'surfboard'},\n {'supercategory': 'sports', 'id': 43, 'name': 'tennis racket'},\n {'supercategory': 'kitchen', 'id': 44, 'name': 'bottle'},\n {'supercategory': 'kitchen', 'id': 46, 'name': 'wine glass'},\n {'supercategory': 'kitchen', 'id': 47, 'name': 'cup'},\n {'supercategory': 'kitchen', 'id': 48, 'name': 'fork'},\n {'supercategory': 'kitchen', 'id': 49, 'name': 'knife'},\n {'supercategory': 'kitchen', 'id': 50, 'name': 'spoon'},\n {'supercategory': 'kitchen', 'id': 51, 'name': 'bowl'},\n {'supercategory': 'food', 'id': 52, 'name': 'banana'},\n {'supercategory': 'food', 'id': 53, 'name': 'apple'},\n {'supercategory': 'food', 'id': 54, 'name': 'sandwich'},\n {'supercategory': 'food', 'id': 55, 'name': 'orange'},\n {'supercategory': 'food', 'id': 56, 'name': 'broccoli'},\n {'supercategory': 'food', 'id': 57, 'name': 'carrot'},\n {'supercategory': 'food', 'id': 58, 'name': 'hot dog'},\n {'supercategory': 'food', 'id': 59, 'name': 'pizza'},\n {'supercategory': 'food', 'id': 60, 'name': 'donut'},\n {'supercategory': 'food', 'id': 61, 'name': 'cake'},\n {'supercategory': 'furniture', 'id': 62, 'name': 'chair'},\n {'supercategory': 'furniture', 'id': 63, 'name': 'couch'},\n {'supercategory': 'furniture', 'id': 64, 'name': 'potted plant'},\n {'supercategory': 'furniture', 'id': 65, 'name': 'bed'},\n {'supercategory': 'furniture', 'id': 67, 'name': 'dining table'},\n {'supercategory': 'furniture', 'id': 70, 'name': 'toilet'},\n {'supercategory': 'electronic', 'id': 72, 'name': 'tv'},\n {'supercategory': 'electronic', 'id': 73, 'name': 'laptop'},\n {'supercategory': 'electronic', 'id': 74, 'name': 'mouse'},\n {'supercategory': 'electronic', 'id': 75, 'name': 'remote'},\n {'supercategory': 'electronic', 'id': 76, 'name': 'keyboard'},\n {'supercategory': 'electronic', 'id': 77, 'name': 'cell phone'},\n {'supercategory': 'appliance', 'id': 78, 'name': 'microwave'},\n {'supercategory': 'appliance', 'id': 79, 'name': 'oven'},\n {'supercategory': 'appliance', 'id': 80, 'name': 'toaster'},\n {'supercategory': 'appliance', 'id': 81, 'name': 'sink'},\n {'supercategory': 'appliance', 'id': 82, 'name': 'refrigerator'},\n {'supercategory': 'indoor', 'id': 84, 'name': 'book'},\n {'supercategory': 'indoor', 'id': 85, 'name': 'clock'},\n {'supercategory': 'indoor', 'id': 86, 'name': 'vase'},\n {'supercategory': 'indoor', 'id': 87, 'name': 'scissors'},\n {'supercategory': 'indoor', 'id': 88, 'name': 'teddy bear'},\n {'supercategory': 'indoor', 'id': 89, 'name': 'hair drier'},\n {'supercategory': 'indoor', 'id': 90, 'name': 'toothbrush'}]"
     },
     "metadata": {},
     "execution_count": 26
    }
   ],
   "source": [
    "annotations[\"categories\"]"
   ]
  },
  {
   "cell_type": "code",
   "execution_count": 27,
   "metadata": {},
   "outputs": [],
   "source": [
    "#Select the ids that you need to use\n",
    "ids = [1]"
   ]
  },
  {
   "cell_type": "code",
   "execution_count": 28,
   "metadata": {},
   "outputs": [],
   "source": [
    "new_annotations = annotations.copy()\n",
    "new_annotations[\"images\"] = []\n",
    "new_annotations[\"annotations\"]=[]\n",
    "new_annotations[\"categories\"]=[]\n",
    "images_id = [] "
   ]
  },
  {
   "cell_type": "code",
   "execution_count": 29,
   "metadata": {
    "tags": []
   },
   "outputs": [],
   "source": [
    "\n",
    "for a in annotations[\"annotations\"]:\n",
    "    if (a[\"category_id\"] in ids):\n",
    "        new_annotations[\"annotations\"].append(a)\n",
    "        images_id.append(a[\"image_id\"])"
   ]
  },
  {
   "cell_type": "code",
   "execution_count": 30,
   "metadata": {
    "tags": []
   },
   "outputs": [],
   "source": [
    "for i in annotations[\"images\"]:\n",
    "    if (i[\"id\"] in images_id):\n",
    "        new_annotations[\"images\"].append(i) "
   ]
  },
  {
   "cell_type": "code",
   "execution_count": 31,
   "metadata": {
    "tags": []
   },
   "outputs": [],
   "source": [
    "for c in annotations[\"categories\"]:\n",
    "    if (c[\"id\"] in ids):\n",
    "        new_annotations[\"categories\"].append(c)"
   ]
  },
  {
   "cell_type": "code",
   "execution_count": 36,
   "metadata": {},
   "outputs": [],
   "source": [
    "name = \"person_val_2017.json\"\n",
    "with open(os.path.join(out_path,name), 'w') as json_file:\n",
    "    json.dump(new_annotations, json_file)"
   ]
  },
  {
   "cell_type": "code",
   "execution_count": 35,
   "metadata": {},
   "outputs": [
    {
     "output_type": "execute_result",
     "data": {
      "text/plain": "100"
     },
     "metadata": {},
     "execution_count": 35
    }
   ],
   "source": [
    "len(new_annotations[\"annotations\"])"
   ]
  },
  {
   "cell_type": "markdown",
   "metadata": {},
   "source": [
    "### Checking image size"
   ]
  },
  {
   "cell_type": "code",
   "execution_count": 26,
   "metadata": {},
   "outputs": [],
   "source": [
    "sizes = []\n",
    "ratios = []\n",
    "for a in annotations['images']:\n",
    "    h,w = a['height'], a['width']\n",
    "    # size = '({},{})'.format(h,w)\n",
    "    size = (h,w)\n",
    "    ratio = w/h\n",
    "    sizes.append(size)\n",
    "    ratios.append(ratio)"
   ]
  },
  {
   "cell_type": "code",
   "execution_count": 28,
   "metadata": {
    "tags": []
   },
   "outputs": [
    {
     "output_type": "stream",
     "name": "stdout",
     "text": "5000\n603\n"
    },
    {
     "output_type": "execute_result",
     "data": {
      "text/plain": "{0.384375,\n 0.448,\n 0.4484375,\n 0.4625,\n 0.475,\n 0.478125,\n 0.5046875,\n 0.5140625,\n 0.521875,\n 0.5265625,\n 0.552,\n 0.559375,\n 0.5609375,\n 0.5625,\n 0.5640625,\n 0.5796875,\n 0.58125,\n 0.590625,\n 0.5921875,\n 0.598,\n 0.5984375,\n 0.6,\n 0.6015625,\n 0.60625,\n 0.6125,\n 0.6145833333333334,\n 0.616,\n 0.6171875,\n 0.61875,\n 0.6234375,\n 0.625,\n 0.628,\n 0.6296875,\n 0.63125,\n 0.6359375,\n 0.636,\n 0.6375,\n 0.6390625,\n 0.6395604395604395,\n 0.642,\n 0.6421875,\n 0.646875,\n 0.6484375,\n 0.65,\n 0.6515625,\n 0.652,\n 0.653125,\n 0.6546875,\n 0.656,\n 0.65625,\n 0.6578125,\n 0.659375,\n 0.66,\n 0.6609375,\n 0.662,\n 0.6622516556291391,\n 0.6625,\n 0.664,\n 0.6640625,\n 0.6651884700665188,\n 0.665625,\n 0.666,\n 0.6666666666666666,\n 0.6671875,\n 0.668,\n 0.66875,\n 0.67,\n 0.6703125,\n 0.671875,\n 0.672,\n 0.6734375,\n 0.674,\n 0.675,\n 0.676,\n 0.6765625,\n 0.68125,\n 0.684375,\n 0.6859375,\n 0.688,\n 0.6890625,\n 0.692,\n 0.6921875,\n 0.69375,\n 0.696875,\n 0.698,\n 0.6984375,\n 0.7,\n 0.7015625,\n 0.702,\n 0.706,\n 0.7078125,\n 0.708,\n 0.7096153846153846,\n 0.714,\n 0.7140625,\n 0.715625,\n 0.7171875,\n 0.71875,\n 0.7214170692431562,\n 0.722,\n 0.7234375,\n 0.724,\n 0.725,\n 0.7296875,\n 0.73125,\n 0.732,\n 0.7328125,\n 0.734375,\n 0.7359375,\n 0.736,\n 0.7375,\n 0.7390625,\n 0.740625,\n 0.742,\n 0.7421875,\n 0.74375,\n 0.744,\n 0.7453125,\n 0.746875,\n 0.748,\n 0.7484375,\n 0.75,\n 0.7515625,\n 0.752,\n 0.753125,\n 0.754,\n 0.7546875,\n 0.75625,\n 0.7578125,\n 0.758,\n 0.759375,\n 0.7609375,\n 0.7625,\n 0.7671875,\n 0.76875,\n 0.771875,\n 0.772,\n 0.7734375,\n 0.78,\n 0.78125,\n 0.7828125,\n 0.786,\n 0.788,\n 0.7890625,\n 0.790625,\n 0.79375,\n 0.7953125,\n 0.798,\n 0.7984375,\n 0.8,\n 0.8046875,\n 0.809375,\n 0.8109375,\n 0.8140625,\n 0.816,\n 0.8171875,\n 0.818,\n 0.8234375,\n 0.825,\n 0.826,\n 0.8265625,\n 0.83,\n 0.832,\n 0.8328125,\n 0.8375,\n 0.8421875,\n 0.84375,\n 0.8453125,\n 0.848,\n 0.85,\n 0.8546875,\n 0.856,\n 0.85625,\n 0.8578125,\n 0.859375,\n 0.8609375,\n 0.865625,\n 0.86875,\n 0.871875,\n 0.8765625,\n 0.88125,\n 0.8875,\n 0.89,\n 0.8921875,\n 0.8953125,\n 0.9035087719298246,\n 0.904,\n 0.90625,\n 0.9078125,\n 0.909375,\n 0.9125,\n 0.9140625,\n 0.915625,\n 0.916,\n 0.9171875,\n 0.91875,\n 0.9203125,\n 0.922,\n 0.9265625,\n 0.93125,\n 0.934375,\n 0.936,\n 0.9381107491856677,\n 0.9421875,\n 0.94375,\n 0.95,\n 0.9703125,\n 0.971875,\n 0.975,\n 0.976,\n 0.978,\n 0.978125,\n 0.984375,\n 0.9875,\n 0.9890625,\n 0.990625,\n 0.9921875,\n 0.996,\n 0.996875,\n 0.998,\n 0.9984375,\n 1.0,\n 1.001564945226917,\n 1.0031347962382444,\n 1.0047095761381475,\n 1.0110584518167456,\n 1.0204081632653061,\n 1.02880658436214,\n 1.0289389067524115,\n 1.0491803278688525,\n 1.0509031198686372,\n 1.0526315789473684,\n 1.056105610561056,\n 1.0578512396694215,\n 1.0596026490066226,\n 1.064891846921797,\n 1.0666666666666667,\n 1.0702341137123745,\n 1.0738255033557047,\n 1.0774410774410774,\n 1.0845986984815619,\n 1.0847457627118644,\n 1.08843537414966,\n 1.0921501706484642,\n 1.098901098901099,\n 1.1072664359861593,\n 1.1086474501108647,\n 1.1111111111111112,\n 1.1149825783972125,\n 1.1169284467713787,\n 1.1235955056179776,\n 1.124780316344464,\n 1.1307420494699647,\n 1.1347517730496455,\n 1.1367673179396092,\n 1.1408199643493762,\n 1.1415525114155252,\n 1.144901610017889,\n 1.146953405017921,\n 1.1510791366906474,\n 1.1531531531531531,\n 1.1552346570397112,\n 1.1573236889692586,\n 1.1636363636363636,\n 1.1655011655011656,\n 1.1657559198542806,\n 1.1721611721611722,\n 1.1786372007366483,\n 1.1820330969267139,\n 1.1829944547134936,\n 1.1873840445269017,\n 1.1895910780669146,\n 1.1940298507462686,\n 1.200750469043152,\n 1.2052730696798493,\n 1.2075471698113207,\n 1.2098298676748582,\n 1.2121212121212122,\n 1.2135922330097086,\n 1.2195121951219512,\n 1.2213740458015268,\n 1.2260536398467432,\n 1.2284069097888675,\n 1.2285012285012284,\n 1.2307692307692308,\n 1.2315270935960592,\n 1.2375296912114013,\n 1.2379110251450678,\n 1.2403100775193798,\n 1.2427184466019416,\n 1.245136186770428,\n 1.2468827930174564,\n 1.2475633528265107,\n 1.25,\n 1.2524461839530332,\n 1.2531328320802004,\n 1.2549019607843137,\n 1.256281407035176,\n 1.2598425196850394,\n 1.26232741617357,\n 1.2626262626262625,\n 1.2673267326732673,\n 1.2698412698412698,\n 1.2723658051689861,\n 1.2749003984063745,\n 1.2774451097804391,\n 1.28,\n 1.282565130260521,\n 1.285140562248996,\n 1.2862985685071575,\n 1.2903225806451613,\n 1.292929292929293,\n 1.2953367875647668,\n 1.2955465587044535,\n 1.2981744421906694,\n 1.3008130081300813,\n 1.3020833333333333,\n 1.3034623217922607,\n 1.3054830287206267,\n 1.3061224489795917,\n 1.30879345603272,\n 1.3089005235602094,\n 1.3114754098360655,\n 1.3123359580052494,\n 1.3141683778234086,\n 1.3157894736842106,\n 1.316872427983539,\n 1.3195876288659794,\n 1.322314049586777,\n 1.3227513227513228,\n 1.3250517598343685,\n 1.3262599469496021,\n 1.3278008298755186,\n 1.3297872340425532,\n 1.3305613305613306,\n 1.331360946745562,\n 1.331877729257642,\n 1.331887201735358,\n 1.3321799307958477,\n 1.3333333333333333,\n 1.336116910229645,\n 1.3368983957219251,\n 1.3389121338912133,\n 1.3404825737265416,\n 1.3406593406593406,\n 1.3414634146341464,\n 1.3417190775681342,\n 1.3445378151260505,\n 1.3473684210526315,\n 1.350210970464135,\n 1.3513513513513513,\n 1.3530655391120507,\n 1.3559322033898304,\n 1.358695652173913,\n 1.3588110403397027,\n 1.3617021276595744,\n 1.3623978201634876,\n 1.3646055437100213,\n 1.366120218579235,\n 1.3675213675213675,\n 1.36986301369863,\n 1.3704496788008564,\n 1.3733905579399142,\n 1.3736263736263736,\n 1.3763440860215055,\n 1.3793103448275863,\n 1.3822894168466522,\n 1.3850415512465375,\n 1.3852813852813852,\n 1.3882863340563991,\n 1.391304347826087,\n 1.392757660167131,\n 1.3943355119825709,\n 1.3966480446927374,\n 1.3973799126637554,\n 1.400437636761488,\n 1.4005602240896358,\n 1.404494382022472,\n 1.4065934065934067,\n 1.4096916299559472,\n 1.4106583072100314,\n 1.4124293785310735,\n 1.4128035320088301,\n 1.4164305949008498,\n 1.419068736141907,\n 1.4222222222222223,\n 1.4245014245014245,\n 1.4253897550111359,\n 1.4285714285714286,\n 1.4317673378076063,\n 1.4349775784753362,\n 1.4382022471910112,\n 1.4414414414414414,\n 1.4423076923076923,\n 1.4446952595936795,\n 1.4450867052023122,\n 1.4479638009049773,\n 1.4512471655328798,\n 1.4534883720930232,\n 1.4545454545454546,\n 1.4577259475218658,\n 1.457858769931663,\n 1.461187214611872,\n 1.4645308924485125,\n 1.466275659824047,\n 1.467741935483871,\n 1.4678899082568808,\n 1.471264367816092,\n 1.4746543778801844,\n 1.4749262536873156,\n 1.4780600461893765,\n 1.4792899408284024,\n 1.4814814814814814,\n 1.4849187935034802,\n 1.4875776397515528,\n 1.4880952380952381,\n 1.4883720930232558,\n 1.491841491841492,\n 1.492537313432836,\n 1.4953271028037383,\n 1.4970059880239521,\n 1.4988290398126465,\n 1.5,\n 1.5015015015015014,\n 1.5023474178403755,\n 1.502857142857143,\n 1.5037593984962405,\n 1.5058823529411764,\n 1.5060240963855422,\n 1.5070921985815602,\n 1.509433962264151,\n 1.5105740181268883,\n 1.5130023640661938,\n 1.5151515151515151,\n 1.5165876777251184,\n 1.5197568389057752,\n 1.520190023752969,\n 1.5238095238095237,\n 1.524390243902439,\n 1.5274463007159904,\n 1.529051987767584,\n 1.5304347826086957,\n 1.5311004784688995,\n 1.5347721822541966,\n 1.5384615384615385,\n 1.5421686746987953,\n 1.5458937198067633,\n 1.5479876160990713,\n 1.549636803874092,\n 1.5527950310559007,\n 1.5533980582524272,\n 1.5571776155717763,\n 1.557632398753894,\n 1.5609756097560976,\n 1.5625,\n 1.56479217603912,\n 1.567398119122257,\n 1.5686274509803921,\n 1.5763546798029557,\n 1.5841584158415842,\n 1.588089330024814,\n 1.5960099750623442,\n 1.597444089456869,\n 1.6,\n 1.6025641025641026,\n 1.6040100250626566,\n 1.607717041800643,\n 1.6080402010050252,\n 1.6120906801007557,\n 1.6161616161616161,\n 1.6181229773462784,\n 1.619289340101523,\n 1.620253164556962,\n 1.6243654822335025,\n 1.6284987277353689,\n 1.6326530612244898,\n 1.6368286445012787,\n 1.641025641025641,\n 1.6452442159383034,\n 1.6494845360824741,\n 1.6537467700258397,\n 1.6556291390728477,\n 1.6623376623376624,\n 1.6666666666666667,\n 1.671018276762402,\n 1.6722408026755853,\n 1.6754716981132076,\n 1.6778523489932886,\n 1.6797900262467191,\n 1.6886543535620053,\n 1.693121693121693,\n 1.694915254237288,\n 1.7006802721088434,\n 1.7066666666666668,\n 1.7158176943699732,\n 1.725067385444744,\n 1.7297297297297298,\n 1.7344173441734418,\n 1.7391304347826086,\n 1.7438692098092643,\n 1.7486338797814207,\n 1.7582417582417582,\n 1.7630853994490359,\n 1.7667844522968197,\n 1.7679558011049723,\n 1.7728531855955678,\n 1.7777777777777777,\n 1.7793594306049823,\n 1.7827298050139275,\n 1.7877094972067038,\n 1.797752808988764,\n 1.8,\n 1.8028169014084507,\n 1.807909604519774,\n 1.8181818181818181,\n 1.8233618233618234,\n 1.833810888252149,\n 1.839080459770115,\n 1.858736059479554,\n 1.8604651162790697,\n 1.8658892128279883,\n 1.893491124260355,\n 1.8991097922848665,\n 1.9104477611940298,\n 1.927710843373494,\n 1.9305019305019304,\n 1.933534743202417,\n 1.9452887537993921,\n 1.9631901840490797,\n 2.0,\n 2.006269592476489,\n 2.0125786163522013,\n 2.0189274447949526,\n 2.0253164556962027,\n 2.0317460317460316,\n 2.038216560509554,\n 2.0447284345047922,\n 2.051282051282051,\n 2.05761316872428,\n 2.071197411003236,\n 2.1052631578947367,\n 2.112211221122112,\n 2.12624584717608,\n 2.1367521367521367,\n 2.140468227424749,\n 2.17687074829932,\n 2.1843003412969284,\n 2.1993127147766325,\n 2.202643171806167,\n 2.206896551724138,\n 2.2145328719723185,\n 2.2775800711743774,\n 2.4038461538461537,\n 2.4242424242424243,\n 2.4334600760456273,\n 2.5296442687747036,\n 2.6016260162601625,\n 2.633744855967078,\n 2.689075630252101,\n 2.7947598253275108,\n 2.9585798816568047,\n 2.9906542056074765,\n 3.004694835680751,\n 3.2989690721649483,\n 3.386243386243386,\n 3.5359116022099446,\n 3.67816091954023,\n 3.78698224852071,\n 3.902439024390244,\n 4.0251572327044025}"
     },
     "metadata": {},
     "execution_count": 28
    }
   ],
   "source": [
    "print(len(sizes))\n",
    "print(len(set(sizes)))\n",
    "set(ratios)"
   ]
  }
 ],
 "metadata": {
  "language_info": {
   "codemirror_mode": {
    "name": "ipython",
    "version": 3
   },
   "file_extension": ".py",
   "mimetype": "text/x-python",
   "name": "python",
   "nbconvert_exporter": "python",
   "pygments_lexer": "ipython3",
   "version": 3
  },
  "orig_nbformat": 2,
  "kernelspec": {
   "name": "python_defaultSpec_1598283890868",
   "display_name": "Python 3.6.10 64-bit ('d2': conda)"
  }
 },
 "nbformat": 4,
 "nbformat_minor": 2
}